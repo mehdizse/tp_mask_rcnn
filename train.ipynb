{
 "cells": [
  {
   "cell_type": "code",
   "execution_count": 3,
   "id": "3c29a0bc",
   "metadata": {},
   "outputs": [
    {
     "name": "stdout",
     "output_type": "stream",
     "text": [
      "Python 3.6.6\n"
     ]
    }
   ],
   "source": [
    "!python --version"
   ]
  },
  {
   "cell_type": "code",
   "execution_count": 4,
   "id": "e9cd3caa",
   "metadata": {},
   "outputs": [],
   "source": [
    "import os\n",
    "os.environ[\"CUDA_VISIBLE_DEVICES\"] = \"-1\"  # Désactive le GPU et utilise le CPU uniquement car pas de GPU\n"
   ]
  },
  {
   "cell_type": "code",
   "execution_count": 5,
   "id": "44b1b000",
   "metadata": {},
   "outputs": [
    {
     "name": "stdout",
     "output_type": "stream",
     "text": [
      "TensorFlow version: 1.15.0\n",
      "scikit-image version: 0.17.2\n",
      "Keras version: 2.1.6\n"
     ]
    }
   ],
   "source": [
    "import tensorflow as tf\n",
    "import skimage\n",
    "import keras\n",
    "\n",
    "print(\"TensorFlow version:\", tf.__version__)\n",
    "print(\"scikit-image version:\", skimage.__version__)\n",
    "print(\"Keras version:\", keras.__version__)\n"
   ]
  },
  {
   "cell_type": "code",
   "execution_count": 6,
   "id": "735060c9",
   "metadata": {
    "scrolled": true
   },
   "outputs": [
    {
     "name": "stdout",
     "output_type": "stream",
     "text": [
      "No GPUs available\n"
     ]
    }
   ],
   "source": [
    "\n",
    "# List available GPUs\n",
    "gpus = tf.GPUOptions()\n",
    "\n",
    "# Check for available devices\n",
    "gpu_devices = tf.config.experimental.list_physical_devices('GPU') if hasattr(tf, 'config') else tf.test.gpu_device_name()\n",
    "\n",
    "# Print the number of available GPUs\n",
    "if gpu_devices:\n",
    "    print(\"Num GPUs Available: \", len(gpu_devices))\n",
    "else:\n",
    "    print(\"No GPUs available\")\n"
   ]
  },
  {
   "cell_type": "code",
   "execution_count": 7,
   "id": "6953e97f",
   "metadata": {},
   "outputs": [],
   "source": [
    "# GPU for training.\n",
    "DEVICE = \"/cpu:0\"  # /cpu:0 or /gpu:0"
   ]
  },
  {
   "cell_type": "code",
   "execution_count": 8,
   "id": "aa20866c",
   "metadata": {},
   "outputs": [],
   "source": [
    "import warnings\n",
    "warnings.filterwarnings('ignore')\n",
    "import os\n",
    "import sys\n",
    "import json\n",
    "import datetime\n",
    "import numpy as np\n",
    "import skimage.draw\n",
    "import cv2\n",
    "import random\n",
    "import math\n",
    "import re\n",
    "import time\n",
    "import tensorflow as tf\n",
    "import matplotlib.pyplot as plt\n",
    "import matplotlib.patches as patches\n",
    "import matplotlib.image as mpimg\n",
    "\n",
    "from mrcnn import utils\n",
    "from mrcnn import visualize\n",
    "from mrcnn.visualize import display_images\n",
    "from mrcnn.visualize import display_instances\n",
    "import mrcnn.model as modellib\n",
    "from mrcnn.model import log\n",
    "from mrcnn.config import Config\n",
    "from mrcnn import model as modellib, utils\n",
    "\n",
    "# Root directory of the project\n",
    "#ROOT_DIR = \"D:\\MRCNN_tensorflow2.7_env\\Mask-RCNN\"\n",
    "ROOT_DIR = os.getcwd()\n",
    "\n",
    "# Import Mask RCNN\n",
    "sys.path.append(ROOT_DIR)  # To find local version of the library\n",
    "\n",
    "\n",
    "# Path to trained weights file\n",
    "COCO_WEIGHTS_PATH = os.path.join(ROOT_DIR, \"mask_rcnn_coco.h5\")\n",
    "\n",
    "# Directory to save logs and model checkpoints, if not provided\n",
    "# through the command line argument --logs\n",
    "DEFAULT_LOGS_DIR = os.path.join(ROOT_DIR, \"logs\")"
   ]
  },
  {
   "cell_type": "code",
   "execution_count": 9,
   "id": "64c79eac",
   "metadata": {},
   "outputs": [],
   "source": [
    "from mrcnn.config import Config\n",
    "\n",
    "class DroneConfig(Config):\n",
    "    NAME = \"drone_detection\"\n",
    "    GPU_COUNT = 1  # Pas de GPU\n",
    "    IMAGES_PER_GPU = 1  # Une image à la fois sur le CPU\n",
    "    NUM_CLASSES = 1 + 1  # Background + classes \"drone\"\n",
    "    STEPS_PER_EPOCH = 100\n",
    "    DETECTION_MIN_CONFIDENCE = 0.9\n",
    "    CLASS_NAMES = [\"bg\", \"drone\"]\n",
    "    IMAGE_MAX_DIM = 512\n",
    "\n",
    "config = DroneConfig()"
   ]
  },
  {
   "cell_type": "code",
   "execution_count": 10,
   "id": "8336164e",
   "metadata": {},
   "outputs": [],
   "source": [
    "import os\n",
    "import json\n",
    "import numpy as np\n",
    "from skimage.io import imread\n",
    "from mrcnn.utils import Dataset\n",
    "from sklearn.model_selection import train_test_split\n",
    "from skimage.draw import polygon as draw_polygon  # Correctly import the draw_polygon function\n",
    "\n",
    "class DroneDataset(Dataset):\n",
    "    def load_drone(self, dataset_dir, subset):\n",
    "        \"\"\"\n",
    "        Load a subset of the drone dataset where each image has its own annotation JSON file.\n",
    "        Args:\n",
    "            dataset_dir: Root directory of the dataset.\n",
    "            subset: Subset to load (train/val/test).\n",
    "        \"\"\"\n",
    "        # Add a single class for \"drone\"\n",
    "        self.add_class(\"drone\", 1, \"drone\")\n",
    "        \n",
    "        # Define the directory for this subset (train/val/test)\n",
    "        subset_dir = os.path.join(dataset_dir, subset)\n",
    "        \n",
    "        # Define and check image and annotation directories\n",
    "        image_dir = os.path.join(subset_dir, \"images\")\n",
    "        annotation_dir = os.path.join(subset_dir, \"annotations\")\n",
    "        \n",
    "        if not os.path.exists(image_dir):\n",
    "            raise FileNotFoundError(f\"Image directory not found: {image_dir}\")\n",
    "        if not os.path.exists(annotation_dir):\n",
    "            raise FileNotFoundError(f\"Annotation directory not found: {annotation_dir}\")\n",
    "        \n",
    "        # List all image files in the subset directory\n",
    "        image_files = [f for f in os.listdir(image_dir) if f.lower().endswith((\".jpg\", \".png\"))]\n",
    "        \n",
    "        # Initialize an empty list to hold all annotations\n",
    "        annotations = []\n",
    "\n",
    "        # Iterate through image files and corresponding annotations\n",
    "        for image_file in image_files:\n",
    "            # Full path to image\n",
    "            image_path = os.path.join(image_dir, image_file)\n",
    "\n",
    "            # Extract the image ID (without file extension)\n",
    "            image_id = os.path.splitext(image_file)[0]\n",
    "\n",
    "            # Load the corresponding annotation JSON file\n",
    "            annotation_path = os.path.join(annotation_dir, f\"{image_id}.json\")\n",
    "            \n",
    "            if not os.path.exists(annotation_path):\n",
    "                print(f\"Warning: Annotation file not found for {image_file}\")\n",
    "                continue\n",
    "            \n",
    "            with open(annotation_path, 'r') as f:\n",
    "                annotation = json.load(f)\n",
    "\n",
    "            # Append the annotation to the annotations list\n",
    "            annotations.append(annotation)\n",
    "\n",
    "            # Extract image dimensions and annotations\n",
    "            width = annotation['imageWidth']\n",
    "            height = annotation['imageHeight']\n",
    "            polygons = annotation['shapes']  # Modify based on actual format in your annotation file\n",
    "\n",
    "            # Add the image and its annotations to the dataset\n",
    "            self.add_image(\n",
    "                \"drone\",\n",
    "                image_id=image_id,  # Use image file name (without extension) as the image_id\n",
    "                path=image_path,\n",
    "                width=width,\n",
    "                height=height,\n",
    "                annotations=polygons  # Pass the loaded annotations\n",
    "            )\n",
    "\n",
    "        # Split dataset if it's for training\n",
    "        if subset == \"train\":\n",
    "            train_anns, val_anns = train_test_split(annotations, test_size=0.2, random_state=42)\n",
    "            annotations = train_anns\n",
    "        elif subset == \"val\":\n",
    "            _, annotations = train_test_split(annotations, test_size=0.2, random_state=42)\n",
    "\n",
    "    def load_mask(self, image_id):\n",
    "        \"\"\"Generate instance masks for an image.\n",
    "        Args:\n",
    "            image_id: ID of the image to load.\n",
    "        Returns:\n",
    "            masks: A 3D array [height, width, instance count] with a binary mask per instance.\n",
    "            class_ids: A 1D array of class IDs corresponding to the instances.\n",
    "            bboxes: A list of bounding boxes for each mask.\n",
    "        \"\"\"\n",
    "        # Get image info\n",
    "        info = self.image_info[image_id]\n",
    "        annotations = info['annotations']\n",
    "\n",
    "        # Height and width of the image\n",
    "        height = info['height']\n",
    "        width = info['width']\n",
    "\n",
    "        # Initialize mask array: one binary mask per instance\n",
    "        masks = np.zeros([height, width, len(annotations)], dtype=np.uint8)\n",
    "\n",
    "        # Class IDs array (we only have one class, \"drone\")\n",
    "        class_ids = np.ones([len(annotations)], dtype=np.int32)\n",
    "\n",
    "        # List to hold bounding boxes\n",
    "        bboxes = []\n",
    "\n",
    "        # Loop over each annotation (polygon or mask)\n",
    "        for i, annotation in enumerate(annotations):\n",
    "            # Get the polygon points for the object\n",
    "            polygon = annotation['points']  # Modify based on your annotation file structure\n",
    "\n",
    "            # Convert polygon to a binary mask using the class method\n",
    "            mask = self.polygon_to_mask(polygon, height, width)\n",
    "            masks[:, :, i] = mask  # Assign the binary mask for the object\n",
    "\n",
    "            # Get bounding box\n",
    "            x_min = min(p[0] for p in polygon)\n",
    "            y_min = min(p[1] for p in polygon)\n",
    "            x_max = max(p[0] for p in polygon)\n",
    "            y_max = max(p[1] for p in polygon)\n",
    "            bboxes.append([y_min, x_min, y_max, x_max])\n",
    "\n",
    "        return masks, class_ids\n",
    "\n",
    "    def polygon_to_mask(self, polygon, height, width):\n",
    "        \"\"\"Helper function to convert a polygon into a binary mask.\n",
    "        Args:\n",
    "            polygon: List of polygon points in [(x1, y1), (x2, y2), ...] format.\n",
    "            height, width: Dimensions of the mask.\n",
    "        Returns:\n",
    "            mask: A binary mask with the polygon area set to 1.\n",
    "        \"\"\"\n",
    "        # Create an empty mask\n",
    "        mask = np.zeros((height, width), dtype=np.uint8)\n",
    "\n",
    "        # Separate x and y coordinates from the polygon points\n",
    "        poly_x = [p[0] for p in polygon]\n",
    "        poly_y = [p[1] for p in polygon]\n",
    "\n",
    "        # Draw the polygon on the mask\n",
    "        rr, cc = draw_polygon(poly_y, poly_x, shape=(height, width))\n",
    "        mask[rr, cc] = 1\n",
    "\n",
    "        return mask\n"
   ]
  },
  {
   "cell_type": "code",
   "execution_count": 11,
   "id": "49af9499",
   "metadata": {},
   "outputs": [
    {
     "name": "stdout",
     "output_type": "stream",
     "text": [
      "Current Working Directory: C:\\Users\\GHO\\Mask_RCNN\n"
     ]
    }
   ],
   "source": [
    "import os\n",
    "print(\"Current Working Directory:\", os.getcwd())"
   ]
  },
  {
   "cell_type": "code",
   "execution_count": 12,
   "id": "cb3a7a88",
   "metadata": {},
   "outputs": [
    {
     "name": "stdout",
     "output_type": "stream",
     "text": [
      "Warning: Annotation file not found for foto14733.jpg\n",
      "Warning: Annotation file not found for foto14762.jpg\n",
      "Warning: Annotation file not found for foto14791.jpg\n",
      "Warning: Annotation file not found for foto14820.jpg\n",
      "Warning: Annotation file not found for scene00046.jpg\n",
      "Mask shape: (683, 1024, 1)\n",
      "Class IDs: [1]\n"
     ]
    }
   ],
   "source": [
    "\n",
    "\n",
    "dataset = DroneDataset()\n",
    "dataset_dir = os.path.join(os.getcwd(), \"Mask_RCNN\")\n",
    "\n",
    "dataset.load_drone(dataset_dir=\"dataset\", subset=\"train\")\n",
    "\n",
    "image_id = 7  # Test with the first image\n",
    "image = dataset.load_image(image_id)\n",
    "\n",
    "# Correctly unpack the three values returned by load_mask\n",
    "mask, class_ids = dataset.load_mask(image_id)\n",
    "\n",
    "# Print the results to check correctness\n",
    "print(\"Mask shape:\", mask.shape)\n",
    "print(\"Class IDs:\", class_ids)\n"
   ]
  },
  {
   "cell_type": "code",
   "execution_count": 11,
   "id": "1057d822",
   "metadata": {},
   "outputs": [
    {
     "data": {
      "image/png": "[encoded data removed]",
      "text/plain": [
       "<Figure size 432x288 with 1 Axes>"
      ]
     },
     "metadata": {
      "needs_background": "light"
     },
     "output_type": "display_data"
    },
    {
     "data": {
      "image/png": "[encoded data removed]",
      "text/plain": [
       "<Figure size 432x288 with 1 Axes>"
      ]
     },
     "metadata": {
      "needs_background": "light"
     },
     "output_type": "display_data"
    }
   ],
   "source": [
    "import matplotlib.pyplot as plt\n",
    "\n",
    "# Visualize an image and its mask\n",
    "image = dataset.load_image(image_id)\n",
    "mask, class_ids = dataset.load_mask(image_id)\n",
    "\n",
    "# Show the image\n",
    "plt.imshow(image)\n",
    "plt.title(f\"Image {image_id}\")\n",
    "plt.show()\n",
    "\n",
    "# Show the masks\n",
    "for i in range(mask.shape[-1]):\n",
    "    plt.imshow(mask[:, :, i], cmap='gray')\n",
    "    plt.title(f\"Mask {i} for Image {image_id} (Class ID: {class_ids[i]})\")\n",
    "    plt.show()\n"
   ]
  },
  {
   "cell_type": "code",
   "execution_count": 12,
   "id": "8cdea50a",
   "metadata": {},
   "outputs": [
    {
     "name": "stdout",
     "output_type": "stream",
     "text": [
      "WARNING:tensorflow:From c:\\users\\gho\\maskrcnn_env\\lib\\site-packages\\keras\\backend\\tensorflow_backend.py:508: The name tf.placeholder is deprecated. Please use tf.compat.v1.placeholder instead.\n",
      "\n",
      "WARNING:tensorflow:From c:\\users\\gho\\maskrcnn_env\\lib\\site-packages\\keras\\backend\\tensorflow_backend.py:68: The name tf.get_default_graph is deprecated. Please use tf.compat.v1.get_default_graph instead.\n",
      "\n",
      "WARNING:tensorflow:From c:\\users\\gho\\maskrcnn_env\\lib\\site-packages\\keras\\backend\\tensorflow_backend.py:3837: The name tf.random_uniform is deprecated. Please use tf.random.uniform instead.\n",
      "\n",
      "WARNING:tensorflow:From c:\\users\\gho\\maskrcnn_env\\lib\\site-packages\\keras\\backend\\tensorflow_backend.py:3661: The name tf.nn.max_pool is deprecated. Please use tf.nn.max_pool2d instead.\n",
      "\n",
      "WARNING:tensorflow:From c:\\users\\gho\\maskrcnn_env\\lib\\site-packages\\keras\\backend\\tensorflow_backend.py:1944: The name tf.image.resize_nearest_neighbor is deprecated. Please use tf.compat.v1.image.resize_nearest_neighbor instead.\n",
      "\n",
      "WARNING:tensorflow:From c:\\users\\gho\\maskrcnn_env\\lib\\site-packages\\tensorflow_core\\python\\ops\\array_ops.py:1475: where (from tensorflow.python.ops.array_ops) is deprecated and will be removed in a future version.\n",
      "Instructions for updating:\n",
      "Use tf.where in 2.0, which has the same broadcast rule as np.where\n",
      "WARNING:tensorflow:From C:\\Users\\GHO\\Mask_RCNN\\mrcnn\\model.py:553: The name tf.random_shuffle is deprecated. Please use tf.random.shuffle instead.\n",
      "\n",
      "WARNING:tensorflow:From C:\\Users\\GHO\\Mask_RCNN\\mrcnn\\utils.py:202: The name tf.log is deprecated. Please use tf.math.log instead.\n",
      "\n",
      "WARNING:tensorflow:From C:\\Users\\GHO\\Mask_RCNN\\mrcnn\\model.py:600: calling crop_and_resize_v1 (from tensorflow.python.ops.image_ops_impl) with box_ind is deprecated and will be removed in a future version.\n",
      "Instructions for updating:\n",
      "box_ind is deprecated, use box_indices instead\n"
     ]
    }
   ],
   "source": [
    "# Import the model\n",
    "from mrcnn.model import MaskRCNN\n",
    "\n",
    "# Create a new Mask R-CNN model in training mode\n",
    "model = MaskRCNN(mode=\"training\", config=config, model_dir=\"./logs\")\n",
    "\n",
    "# Load pre-trained weights (exclude layers that don't match our classes)\n",
    "model.load_weights(\"mask_rcnn_coco.h5\", by_name=True, exclude=[\n",
    "    \"mrcnn_class_logits\", \"mrcnn_bbox_fc\", \"mrcnn_bbox\", \"mrcnn_mask\"])\n"
   ]
  },
  {
   "cell_type": "code",
   "execution_count": 16,
   "id": "0df45253",
   "metadata": {},
   "outputs": [
    {
     "name": "stdout",
     "output_type": "stream",
     "text": [
      "Warning: Annotation file not found for foto14733.jpg\n",
      "Warning: Annotation file not found for foto14762.jpg\n",
      "Warning: Annotation file not found for foto14791.jpg\n",
      "Warning: Annotation file not found for foto14820.jpg\n",
      "Warning: Annotation file not found for scene00046.jpg\n"
     ]
    }
   ],
   "source": [
    "import os\n",
    "# Prepare the training dataset (80% of the data)\n",
    "train_dataset = DroneDataset()\n",
    "train_dataset.load_drone(dataset_dir=\"dataset\", subset=\"train\")\n",
    "train_dataset.prepare()\n",
    "\n",
    "# Prepare the validation dataset (20% of the data)\n",
    "val_dataset = DroneDataset()\n",
    "val_dataset.load_drone(dataset_dir=\"dataset\", subset=\"val\")\n",
    "val_dataset.prepare()\n"
   ]
  },
  {
   "cell_type": "code",
   "execution_count": 14,
   "id": "496dff1c",
   "metadata": {
    "scrolled": true
   },
   "outputs": [
    {
     "name": "stdout",
     "output_type": "stream",
     "text": [
      "\n",
      "Starting at epoch 0. LR=0.001\n",
      "\n",
      "Checkpoint Path: ./logs\\drone_detection20241123T1349\\mask_rcnn_drone_detection_{epoch:04d}.h5\n",
      "Selecting layers to train\n",
      "fpn_c5p5               (Conv2D)\n",
      "fpn_c4p4               (Conv2D)\n",
      "fpn_c3p3               (Conv2D)\n",
      "fpn_c2p2               (Conv2D)\n",
      "fpn_p5                 (Conv2D)\n",
      "fpn_p2                 (Conv2D)\n",
      "fpn_p3                 (Conv2D)\n",
      "fpn_p4                 (Conv2D)\n",
      "In model:  rpn_model\n",
      "    rpn_conv_shared        (Conv2D)\n",
      "    rpn_class_raw          (Conv2D)\n",
      "    rpn_bbox_pred          (Conv2D)\n",
      "mrcnn_mask_conv1       (TimeDistributed)\n",
      "mrcnn_mask_bn1         (TimeDistributed)\n",
      "mrcnn_mask_conv2       (TimeDistributed)\n",
      "mrcnn_mask_bn2         (TimeDistributed)\n",
      "mrcnn_class_conv1      (TimeDistributed)\n",
      "mrcnn_class_bn1        (TimeDistributed)\n",
      "mrcnn_mask_conv3       (TimeDistributed)\n",
      "mrcnn_mask_bn3         (TimeDistributed)\n",
      "mrcnn_class_conv2      (TimeDistributed)\n",
      "mrcnn_class_bn2        (TimeDistributed)\n",
      "mrcnn_mask_conv4       (TimeDistributed)\n",
      "mrcnn_mask_bn4         (TimeDistributed)\n",
      "mrcnn_bbox_fc          (TimeDistributed)\n",
      "mrcnn_mask_deconv      (TimeDistributed)\n",
      "mrcnn_class_logits     (TimeDistributed)\n",
      "mrcnn_mask             (TimeDistributed)\n",
      "WARNING:tensorflow:From c:\\users\\gho\\maskrcnn_env\\lib\\site-packages\\keras\\optimizers.py:757: The name tf.train.Optimizer is deprecated. Please use tf.compat.v1.train.Optimizer instead.\n",
      "\n",
      "WARNING:tensorflow:From c:\\users\\gho\\maskrcnn_env\\lib\\site-packages\\keras\\backend\\tensorflow_backend.py:977: The name tf.assign_add is deprecated. Please use tf.compat.v1.assign_add instead.\n",
      "\n",
      "WARNING:tensorflow:From c:\\users\\gho\\maskrcnn_env\\lib\\site-packages\\keras\\backend\\tensorflow_backend.py:964: The name tf.assign is deprecated. Please use tf.compat.v1.assign instead.\n",
      "\n",
      "WARNING:tensorflow:From c:\\users\\gho\\maskrcnn_env\\lib\\site-packages\\keras\\backend\\tensorflow_backend.py:2503: The name tf.Session is deprecated. Please use tf.compat.v1.Session instead.\n",
      "\n",
      "WARNING:tensorflow:From c:\\users\\gho\\maskrcnn_env\\lib\\site-packages\\keras\\backend\\tensorflow_backend.py:168: The name tf.get_default_session is deprecated. Please use tf.compat.v1.get_default_session instead.\n",
      "\n",
      "WARNING:tensorflow:From c:\\users\\gho\\maskrcnn_env\\lib\\site-packages\\keras\\backend\\tensorflow_backend.py:175: The name tf.ConfigProto is deprecated. Please use tf.compat.v1.ConfigProto instead.\n",
      "\n",
      "WARNING:tensorflow:From c:\\users\\gho\\maskrcnn_env\\lib\\site-packages\\keras\\backend\\tensorflow_backend.py:184: The name tf.global_variables is deprecated. Please use tf.compat.v1.global_variables instead.\n",
      "\n",
      "WARNING:tensorflow:From c:\\users\\gho\\maskrcnn_env\\lib\\site-packages\\keras\\backend\\tensorflow_backend.py:193: The name tf.is_variable_initialized is deprecated. Please use tf.compat.v1.is_variable_initialized instead.\n",
      "\n",
      "WARNING:tensorflow:From c:\\users\\gho\\maskrcnn_env\\lib\\site-packages\\keras\\backend\\tensorflow_backend.py:200: The name tf.variables_initializer is deprecated. Please use tf.compat.v1.variables_initializer instead.\n",
      "\n",
      "WARNING:tensorflow:From c:\\users\\gho\\maskrcnn_env\\lib\\site-packages\\keras\\callbacks.py:783: The name tf.summary.merge_all is deprecated. Please use tf.compat.v1.summary.merge_all instead.\n",
      "\n",
      "WARNING:tensorflow:From c:\\users\\gho\\maskrcnn_env\\lib\\site-packages\\keras\\callbacks.py:786: The name tf.summary.FileWriter is deprecated. Please use tf.compat.v1.summary.FileWriter instead.\n",
      "\n",
      "Epoch 1/20\n",
      "100/100 [==============================] - 1976s 20s/step - loss: 14.4516 - rpn_class_loss: 1.6443 - rpn_bbox_loss: 12.3215 - mrcnn_class_loss: 0.1037 - mrcnn_bbox_loss: 0.3179 - mrcnn_mask_loss: 0.0641 - val_loss: 9.1481 - val_rpn_class_loss: 0.2462 - val_rpn_bbox_loss: 7.2285 - val_mrcnn_class_loss: 1.7263e-04 - val_mrcnn_bbox_loss: 1.3038 - val_mrcnn_mask_loss: 0.3694\n",
      "WARNING:tensorflow:From c:\\users\\gho\\maskrcnn_env\\lib\\site-packages\\keras\\callbacks.py:869: The name tf.Summary is deprecated. Please use tf.compat.v1.Summary instead.\n",
      "\n",
      "Epoch 2/20\n",
      "100/100 [==============================] - 2024s 20s/step - loss: 8.2569 - rpn_class_loss: 0.4929 - rpn_bbox_loss: 7.1802 - mrcnn_class_loss: 9.4921e-06 - mrcnn_bbox_loss: 0.4978 - mrcnn_mask_loss: 0.0860 - val_loss: 8.8341 - val_rpn_class_loss: 0.2389 - val_rpn_bbox_loss: 7.8671 - val_mrcnn_class_loss: 6.7931e-04 - val_mrcnn_bbox_loss: 0.5642 - val_mrcnn_mask_loss: 0.1632\n",
      "Epoch 3/20\n",
      "100/100 [==============================] - 2035s 20s/step - loss: 6.7783 - rpn_class_loss: 0.4053 - rpn_bbox_loss: 5.9891 - mrcnn_class_loss: 0.0017 - mrcnn_bbox_loss: 0.3124 - mrcnn_mask_loss: 0.0699 - val_loss: 5.2290 - val_rpn_class_loss: 0.1881 - val_rpn_bbox_loss: 4.5504 - val_mrcnn_class_loss: 1.2336e-05 - val_mrcnn_bbox_loss: 0.3903 - val_mrcnn_mask_loss: 0.1002\n",
      "Epoch 4/20\n",
      "100/100 [==============================] - 2047s 20s/step - loss: 4.2977 - rpn_class_loss: 0.2462 - rpn_bbox_loss: 3.6794 - mrcnn_class_loss: 2.9041e-06 - mrcnn_bbox_loss: 0.2874 - mrcnn_mask_loss: 0.0846 - val_loss: 5.3369 - val_rpn_class_loss: 0.1642 - val_rpn_bbox_loss: 3.3705 - val_mrcnn_class_loss: 0.0023 - val_mrcnn_bbox_loss: 1.4574 - val_mrcnn_mask_loss: 0.3425\n",
      "Epoch 5/20\n",
      "100/100 [==============================] - 2044s 20s/step - loss: 3.3512 - rpn_class_loss: 0.2273 - rpn_bbox_loss: 2.8154 - mrcnn_class_loss: 1.3753e-07 - mrcnn_bbox_loss: 0.2542 - mrcnn_mask_loss: 0.0543 - val_loss: 2.6433 - val_rpn_class_loss: 0.1879 - val_rpn_bbox_loss: 2.4554 - val_mrcnn_class_loss: 0.0000e+00 - val_mrcnn_bbox_loss: 0.0000e+00 - val_mrcnn_mask_loss: 0.0000e+00\n",
      "Epoch 6/20\n",
      "100/100 [==============================] - 2052s 21s/step - loss: 2.7660 - rpn_class_loss: 0.1334 - rpn_bbox_loss: 2.1805 - mrcnn_class_loss: 4.6298e-04 - mrcnn_bbox_loss: 0.3813 - mrcnn_mask_loss: 0.0703 - val_loss: 2.2224 - val_rpn_class_loss: 0.0983 - val_rpn_bbox_loss: 1.1945 - val_mrcnn_class_loss: 0.0012 - val_mrcnn_bbox_loss: 0.8710 - val_mrcnn_mask_loss: 0.0573\n",
      "Epoch 7/20\n",
      "100/100 [==============================] - 2048s 20s/step - loss: 2.1746 - rpn_class_loss: 0.1599 - rpn_bbox_loss: 1.2903 - mrcnn_class_loss: 0.0015 - mrcnn_bbox_loss: 0.6528 - mrcnn_mask_loss: 0.0700 - val_loss: 1.0080 - val_rpn_class_loss: 0.0729 - val_rpn_bbox_loss: 0.9352 - val_mrcnn_class_loss: 0.0000e+00 - val_mrcnn_bbox_loss: 0.0000e+00 - val_mrcnn_mask_loss: 0.0000e+00\n",
      "Epoch 8/20\n",
      "100/100 [==============================] - 2041s 20s/step - loss: 1.8516 - rpn_class_loss: 0.1320 - rpn_bbox_loss: 0.9458 - mrcnn_class_loss: 0.0102 - mrcnn_bbox_loss: 0.6848 - mrcnn_mask_loss: 0.0789 - val_loss: 4.2507 - val_rpn_class_loss: 0.0979 - val_rpn_bbox_loss: 0.6555 - val_mrcnn_class_loss: 0.0866 - val_mrcnn_bbox_loss: 2.8276 - val_mrcnn_mask_loss: 0.5830\n",
      "Epoch 9/20\n",
      "100/100 [==============================] - 2048s 20s/step - loss: 2.5367 - rpn_class_loss: 0.1164 - rpn_bbox_loss: 1.0009 - mrcnn_class_loss: 0.0126 - mrcnn_bbox_loss: 1.1772 - mrcnn_mask_loss: 0.2296 - val_loss: 1.2310 - val_rpn_class_loss: 0.0869 - val_rpn_bbox_loss: 0.7775 - val_mrcnn_class_loss: 0.0017 - val_mrcnn_bbox_loss: 0.3199 - val_mrcnn_mask_loss: 0.0448\n",
      "Epoch 10/20\n",
      "100/100 [==============================] - 2056s 21s/step - loss: 1.9750 - rpn_class_loss: 0.0714 - rpn_bbox_loss: 0.7888 - mrcnn_class_loss: 0.0155 - mrcnn_bbox_loss: 0.9052 - mrcnn_mask_loss: 0.1941 - val_loss: 1.9927 - val_rpn_class_loss: 0.1055 - val_rpn_bbox_loss: 0.8441 - val_mrcnn_class_loss: 0.0039 - val_mrcnn_bbox_loss: 0.8146 - val_mrcnn_mask_loss: 0.2246\n",
      "Epoch 11/20\n",
      "100/100 [==============================] - 2062s 21s/step - loss: 2.0846 - rpn_class_loss: 0.1182 - rpn_bbox_loss: 0.8727 - mrcnn_class_loss: 0.0169 - mrcnn_bbox_loss: 0.8177 - mrcnn_mask_loss: 0.2590 - val_loss: 1.9265 - val_rpn_class_loss: 0.0826 - val_rpn_bbox_loss: 0.9277 - val_mrcnn_class_loss: 0.0049 - val_mrcnn_bbox_loss: 0.7603 - val_mrcnn_mask_loss: 0.1510\n",
      "Epoch 12/20\n",
      "100/100 [==============================] - 2065s 21s/step - loss: 2.1384 - rpn_class_loss: 0.0662 - rpn_bbox_loss: 0.6953 - mrcnn_class_loss: 0.0408 - mrcnn_bbox_loss: 0.9264 - mrcnn_mask_loss: 0.4097 - val_loss: 2.0286 - val_rpn_class_loss: 0.0674 - val_rpn_bbox_loss: 0.7360 - val_mrcnn_class_loss: 0.0175 - val_mrcnn_bbox_loss: 0.8841 - val_mrcnn_mask_loss: 0.3236\n",
      "Epoch 13/20\n",
      "100/100 [==============================] - 2085s 21s/step - loss: 1.9251 - rpn_class_loss: 0.0621 - rpn_bbox_loss: 0.6757 - mrcnn_class_loss: 0.0459 - mrcnn_bbox_loss: 0.7235 - mrcnn_mask_loss: 0.4179 - val_loss: 2.4443 - val_rpn_class_loss: 0.0574 - val_rpn_bbox_loss: 0.7706 - val_mrcnn_class_loss: 0.0832 - val_mrcnn_bbox_loss: 1.0004 - val_mrcnn_mask_loss: 0.5328\n",
      "Epoch 14/20\n",
      "100/100 [==============================] - 2073s 21s/step - loss: 1.9702 - rpn_class_loss: 0.0998 - rpn_bbox_loss: 0.7395 - mrcnn_class_loss: 0.0348 - mrcnn_bbox_loss: 0.6584 - mrcnn_mask_loss: 0.4378 - val_loss: 1.8525 - val_rpn_class_loss: 0.0557 - val_rpn_bbox_loss: 0.5723 - val_mrcnn_class_loss: 0.0380 - val_mrcnn_bbox_loss: 0.6970 - val_mrcnn_mask_loss: 0.4895\n",
      "Epoch 15/20\n",
      "100/100 [==============================] - 2074s 21s/step - loss: 1.6521 - rpn_class_loss: 0.0678 - rpn_bbox_loss: 0.5164 - mrcnn_class_loss: 0.0379 - mrcnn_bbox_loss: 0.5804 - mrcnn_mask_loss: 0.4498 - val_loss: 1.8747 - val_rpn_class_loss: 0.0762 - val_rpn_bbox_loss: 0.7538 - val_mrcnn_class_loss: 0.0227 - val_mrcnn_bbox_loss: 0.5545 - val_mrcnn_mask_loss: 0.4675\n",
      "Epoch 16/20\n",
      "100/100 [==============================] - 2071s 21s/step - loss: 1.8095 - rpn_class_loss: 0.1174 - rpn_bbox_loss: 0.7754 - mrcnn_class_loss: 0.0217 - mrcnn_bbox_loss: 0.5077 - mrcnn_mask_loss: 0.3872 - val_loss: 1.7577 - val_rpn_class_loss: 0.0602 - val_rpn_bbox_loss: 0.5691 - val_mrcnn_class_loss: 0.0562 - val_mrcnn_bbox_loss: 0.6175 - val_mrcnn_mask_loss: 0.4548\n",
      "Epoch 17/20\n",
      "100/100 [==============================] - 2090s 21s/step - loss: 1.6503 - rpn_class_loss: 0.1171 - rpn_bbox_loss: 0.8669 - mrcnn_class_loss: 0.0181 - mrcnn_bbox_loss: 0.3938 - mrcnn_mask_loss: 0.2544 - val_loss: 1.5852 - val_rpn_class_loss: 0.1118 - val_rpn_bbox_loss: 0.6865 - val_mrcnn_class_loss: 0.0228 - val_mrcnn_bbox_loss: 0.4545 - val_mrcnn_mask_loss: 0.3096\n",
      "Epoch 18/20\n",
      "100/100 [==============================] - 2120s 21s/step - loss: 1.7661 - rpn_class_loss: 0.0714 - rpn_bbox_loss: 0.5855 - mrcnn_class_loss: 0.0439 - mrcnn_bbox_loss: 0.5844 - mrcnn_mask_loss: 0.4809 - val_loss: 1.6656 - val_rpn_class_loss: 0.0488 - val_rpn_bbox_loss: 0.8356 - val_mrcnn_class_loss: 0.0231 - val_mrcnn_bbox_loss: 0.3959 - val_mrcnn_mask_loss: 0.3621\n",
      "Epoch 19/20\n",
      "100/100 [==============================] - 2114s 21s/step - loss: 1.7817 - rpn_class_loss: 0.1053 - rpn_bbox_loss: 0.6488 - mrcnn_class_loss: 0.0438 - mrcnn_bbox_loss: 0.5312 - mrcnn_mask_loss: 0.4527 - val_loss: 1.7090 - val_rpn_class_loss: 0.0701 - val_rpn_bbox_loss: 0.7716 - val_mrcnn_class_loss: 0.0178 - val_mrcnn_bbox_loss: 0.4515 - val_mrcnn_mask_loss: 0.3980\n",
      "Epoch 20/20\n",
      "100/100 [==============================] - 2109s 21s/step - loss: 1.6875 - rpn_class_loss: 0.0982 - rpn_bbox_loss: 0.7889 - mrcnn_class_loss: 0.0242 - mrcnn_bbox_loss: 0.4335 - mrcnn_mask_loss: 0.3426 - val_loss: 1.7234 - val_rpn_class_loss: 0.0644 - val_rpn_bbox_loss: 0.5208 - val_mrcnn_class_loss: 0.0359 - val_mrcnn_bbox_loss: 0.6233 - val_mrcnn_mask_loss: 0.4789\n"
     ]
    }
   ],
   "source": [
    "model.train(train_dataset, val_dataset, \n",
    "            learning_rate=config.LEARNING_RATE, \n",
    "            epochs=20, \n",
    "            layers='heads')\n",
    "model.keras_model.save_weights(\"model.h5\")"
   ]
  },
  {
   "cell_type": "code",
   "execution_count": null,
   "id": "99796c5f",
   "metadata": {},
   "outputs": [],
   "source": [
    "import tensorflow as tf\n",
    "from tensorflow.python.client import device_lib\n",
    "\n",
    "# Print available devices\n",
    "print(device_lib.list_local_devices())\n"
   ]
  },
  {
   "cell_type": "code",
   "execution_count": 14,
   "id": "07cc2963",
   "metadata": {},
   "outputs": [
    {
     "name": "stdout",
     "output_type": "stream",
     "text": [
      "Model Configuration:\n",
      "\n",
      "Configurations:\n",
      "BACKBONE                       resnet101\n",
      "BACKBONE_STRIDES               [4, 8, 16, 32, 64]\n",
      "BATCH_SIZE                     1\n",
      "BBOX_STD_DEV                   [0.1 0.1 0.2 0.2]\n",
      "COMPUTE_BACKBONE_SHAPE         None\n",
      "DETECTION_MAX_INSTANCES        100\n",
      "DETECTION_MIN_CONFIDENCE       0.9\n",
      "DETECTION_NMS_THRESHOLD        0.3\n",
      "FPN_CLASSIF_FC_LAYERS_SIZE     1024\n",
      "GPU_COUNT                      1\n",
      "GRADIENT_CLIP_NORM             5.0\n",
      "IMAGES_PER_GPU                 1\n",
      "IMAGE_CHANNEL_COUNT            3\n",
      "IMAGE_MAX_DIM                  1024\n",
      "IMAGE_META_SIZE                14\n",
      "IMAGE_MIN_DIM                  800\n",
      "IMAGE_MIN_SCALE                0\n",
      "IMAGE_RESIZE_MODE              square\n",
      "IMAGE_SHAPE                    [1024 1024    3]\n",
      "LEARNING_MOMENTUM              0.9\n",
      "LEARNING_RATE                  0.001\n",
      "LOSS_WEIGHTS                   {'rpn_class_loss': 1.0, 'rpn_bbox_loss': 1.0, 'mrcnn_class_loss': 1.0, 'mrcnn_bbox_loss': 1.0, 'mrcnn_mask_loss': 1.0}\n",
      "MASK_POOL_SIZE                 14\n",
      "MASK_SHAPE                     [28, 28]\n",
      "MAX_GT_INSTANCES               100\n",
      "MEAN_PIXEL                     [123.7 116.8 103.9]\n",
      "MINI_MASK_SHAPE                (56, 56)\n",
      "NAME                           drone_detection\n",
      "NUM_CLASSES                    2\n",
      "POOL_SIZE                      7\n",
      "POST_NMS_ROIS_INFERENCE        1000\n",
      "POST_NMS_ROIS_TRAINING         2000\n",
      "PRE_NMS_LIMIT                  6000\n",
      "ROI_POSITIVE_RATIO             0.33\n",
      "RPN_ANCHOR_RATIOS              [0.5, 1, 2]\n",
      "RPN_ANCHOR_SCALES              (32, 64, 128, 256, 512)\n",
      "RPN_ANCHOR_STRIDE              1\n",
      "RPN_BBOX_STD_DEV               [0.1 0.1 0.2 0.2]\n",
      "RPN_NMS_THRESHOLD              0.7\n",
      "RPN_TRAIN_ANCHORS_PER_IMAGE    256\n",
      "STEPS_PER_EPOCH                100\n",
      "TOP_DOWN_PYRAMID_SIZE          256\n",
      "TRAIN_BN                       False\n",
      "TRAIN_ROIS_PER_IMAGE           200\n",
      "USE_MINI_MASK                  True\n",
      "USE_RPN_ROIS                   True\n",
      "VALIDATION_STEPS               50\n",
      "WEIGHT_DECAY                   0.0001\n",
      "\n",
      "\n"
     ]
    }
   ],
   "source": [
    "print(\"Model Configuration:\")\n",
    "config.display()\n"
   ]
  },
  {
   "cell_type": "code",
   "execution_count": 2,
   "id": "e0a452cc",
   "metadata": {},
   "outputs": [
    {
     "data": {
      "image/png": "[encoded data removed]",
      "text/plain": [
       "<Figure size 720x432 with 1 Axes>"
      ]
     },
     "metadata": {
      "needs_background": "light"
     },
     "output_type": "display_data"
    }
   ],
   "source": [
    "import matplotlib.pyplot as plt\n",
    "\n",
    "# Données des époques\n",
    "epochs = range(1, 21)\n",
    "\n",
    "# Pertes d'entraînement et de validation\n",
    "loss = [14.4516, 8.2569, 6.7783, 4.2977, 3.3512, 2.7660, 2.1746, 1.8516, 2.5367, 1.9750, 2.0846, 2.1384, 1.9251, 1.9702, 1.6521, 1.8095, 1.6503, 1.7661, 1.7817, 1.6875]\n",
    "val_loss = [9.1481, 8.8341, 5.2290, 5.3369, 2.6433, 2.2224, 1.0080, 4.2507, 1.2310, 1.9927, 1.9265, 2.0286, 2.4443, 1.8525, 1.8747, 1.7577, 1.5852, 1.6656, 1.7090, 1.7234]\n",
    "\n",
    "# Tracer les courbes de pertes\n",
    "plt.figure(figsize=(10, 6))  \n",
    "plt.plot(epochs, loss, label='Training Loss')\n",
    "plt.plot(epochs, val_loss, label='Validation Loss')\n",
    "plt.xlabel('Epochs')\n",
    "plt.ylabel('Loss')\n",
    "plt.title('Training and Validation Loss')\n",
    "plt.legend()\n",
    "plt.show()\n"
   ]
  },
  {
   "cell_type": "code",
   "execution_count": 13,
   "id": "cfdf151a",
   "metadata": {},
   "outputs": [
    {
     "name": "stdout",
     "output_type": "stream",
     "text": [
      "WARNING:tensorflow:From c:\\users\\gho\\maskrcnn_env\\lib\\site-packages\\keras\\backend\\tensorflow_backend.py:508: The name tf.placeholder is deprecated. Please use tf.compat.v1.placeholder instead.\n",
      "\n",
      "WARNING:tensorflow:From c:\\users\\gho\\maskrcnn_env\\lib\\site-packages\\keras\\backend\\tensorflow_backend.py:68: The name tf.get_default_graph is deprecated. Please use tf.compat.v1.get_default_graph instead.\n",
      "\n",
      "WARNING:tensorflow:From c:\\users\\gho\\maskrcnn_env\\lib\\site-packages\\keras\\backend\\tensorflow_backend.py:3837: The name tf.random_uniform is deprecated. Please use tf.random.uniform instead.\n",
      "\n",
      "WARNING:tensorflow:From c:\\users\\gho\\maskrcnn_env\\lib\\site-packages\\keras\\backend\\tensorflow_backend.py:3661: The name tf.nn.max_pool is deprecated. Please use tf.nn.max_pool2d instead.\n",
      "\n",
      "WARNING:tensorflow:From c:\\users\\gho\\maskrcnn_env\\lib\\site-packages\\keras\\backend\\tensorflow_backend.py:1944: The name tf.image.resize_nearest_neighbor is deprecated. Please use tf.compat.v1.image.resize_nearest_neighbor instead.\n",
      "\n",
      "WARNING:tensorflow:From c:\\users\\gho\\maskrcnn_env\\lib\\site-packages\\tensorflow_core\\python\\ops\\array_ops.py:1475: where (from tensorflow.python.ops.array_ops) is deprecated and will be removed in a future version.\n",
      "Instructions for updating:\n",
      "Use tf.where in 2.0, which has the same broadcast rule as np.where\n",
      "WARNING:tensorflow:From C:\\Users\\GHO\\Mask_RCNN\\mrcnn\\model.py:553: The name tf.random_shuffle is deprecated. Please use tf.random.shuffle instead.\n",
      "\n",
      "WARNING:tensorflow:From C:\\Users\\GHO\\Mask_RCNN\\mrcnn\\utils.py:202: The name tf.log is deprecated. Please use tf.math.log instead.\n",
      "\n",
      "WARNING:tensorflow:From C:\\Users\\GHO\\Mask_RCNN\\mrcnn\\model.py:600: calling crop_and_resize_v1 (from tensorflow.python.ops.image_ops_impl) with box_ind is deprecated and will be removed in a future version.\n",
      "Instructions for updating:\n",
      "box_ind is deprecated, use box_indices instead\n",
      "Re-starting from epoch 1\n",
      "Re-starting from epoch 2\n",
      "Re-starting from epoch 3\n",
      "Re-starting from epoch 4\n",
      "Re-starting from epoch 5\n",
      "Re-starting from epoch 6\n",
      "Re-starting from epoch 7\n",
      "Re-starting from epoch 8\n",
      "Re-starting from epoch 9\n",
      "Re-starting from epoch 10\n",
      "Re-starting from epoch 11\n",
      "Re-starting from epoch 12\n",
      "Re-starting from epoch 13\n",
      "Re-starting from epoch 14\n",
      "Re-starting from epoch 15\n",
      "Re-starting from epoch 16\n",
      "Re-starting from epoch 17\n",
      "Re-starting from epoch 18\n",
      "Re-starting from epoch 19\n",
      "Re-starting from epoch 20\n"
     ]
    }
   ],
   "source": [
    "import tensorflow as tf\n",
    "from mrcnn.model import MaskRCNN\n",
    "\n",
    "# Initialiser une liste pour stocker les modèles\n",
    "models = []\n",
    "\n",
    "# Définir la structure de ton modèle\n",
    "def get_model():\n",
    "    model = MaskRCNN(mode=\"training\", config=config, model_dir=\"logs\")\n",
    "    return model\n",
    "\n",
    "# Charger les poids pour chaque époque\n",
    "for epoch in range(1, 21):\n",
    "    model_path = f'logs/drone_detection20241123T1349/mask_rcnn_drone_detection_{epoch:04d}.h5'\n",
    "    model = get_model()\n",
    "    model.load_weights(model_path, by_name=True)  \n",
    "    models.append(model)\n"
   ]
  },
  {
   "cell_type": "code",
   "execution_count": 14,
   "id": "bf1f2722",
   "metadata": {},
   "outputs": [],
   "source": [
    "import numpy as np\n",
    "from tqdm import tqdm\n",
    "\n",
    "def evaluer_drone_model(model, dataset, config):\n",
    "    \"\"\"\n",
    "    Évalue le modèle Mask R-CNN sur le DroneDataset\n",
    "    \"\"\"\n",
    "    print(\"Début de l'évaluation...\")\n",
    "    print(f\"Nombre d'images dans le dataset: {len(dataset.image_ids)}\")\n",
    "    \n",
    "    # Initialiser la matrice de confusion\n",
    "    num_classes = len(config.CLASS_NAMES)\n",
    "    confusion_matrix = np.zeros((num_classes, num_classes), dtype=np.int32)\n",
    "    \n",
    "    # Pour chaque image dans le dataset\n",
    "    for image_id in tqdm(dataset.image_ids):\n",
    "        # Charger l'image\n",
    "        image = dataset.load_image(image_id)\n",
    "        if image is None:\n",
    "            print(f\"Erreur: Impossible de charger l'image {image_id}\")\n",
    "            continue\n",
    "            \n",
    "        # Charger les masques et classes de vérité terrain\n",
    "        gt_masks, gt_class_ids = dataset.load_mask(image_id)\n",
    "        if gt_masks is None or len(gt_class_ids) == 0:\n",
    "            print(f\"Attention: Pas de masques trouvés pour l'image {image_id}\")\n",
    "            continue\n",
    "            \n",
    "        print(f\"\\nImage {image_id}:\")\n",
    "        print(f\"Classes vérité terrain: {gt_class_ids}\")\n",
    "        \n",
    "        # Faire les prédictions\n",
    "        # Assurez-vous que la taille du batch est 1 pour chaque image dans l'évaluation\n",
    "        config.BATCH_SIZE = 1\n",
    "        results = model.detect([image], verbose=0)[0]\n",
    "        pred_class_ids = results['class_ids']\n",
    "        pred_masks = results['masks']\n",
    "        scores = results['scores']\n",
    "        \n",
    "        print(f\"Classes prédites: {pred_class_ids}\")\n",
    "        print(f\"Scores: {scores}\")\n",
    "        \n",
    "        # Pour chaque prédiction, trouver la meilleure correspondance\n",
    "        for i, pred_class in enumerate(pred_class_ids):\n",
    "            best_iou = 0\n",
    "            best_gt_idx = -1\n",
    "            \n",
    "            # Comparer avec chaque masque de vérité terrain\n",
    "            for j, gt_class in enumerate(gt_class_ids):\n",
    "                pred_mask = pred_masks[:, :, i]\n",
    "                gt_mask = gt_masks[:, :, j]\n",
    "                \n",
    "                # Calculer IoU\n",
    "                iou = calculate_iou(pred_mask, gt_mask)\n",
    "                if iou > best_iou and iou >= 0.5:  # Seuil IoU de 0.5\n",
    "                    best_iou = iou\n",
    "                    best_gt_idx = j\n",
    "            \n",
    "            if best_gt_idx >= 0:\n",
    "                # Ajouter à la matrice de confusion\n",
    "                gt_class = gt_class_ids[best_gt_idx] - 1  # -1 car les classes commencent à 1\n",
    "                pred_class = pred_class - 1\n",
    "                confusion_matrix[gt_class, pred_class] += 1\n",
    "                print(f\"Match trouvé: Classe GT {gt_class+1} -> Pred {pred_class+1} (IoU: {best_iou:.3f})\")\n",
    "    \n",
    "    return confusion_matrix\n",
    "\n",
    "def calculate_iou(mask1, mask2):\n",
    "    \"\"\"\n",
    "    Calcule l'Intersection over Union entre deux masques\n",
    "    \"\"\"\n",
    "    intersection = np.logical_and(mask1, mask2).sum()\n",
    "    union = np.logical_or(mask1, mask2).sum()\n",
    "    if union == 0:\n",
    "        return 0\n",
    "    return intersection / union\n",
    "\n",
    "def afficher_metriques(confusion_matrix, class_names):\n",
    "    \"\"\"\n",
    "    Affiche les métriques pour chaque classe\n",
    "    \"\"\"\n",
    "    print(\"\\nMétriques par classe:\")\n",
    "    print(\"-\" * 50)\n",
    "    \n",
    "    for i, class_name in enumerate(class_names):\n",
    "        if confusion_matrix[i].sum() + confusion_matrix[:, i].sum() == 0:\n",
    "            continue\n",
    "            \n",
    "        # Calculer précision et rappel\n",
    "        true_positives = confusion_matrix[i, i]\n",
    "        false_positives = confusion_matrix[:, i].sum() - true_positives\n",
    "        false_negatives = confusion_matrix[i, :].sum() - true_positives\n",
    "        \n",
    "        precision = true_positives / (true_positives + false_positives) if (true_positives + false_positives) > 0 else 0\n",
    "        recall = true_positives / (true_positives + false_negatives) if (true_positives + false_negatives) > 0 else 0\n",
    "        f1 = 2 * (precision * recall) / (precision + recall) if (precision + recall) > 0 else 0\n",
    "        \n",
    "        print(f\"\\nClasse {class_name}:\")\n",
    "        print(f\"Précision: {precision:.3f}\")\n",
    "        print(f\"Rappel: {recall:.3f}\")\n",
    "        print(f\"F1-Score: {f1:.3f}\")\n"
   ]
  },
  {
   "cell_type": "code",
   "execution_count": 17,
   "id": "e01777cf",
   "metadata": {},
   "outputs": [
    {
     "name": "stdout",
     "output_type": "stream",
     "text": [
      "Re-starting from epoch 20\n",
      "Évaluation du modèle sur le dataset de validation...\n",
      "Début de l'évaluation...\n",
      "Nombre d'images dans le dataset: 47\n"
     ]
    },
    {
     "name": "stderr",
     "output_type": "stream",
     "text": [
      "\r",
      "  0%|                                                                                           | 0/47 [00:00<?, ?it/s]"
     ]
    },
    {
     "name": "stdout",
     "output_type": "stream",
     "text": [
      "\n",
      "Image 0:\n",
      "Classes vérité terrain: [1]\n",
      "WARNING:tensorflow:From c:\\users\\gho\\maskrcnn_env\\lib\\site-packages\\keras\\backend\\tensorflow_backend.py:2503: The name tf.Session is deprecated. Please use tf.compat.v1.Session instead.\n",
      "\n",
      "WARNING:tensorflow:From c:\\users\\gho\\maskrcnn_env\\lib\\site-packages\\keras\\backend\\tensorflow_backend.py:168: The name tf.get_default_session is deprecated. Please use tf.compat.v1.get_default_session instead.\n",
      "\n",
      "WARNING:tensorflow:From c:\\users\\gho\\maskrcnn_env\\lib\\site-packages\\keras\\backend\\tensorflow_backend.py:175: The name tf.ConfigProto is deprecated. Please use tf.compat.v1.ConfigProto instead.\n",
      "\n",
      "WARNING:tensorflow:From c:\\users\\gho\\maskrcnn_env\\lib\\site-packages\\keras\\backend\\tensorflow_backend.py:184: The name tf.global_variables is deprecated. Please use tf.compat.v1.global_variables instead.\n",
      "\n",
      "WARNING:tensorflow:From c:\\users\\gho\\maskrcnn_env\\lib\\site-packages\\keras\\backend\\tensorflow_backend.py:193: The name tf.is_variable_initialized is deprecated. Please use tf.compat.v1.is_variable_initialized instead.\n",
      "\n",
      "WARNING:tensorflow:From c:\\users\\gho\\maskrcnn_env\\lib\\site-packages\\keras\\backend\\tensorflow_backend.py:200: The name tf.variables_initializer is deprecated. Please use tf.compat.v1.variables_initializer instead.\n",
      "\n"
     ]
    },
    {
     "name": "stderr",
     "output_type": "stream",
     "text": [
      "\r",
      "  2%|█▋                                                                               | 1/47 [01:39<1:16:11, 99.37s/it]"
     ]
    },
    {
     "name": "stdout",
     "output_type": "stream",
     "text": [
      "Classes prédites: [1 1 1 1 1 1 1 1 1 1]\n",
      "Scores: [1. 1. 1. 1. 1. 1. 1. 1. 1. 1.]\n",
      "\n",
      "Image 1:\n",
      "Classes vérité terrain: [1]\n"
     ]
    },
    {
     "name": "stderr",
     "output_type": "stream",
     "text": [
      "\r",
      "  4%|███▌                                                                               | 2/47 [01:45<33:30, 44.68s/it]"
     ]
    },
    {
     "name": "stdout",
     "output_type": "stream",
     "text": [
      "Classes prédites: [1 1 1 1 1 1 1]\n",
      "Scores: [1. 1. 1. 1. 1. 1. 1.]\n",
      "\n",
      "Image 2:\n",
      "Classes vérité terrain: [1]\n"
     ]
    },
    {
     "name": "stderr",
     "output_type": "stream",
     "text": [
      "\r",
      "  6%|█████▎                                                                             | 3/47 [01:51<19:49, 27.04s/it]"
     ]
    },
    {
     "name": "stdout",
     "output_type": "stream",
     "text": [
      "Classes prédites: [1 1 1 1 1 1 1 1]\n",
      "Scores: [1. 1. 1. 1. 1. 1. 1. 1.]\n",
      "\n",
      "Image 3:\n",
      "Classes vérité terrain: [1]\n"
     ]
    },
    {
     "name": "stderr",
     "output_type": "stream",
     "text": [
      "\r",
      "  9%|███████                                                                            | 4/47 [01:57<13:23, 18.69s/it]"
     ]
    },
    {
     "name": "stdout",
     "output_type": "stream",
     "text": [
      "Classes prédites: [1 1 1 1 1 1 1 1 1 1 1 1 1 1]\n",
      "Scores: [1.         1.         0.9999999  0.99999976 0.99999976 0.99999976\n",
      " 0.99999964 0.99999964 0.99999964 0.99999964 0.99999964 0.99999964\n",
      " 0.99999964 0.99999964]\n",
      "\n",
      "Image 4:\n",
      "Classes vérité terrain: [1]\n"
     ]
    },
    {
     "name": "stderr",
     "output_type": "stream",
     "text": [
      "\r",
      " 11%|████████▊                                                                          | 5/47 [02:03<09:56, 14.21s/it]"
     ]
    },
    {
     "name": "stdout",
     "output_type": "stream",
     "text": [
      "Classes prédites: [1 1 1 1 1 1 1 1]\n",
      "Scores: [0.9999994 0.9999994 0.9999994 0.9999994 0.9999994 0.9999994 0.9999994\n",
      " 0.9999994]\n",
      "\n",
      "Image 5:\n",
      "Classes vérité terrain: [1]\n"
     ]
    },
    {
     "name": "stderr",
     "output_type": "stream",
     "text": [
      "\r",
      " 13%|██████████▌                                                                        | 6/47 [02:10<07:52, 11.52s/it]"
     ]
    },
    {
     "name": "stdout",
     "output_type": "stream",
     "text": [
      "Classes prédites: [1 1 1 1 1 1 1]\n",
      "Scores: [0.9999995 0.9999995 0.9999995 0.9999995 0.9999995 0.9999995 0.9999995]\n",
      "\n",
      "Image 6:\n",
      "Classes vérité terrain: [1]\n"
     ]
    },
    {
     "name": "stderr",
     "output_type": "stream",
     "text": [
      "\r",
      " 15%|████████████▎                                                                      | 7/47 [02:16<06:33,  9.84s/it]"
     ]
    },
    {
     "name": "stdout",
     "output_type": "stream",
     "text": [
      "Classes prédites: [1 1 1 1 1 1 1 1 1]\n",
      "Scores: [0.9999994 0.9999994 0.9999994 0.9999994 0.9999994 0.9999994 0.9999994\n",
      " 0.9999994 0.9999994]\n",
      "\n",
      "Image 7:\n",
      "Classes vérité terrain: [1 1 1]\n",
      "Classes prédites: [1 1 1 1 1 1 1 1]\n",
      "Scores: [0.99999964 0.99999964 0.99999964 0.99999964 0.99999964 0.99999964\n",
      " 0.99999964 0.99999964]\n"
     ]
    },
    {
     "name": "stderr",
     "output_type": "stream",
     "text": [
      "\r",
      " 17%|██████████████▏                                                                    | 8/47 [02:23<05:41,  8.75s/it]"
     ]
    },
    {
     "name": "stdout",
     "output_type": "stream",
     "text": [
      "\n",
      "Image 8:\n",
      "Classes vérité terrain: [1]\n",
      "Classes prédites: [1 1 1 1 1 1 1 1 1 1 1 1 1 1 1 1 1 1 1 1 1]\n",
      "Scores: [1.         1.         1.         1.         1.         1.\n",
      " 1.         1.         0.9999999  0.9999999  0.9999999  0.99999976\n",
      " 0.99999976 0.9999995  0.9999995  0.9999995  0.9999995  0.9999995\n",
      " 0.9999995  0.9999995  0.9999995 ]\n"
     ]
    },
    {
     "name": "stderr",
     "output_type": "stream",
     "text": [
      "\r",
      " 19%|███████████████▉                                                                   | 9/47 [02:29<05:08,  8.13s/it]"
     ]
    },
    {
     "name": "stdout",
     "output_type": "stream",
     "text": [
      "\n",
      "Image 9:\n",
      "Classes vérité terrain: [1]\n",
      "Classes prédites: [1 1 1 1 1 1 1]\n",
      "Scores: [0.9999994 0.9999994 0.9999994 0.9999994 0.9999994 0.9999994 0.9999994]\n"
     ]
    },
    {
     "name": "stderr",
     "output_type": "stream",
     "text": [
      "\r",
      " 21%|█████████████████▍                                                                | 10/47 [02:37<04:58,  8.08s/it]"
     ]
    },
    {
     "name": "stdout",
     "output_type": "stream",
     "text": [
      "\n",
      "Image 10:\n",
      "Classes vérité terrain: [1]\n"
     ]
    },
    {
     "name": "stderr",
     "output_type": "stream",
     "text": [
      "\r",
      " 23%|███████████████████▏                                                              | 11/47 [02:44<04:37,  7.71s/it]"
     ]
    },
    {
     "name": "stdout",
     "output_type": "stream",
     "text": [
      "Classes prédites: [1 1 1 1 1 1 1 1]\n",
      "Scores: [0.99999917 0.99999917 0.99999917 0.99999917 0.99999917 0.99999917\n",
      " 0.99999917 0.99999917]\n",
      "\n",
      "Image 11:\n",
      "Classes vérité terrain: [1]\n"
     ]
    },
    {
     "name": "stderr",
     "output_type": "stream",
     "text": [
      "\r",
      " 26%|████████████████████▉                                                             | 12/47 [02:50<04:12,  7.20s/it]"
     ]
    },
    {
     "name": "stdout",
     "output_type": "stream",
     "text": [
      "Classes prédites: [1 1 1 1 1 1 1 1 1 1]\n",
      "Scores: [1.        1.        1.        0.9999999 0.9999999 0.9999999 0.9999999\n",
      " 0.9999999 0.9999999 0.9999999]\n",
      "\n",
      "Image 12:\n",
      "Classes vérité terrain: [1]\n"
     ]
    },
    {
     "name": "stderr",
     "output_type": "stream",
     "text": [
      " 36%|█████████████████████████████▋                                                    | 17/47 [02:56<01:14,  2.49s/it]"
     ]
    },
    {
     "name": "stdout",
     "output_type": "stream",
     "text": [
      "Classes prédites: [1 1 1 1 1 1 1 1 1 1 1 1 1 1]\n",
      "Scores: [0.9999999  0.9999999  0.9999999  0.99999976 0.99999964 0.99999964\n",
      " 0.99999964 0.9999995  0.9999995  0.9999995  0.9999995  0.9999995\n",
      " 0.9999995  0.9999995 ]\n",
      "Attention: Pas de masques trouvés pour l'image 13\n",
      "Attention: Pas de masques trouvés pour l'image 14\n",
      "Attention: Pas de masques trouvés pour l'image 15\n",
      "Attention: Pas de masques trouvés pour l'image 16\n",
      "Attention: Pas de masques trouvés pour l'image 17\n",
      "\n",
      "Image 18:\n",
      "Classes vérité terrain: [1]\n"
     ]
    },
    {
     "name": "stderr",
     "output_type": "stream",
     "text": [
      "\r",
      " 40%|█████████████████████████████████▏                                                | 19/47 [03:02<01:13,  2.62s/it]"
     ]
    },
    {
     "name": "stdout",
     "output_type": "stream",
     "text": [
      "Classes prédites: [1 1 1 1 1 1 1 1 1 1]\n",
      "Scores: [1. 1. 1. 1. 1. 1. 1. 1. 1. 1.]\n",
      "\n",
      "Image 19:\n",
      "Classes vérité terrain: [1]\n"
     ]
    },
    {
     "name": "stderr",
     "output_type": "stream",
     "text": [
      "\r",
      " 43%|██████████████████████████████████▉                                               | 20/47 [03:08<01:26,  3.21s/it]"
     ]
    },
    {
     "name": "stdout",
     "output_type": "stream",
     "text": [
      "Classes prédites: [1 1 1 1]\n",
      "Scores: [0.99999976 0.99999976 0.99999976 0.99999976]\n",
      "\n",
      "Image 20:\n",
      "Classes vérité terrain: [1]\n"
     ]
    },
    {
     "name": "stderr",
     "output_type": "stream",
     "text": [
      "\r",
      " 45%|████████████████████████████████████▋                                             | 21/47 [03:14<01:37,  3.74s/it]"
     ]
    },
    {
     "name": "stdout",
     "output_type": "stream",
     "text": [
      "Classes prédites: [1 1 1 1 1 1 1]\n",
      "Scores: [0.9999987 0.9999987 0.9999987 0.9999987 0.9999987 0.9999987 0.9999987]\n",
      "\n",
      "Image 21:\n",
      "Classes vérité terrain: [1]\n"
     ]
    },
    {
     "name": "stderr",
     "output_type": "stream",
     "text": [
      "\r",
      " 47%|██████████████████████████████████████▍                                           | 22/47 [03:19<01:45,  4.22s/it]"
     ]
    },
    {
     "name": "stdout",
     "output_type": "stream",
     "text": [
      "Classes prédites: [1 1 1 1 1 1 1 1 1 1]\n",
      "Scores: [1. 1. 1. 1. 1. 1. 1. 1. 1. 1.]\n",
      "\n",
      "Image 22:\n",
      "Classes vérité terrain: [1]\n"
     ]
    },
    {
     "name": "stderr",
     "output_type": "stream",
     "text": [
      "\r",
      " 49%|████████████████████████████████████████▏                                         | 23/47 [03:25<01:49,  4.56s/it]"
     ]
    },
    {
     "name": "stdout",
     "output_type": "stream",
     "text": [
      "Classes prédites: [1 1 1 1 1 1 1 1 1 1]\n",
      "Scores: [1. 1. 1. 1. 1. 1. 1. 1. 1. 1.]\n",
      "\n",
      "Image 23:\n",
      "Classes vérité terrain: [1]\n"
     ]
    },
    {
     "name": "stderr",
     "output_type": "stream",
     "text": [
      "\r",
      " 51%|█████████████████████████████████████████▊                                        | 24/47 [03:31<01:52,  4.88s/it]"
     ]
    },
    {
     "name": "stdout",
     "output_type": "stream",
     "text": [
      "Classes prédites: [1 1 1 1 1 1 1 1 1]\n",
      "Scores: [1.        0.9999999 0.9999999 0.9999999 0.9999999 0.9999999 0.9999999\n",
      " 0.9999999 0.9999999]\n",
      "\n",
      "Image 24:\n",
      "Classes vérité terrain: [1]\n"
     ]
    },
    {
     "name": "stderr",
     "output_type": "stream",
     "text": [
      "\r",
      " 53%|███████████████████████████████████████████▌                                      | 25/47 [03:36<01:52,  5.09s/it]"
     ]
    },
    {
     "name": "stdout",
     "output_type": "stream",
     "text": [
      "Classes prédites: [1 1 1 1 1 1 1 1 1 1 1 1 1 1]\n",
      "Scores: [1.         0.9999999  0.9999999  0.9999999  0.9999999  0.99999964\n",
      " 0.99999964 0.9999995  0.9999995  0.9999995  0.9999995  0.9999995\n",
      " 0.9999995  0.9999995 ]\n",
      "\n",
      "Image 25:\n",
      "Classes vérité terrain: [1]\n"
     ]
    },
    {
     "name": "stderr",
     "output_type": "stream",
     "text": [
      "\r",
      " 55%|█████████████████████████████████████████████▎                                    | 26/47 [03:42<01:50,  5.25s/it]"
     ]
    },
    {
     "name": "stdout",
     "output_type": "stream",
     "text": [
      "Classes prédites: [1 1 1 1 1 1 1]\n",
      "Scores: [0.99999964 0.99999964 0.99999964 0.99999964 0.99999964 0.99999964\n",
      " 0.99999964]\n",
      "\n",
      "Image 26:\n",
      "Classes vérité terrain: [1]\n"
     ]
    },
    {
     "name": "stderr",
     "output_type": "stream",
     "text": [
      "\r",
      " 57%|███████████████████████████████████████████████                                   | 27/47 [03:48<01:47,  5.36s/it]"
     ]
    },
    {
     "name": "stdout",
     "output_type": "stream",
     "text": [
      "Classes prédites: [1 1 1 1 1 1 1]\n",
      "Scores: [0.9999993 0.9999993 0.9999993 0.9999993 0.9999993 0.9999993 0.9999993]\n",
      "Attention: Pas de masques trouvés pour l'image 27\n",
      "\n",
      "Image 28:\n",
      "Classes vérité terrain: [1]\n"
     ]
    },
    {
     "name": "stderr",
     "output_type": "stream",
     "text": [
      "\r",
      " 62%|██████████████████████████████████████████████████▌                               | 29/47 [03:53<01:16,  4.23s/it]"
     ]
    },
    {
     "name": "stdout",
     "output_type": "stream",
     "text": [
      "Classes prédites: [1 1 1 1 1 1 1 1 1 1]\n",
      "Scores: [0.9999999  0.99999976 0.99999964 0.9999995  0.9999995  0.9999995\n",
      " 0.9999995  0.9999995  0.9999995  0.9999995 ]\n",
      "\n",
      "Image 29:\n",
      "Classes vérité terrain: [1]\n"
     ]
    },
    {
     "name": "stderr",
     "output_type": "stream",
     "text": [
      "\r",
      " 64%|████████████████████████████████████████████████████▎                             | 30/47 [03:59<01:18,  4.65s/it]"
     ]
    },
    {
     "name": "stdout",
     "output_type": "stream",
     "text": [
      "Classes prédites: [1 1 1 1 1 1 1 1 1 1 1 1 1 1 1]\n",
      "Scores: [0.9999999  0.9999999  0.9999999  0.99999976 0.99999964 0.99999964\n",
      " 0.99999964 0.9999995  0.9999995  0.9999994  0.9999994  0.9999994\n",
      " 0.9999994  0.9999994  0.9999994 ]\n",
      "\n",
      "Image 30:\n",
      "Classes vérité terrain: [1]\n"
     ]
    },
    {
     "name": "stderr",
     "output_type": "stream",
     "text": [
      "\r",
      " 66%|██████████████████████████████████████████████████████                            | 31/47 [04:05<01:19,  4.94s/it]"
     ]
    },
    {
     "name": "stdout",
     "output_type": "stream",
     "text": [
      "Classes prédites: [1 1 1 1 1 1]\n",
      "Scores: [0.9999995 0.9999995 0.9999995 0.9999995 0.9999995 0.9999995]\n",
      "\n",
      "Image 31:\n",
      "Classes vérité terrain: [1]\n"
     ]
    },
    {
     "name": "stderr",
     "output_type": "stream",
     "text": [
      "\r",
      " 68%|███████████████████████████████████████████████████████▊                          | 32/47 [04:11<01:17,  5.18s/it]"
     ]
    },
    {
     "name": "stdout",
     "output_type": "stream",
     "text": [
      "Classes prédites: [1 1 1 1 1 1]\n",
      "Scores: [0.99999964 0.99999964 0.99999964 0.99999964 0.99999964 0.99999964]\n",
      "\n",
      "Image 32:\n",
      "Classes vérité terrain: [1]\n"
     ]
    },
    {
     "name": "stderr",
     "output_type": "stream",
     "text": [
      "\r",
      " 70%|█████████████████████████████████████████████████████████▌                        | 33/47 [04:17<01:16,  5.46s/it]"
     ]
    },
    {
     "name": "stdout",
     "output_type": "stream",
     "text": [
      "Classes prédites: [1 1 1 1 1 1]\n",
      "Scores: [0.9999999 0.9999999 0.9999999 0.9999999 0.9999999 0.9999999]\n",
      "Attention: Pas de masques trouvés pour l'image 33\n",
      "\n",
      "Image 34:\n",
      "Classes vérité terrain: [1]\n"
     ]
    },
    {
     "name": "stderr",
     "output_type": "stream",
     "text": [
      "\r",
      " 74%|█████████████████████████████████████████████████████████████                     | 35/47 [04:23<00:51,  4.29s/it]"
     ]
    },
    {
     "name": "stdout",
     "output_type": "stream",
     "text": [
      "Classes prédites: [1 1 1 1 1 1 1]\n",
      "Scores: [0.9999994 0.9999994 0.9999994 0.9999994 0.9999994 0.9999994 0.9999994]\n",
      "\n",
      "Image 35:\n",
      "Classes vérité terrain: [1]\n"
     ]
    },
    {
     "name": "stderr",
     "output_type": "stream",
     "text": [
      "\r",
      " 77%|██████████████████████████████████████████████████████████████▊                   | 36/47 [04:28<00:50,  4.62s/it]"
     ]
    },
    {
     "name": "stdout",
     "output_type": "stream",
     "text": [
      "Classes prédites: [1 1 1 1 1 1 1 1]\n",
      "Scores: [0.9999994 0.9999994 0.9999994 0.9999994 0.9999994 0.9999994 0.9999994\n",
      " 0.9999994]\n",
      "\n",
      "Image 36:\n",
      "Classes vérité terrain: [1]\n"
     ]
    },
    {
     "name": "stderr",
     "output_type": "stream",
     "text": [
      "\r",
      " 79%|████████████████████████████████████████████████████████████████▌                 | 37/47 [04:34<00:49,  4.90s/it]"
     ]
    },
    {
     "name": "stdout",
     "output_type": "stream",
     "text": [
      "Classes prédites: [1 1 1 1 1 1 1 1 1 1 1 1 1 1 1 1 1 1]\n",
      "Scores: [0.9999999  0.9999999  0.9999999  0.9999999  0.9999999  0.99999964\n",
      " 0.99999964 0.9999995  0.9999995  0.9999994  0.9999994  0.9999994\n",
      " 0.9999994  0.9999994  0.9999994  0.9999994  0.9999994  0.9999994 ]\n",
      "\n",
      "Image 37:\n",
      "Classes vérité terrain: [1]\n"
     ]
    },
    {
     "name": "stderr",
     "output_type": "stream",
     "text": [
      "\r",
      " 81%|██████████████████████████████████████████████████████████████████▎               | 38/47 [04:40<00:45,  5.10s/it]"
     ]
    },
    {
     "name": "stdout",
     "output_type": "stream",
     "text": [
      "Classes prédites: [1 1 1 1 1 1 1 1 1 1]\n",
      "Scores: [1.        0.9999995 0.9999994 0.9999994 0.9999994 0.9999994 0.9999994\n",
      " 0.9999994 0.9999994 0.9999994]\n",
      "\n",
      "Image 38:\n",
      "Classes vérité terrain: [1]\n"
     ]
    },
    {
     "name": "stderr",
     "output_type": "stream",
     "text": [
      "\r",
      " 83%|████████████████████████████████████████████████████████████████████              | 39/47 [04:46<00:42,  5.26s/it]"
     ]
    },
    {
     "name": "stdout",
     "output_type": "stream",
     "text": [
      "Classes prédites: [1 1 1 1 1 1 1]\n",
      "Scores: [0.9999994 0.9999994 0.9999994 0.9999994 0.9999994 0.9999994 0.9999994]\n",
      "\n",
      "Image 39:\n",
      "Classes vérité terrain: [1]\n"
     ]
    },
    {
     "name": "stderr",
     "output_type": "stream",
     "text": [
      "\r",
      " 85%|█████████████████████████████████████████████████████████████████████▊            | 40/47 [04:51<00:37,  5.39s/it]"
     ]
    },
    {
     "name": "stdout",
     "output_type": "stream",
     "text": [
      "Classes prédites: [1 1 1 1 1 1 1 1 1 1 1 1 1]\n",
      "Scores: [0.99999976 0.99999976 0.99999976 0.99999964 0.99999964 0.9999995\n",
      " 0.9999994  0.9999994  0.9999994  0.9999994  0.9999994  0.9999994\n",
      " 0.9999994 ]\n",
      "\n",
      "Image 40:\n",
      "Classes vérité terrain: [1]\n"
     ]
    },
    {
     "name": "stderr",
     "output_type": "stream",
     "text": [
      "\r",
      " 87%|███████████████████████████████████████████████████████████████████████▌          | 41/47 [04:57<00:32,  5.46s/it]"
     ]
    },
    {
     "name": "stdout",
     "output_type": "stream",
     "text": [
      "Classes prédites: [1 1 1 1 1 1 1 1]\n",
      "Scores: [0.9999994 0.9999994 0.9999994 0.9999994 0.9999994 0.9999994 0.9999994\n",
      " 0.9999994]\n",
      "\n",
      "Image 41:\n",
      "Classes vérité terrain: [1]\n"
     ]
    },
    {
     "name": "stderr",
     "output_type": "stream",
     "text": [
      "\r",
      " 89%|█████████████████████████████████████████████████████████████████████████▎        | 42/47 [05:02<00:27,  5.51s/it]"
     ]
    },
    {
     "name": "stdout",
     "output_type": "stream",
     "text": [
      "Classes prédites: [1 1 1 1 1 1 1 1 1]\n",
      "Scores: [0.9999999  0.99999976 0.9999994  0.9999994  0.9999994  0.9999994\n",
      " 0.9999994  0.9999994  0.9999994 ]\n",
      "\n",
      "Image 42:\n",
      "Classes vérité terrain: [1]\n"
     ]
    },
    {
     "name": "stderr",
     "output_type": "stream",
     "text": [
      "\r",
      " 91%|███████████████████████████████████████████████████████████████████████████       | 43/47 [05:08<00:22,  5.56s/it]"
     ]
    },
    {
     "name": "stdout",
     "output_type": "stream",
     "text": [
      "Classes prédites: [1 1 1 1 1 1 1]\n",
      "Scores: [0.9999995 0.9999995 0.9999995 0.9999995 0.9999995 0.9999995 0.9999995]\n",
      "\n",
      "Image 43:\n",
      "Classes vérité terrain: [1]\n"
     ]
    },
    {
     "name": "stderr",
     "output_type": "stream",
     "text": [
      "\r",
      " 94%|████████████████████████████████████████████████████████████████████████████▊     | 44/47 [05:14<00:16,  5.59s/it]"
     ]
    },
    {
     "name": "stdout",
     "output_type": "stream",
     "text": [
      "Classes prédites: [1 1 1 1 1 1 1]\n",
      "Scores: [0.99999964 0.9999995  0.9999995  0.9999995  0.9999995  0.9999995\n",
      " 0.9999995 ]\n",
      "\n",
      "Image 44:\n",
      "Classes vérité terrain: [1]\n"
     ]
    },
    {
     "name": "stderr",
     "output_type": "stream",
     "text": [
      "\r",
      " 96%|██████████████████████████████████████████████████████████████████████████████▌   | 45/47 [05:20<00:11,  5.62s/it]"
     ]
    },
    {
     "name": "stdout",
     "output_type": "stream",
     "text": [
      "Classes prédites: [1 1 1 1 1 1 1]\n",
      "Scores: [0.99999964 0.99999964 0.99999964 0.99999964 0.99999964 0.99999964\n",
      " 0.99999964]\n",
      "\n",
      "Image 45:\n",
      "Classes vérité terrain: [1]\n"
     ]
    },
    {
     "name": "stderr",
     "output_type": "stream",
     "text": [
      "\r",
      " 98%|████████████████████████████████████████████████████████████████████████████████▎ | 46/47 [05:25<00:05,  5.65s/it]"
     ]
    },
    {
     "name": "stdout",
     "output_type": "stream",
     "text": [
      "Classes prédites: [1 1 1 1 1 1 1]\n",
      "Scores: [1. 1. 1. 1. 1. 1. 1.]\n",
      "\n",
      "Image 46:\n",
      "Classes vérité terrain: [1]\n"
     ]
    },
    {
     "name": "stderr",
     "output_type": "stream",
     "text": [
      "100%|██████████████████████████████████████████████████████████████████████████████████| 47/47 [05:31<00:00,  7.05s/it]"
     ]
    },
    {
     "name": "stdout",
     "output_type": "stream",
     "text": [
      "Classes prédites: [1 1 1 1 1 1 1]\n",
      "Scores: [0.9999995 0.9999995 0.9999995 0.9999995 0.9999995 0.9999995 0.9999995]\n",
      "\n",
      "Matrice de confusion:\n",
      "[[0 0]\n",
      " [0 0]]\n",
      "\n",
      "Métriques par classe:\n",
      "--------------------------------------------------\n"
     ]
    },
    {
     "name": "stderr",
     "output_type": "stream",
     "text": [
      "\n"
     ]
    },
    {
     "data": {
      "image/png": "[encoded data removed]",
      "text/plain": [
       "<Figure size 720x576 with 2 Axes>"
      ]
     },
     "metadata": {
      "needs_background": "light"
     },
     "output_type": "display_data"
    }
   ],
   "source": [
    "# 1. D'abord, importez les bibliothèques nécessaires\n",
    "import numpy as np\n",
    "from tqdm import tqdm\n",
    "\n",
    "# Créer une instance du modèle en mode d'inférence\n",
    "model = MaskRCNN(mode=\"inference\", config=config, model_dir=\"./\")\n",
    "\n",
    "# Charger les poids du modèle (par exemple, ceux d'un modèle pré-entraîné)\n",
    "model_dir = 'logs/drone_detection20241018T0748'\n",
    "model_path = os.path.join(model_dir, 'mask_rcnn_drone_detection_0020.h5')\n",
    "model.load_weights(model_path, by_name=True)\n",
    "\n",
    "# 2. Évaluez votre modèle sur le dataset de validation\n",
    "print(\"Évaluation du modèle sur le dataset de validation...\")\n",
    "confusion_mat = evaluer_drone_model(model, val_dataset, config)\n",
    "\n",
    "# 3. Affichez la matrice de confusion\n",
    "print(\"\\nMatrice de confusion:\")\n",
    "print(confusion_mat)\n",
    "\n",
    "# 4. Affichez les métriques détaillées\n",
    "afficher_metriques(confusion_mat, config.CLASS_NAMES)\n",
    "\n",
    "# 5. Visualisation avec seaborn (optionnel)\n",
    "import seaborn as sns\n",
    "import matplotlib.pyplot as plt\n",
    "\n",
    "plt.figure(figsize=(10, 8))\n",
    "sns.heatmap(confusion_mat, \n",
    "            annot=True, \n",
    "            fmt='d',\n",
    "            xticklabels=config.CLASS_NAMES,\n",
    "            yticklabels=config.CLASS_NAMES)\n",
    "plt.title('Matrice de Confusion - Drone Dataset')\n",
    "plt.xlabel('Prédictions')\n",
    "plt.ylabel('Vérité terrain')\n",
    "plt.show()"
   ]
  },
  {
   "cell_type": "code",
   "execution_count": 20,
   "id": "318a3c28",
   "metadata": {},
   "outputs": [
    {
     "name": "stdout",
     "output_type": "stream",
     "text": [
      "WARNING:tensorflow:From C:\\Users\\GHO\\Mask_RCNN\\mrcnn\\model.py:720: The name tf.sets.set_intersection is deprecated. Please use tf.sets.intersection instead.\n",
      "\n",
      "WARNING:tensorflow:From C:\\Users\\GHO\\Mask_RCNN\\mrcnn\\model.py:722: The name tf.sparse_tensor_to_dense is deprecated. Please use tf.sparse.to_dense instead.\n",
      "\n",
      "WARNING:tensorflow:From C:\\Users\\GHO\\Mask_RCNN\\mrcnn\\model.py:772: to_float (from tensorflow.python.ops.math_ops) is deprecated and will be removed in a future version.\n",
      "Instructions for updating:\n",
      "Use `tf.cast` instead.\n",
      "Re-starting from epoch 20\n"
     ]
    }
   ],
   "source": [
    "from mrcnn import model as modellib\n",
    "from mrcnn.config import Config\n",
    "import os\n",
    "\n",
    "# Define configuration\n",
    "class DroneDetectionConfig(Config):\n",
    "    NAME = \"drone_detection\"\n",
    "    GPU_COUNT = 0\n",
    "    IMAGES_PER_GPU = 1\n",
    "    NUM_CLASSES = 1 + 1  # Background + drone\n",
    "    DETECTION_MIN_CONFIDENCE = 0.9\n",
    "    CLASS_NAMES = ['BG', 'drone']  # Background and drone\n",
    "\n",
    "# Load the model\n",
    "config = DroneDetectionConfig()\n",
    "model_dir = 'logs/drone_detection20241018T0748'\n",
    "model_path = os.path.join(model_dir, 'mask_rcnn_drone_detection_0020.h5')\n",
    "\n",
    "# Create the model in inference mode\n",
    "model = modellib.MaskRCNN(mode=\"inference\", config=config, model_dir=model_dir)\n",
    "model.load_weights(model_path, by_name=True)\n"
   ]
  },
  {
   "cell_type": "code",
   "execution_count": 24,
   "id": "13386dcc",
   "metadata": {},
   "outputs": [
    {
     "name": "stdout",
     "output_type": "stream",
     "text": [
      "Re-starting from epoch 20\n",
      "Warning: Annotation file not found for foto14733.jpg\n",
      "Warning: Annotation file not found for foto14762.jpg\n",
      "Warning: Annotation file not found for foto14791.jpg\n",
      "Warning: Annotation file not found for foto14820.jpg\n",
      "Warning: Annotation file not found for scene00046.jpg\n",
      "\n",
      "Starting at epoch 20. LR=0.0001\n",
      "\n",
      "Checkpoint Path: logs/drone_detection20241123T1349\\drone_detection20241123T1349\\mask_rcnn_drone_detection_{epoch:04d}.h5\n",
      "Selecting layers to train\n",
      "fpn_c5p5               (Conv2D)\n",
      "fpn_c4p4               (Conv2D)\n",
      "fpn_c3p3               (Conv2D)\n",
      "fpn_c2p2               (Conv2D)\n",
      "fpn_p5                 (Conv2D)\n",
      "fpn_p2                 (Conv2D)\n",
      "fpn_p3                 (Conv2D)\n",
      "fpn_p4                 (Conv2D)\n",
      "In model:  rpn_model\n",
      "    rpn_conv_shared        (Conv2D)\n",
      "    rpn_class_raw          (Conv2D)\n",
      "    rpn_bbox_pred          (Conv2D)\n",
      "mrcnn_mask_conv1       (TimeDistributed)\n",
      "mrcnn_mask_bn1         (TimeDistributed)\n",
      "mrcnn_mask_conv2       (TimeDistributed)\n",
      "mrcnn_mask_bn2         (TimeDistributed)\n",
      "mrcnn_class_conv1      (TimeDistributed)\n",
      "mrcnn_class_bn1        (TimeDistributed)\n",
      "mrcnn_mask_conv3       (TimeDistributed)\n",
      "mrcnn_mask_bn3         (TimeDistributed)\n",
      "mrcnn_class_conv2      (TimeDistributed)\n",
      "mrcnn_class_bn2        (TimeDistributed)\n",
      "mrcnn_mask_conv4       (TimeDistributed)\n",
      "mrcnn_mask_bn4         (TimeDistributed)\n",
      "mrcnn_bbox_fc          (TimeDistributed)\n",
      "mrcnn_mask_deconv      (TimeDistributed)\n",
      "mrcnn_class_logits     (TimeDistributed)\n",
      "mrcnn_mask             (TimeDistributed)\n",
      "Epoch 21/30\n",
      "100/100 [==============================] - 7248s 72s/step - loss: 9.0770 - rpn_class_loss: 2.8625 - rpn_bbox_loss: 4.9552 - mrcnn_class_loss: 0.7968 - mrcnn_bbox_loss: 0.3941 - mrcnn_mask_loss: 0.0684 - val_loss: 2.2946 - val_rpn_class_loss: 0.2705 - val_rpn_bbox_loss: 2.0241 - val_mrcnn_class_loss: 0.0000e+00 - val_mrcnn_bbox_loss: 0.0000e+00 - val_mrcnn_mask_loss: 0.0000e+00\n",
      "WARNING:tensorflow:From c:\\users\\gho\\maskrcnn_env\\lib\\site-packages\\keras\\callbacks.py:869: The name tf.Summary is deprecated. Please use tf.compat.v1.Summary instead.\n",
      "\n",
      "Epoch 22/30\n",
      "100/100 [==============================] - 7995s 80s/step - loss: 2.8810 - rpn_class_loss: 0.2528 - rpn_bbox_loss: 2.6282 - mrcnn_class_loss: 0.0000e+00 - mrcnn_bbox_loss: 0.0000e+00 - mrcnn_mask_loss: 0.0000e+00 - val_loss: 1.9952 - val_rpn_class_loss: 0.1424 - val_rpn_bbox_loss: 1.8529 - val_mrcnn_class_loss: 0.0000e+00 - val_mrcnn_bbox_loss: 0.0000e+00 - val_mrcnn_mask_loss: 0.0000e+00\n",
      "Epoch 23/30\n",
      "100/100 [==============================] - 7980s 80s/step - loss: 2.3637 - rpn_class_loss: 0.1976 - rpn_bbox_loss: 2.1661 - mrcnn_class_loss: 0.0000e+00 - mrcnn_bbox_loss: 0.0000e+00 - mrcnn_mask_loss: 0.0000e+00 - val_loss: 1.6916 - val_rpn_class_loss: 0.1096 - val_rpn_bbox_loss: 1.5820 - val_mrcnn_class_loss: 0.0000e+00 - val_mrcnn_bbox_loss: 0.0000e+00 - val_mrcnn_mask_loss: 0.0000e+00\n",
      "Epoch 24/30\n",
      "100/100 [==============================] - 7992s 80s/step - loss: 1.9342 - rpn_class_loss: 0.1373 - rpn_bbox_loss: 1.7969 - mrcnn_class_loss: 0.0000e+00 - mrcnn_bbox_loss: 0.0000e+00 - mrcnn_mask_loss: 0.0000e+00 - val_loss: 1.8040 - val_rpn_class_loss: 0.1696 - val_rpn_bbox_loss: 1.6344 - val_mrcnn_class_loss: 0.0000e+00 - val_mrcnn_bbox_loss: 0.0000e+00 - val_mrcnn_mask_loss: 0.0000e+00\n",
      "Epoch 25/30\n",
      "100/100 [==============================] - 7993s 80s/step - loss: 1.8540 - rpn_class_loss: 0.2008 - rpn_bbox_loss: 1.6532 - mrcnn_class_loss: 0.0000e+00 - mrcnn_bbox_loss: 0.0000e+00 - mrcnn_mask_loss: 0.0000e+00 - val_loss: 1.6155 - val_rpn_class_loss: 0.1229 - val_rpn_bbox_loss: 1.4926 - val_mrcnn_class_loss: 0.0000e+00 - val_mrcnn_bbox_loss: 0.0000e+00 - val_mrcnn_mask_loss: 0.0000e+00\n",
      "Epoch 26/30\n",
      "100/100 [==============================] - 7937s 79s/step - loss: 1.6523 - rpn_class_loss: 0.1303 - rpn_bbox_loss: 1.4867 - mrcnn_class_loss: 1.6218e-06 - mrcnn_bbox_loss: 0.0257 - mrcnn_mask_loss: 0.0095 - val_loss: 1.9248 - val_rpn_class_loss: 0.1675 - val_rpn_bbox_loss: 1.7573 - val_mrcnn_class_loss: 0.0000e+00 - val_mrcnn_bbox_loss: 0.0000e+00 - val_mrcnn_mask_loss: 0.0000e+00\n",
      "Epoch 27/30\n",
      "100/100 [==============================] - 7983s 80s/step - loss: 1.8279 - rpn_class_loss: 0.1422 - rpn_bbox_loss: 1.6857 - mrcnn_class_loss: 0.0000e+00 - mrcnn_bbox_loss: 0.0000e+00 - mrcnn_mask_loss: 0.0000e+00 - val_loss: 1.6830 - val_rpn_class_loss: 0.1065 - val_rpn_bbox_loss: 1.5765 - val_mrcnn_class_loss: 0.0000e+00 - val_mrcnn_bbox_loss: 0.0000e+00 - val_mrcnn_mask_loss: 0.0000e+00\n",
      "Epoch 28/30\n",
      "100/100 [==============================] - 7938s 79s/step - loss: 1.7547 - rpn_class_loss: 0.1671 - rpn_bbox_loss: 1.5401 - mrcnn_class_loss: 2.7758e-04 - mrcnn_bbox_loss: 0.0278 - mrcnn_mask_loss: 0.0194 - val_loss: 1.5038 - val_rpn_class_loss: 0.1158 - val_rpn_bbox_loss: 1.3880 - val_mrcnn_class_loss: 0.0000e+00 - val_mrcnn_bbox_loss: 0.0000e+00 - val_mrcnn_mask_loss: 0.0000e+00\n",
      "Epoch 29/30\n",
      "100/100 [==============================] - 8002s 80s/step - loss: 1.3570 - rpn_class_loss: 0.1057 - rpn_bbox_loss: 1.2513 - mrcnn_class_loss: 0.0000e+00 - mrcnn_bbox_loss: 0.0000e+00 - mrcnn_mask_loss: 0.0000e+00 - val_loss: 1.5291 - val_rpn_class_loss: 0.0943 - val_rpn_bbox_loss: 1.4348 - val_mrcnn_class_loss: 0.0000e+00 - val_mrcnn_bbox_loss: 0.0000e+00 - val_mrcnn_mask_loss: 0.0000e+00\n",
      "Epoch 30/30\n",
      "100/100 [==============================] - 8036s 80s/step - loss: 1.4083 - rpn_class_loss: 0.1570 - rpn_bbox_loss: 1.2513 - mrcnn_class_loss: 0.0000e+00 - mrcnn_bbox_loss: 0.0000e+00 - mrcnn_mask_loss: 0.0000e+00 - val_loss: 1.7303 - val_rpn_class_loss: 0.1474 - val_rpn_bbox_loss: 1.5828 - val_mrcnn_class_loss: 0.0000e+00 - val_mrcnn_bbox_loss: 0.0000e+00 - val_mrcnn_mask_loss: 0.0000e+00\n"
     ]
    }
   ],
   "source": [
    "#fine tuning code\n",
    "from mrcnn import model as modellib\n",
    "from mrcnn.config import Config\n",
    "import os\n",
    "\n",
    "# Define configuration\n",
    "class DroneDetectionConfig(Config):\n",
    "    NAME = \"drone_detection\"\n",
    "    GPU_COUNT = 1  # Utiliser le GPU pour l'entraînement\n",
    "    IMAGES_PER_GPU = 1\n",
    "    NUM_CLASSES = 1 + 1  # Background + drone\n",
    "    DETECTION_MIN_CONFIDENCE = 0.5\n",
    "    DETECTION_NMS_THRESHOLD = 0.4\n",
    "    CLASS_NAMES = ['BG', 'drone']  # Background and drone\n",
    "    STEPS_PER_EPOCH = 100\n",
    "\n",
    "\n",
    "# Load the model\n",
    "config = DroneDetectionConfig()\n",
    "model_dir = 'logs/drone_detection20241123T1349'\n",
    "model_path = os.path.join(model_dir, 'mask_rcnn_drone_detection_0020.h5')\n",
    "\n",
    "# Create the model in training mode\n",
    "model = modellib.MaskRCNN(mode=\"training\", config=config, model_dir=model_dir)\n",
    "model.load_weights(model_path, by_name=True)\n",
    "\n",
    "# Load the dataset\n",
    "dataset_train = DroneDataset()\n",
    "dataset_train.load_drone(dataset_dir=\"dataset\", subset=\"train\")\n",
    "dataset_train.prepare()\n",
    "\n",
    "dataset_val = DroneDataset()\n",
    "dataset_val.load_drone(dataset_dir=\"dataset\", subset=\"val\")\n",
    "dataset_val.prepare()\n",
    "\n",
    "total_epochs = 30\n",
    "model.train(dataset_train, dataset_val,\n",
    "            learning_rate=config.LEARNING_RATE / 10,\n",
    "            epochs=total_epochs,\n",
    "            layers='heads')"
   ]
  },
  {
   "cell_type": "code",
   "execution_count": 1,
   "id": "68385f25",
   "metadata": {},
   "outputs": [
    {
     "data": {
      "image/png": "[encoded data removed]",
      "text/plain": [
       "<Figure size 720x432 with 1 Axes>"
      ]
     },
     "metadata": {
      "needs_background": "light"
     },
     "output_type": "display_data"
    }
   ],
   "source": [
    "import matplotlib.pyplot as plt\n",
    "\n",
    "# Données des époques\n",
    "epochs = range(1, 11)\n",
    "\n",
    "# Pertes d'entraînement et de validation\n",
    "loss = [9.0770, 2.8810, 2.3637, 1.9342, 1.8540, 1.6523, 1.8279, 1.7547, 1.3570, 1.4083]\n",
    "val_loss = [2.2946, 1.9952, 1.6916, 1.8040, 1.6155, 1.9248, 1.6830, 1.5038, 1.5291, 1.7303]\n",
    "\n",
    "# Tracer les courbes de pertes\n",
    "plt.figure(figsize=(10, 6))  \n",
    "plt.plot(epochs, loss, label='Refinement Loss')\n",
    "plt.plot(epochs, val_loss, label='Validation Loss')\n",
    "plt.xlabel('Epochs')\n",
    "plt.ylabel('Loss')\n",
    "plt.title('Refinement and Validation Loss')\n",
    "plt.legend()\n",
    "plt.show()\n",
    "\n"
   ]
  },
  {
   "cell_type": "code",
   "execution_count": null,
   "id": "d205589b",
   "metadata": {},
   "outputs": [],
   "source": []
  }
 ],
 "metadata": {
  "kernelspec": {
   "display_name": "Python 3",
   "language": "python",
   "name": "python3"
  },
  "language_info": {
   "codemirror_mode": {
    "name": "ipython",
    "version": 3
   },
   "file_extension": ".py",
   "mimetype": "text/x-python",
   "name": "python",
   "nbconvert_exporter": "python",
   "pygments_lexer": "ipython3",
   "version": "3.6.6"
  }
 },
 "nbformat": 4,
 "nbformat_minor": 5
}
