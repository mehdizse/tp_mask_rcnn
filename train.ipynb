{
 "cells": [
  {
   "cell_type": "code",
   "execution_count": 1,
   "id": "3c29a0bc",
   "metadata": {},
   "outputs": [
    {
     "name": "stdout",
     "output_type": "stream",
     "text": [
      "Python 3.6.6\n"
     ]
    }
   ],
   "source": [
    "!python --version"
   ]
  },
  {
   "cell_type": "code",
   "execution_count": 2,
   "id": "e9cd3caa",
   "metadata": {},
   "outputs": [],
   "source": [
    "import os\n",
    "os.environ[\"CUDA_VISIBLE_DEVICES\"] = \"-1\"  # Désactive le GPU et utilise le CPU uniquement car pas de GPU\n"
   ]
  },
  {
   "cell_type": "code",
   "execution_count": 3,
   "id": "44b1b000",
   "metadata": {},
   "outputs": [
    {
     "name": "stdout",
     "output_type": "stream",
     "text": [
      "TensorFlow version: 1.15.0\n",
      "scikit-image version: 0.17.2\n",
      "Keras version: 2.1.6\n"
     ]
    },
    {
     "name": "stderr",
     "output_type": "stream",
     "text": [
      "Using TensorFlow backend.\n"
     ]
    }
   ],
   "source": [
    "import tensorflow as tf\n",
    "import skimage\n",
    "import keras\n",
    "\n",
    "print(\"TensorFlow version:\", tf.__version__)\n",
    "print(\"scikit-image version:\", skimage.__version__)\n",
    "print(\"Keras version:\", keras.__version__)\n"
   ]
  },
  {
   "cell_type": "code",
   "execution_count": 4,
   "id": "735060c9",
   "metadata": {
    "scrolled": true
   },
   "outputs": [
    {
     "name": "stdout",
     "output_type": "stream",
     "text": [
      "No GPUs available\n"
     ]
    }
   ],
   "source": [
    "\n",
    "# List available GPUs\n",
    "gpus = tf.GPUOptions()\n",
    "\n",
    "# Check for available devices\n",
    "gpu_devices = tf.config.experimental.list_physical_devices('GPU') if hasattr(tf, 'config') else tf.test.gpu_device_name()\n",
    "\n",
    "# Print the number of available GPUs\n",
    "if gpu_devices:\n",
    "    print(\"Num GPUs Available: \", len(gpu_devices))\n",
    "else:\n",
    "    print(\"No GPUs available\")\n"
   ]
  },
  {
   "cell_type": "code",
   "execution_count": 5,
   "id": "6953e97f",
   "metadata": {},
   "outputs": [],
   "source": [
    "# GPU for training.\n",
    "DEVICE = \"/cpu:0\"  # /cpu:0 or /gpu:0"
   ]
  },
  {
   "cell_type": "code",
   "execution_count": 6,
   "id": "aa20866c",
   "metadata": {},
   "outputs": [],
   "source": [
    "import warnings\n",
    "warnings.filterwarnings('ignore')\n",
    "import os\n",
    "import sys\n",
    "import json\n",
    "import datetime\n",
    "import numpy as np\n",
    "import skimage.draw\n",
    "import cv2\n",
    "import random\n",
    "import math\n",
    "import re\n",
    "import time\n",
    "import tensorflow as tf\n",
    "import matplotlib.pyplot as plt\n",
    "import matplotlib.patches as patches\n",
    "import matplotlib.image as mpimg\n",
    "\n",
    "from mrcnn import utils\n",
    "from mrcnn import visualize\n",
    "from mrcnn.visualize import display_images\n",
    "from mrcnn.visualize import display_instances\n",
    "import mrcnn.model as modellib\n",
    "from mrcnn.model import log\n",
    "from mrcnn.config import Config\n",
    "from mrcnn import model as modellib, utils\n",
    "\n",
    "# Root directory of the project\n",
    "#ROOT_DIR = \"D:\\MRCNN_tensorflow2.7_env\\Mask-RCNN\"\n",
    "ROOT_DIR = os.getcwd()\n",
    "\n",
    "# Import Mask RCNN\n",
    "sys.path.append(ROOT_DIR)  # To find local version of the library\n",
    "\n",
    "\n",
    "# Path to trained weights file\n",
    "COCO_WEIGHTS_PATH = os.path.join(ROOT_DIR, \"mask_rcnn_coco.h5\")\n",
    "\n",
    "# Directory to save logs and model checkpoints, if not provided\n",
    "# through the command line argument --logs\n",
    "DEFAULT_LOGS_DIR = os.path.join(ROOT_DIR, \"logs\")"
   ]
  },
  {
   "cell_type": "code",
   "execution_count": 7,
   "id": "64c79eac",
   "metadata": {},
   "outputs": [],
   "source": [
    "from mrcnn.config import Config\n",
    "\n",
    "class DroneConfig(Config):\n",
    "    NAME = \"drone_detection\"\n",
    "    GPU_COUNT = 1  # Pas de GPU\n",
    "    IMAGES_PER_GPU = 1  # Une image à la fois sur le CPU\n",
    "    NUM_CLASSES = 1 + 1  # Background + classes \"drone\"\n",
    "    STEPS_PER_EPOCH = 100\n",
    "    DETECTION_MIN_CONFIDENCE = 0.9\n",
    "    CLASS_NAMES = [\"bg\", \"drone\"]\n",
    "    IMAGE_MAX_DIM = 512\n",
    "\n",
    "config = DroneConfig()"
   ]
  },
  {
   "cell_type": "code",
   "execution_count": 8,
   "id": "8336164e",
   "metadata": {},
   "outputs": [],
   "source": [
    "import os\n",
    "import json\n",
    "import numpy as np\n",
    "from skimage.io import imread\n",
    "from mrcnn.utils import Dataset\n",
    "from sklearn.model_selection import train_test_split\n",
    "from skimage.draw import polygon as draw_polygon  # Correctly import the draw_polygon function\n",
    "\n",
    "class DroneDataset(Dataset):\n",
    "    def load_drone(self, dataset_dir, subset):\n",
    "        \"\"\"\n",
    "        Load a subset of the drone dataset where each image has its own annotation JSON file.\n",
    "        Args:\n",
    "            dataset_dir: Root directory of the dataset.\n",
    "            subset: Subset to load (train/val/test).\n",
    "        \"\"\"\n",
    "        # Add a single class for \"drone\"\n",
    "        self.add_class(\"drone\", 1, \"drone\")\n",
    "        \n",
    "        # Define the directory for this subset (train/val/test)\n",
    "        subset_dir = os.path.join(dataset_dir, subset)\n",
    "        \n",
    "        # Define and check image and annotation directories\n",
    "        image_dir = os.path.join(subset_dir, \"images\")\n",
    "        annotation_dir = os.path.join(subset_dir, \"annotations\")\n",
    "        \n",
    "        if not os.path.exists(image_dir):\n",
    "            raise FileNotFoundError(f\"Image directory not found: {image_dir}\")\n",
    "        if not os.path.exists(annotation_dir):\n",
    "            raise FileNotFoundError(f\"Annotation directory not found: {annotation_dir}\")\n",
    "        \n",
    "        # List all image files in the subset directory\n",
    "        image_files = [f for f in os.listdir(image_dir) if f.lower().endswith((\".jpg\", \".png\"))]\n",
    "        \n",
    "        # Initialize an empty list to hold all annotations\n",
    "        annotations = []\n",
    "\n",
    "        # Iterate through image files and corresponding annotations\n",
    "        for image_file in image_files:\n",
    "            # Full path to image\n",
    "            image_path = os.path.join(image_dir, image_file)\n",
    "\n",
    "            # Extract the image ID (without file extension)\n",
    "            image_id = os.path.splitext(image_file)[0]\n",
    "\n",
    "            # Load the corresponding annotation JSON file\n",
    "            annotation_path = os.path.join(annotation_dir, f\"{image_id}.json\")\n",
    "            \n",
    "            if not os.path.exists(annotation_path):\n",
    "                print(f\"Warning: Annotation file not found for {image_file}\")\n",
    "                continue\n",
    "            \n",
    "            with open(annotation_path, 'r') as f:\n",
    "                annotation = json.load(f)\n",
    "\n",
    "            # Append the annotation to the annotations list\n",
    "            annotations.append(annotation)\n",
    "\n",
    "            # Extract image dimensions and annotations\n",
    "            width = annotation['imageWidth']\n",
    "            height = annotation['imageHeight']\n",
    "            polygons = annotation['shapes']  # Modify based on actual format in your annotation file\n",
    "\n",
    "            # Add the image and its annotations to the dataset\n",
    "            self.add_image(\n",
    "                \"drone\",\n",
    "                image_id=image_id,  # Use image file name (without extension) as the image_id\n",
    "                path=image_path,\n",
    "                width=width,\n",
    "                height=height,\n",
    "                annotations=polygons  # Pass the loaded annotations\n",
    "            )\n",
    "\n",
    "        # Split dataset if it's for training\n",
    "        if subset == \"train\":\n",
    "            train_anns, val_anns = train_test_split(annotations, test_size=0.2, random_state=42)\n",
    "            annotations = train_anns\n",
    "        elif subset == \"val\":\n",
    "            _, annotations = train_test_split(annotations, test_size=0.2, random_state=42)\n",
    "\n",
    "    def load_mask(self, image_id):\n",
    "        \"\"\"Generate instance masks for an image.\n",
    "        Args:\n",
    "            image_id: ID of the image to load.\n",
    "        Returns:\n",
    "            masks: A 3D array [height, width, instance count] with a binary mask per instance.\n",
    "            class_ids: A 1D array of class IDs corresponding to the instances.\n",
    "            bboxes: A list of bounding boxes for each mask.\n",
    "        \"\"\"\n",
    "        # Get image info\n",
    "        info = self.image_info[image_id]\n",
    "        annotations = info['annotations']\n",
    "\n",
    "        # Height and width of the image\n",
    "        height = info['height']\n",
    "        width = info['width']\n",
    "\n",
    "        # Initialize mask array: one binary mask per instance\n",
    "        masks = np.zeros([height, width, len(annotations)], dtype=np.uint8)\n",
    "\n",
    "        # Class IDs array (we only have one class, \"drone\")\n",
    "        class_ids = np.ones([len(annotations)], dtype=np.int32)\n",
    "\n",
    "        # List to hold bounding boxes\n",
    "        bboxes = []\n",
    "\n",
    "        # Loop over each annotation (polygon or mask)\n",
    "        for i, annotation in enumerate(annotations):\n",
    "            # Get the polygon points for the object\n",
    "            polygon = annotation['points']  # Modify based on your annotation file structure\n",
    "\n",
    "            # Convert polygon to a binary mask using the class method\n",
    "            mask = self.polygon_to_mask(polygon, height, width)\n",
    "            masks[:, :, i] = mask  # Assign the binary mask for the object\n",
    "\n",
    "            # Get bounding box\n",
    "            x_min = min(p[0] for p in polygon)\n",
    "            y_min = min(p[1] for p in polygon)\n",
    "            x_max = max(p[0] for p in polygon)\n",
    "            y_max = max(p[1] for p in polygon)\n",
    "            bboxes.append([y_min, x_min, y_max, x_max])\n",
    "\n",
    "        return masks, class_ids\n",
    "\n",
    "    def polygon_to_mask(self, polygon, height, width):\n",
    "        \"\"\"Helper function to convert a polygon into a binary mask.\n",
    "        Args:\n",
    "            polygon: List of polygon points in [(x1, y1), (x2, y2), ...] format.\n",
    "            height, width: Dimensions of the mask.\n",
    "        Returns:\n",
    "            mask: A binary mask with the polygon area set to 1.\n",
    "        \"\"\"\n",
    "        # Create an empty mask\n",
    "        mask = np.zeros((height, width), dtype=np.uint8)\n",
    "\n",
    "        # Separate x and y coordinates from the polygon points\n",
    "        poly_x = [p[0] for p in polygon]\n",
    "        poly_y = [p[1] for p in polygon]\n",
    "\n",
    "        # Draw the polygon on the mask\n",
    "        rr, cc = draw_polygon(poly_y, poly_x, shape=(height, width))\n",
    "        mask[rr, cc] = 1\n",
    "\n",
    "        return mask\n"
   ]
  },
  {
   "cell_type": "code",
   "execution_count": 9,
   "id": "49af9499",
   "metadata": {},
   "outputs": [
    {
     "name": "stdout",
     "output_type": "stream",
     "text": [
      "Current Working Directory: C:\\Users\\GHO\\Mask_RCNN\n"
     ]
    }
   ],
   "source": [
    "import os\n",
    "print(\"Current Working Directory:\", os.getcwd())"
   ]
  },
  {
   "cell_type": "code",
   "execution_count": 10,
   "id": "cb3a7a88",
   "metadata": {},
   "outputs": [
    {
     "name": "stdout",
     "output_type": "stream",
     "text": [
      "Warning: Annotation file not found for foto14733.jpg\n",
      "Warning: Annotation file not found for foto14762.jpg\n",
      "Warning: Annotation file not found for foto14791.jpg\n",
      "Warning: Annotation file not found for foto14820.jpg\n",
      "Warning: Annotation file not found for scene00046.jpg\n",
      "Mask shape: (683, 1024, 1)\n",
      "Class IDs: [1]\n"
     ]
    }
   ],
   "source": [
    "\n",
    "\n",
    "dataset = DroneDataset()\n",
    "dataset_dir = os.path.join(os.getcwd(), \"Mask_RCNN\")\n",
    "\n",
    "dataset.load_drone(dataset_dir=\"dataset\", subset=\"train\")\n",
    "\n",
    "image_id = 7  # Test with the first image\n",
    "image = dataset.load_image(image_id)\n",
    "\n",
    "# Correctly unpack the three values returned by load_mask\n",
    "mask, class_ids = dataset.load_mask(image_id)\n",
    "\n",
    "# Print the results to check correctness\n",
    "print(\"Mask shape:\", mask.shape)\n",
    "print(\"Class IDs:\", class_ids)\n"
   ]
  },
  {
   "cell_type": "code",
   "execution_count": 11,
   "id": "1057d822",
   "metadata": {},
   "outputs": [
    {
     "data": {
      "image/png": "[encoded data removed]",
      "text/plain": [
       "<Figure size 432x288 with 1 Axes>"
      ]
     },
     "metadata": {
      "needs_background": "light"
     },
     "output_type": "display_data"
    },
    {
     "data": {
      "image/png": "[encoded data removed]",
      "text/plain": [
       "<Figure size 432x288 with 1 Axes>"
      ]
     },
     "metadata": {
      "needs_background": "light"
     },
     "output_type": "display_data"
    }
   ],
   "source": [
    "import matplotlib.pyplot as plt\n",
    "\n",
    "# Visualize an image and its mask\n",
    "image = dataset.load_image(image_id)\n",
    "mask, class_ids = dataset.load_mask(image_id)\n",
    "\n",
    "# Show the image\n",
    "plt.imshow(image)\n",
    "plt.title(f\"Image {image_id}\")\n",
    "plt.show()\n",
    "\n",
    "# Show the masks\n",
    "for i in range(mask.shape[-1]):\n",
    "    plt.imshow(mask[:, :, i], cmap='gray')\n",
    "    plt.title(f\"Mask {i} for Image {image_id} (Class ID: {class_ids[i]})\")\n",
    "    plt.show()\n"
   ]
  },
  {
   "cell_type": "code",
   "execution_count": 12,
   "id": "8cdea50a",
   "metadata": {},
   "outputs": [
    {
     "name": "stdout",
     "output_type": "stream",
     "text": [
      "WARNING:tensorflow:From c:\\users\\gho\\maskrcnn_env\\lib\\site-packages\\keras\\backend\\tensorflow_backend.py:508: The name tf.placeholder is deprecated. Please use tf.compat.v1.placeholder instead.\n",
      "\n",
      "WARNING:tensorflow:From c:\\users\\gho\\maskrcnn_env\\lib\\site-packages\\keras\\backend\\tensorflow_backend.py:68: The name tf.get_default_graph is deprecated. Please use tf.compat.v1.get_default_graph instead.\n",
      "\n",
      "WARNING:tensorflow:From c:\\users\\gho\\maskrcnn_env\\lib\\site-packages\\keras\\backend\\tensorflow_backend.py:3837: The name tf.random_uniform is deprecated. Please use tf.random.uniform instead.\n",
      "\n",
      "WARNING:tensorflow:From c:\\users\\gho\\maskrcnn_env\\lib\\site-packages\\keras\\backend\\tensorflow_backend.py:3661: The name tf.nn.max_pool is deprecated. Please use tf.nn.max_pool2d instead.\n",
      "\n",
      "WARNING:tensorflow:From c:\\users\\gho\\maskrcnn_env\\lib\\site-packages\\keras\\backend\\tensorflow_backend.py:1944: The name tf.image.resize_nearest_neighbor is deprecated. Please use tf.compat.v1.image.resize_nearest_neighbor instead.\n",
      "\n",
      "WARNING:tensorflow:From c:\\users\\gho\\maskrcnn_env\\lib\\site-packages\\tensorflow_core\\python\\ops\\array_ops.py:1475: where (from tensorflow.python.ops.array_ops) is deprecated and will be removed in a future version.\n",
      "Instructions for updating:\n",
      "Use tf.where in 2.0, which has the same broadcast rule as np.where\n",
      "WARNING:tensorflow:From C:\\Users\\GHO\\Mask_RCNN\\mrcnn\\model.py:553: The name tf.random_shuffle is deprecated. Please use tf.random.shuffle instead.\n",
      "\n",
      "WARNING:tensorflow:From C:\\Users\\GHO\\Mask_RCNN\\mrcnn\\utils.py:202: The name tf.log is deprecated. Please use tf.math.log instead.\n",
      "\n",
      "WARNING:tensorflow:From C:\\Users\\GHO\\Mask_RCNN\\mrcnn\\model.py:600: calling crop_and_resize_v1 (from tensorflow.python.ops.image_ops_impl) with box_ind is deprecated and will be removed in a future version.\n",
      "Instructions for updating:\n",
      "box_ind is deprecated, use box_indices instead\n"
     ]
    }
   ],
   "source": [
    "# Import the model\n",
    "from mrcnn.model import MaskRCNN\n",
    "\n",
    "# Create a new Mask R-CNN model in training mode\n",
    "model = MaskRCNN(mode=\"training\", config=config, model_dir=\"./logs\")\n",
    "\n",
    "# Load pre-trained weights (exclude layers that don't match our classes)\n",
    "model.load_weights(\"mask_rcnn_coco.h5\", by_name=True, exclude=[\n",
    "    \"mrcnn_class_logits\", \"mrcnn_bbox_fc\", \"mrcnn_bbox\", \"mrcnn_mask\"])\n"
   ]
  },
  {
   "cell_type": "code",
   "execution_count": 13,
   "id": "0df45253",
   "metadata": {},
   "outputs": [
    {
     "name": "stdout",
     "output_type": "stream",
     "text": [
      "Warning: Annotation file not found for foto14733.jpg\n",
      "Warning: Annotation file not found for foto14762.jpg\n",
      "Warning: Annotation file not found for foto14791.jpg\n",
      "Warning: Annotation file not found for foto14820.jpg\n",
      "Warning: Annotation file not found for scene00046.jpg\n"
     ]
    }
   ],
   "source": [
    "import os\n",
    "# Prepare the training dataset (80% of the data)\n",
    "train_dataset = DroneDataset()\n",
    "train_dataset.load_drone(dataset_dir=\"dataset\", subset=\"train\")\n",
    "train_dataset.prepare()\n",
    "\n",
    "# Prepare the validation dataset (20% of the data)\n",
    "val_dataset = DroneDataset()\n",
    "val_dataset.load_drone(dataset_dir=\"dataset\", subset=\"val\")\n",
    "val_dataset.prepare()\n"
   ]
  },
  {
   "cell_type": "code",
   "execution_count": 14,
   "id": "496dff1c",
   "metadata": {
    "scrolled": true
   },
   "outputs": [
    {
     "name": "stdout",
     "output_type": "stream",
     "text": [
      "\n",
      "Starting at epoch 0. LR=0.001\n",
      "\n",
      "Checkpoint Path: ./logs\\drone_detection20241123T1349\\mask_rcnn_drone_detection_{epoch:04d}.h5\n",
      "Selecting layers to train\n",
      "fpn_c5p5               (Conv2D)\n",
      "fpn_c4p4               (Conv2D)\n",
      "fpn_c3p3               (Conv2D)\n",
      "fpn_c2p2               (Conv2D)\n",
      "fpn_p5                 (Conv2D)\n",
      "fpn_p2                 (Conv2D)\n",
      "fpn_p3                 (Conv2D)\n",
      "fpn_p4                 (Conv2D)\n",
      "In model:  rpn_model\n",
      "    rpn_conv_shared        (Conv2D)\n",
      "    rpn_class_raw          (Conv2D)\n",
      "    rpn_bbox_pred          (Conv2D)\n",
      "mrcnn_mask_conv1       (TimeDistributed)\n",
      "mrcnn_mask_bn1         (TimeDistributed)\n",
      "mrcnn_mask_conv2       (TimeDistributed)\n",
      "mrcnn_mask_bn2         (TimeDistributed)\n",
      "mrcnn_class_conv1      (TimeDistributed)\n",
      "mrcnn_class_bn1        (TimeDistributed)\n",
      "mrcnn_mask_conv3       (TimeDistributed)\n",
      "mrcnn_mask_bn3         (TimeDistributed)\n",
      "mrcnn_class_conv2      (TimeDistributed)\n",
      "mrcnn_class_bn2        (TimeDistributed)\n",
      "mrcnn_mask_conv4       (TimeDistributed)\n",
      "mrcnn_mask_bn4         (TimeDistributed)\n",
      "mrcnn_bbox_fc          (TimeDistributed)\n",
      "mrcnn_mask_deconv      (TimeDistributed)\n",
      "mrcnn_class_logits     (TimeDistributed)\n",
      "mrcnn_mask             (TimeDistributed)\n",
      "WARNING:tensorflow:From c:\\users\\gho\\maskrcnn_env\\lib\\site-packages\\keras\\optimizers.py:757: The name tf.train.Optimizer is deprecated. Please use tf.compat.v1.train.Optimizer instead.\n",
      "\n",
      "WARNING:tensorflow:From c:\\users\\gho\\maskrcnn_env\\lib\\site-packages\\keras\\backend\\tensorflow_backend.py:977: The name tf.assign_add is deprecated. Please use tf.compat.v1.assign_add instead.\n",
      "\n",
      "WARNING:tensorflow:From c:\\users\\gho\\maskrcnn_env\\lib\\site-packages\\keras\\backend\\tensorflow_backend.py:964: The name tf.assign is deprecated. Please use tf.compat.v1.assign instead.\n",
      "\n",
      "WARNING:tensorflow:From c:\\users\\gho\\maskrcnn_env\\lib\\site-packages\\keras\\backend\\tensorflow_backend.py:2503: The name tf.Session is deprecated. Please use tf.compat.v1.Session instead.\n",
      "\n",
      "WARNING:tensorflow:From c:\\users\\gho\\maskrcnn_env\\lib\\site-packages\\keras\\backend\\tensorflow_backend.py:168: The name tf.get_default_session is deprecated. Please use tf.compat.v1.get_default_session instead.\n",
      "\n",
      "WARNING:tensorflow:From c:\\users\\gho\\maskrcnn_env\\lib\\site-packages\\keras\\backend\\tensorflow_backend.py:175: The name tf.ConfigProto is deprecated. Please use tf.compat.v1.ConfigProto instead.\n",
      "\n",
      "WARNING:tensorflow:From c:\\users\\gho\\maskrcnn_env\\lib\\site-packages\\keras\\backend\\tensorflow_backend.py:184: The name tf.global_variables is deprecated. Please use tf.compat.v1.global_variables instead.\n",
      "\n",
      "WARNING:tensorflow:From c:\\users\\gho\\maskrcnn_env\\lib\\site-packages\\keras\\backend\\tensorflow_backend.py:193: The name tf.is_variable_initialized is deprecated. Please use tf.compat.v1.is_variable_initialized instead.\n",
      "\n",
      "WARNING:tensorflow:From c:\\users\\gho\\maskrcnn_env\\lib\\site-packages\\keras\\backend\\tensorflow_backend.py:200: The name tf.variables_initializer is deprecated. Please use tf.compat.v1.variables_initializer instead.\n",
      "\n",
      "WARNING:tensorflow:From c:\\users\\gho\\maskrcnn_env\\lib\\site-packages\\keras\\callbacks.py:783: The name tf.summary.merge_all is deprecated. Please use tf.compat.v1.summary.merge_all instead.\n",
      "\n",
      "WARNING:tensorflow:From c:\\users\\gho\\maskrcnn_env\\lib\\site-packages\\keras\\callbacks.py:786: The name tf.summary.FileWriter is deprecated. Please use tf.compat.v1.summary.FileWriter instead.\n",
      "\n",
      "Epoch 1/20\n",
      "100/100 [==============================] - 1976s 20s/step - loss: 14.4516 - rpn_class_loss: 1.6443 - rpn_bbox_loss: 12.3215 - mrcnn_class_loss: 0.1037 - mrcnn_bbox_loss: 0.3179 - mrcnn_mask_loss: 0.0641 - val_loss: 9.1481 - val_rpn_class_loss: 0.2462 - val_rpn_bbox_loss: 7.2285 - val_mrcnn_class_loss: 1.7263e-04 - val_mrcnn_bbox_loss: 1.3038 - val_mrcnn_mask_loss: 0.3694\n",
      "WARNING:tensorflow:From c:\\users\\gho\\maskrcnn_env\\lib\\site-packages\\keras\\callbacks.py:869: The name tf.Summary is deprecated. Please use tf.compat.v1.Summary instead.\n",
      "\n",
      "Epoch 2/20\n",
      "100/100 [==============================] - 2024s 20s/step - loss: 8.2569 - rpn_class_loss: 0.4929 - rpn_bbox_loss: 7.1802 - mrcnn_class_loss: 9.4921e-06 - mrcnn_bbox_loss: 0.4978 - mrcnn_mask_loss: 0.0860 - val_loss: 8.8341 - val_rpn_class_loss: 0.2389 - val_rpn_bbox_loss: 7.8671 - val_mrcnn_class_loss: 6.7931e-04 - val_mrcnn_bbox_loss: 0.5642 - val_mrcnn_mask_loss: 0.1632\n",
      "Epoch 3/20\n",
      "100/100 [==============================] - 2035s 20s/step - loss: 6.7783 - rpn_class_loss: 0.4053 - rpn_bbox_loss: 5.9891 - mrcnn_class_loss: 0.0017 - mrcnn_bbox_loss: 0.3124 - mrcnn_mask_loss: 0.0699 - val_loss: 5.2290 - val_rpn_class_loss: 0.1881 - val_rpn_bbox_loss: 4.5504 - val_mrcnn_class_loss: 1.2336e-05 - val_mrcnn_bbox_loss: 0.3903 - val_mrcnn_mask_loss: 0.1002\n",
      "Epoch 4/20\n",
      "100/100 [==============================] - 2047s 20s/step - loss: 4.2977 - rpn_class_loss: 0.2462 - rpn_bbox_loss: 3.6794 - mrcnn_class_loss: 2.9041e-06 - mrcnn_bbox_loss: 0.2874 - mrcnn_mask_loss: 0.0846 - val_loss: 5.3369 - val_rpn_class_loss: 0.1642 - val_rpn_bbox_loss: 3.3705 - val_mrcnn_class_loss: 0.0023 - val_mrcnn_bbox_loss: 1.4574 - val_mrcnn_mask_loss: 0.3425\n",
      "Epoch 5/20\n",
      "100/100 [==============================] - 2044s 20s/step - loss: 3.3512 - rpn_class_loss: 0.2273 - rpn_bbox_loss: 2.8154 - mrcnn_class_loss: 1.3753e-07 - mrcnn_bbox_loss: 0.2542 - mrcnn_mask_loss: 0.0543 - val_loss: 2.6433 - val_rpn_class_loss: 0.1879 - val_rpn_bbox_loss: 2.4554 - val_mrcnn_class_loss: 0.0000e+00 - val_mrcnn_bbox_loss: 0.0000e+00 - val_mrcnn_mask_loss: 0.0000e+00\n",
      "Epoch 6/20\n",
      "100/100 [==============================] - 2052s 21s/step - loss: 2.7660 - rpn_class_loss: 0.1334 - rpn_bbox_loss: 2.1805 - mrcnn_class_loss: 4.6298e-04 - mrcnn_bbox_loss: 0.3813 - mrcnn_mask_loss: 0.0703 - val_loss: 2.2224 - val_rpn_class_loss: 0.0983 - val_rpn_bbox_loss: 1.1945 - val_mrcnn_class_loss: 0.0012 - val_mrcnn_bbox_loss: 0.8710 - val_mrcnn_mask_loss: 0.0573\n",
      "Epoch 7/20\n",
      "100/100 [==============================] - 2048s 20s/step - loss: 2.1746 - rpn_class_loss: 0.1599 - rpn_bbox_loss: 1.2903 - mrcnn_class_loss: 0.0015 - mrcnn_bbox_loss: 0.6528 - mrcnn_mask_loss: 0.0700 - val_loss: 1.0080 - val_rpn_class_loss: 0.0729 - val_rpn_bbox_loss: 0.9352 - val_mrcnn_class_loss: 0.0000e+00 - val_mrcnn_bbox_loss: 0.0000e+00 - val_mrcnn_mask_loss: 0.0000e+00\n",
      "Epoch 8/20\n",
      "100/100 [==============================] - 2041s 20s/step - loss: 1.8516 - rpn_class_loss: 0.1320 - rpn_bbox_loss: 0.9458 - mrcnn_class_loss: 0.0102 - mrcnn_bbox_loss: 0.6848 - mrcnn_mask_loss: 0.0789 - val_loss: 4.2507 - val_rpn_class_loss: 0.0979 - val_rpn_bbox_loss: 0.6555 - val_mrcnn_class_loss: 0.0866 - val_mrcnn_bbox_loss: 2.8276 - val_mrcnn_mask_loss: 0.5830\n",
      "Epoch 9/20\n",
      "100/100 [==============================] - 2048s 20s/step - loss: 2.5367 - rpn_class_loss: 0.1164 - rpn_bbox_loss: 1.0009 - mrcnn_class_loss: 0.0126 - mrcnn_bbox_loss: 1.1772 - mrcnn_mask_loss: 0.2296 - val_loss: 1.2310 - val_rpn_class_loss: 0.0869 - val_rpn_bbox_loss: 0.7775 - val_mrcnn_class_loss: 0.0017 - val_mrcnn_bbox_loss: 0.3199 - val_mrcnn_mask_loss: 0.0448\n",
      "Epoch 10/20\n",
      "100/100 [==============================] - 2056s 21s/step - loss: 1.9750 - rpn_class_loss: 0.0714 - rpn_bbox_loss: 0.7888 - mrcnn_class_loss: 0.0155 - mrcnn_bbox_loss: 0.9052 - mrcnn_mask_loss: 0.1941 - val_loss: 1.9927 - val_rpn_class_loss: 0.1055 - val_rpn_bbox_loss: 0.8441 - val_mrcnn_class_loss: 0.0039 - val_mrcnn_bbox_loss: 0.8146 - val_mrcnn_mask_loss: 0.2246\n",
      "Epoch 11/20\n",
      "100/100 [==============================] - 2062s 21s/step - loss: 2.0846 - rpn_class_loss: 0.1182 - rpn_bbox_loss: 0.8727 - mrcnn_class_loss: 0.0169 - mrcnn_bbox_loss: 0.8177 - mrcnn_mask_loss: 0.2590 - val_loss: 1.9265 - val_rpn_class_loss: 0.0826 - val_rpn_bbox_loss: 0.9277 - val_mrcnn_class_loss: 0.0049 - val_mrcnn_bbox_loss: 0.7603 - val_mrcnn_mask_loss: 0.1510\n",
      "Epoch 12/20\n",
      "100/100 [==============================] - 2065s 21s/step - loss: 2.1384 - rpn_class_loss: 0.0662 - rpn_bbox_loss: 0.6953 - mrcnn_class_loss: 0.0408 - mrcnn_bbox_loss: 0.9264 - mrcnn_mask_loss: 0.4097 - val_loss: 2.0286 - val_rpn_class_loss: 0.0674 - val_rpn_bbox_loss: 0.7360 - val_mrcnn_class_loss: 0.0175 - val_mrcnn_bbox_loss: 0.8841 - val_mrcnn_mask_loss: 0.3236\n",
      "Epoch 13/20\n"
     ]
    },
    {
     "name": "stdout",
     "output_type": "stream",
     "text": [
      "100/100 [==============================] - 2085s 21s/step - loss: 1.9251 - rpn_class_loss: 0.0621 - rpn_bbox_loss: 0.6757 - mrcnn_class_loss: 0.0459 - mrcnn_bbox_loss: 0.7235 - mrcnn_mask_loss: 0.4179 - val_loss: 2.4443 - val_rpn_class_loss: 0.0574 - val_rpn_bbox_loss: 0.7706 - val_mrcnn_class_loss: 0.0832 - val_mrcnn_bbox_loss: 1.0004 - val_mrcnn_mask_loss: 0.5328\n",
      "Epoch 14/20\n",
      "100/100 [==============================] - 2073s 21s/step - loss: 1.9702 - rpn_class_loss: 0.0998 - rpn_bbox_loss: 0.7395 - mrcnn_class_loss: 0.0348 - mrcnn_bbox_loss: 0.6584 - mrcnn_mask_loss: 0.4378 - val_loss: 1.8525 - val_rpn_class_loss: 0.0557 - val_rpn_bbox_loss: 0.5723 - val_mrcnn_class_loss: 0.0380 - val_mrcnn_bbox_loss: 0.6970 - val_mrcnn_mask_loss: 0.4895\n",
      "Epoch 15/20\n",
      "100/100 [==============================] - 2074s 21s/step - loss: 1.6521 - rpn_class_loss: 0.0678 - rpn_bbox_loss: 0.5164 - mrcnn_class_loss: 0.0379 - mrcnn_bbox_loss: 0.5804 - mrcnn_mask_loss: 0.4498 - val_loss: 1.8747 - val_rpn_class_loss: 0.0762 - val_rpn_bbox_loss: 0.7538 - val_mrcnn_class_loss: 0.0227 - val_mrcnn_bbox_loss: 0.5545 - val_mrcnn_mask_loss: 0.4675\n",
      "Epoch 16/20\n",
      "100/100 [==============================] - 2071s 21s/step - loss: 1.8095 - rpn_class_loss: 0.1174 - rpn_bbox_loss: 0.7754 - mrcnn_class_loss: 0.0217 - mrcnn_bbox_loss: 0.5077 - mrcnn_mask_loss: 0.3872 - val_loss: 1.7577 - val_rpn_class_loss: 0.0602 - val_rpn_bbox_loss: 0.5691 - val_mrcnn_class_loss: 0.0562 - val_mrcnn_bbox_loss: 0.6175 - val_mrcnn_mask_loss: 0.4548\n",
      "Epoch 17/20\n",
      "100/100 [==============================] - 2090s 21s/step - loss: 1.6503 - rpn_class_loss: 0.1171 - rpn_bbox_loss: 0.8669 - mrcnn_class_loss: 0.0181 - mrcnn_bbox_loss: 0.3938 - mrcnn_mask_loss: 0.2544 - val_loss: 1.5852 - val_rpn_class_loss: 0.1118 - val_rpn_bbox_loss: 0.6865 - val_mrcnn_class_loss: 0.0228 - val_mrcnn_bbox_loss: 0.4545 - val_mrcnn_mask_loss: 0.3096\n",
      "Epoch 18/20\n",
      "100/100 [==============================] - 2120s 21s/step - loss: 1.7661 - rpn_class_loss: 0.0714 - rpn_bbox_loss: 0.5855 - mrcnn_class_loss: 0.0439 - mrcnn_bbox_loss: 0.5844 - mrcnn_mask_loss: 0.4809 - val_loss: 1.6656 - val_rpn_class_loss: 0.0488 - val_rpn_bbox_loss: 0.8356 - val_mrcnn_class_loss: 0.0231 - val_mrcnn_bbox_loss: 0.3959 - val_mrcnn_mask_loss: 0.3621\n",
      "Epoch 19/20\n",
      "100/100 [==============================] - 2114s 21s/step - loss: 1.7817 - rpn_class_loss: 0.1053 - rpn_bbox_loss: 0.6488 - mrcnn_class_loss: 0.0438 - mrcnn_bbox_loss: 0.5312 - mrcnn_mask_loss: 0.4527 - val_loss: 1.7090 - val_rpn_class_loss: 0.0701 - val_rpn_bbox_loss: 0.7716 - val_mrcnn_class_loss: 0.0178 - val_mrcnn_bbox_loss: 0.4515 - val_mrcnn_mask_loss: 0.3980\n",
      "Epoch 20/20\n",
      "100/100 [==============================] - 2109s 21s/step - loss: 1.6875 - rpn_class_loss: 0.0982 - rpn_bbox_loss: 0.7889 - mrcnn_class_loss: 0.0242 - mrcnn_bbox_loss: 0.4335 - mrcnn_mask_loss: 0.3426 - val_loss: 1.7234 - val_rpn_class_loss: 0.0644 - val_rpn_bbox_loss: 0.5208 - val_mrcnn_class_loss: 0.0359 - val_mrcnn_bbox_loss: 0.6233 - val_mrcnn_mask_loss: 0.4789\n"
     ]
    }
   ],
   "source": [
    "model.train(train_dataset, val_dataset, \n",
    "            learning_rate=config.LEARNING_RATE, \n",
    "            epochs=20, \n",
    "            layers='heads')\n",
    "model.keras_model.save_weights(\"model.h5\")"
   ]
  },
  {
   "cell_type": "code",
   "execution_count": null,
   "id": "99796c5f",
   "metadata": {},
   "outputs": [],
   "source": [
    "import tensorflow as tf\n",
    "from tensorflow.python.client import device_lib\n",
    "\n",
    "# Print available devices\n",
    "print(device_lib.list_local_devices())\n"
   ]
  },
  {
   "cell_type": "code",
   "execution_count": 14,
   "id": "07cc2963",
   "metadata": {},
   "outputs": [
    {
     "name": "stdout",
     "output_type": "stream",
     "text": [
      "Model Configuration:\n",
      "\n",
      "Configurations:\n",
      "BACKBONE                       resnet101\n",
      "BACKBONE_STRIDES               [4, 8, 16, 32, 64]\n",
      "BATCH_SIZE                     1\n",
      "BBOX_STD_DEV                   [0.1 0.1 0.2 0.2]\n",
      "COMPUTE_BACKBONE_SHAPE         None\n",
      "DETECTION_MAX_INSTANCES        100\n",
      "DETECTION_MIN_CONFIDENCE       0.9\n",
      "DETECTION_NMS_THRESHOLD        0.3\n",
      "FPN_CLASSIF_FC_LAYERS_SIZE     1024\n",
      "GPU_COUNT                      1\n",
      "GRADIENT_CLIP_NORM             5.0\n",
      "IMAGES_PER_GPU                 1\n",
      "IMAGE_CHANNEL_COUNT            3\n",
      "IMAGE_MAX_DIM                  1024\n",
      "IMAGE_META_SIZE                14\n",
      "IMAGE_MIN_DIM                  800\n",
      "IMAGE_MIN_SCALE                0\n",
      "IMAGE_RESIZE_MODE              square\n",
      "IMAGE_SHAPE                    [1024 1024    3]\n",
      "LEARNING_MOMENTUM              0.9\n",
      "LEARNING_RATE                  0.001\n",
      "LOSS_WEIGHTS                   {'rpn_class_loss': 1.0, 'rpn_bbox_loss': 1.0, 'mrcnn_class_loss': 1.0, 'mrcnn_bbox_loss': 1.0, 'mrcnn_mask_loss': 1.0}\n",
      "MASK_POOL_SIZE                 14\n",
      "MASK_SHAPE                     [28, 28]\n",
      "MAX_GT_INSTANCES               100\n",
      "MEAN_PIXEL                     [123.7 116.8 103.9]\n",
      "MINI_MASK_SHAPE                (56, 56)\n",
      "NAME                           drone_detection\n",
      "NUM_CLASSES                    2\n",
      "POOL_SIZE                      7\n",
      "POST_NMS_ROIS_INFERENCE        1000\n",
      "POST_NMS_ROIS_TRAINING         2000\n",
      "PRE_NMS_LIMIT                  6000\n",
      "ROI_POSITIVE_RATIO             0.33\n",
      "RPN_ANCHOR_RATIOS              [0.5, 1, 2]\n",
      "RPN_ANCHOR_SCALES              (32, 64, 128, 256, 512)\n",
      "RPN_ANCHOR_STRIDE              1\n",
      "RPN_BBOX_STD_DEV               [0.1 0.1 0.2 0.2]\n",
      "RPN_NMS_THRESHOLD              0.7\n",
      "RPN_TRAIN_ANCHORS_PER_IMAGE    256\n",
      "STEPS_PER_EPOCH                100\n",
      "TOP_DOWN_PYRAMID_SIZE          256\n",
      "TRAIN_BN                       False\n",
      "TRAIN_ROIS_PER_IMAGE           200\n",
      "USE_MINI_MASK                  True\n",
      "USE_RPN_ROIS                   True\n",
      "VALIDATION_STEPS               50\n",
      "WEIGHT_DECAY                   0.0001\n",
      "\n",
      "\n"
     ]
    }
   ],
   "source": [
    "print(\"Model Configuration:\")\n",
    "config.display()\n"
   ]
  },
  {
   "cell_type": "code",
   "execution_count": 15,
   "id": "e0a452cc",
   "metadata": {},
   "outputs": [
    {
     "data": {
      "image/png": "[encoded data removed]",
      "text/plain": [
       "<Figure size 720x432 with 1 Axes>"
      ]
     },
     "metadata": {
      "needs_background": "light"
     },
     "output_type": "display_data"
    }
   ],
   "source": [
    "import matplotlib.pyplot as plt\n",
    "\n",
    "# Données des époques\n",
    "epochs = range(1, 21)\n",
    "\n",
    "# Pertes d'entraînement et de validation\n",
    "loss = [1.2853, 0.8544, 0.7581, 0.7221, 0.6426, 0.5717, 0.5543, 0.5542, 0.4872, 0.5068, 0.4691, 0.4409, 0.4321, 0.4395, 0.4250, 0.4014, 0.3842, 0.3775, 0.3758, 0.3483]\n",
    "val_loss = [0.8718, 0.7624, 0.7146, 0.5829, 0.5818, 0.5869, 0.5067, 0.4581, 0.4982, 0.5011, 0.4527, 0.4155, 0.4035, 0.4061, 0.3938, 0.4079, 0.3794, 0.3727, 0.3642, 0.3492]\n",
    "\n",
    "# Tracer les courbes de pertes\n",
    "plt.figure(figsize=(10, 6))  \n",
    "plt.plot(epochs, loss, label='Training Loss')\n",
    "plt.plot(epochs, val_loss, label='Validation Loss')\n",
    "plt.xlabel('Epochs')\n",
    "plt.ylabel('Loss')\n",
    "plt.title('Training and Validation Loss')\n",
    "plt.legend()\n",
    "plt.show()\n"
   ]
  },
  {
   "cell_type": "code",
   "execution_count": 16,
   "id": "cfdf151a",
   "metadata": {},
   "outputs": [
    {
     "name": "stdout",
     "output_type": "stream",
     "text": [
      "Re-starting from epoch 1\n",
      "Re-starting from epoch 2\n",
      "Re-starting from epoch 3\n",
      "Re-starting from epoch 4\n",
      "Re-starting from epoch 5\n",
      "Re-starting from epoch 6\n",
      "Re-starting from epoch 7\n",
      "Re-starting from epoch 8\n",
      "Re-starting from epoch 9\n",
      "Re-starting from epoch 10\n",
      "Re-starting from epoch 11\n",
      "Re-starting from epoch 12\n",
      "Re-starting from epoch 13\n",
      "Re-starting from epoch 14\n",
      "Re-starting from epoch 15\n",
      "Re-starting from epoch 16\n",
      "Re-starting from epoch 17\n",
      "Re-starting from epoch 18\n",
      "Re-starting from epoch 19\n",
      "Re-starting from epoch 20\n"
     ]
    }
   ],
   "source": [
    "import tensorflow as tf\n",
    "from mrcnn.model import MaskRCNN\n",
    "\n",
    "# Initialiser une liste pour stocker les modèles\n",
    "models = []\n",
    "\n",
    "# Définir la structure de ton modèle\n",
    "def get_model():\n",
    "    model = MaskRCNN(mode=\"training\", config=config, model_dir=\"logs\")\n",
    "    return model\n",
    "\n",
    "# Charger les poids pour chaque époque\n",
    "for epoch in range(1, 21):\n",
    "    model_path = f'logs/drone_detection20241018T0748/mask_rcnn_drone_detection_{epoch:04d}.h5'\n",
    "    model = get_model()\n",
    "    model.load_weights(model_path, by_name=True)  \n",
    "    models.append(model)\n"
   ]
  },
  {
   "cell_type": "code",
   "execution_count": 17,
   "id": "bf1f2722",
   "metadata": {},
   "outputs": [],
   "source": [
    "import numpy as np\n",
    "from tqdm import tqdm\n",
    "\n",
    "def evaluer_drone_model(model, dataset, config):\n",
    "    \"\"\"\n",
    "    Évalue le modèle Mask R-CNN sur le DroneDataset\n",
    "    \"\"\"\n",
    "    print(\"Début de l'évaluation...\")\n",
    "    print(f\"Nombre d'images dans le dataset: {len(dataset.image_ids)}\")\n",
    "    \n",
    "    # Initialiser la matrice de confusion\n",
    "    num_classes = len(config.CLASS_NAMES)\n",
    "    confusion_matrix = np.zeros((num_classes, num_classes), dtype=np.int32)\n",
    "    \n",
    "    # Pour chaque image dans le dataset\n",
    "    for image_id in tqdm(dataset.image_ids):\n",
    "        # Charger l'image\n",
    "        image = dataset.load_image(image_id)\n",
    "        if image is None:\n",
    "            print(f\"Erreur: Impossible de charger l'image {image_id}\")\n",
    "            continue\n",
    "            \n",
    "        # Charger les masques et classes de vérité terrain\n",
    "        gt_masks, gt_class_ids = dataset.load_mask(image_id)\n",
    "        if gt_masks is None or len(gt_class_ids) == 0:\n",
    "            print(f\"Attention: Pas de masques trouvés pour l'image {image_id}\")\n",
    "            continue\n",
    "            \n",
    "        print(f\"\\nImage {image_id}:\")\n",
    "        print(f\"Classes vérité terrain: {gt_class_ids}\")\n",
    "        \n",
    "        # Faire les prédictions\n",
    "        # Assurez-vous que la taille du batch est 1 pour chaque image dans l'évaluation\n",
    "        config.BATCH_SIZE = 1\n",
    "        results = model.detect([image], verbose=0)[0]\n",
    "        pred_class_ids = results['class_ids']\n",
    "        pred_masks = results['masks']\n",
    "        scores = results['scores']\n",
    "        \n",
    "        print(f\"Classes prédites: {pred_class_ids}\")\n",
    "        print(f\"Scores: {scores}\")\n",
    "        \n",
    "        # Pour chaque prédiction, trouver la meilleure correspondance\n",
    "        for i, pred_class in enumerate(pred_class_ids):\n",
    "            best_iou = 0\n",
    "            best_gt_idx = -1\n",
    "            \n",
    "            # Comparer avec chaque masque de vérité terrain\n",
    "            for j, gt_class in enumerate(gt_class_ids):\n",
    "                pred_mask = pred_masks[:, :, i]\n",
    "                gt_mask = gt_masks[:, :, j]\n",
    "                \n",
    "                # Calculer IoU\n",
    "                iou = calculate_iou(pred_mask, gt_mask)\n",
    "                if iou > best_iou and iou >= 0.5:  # Seuil IoU de 0.5\n",
    "                    best_iou = iou\n",
    "                    best_gt_idx = j\n",
    "            \n",
    "            if best_gt_idx >= 0:\n",
    "                # Ajouter à la matrice de confusion\n",
    "                gt_class = gt_class_ids[best_gt_idx] - 1  # -1 car les classes commencent à 1\n",
    "                pred_class = pred_class - 1\n",
    "                confusion_matrix[gt_class, pred_class] += 1\n",
    "                print(f\"Match trouvé: Classe GT {gt_class+1} -> Pred {pred_class+1} (IoU: {best_iou:.3f})\")\n",
    "    \n",
    "    return confusion_matrix\n",
    "\n",
    "def calculate_iou(mask1, mask2):\n",
    "    \"\"\"\n",
    "    Calcule l'Intersection over Union entre deux masques\n",
    "    \"\"\"\n",
    "    intersection = np.logical_and(mask1, mask2).sum()\n",
    "    union = np.logical_or(mask1, mask2).sum()\n",
    "    if union == 0:\n",
    "        return 0\n",
    "    return intersection / union\n",
    "\n",
    "def afficher_metriques(confusion_matrix, class_names):\n",
    "    \"\"\"\n",
    "    Affiche les métriques pour chaque classe\n",
    "    \"\"\"\n",
    "    print(\"\\nMétriques par classe:\")\n",
    "    print(\"-\" * 50)\n",
    "    \n",
    "    for i, class_name in enumerate(class_names):\n",
    "        if confusion_matrix[i].sum() + confusion_matrix[:, i].sum() == 0:\n",
    "            continue\n",
    "            \n",
    "        # Calculer précision et rappel\n",
    "        true_positives = confusion_matrix[i, i]\n",
    "        false_positives = confusion_matrix[:, i].sum() - true_positives\n",
    "        false_negatives = confusion_matrix[i, :].sum() - true_positives\n",
    "        \n",
    "        precision = true_positives / (true_positives + false_positives) if (true_positives + false_positives) > 0 else 0\n",
    "        recall = true_positives / (true_positives + false_negatives) if (true_positives + false_negatives) > 0 else 0\n",
    "        f1 = 2 * (precision * recall) / (precision + recall) if (precision + recall) > 0 else 0\n",
    "        \n",
    "        print(f\"\\nClasse {class_name}:\")\n",
    "        print(f\"Précision: {precision:.3f}\")\n",
    "        print(f\"Rappel: {recall:.3f}\")\n",
    "        print(f\"F1-Score: {f1:.3f}\")\n"
   ]
  },
  {
   "cell_type": "code",
   "execution_count": 21,
   "id": "e01777cf",
   "metadata": {},
   "outputs": [
    {
     "name": "stdout",
     "output_type": "stream",
     "text": [
      "WARNING:tensorflow:From C:\\Users\\GHO\\Mask_RCNN\\mrcnn\\model.py:720: The name tf.sets.set_intersection is deprecated. Please use tf.sets.intersection instead.\n",
      "\n",
      "WARNING:tensorflow:From C:\\Users\\GHO\\Mask_RCNN\\mrcnn\\model.py:722: The name tf.sparse_tensor_to_dense is deprecated. Please use tf.sparse.to_dense instead.\n",
      "\n",
      "WARNING:tensorflow:From C:\\Users\\GHO\\Mask_RCNN\\mrcnn\\model.py:772: to_float (from tensorflow.python.ops.math_ops) is deprecated and will be removed in a future version.\n",
      "Instructions for updating:\n",
      "Use `tf.cast` instead.\n",
      "Re-starting from epoch 20\n",
      "Évaluation du modèle sur le dataset de validation...\n",
      "Début de l'évaluation...\n",
      "Nombre d'images dans le dataset: 245\n"
     ]
    },
    {
     "name": "stderr",
     "output_type": "stream",
     "text": [
      "\r",
      "  0%|                                                                                          | 0/245 [00:00<?, ?it/s]"
     ]
    },
    {
     "name": "stdout",
     "output_type": "stream",
     "text": [
      "\n",
      "Image 0:\n",
      "Classes vérité terrain: [1 1 1 1 1 1]\n",
      "WARNING:tensorflow:From c:\\users\\gho\\maskrcnn_env\\lib\\site-packages\\keras\\backend\\tensorflow_backend.py:2503: The name tf.Session is deprecated. Please use tf.compat.v1.Session instead.\n",
      "\n",
      "WARNING:tensorflow:From c:\\users\\gho\\maskrcnn_env\\lib\\site-packages\\keras\\backend\\tensorflow_backend.py:168: The name tf.get_default_session is deprecated. Please use tf.compat.v1.get_default_session instead.\n",
      "\n",
      "WARNING:tensorflow:From c:\\users\\gho\\maskrcnn_env\\lib\\site-packages\\keras\\backend\\tensorflow_backend.py:175: The name tf.ConfigProto is deprecated. Please use tf.compat.v1.ConfigProto instead.\n",
      "\n",
      "WARNING:tensorflow:From c:\\users\\gho\\maskrcnn_env\\lib\\site-packages\\keras\\backend\\tensorflow_backend.py:184: The name tf.global_variables is deprecated. Please use tf.compat.v1.global_variables instead.\n",
      "\n",
      "WARNING:tensorflow:From c:\\users\\gho\\maskrcnn_env\\lib\\site-packages\\keras\\backend\\tensorflow_backend.py:193: The name tf.is_variable_initialized is deprecated. Please use tf.compat.v1.is_variable_initialized instead.\n",
      "\n",
      "WARNING:tensorflow:From c:\\users\\gho\\maskrcnn_env\\lib\\site-packages\\keras\\backend\\tensorflow_backend.py:200: The name tf.variables_initializer is deprecated. Please use tf.compat.v1.variables_initializer instead.\n",
      "\n"
     ]
    },
    {
     "name": "stderr",
     "output_type": "stream",
     "text": [
      "\r",
      "  0%|▎                                                                                 | 1/245 [00:13<55:42, 13.70s/it]"
     ]
    },
    {
     "name": "stdout",
     "output_type": "stream",
     "text": [
      "Classes prédites: [1 1 1 1 1 1 1 1 1 1 1 1]\n",
      "Scores: [1. 1. 1. 1. 1. 1. 1. 1. 1. 1. 1. 1.]\n",
      "\n",
      "Image 1:\n",
      "Classes vérité terrain: [1]\n",
      "Classes prédites: [1 1 1 1 1 1 1 1 1 1 1 1]\n",
      "Scores: [1. 1. 1. 1. 1. 1. 1. 1. 1. 1. 1. 1.]\n"
     ]
    },
    {
     "name": "stderr",
     "output_type": "stream",
     "text": [
      "\r",
      "  1%|▋                                                                                 | 2/245 [00:21<42:09, 10.41s/it]"
     ]
    },
    {
     "name": "stdout",
     "output_type": "stream",
     "text": [
      "\n",
      "Image 2:\n",
      "Classes vérité terrain: [1]\n"
     ]
    },
    {
     "name": "stderr",
     "output_type": "stream",
     "text": [
      "\r",
      "  1%|█                                                                                 | 3/245 [00:29<37:19,  9.25s/it]"
     ]
    },
    {
     "name": "stdout",
     "output_type": "stream",
     "text": [
      "Classes prédites: [1 1 1 1 1 1 1 1 1 1 1 1]\n",
      "Scores: [1. 1. 1. 1. 1. 1. 1. 1. 1. 1. 1. 1.]\n",
      "\n",
      "Image 3:\n",
      "Classes vérité terrain: [1]\n",
      "Classes prédites: [1 1 1 1 1 1 1 1 1 1 1 1]\n",
      "Scores: [1. 1. 1. 1. 1. 1. 1. 1. 1. 1. 1. 1.]\n"
     ]
    },
    {
     "name": "stderr",
     "output_type": "stream",
     "text": [
      "\r",
      "  2%|█▎                                                                                | 4/245 [00:37<35:01,  8.72s/it]"
     ]
    },
    {
     "name": "stdout",
     "output_type": "stream",
     "text": [
      "\n",
      "Image 4:\n",
      "Classes vérité terrain: [1]\n",
      "Classes prédites: [1 1 1 1 1 1 1 1 1 1 1 1]\n",
      "Scores: [1. 1. 1. 1. 1. 1. 1. 1. 1. 1. 1. 1.]\n"
     ]
    },
    {
     "name": "stderr",
     "output_type": "stream",
     "text": [
      "\r",
      "  2%|█▋                                                                                | 5/245 [00:45<34:00,  8.50s/it]"
     ]
    },
    {
     "name": "stdout",
     "output_type": "stream",
     "text": [
      "\n",
      "Image 5:\n",
      "Classes vérité terrain: [1]\n"
     ]
    },
    {
     "name": "stderr",
     "output_type": "stream",
     "text": [
      "\r",
      "  2%|██                                                                                | 6/245 [00:54<34:03,  8.55s/it]"
     ]
    },
    {
     "name": "stdout",
     "output_type": "stream",
     "text": [
      "Classes prédites: [1 1 1 1 1 1 1 1 1 1 1 1]\n",
      "Scores: [1. 1. 1. 1. 1. 1. 1. 1. 1. 1. 1. 1.]\n",
      "\n",
      "Image 6:\n",
      "Classes vérité terrain: [1]\n"
     ]
    },
    {
     "name": "stderr",
     "output_type": "stream",
     "text": [
      "\r",
      "  3%|██▎                                                                               | 7/245 [01:02<33:51,  8.53s/it]"
     ]
    },
    {
     "name": "stdout",
     "output_type": "stream",
     "text": [
      "Classes prédites: [1 1 1 1 1 1 1 1 1 1 1 1]\n",
      "Scores: [1. 1. 1. 1. 1. 1. 1. 1. 1. 1. 1. 1.]\n",
      "\n",
      "Image 7:\n",
      "Classes vérité terrain: [1]\n"
     ]
    },
    {
     "name": "stderr",
     "output_type": "stream",
     "text": [
      "\r",
      "  3%|██▋                                                                               | 8/245 [01:12<35:18,  8.94s/it]"
     ]
    },
    {
     "name": "stdout",
     "output_type": "stream",
     "text": [
      "Classes prédites: [1 1 1 1 1 1 1 1 1 1 1 1]\n",
      "Scores: [1. 1. 1. 1. 1. 1. 1. 1. 1. 1. 1. 1.]\n",
      "\n",
      "Image 8:\n",
      "Classes vérité terrain: [1 1]\n"
     ]
    },
    {
     "name": "stderr",
     "output_type": "stream",
     "text": [
      "\r",
      "  4%|███                                                                               | 9/245 [01:20<33:56,  8.63s/it]"
     ]
    },
    {
     "name": "stdout",
     "output_type": "stream",
     "text": [
      "Classes prédites: [1 1 1 1 1 1 1 1 1 1 1 1]\n",
      "Scores: [1. 1. 1. 1. 1. 1. 1. 1. 1. 1. 1. 1.]\n",
      "\n",
      "Image 9:\n",
      "Classes vérité terrain: [1]\n"
     ]
    },
    {
     "name": "stderr",
     "output_type": "stream",
     "text": [
      "\r",
      "  4%|███▎                                                                             | 10/245 [01:29<34:01,  8.69s/it]"
     ]
    },
    {
     "name": "stdout",
     "output_type": "stream",
     "text": [
      "Classes prédites: [1 1 1 1 1 1 1 1 1 1 1 1]\n",
      "Scores: [1. 1. 1. 1. 1. 1. 1. 1. 1. 1. 1. 1.]\n",
      "\n",
      "Image 10:\n",
      "Classes vérité terrain: [1]\n"
     ]
    },
    {
     "name": "stderr",
     "output_type": "stream",
     "text": [
      "\r",
      "  4%|███▋                                                                             | 11/245 [01:37<33:38,  8.63s/it]"
     ]
    },
    {
     "name": "stdout",
     "output_type": "stream",
     "text": [
      "Classes prédites: [1 1 1 1 1 1 1 1 1 1 1 1]\n",
      "Scores: [1. 1. 1. 1. 1. 1. 1. 1. 1. 1. 1. 1.]\n",
      "\n",
      "Image 11:\n",
      "Classes vérité terrain: [1]\n"
     ]
    },
    {
     "name": "stderr",
     "output_type": "stream",
     "text": [
      "\r",
      "  5%|███▉                                                                             | 12/245 [01:45<32:48,  8.45s/it]"
     ]
    },
    {
     "name": "stdout",
     "output_type": "stream",
     "text": [
      "Classes prédites: [1 1 1 1 1 1 1 1 1 1 1 1]\n",
      "Scores: [1. 1. 1. 1. 1. 1. 1. 1. 1. 1. 1. 1.]\n",
      "\n",
      "Image 12:\n",
      "Classes vérité terrain: [1]\n"
     ]
    },
    {
     "name": "stderr",
     "output_type": "stream",
     "text": [
      "\r",
      "  5%|████▎                                                                            | 13/245 [01:53<32:05,  8.30s/it]"
     ]
    },
    {
     "name": "stdout",
     "output_type": "stream",
     "text": [
      "Classes prédites: [1 1 1 1 1 1 1 1 1 1 1 1]\n",
      "Scores: [1. 1. 1. 1. 1. 1. 1. 1. 1. 1. 1. 1.]\n",
      "\n",
      "Image 13:\n",
      "Classes vérité terrain: [1]\n"
     ]
    },
    {
     "name": "stderr",
     "output_type": "stream",
     "text": [
      "\r",
      "  6%|████▋                                                                            | 14/245 [02:01<31:41,  8.23s/it]"
     ]
    },
    {
     "name": "stdout",
     "output_type": "stream",
     "text": [
      "Classes prédites: [1 1 1 1 1 1 1 1 1 1 1 1]\n",
      "Scores: [1. 1. 1. 1. 1. 1. 1. 1. 1. 1. 1. 1.]\n",
      "\n",
      "Image 14:\n",
      "Classes vérité terrain: [1]\n"
     ]
    },
    {
     "name": "stderr",
     "output_type": "stream",
     "text": [
      "\r",
      "  6%|████▉                                                                            | 15/245 [02:10<31:39,  8.26s/it]"
     ]
    },
    {
     "name": "stdout",
     "output_type": "stream",
     "text": [
      "Classes prédites: [1 1 1 1 1 1 1 1 1 1 1 1]\n",
      "Scores: [1. 1. 1. 1. 1. 1. 1. 1. 1. 1. 1. 1.]\n",
      "\n",
      "Image 15:\n",
      "Classes vérité terrain: [1]\n"
     ]
    },
    {
     "name": "stderr",
     "output_type": "stream",
     "text": [
      "\r",
      "  7%|█████▎                                                                           | 16/245 [02:18<31:38,  8.29s/it]"
     ]
    },
    {
     "name": "stdout",
     "output_type": "stream",
     "text": [
      "Classes prédites: [1 1 1 1 1 1 1 1 1 1 1 1]\n",
      "Scores: [1. 1. 1. 1. 1. 1. 1. 1. 1. 1. 1. 1.]\n",
      "\n",
      "Image 16:\n",
      "Classes vérité terrain: [1]\n",
      "Classes prédites: [1 1 1 1 1 1 1 1 1 1 1 1]\n",
      "Scores: [1. 1. 1. 1. 1. 1. 1. 1. 1. 1. 1. 1.]\n"
     ]
    },
    {
     "name": "stderr",
     "output_type": "stream",
     "text": [
      "\r",
      "  7%|█████▌                                                                           | 17/245 [02:27<31:51,  8.39s/it]"
     ]
    },
    {
     "name": "stdout",
     "output_type": "stream",
     "text": [
      "\n",
      "Image 17:\n",
      "Classes vérité terrain: [1]\n"
     ]
    },
    {
     "name": "stderr",
     "output_type": "stream",
     "text": [
      "\r",
      "  7%|█████▉                                                                           | 18/245 [02:35<31:20,  8.28s/it]"
     ]
    },
    {
     "name": "stdout",
     "output_type": "stream",
     "text": [
      "Classes prédites: [1 1 1 1 1 1 1 1 1 1 1]\n",
      "Scores: [1. 1. 1. 1. 1. 1. 1. 1. 1. 1. 1.]\n",
      "\n",
      "Image 18:\n",
      "Classes vérité terrain: [1]\n"
     ]
    },
    {
     "name": "stderr",
     "output_type": "stream",
     "text": [
      "\r",
      "  8%|██████▎                                                                          | 19/245 [02:43<30:59,  8.23s/it]"
     ]
    },
    {
     "name": "stdout",
     "output_type": "stream",
     "text": [
      "Classes prédites: [1 1 1 1 1 1 1 1 1 1 1 1]\n",
      "Scores: [1. 1. 1. 1. 1. 1. 1. 1. 1. 1. 1. 1.]\n",
      "\n",
      "Image 19:\n",
      "Classes vérité terrain: [1]\n"
     ]
    },
    {
     "name": "stderr",
     "output_type": "stream",
     "text": [
      "\r",
      "  8%|██████▌                                                                          | 20/245 [02:51<30:29,  8.13s/it]"
     ]
    },
    {
     "name": "stdout",
     "output_type": "stream",
     "text": [
      "Classes prédites: [1 1 1 1 1 1 1 1 1 1 1 1]\n",
      "Scores: [1. 1. 1. 1. 1. 1. 1. 1. 1. 1. 1. 1.]\n",
      "\n",
      "Image 20:\n",
      "Classes vérité terrain: [1 1]\n"
     ]
    },
    {
     "name": "stderr",
     "output_type": "stream",
     "text": [
      "\r",
      "  9%|██████▉                                                                          | 21/245 [02:59<30:12,  8.09s/it]"
     ]
    },
    {
     "name": "stdout",
     "output_type": "stream",
     "text": [
      "Classes prédites: [1 1 1 1 1 1 1 1 1 1 1 1]\n",
      "Scores: [1. 1. 1. 1. 1. 1. 1. 1. 1. 1. 1. 1.]\n",
      "\n",
      "Image 21:\n",
      "Classes vérité terrain: [1]\n"
     ]
    },
    {
     "name": "stderr",
     "output_type": "stream",
     "text": [
      "\r",
      "  9%|███████▎                                                                         | 22/245 [03:07<29:52,  8.04s/it]"
     ]
    },
    {
     "name": "stdout",
     "output_type": "stream",
     "text": [
      "Classes prédites: [1 1 1 1 1 1 1 1 1 1 1 1]\n",
      "Scores: [1. 1. 1. 1. 1. 1. 1. 1. 1. 1. 1. 1.]\n",
      "\n",
      "Image 22:\n",
      "Classes vérité terrain: [1]\n"
     ]
    },
    {
     "name": "stderr",
     "output_type": "stream",
     "text": [
      "\r",
      "  9%|███████▌                                                                         | 23/245 [03:17<31:55,  8.63s/it]"
     ]
    },
    {
     "name": "stdout",
     "output_type": "stream",
     "text": [
      "Classes prédites: [1 1 1 1 1 1 1 1 1 1 1 1]\n",
      "Scores: [1. 1. 1. 1. 1. 1. 1. 1. 1. 1. 1. 1.]\n",
      "\n",
      "Image 23:\n",
      "Classes vérité terrain: [1]\n"
     ]
    },
    {
     "name": "stderr",
     "output_type": "stream",
     "text": [
      "\r",
      " 10%|███████▉                                                                         | 24/245 [03:26<32:46,  8.90s/it]"
     ]
    },
    {
     "name": "stdout",
     "output_type": "stream",
     "text": [
      "Classes prédites: [1 1 1 1 1 1 1 1 1 1 1 1]\n",
      "Scores: [1. 1. 1. 1. 1. 1. 1. 1. 1. 1. 1. 1.]\n",
      "\n",
      "Image 24:\n",
      "Classes vérité terrain: [1]\n"
     ]
    },
    {
     "name": "stderr",
     "output_type": "stream",
     "text": [
      "\r",
      " 10%|████████▎                                                                        | 25/245 [03:36<33:27,  9.12s/it]"
     ]
    },
    {
     "name": "stdout",
     "output_type": "stream",
     "text": [
      "Classes prédites: [1 1 1 1 1 1 1 1 1 1 1 1]\n",
      "Scores: [1. 1. 1. 1. 1. 1. 1. 1. 1. 1. 1. 1.]\n",
      "\n",
      "Image 25:\n",
      "Classes vérité terrain: [1]\n"
     ]
    },
    {
     "name": "stderr",
     "output_type": "stream",
     "text": [
      "\r",
      " 11%|████████▌                                                                        | 26/245 [03:44<32:13,  8.83s/it]"
     ]
    },
    {
     "name": "stdout",
     "output_type": "stream",
     "text": [
      "Classes prédites: [1 1 1 1 1 1 1 1 1 1 1 1]\n",
      "Scores: [1. 1. 1. 1. 1. 1. 1. 1. 1. 1. 1. 1.]\n",
      "\n",
      "Image 26:\n",
      "Classes vérité terrain: [1]\n"
     ]
    },
    {
     "name": "stderr",
     "output_type": "stream",
     "text": [
      "\r",
      " 11%|████████▉                                                                        | 27/245 [03:52<31:25,  8.65s/it]"
     ]
    },
    {
     "name": "stdout",
     "output_type": "stream",
     "text": [
      "Classes prédites: [1 1 1 1 1 1 1 1 1 1 1 1]\n",
      "Scores: [1. 1. 1. 1. 1. 1. 1. 1. 1. 1. 1. 1.]\n",
      "\n",
      "Image 27:\n",
      "Classes vérité terrain: [1]\n"
     ]
    },
    {
     "name": "stderr",
     "output_type": "stream",
     "text": [
      "\r",
      " 11%|█████████▎                                                                       | 28/245 [04:02<32:01,  8.85s/it]"
     ]
    },
    {
     "name": "stdout",
     "output_type": "stream",
     "text": [
      "Classes prédites: [1 1 1 1 1 1 1 1 1 1 1 1]\n",
      "Scores: [1. 1. 1. 1. 1. 1. 1. 1. 1. 1. 1. 1.]\n",
      "\n",
      "Image 28:\n",
      "Classes vérité terrain: [1 1]\n"
     ]
    },
    {
     "name": "stderr",
     "output_type": "stream",
     "text": [
      "\r",
      " 12%|█████████▌                                                                       | 29/245 [04:10<31:47,  8.83s/it]"
     ]
    },
    {
     "name": "stdout",
     "output_type": "stream",
     "text": [
      "Classes prédites: [1 1 1 1 1 1 1 1 1 1 1 1]\n",
      "Scores: [1. 1. 1. 1. 1. 1. 1. 1. 1. 1. 1. 1.]\n",
      "\n",
      "Image 29:\n",
      "Classes vérité terrain: [1]\n"
     ]
    },
    {
     "name": "stderr",
     "output_type": "stream",
     "text": [
      "\r",
      " 12%|█████████▉                                                                       | 30/245 [04:19<31:08,  8.69s/it]"
     ]
    },
    {
     "name": "stdout",
     "output_type": "stream",
     "text": [
      "Classes prédites: [1 1 1 1 1 1 1 1 1 1 1 1]\n",
      "Scores: [1. 1. 1. 1. 1. 1. 1. 1. 1. 1. 1. 1.]\n",
      "\n",
      "Image 30:\n",
      "Classes vérité terrain: [1]\n"
     ]
    },
    {
     "name": "stderr",
     "output_type": "stream",
     "text": [
      "\r",
      " 13%|██████████▏                                                                      | 31/245 [04:27<30:53,  8.66s/it]"
     ]
    },
    {
     "name": "stdout",
     "output_type": "stream",
     "text": [
      "Classes prédites: [1 1 1 1 1 1 1 1 1 1 1 1]\n",
      "Scores: [1. 1. 1. 1. 1. 1. 1. 1. 1. 1. 1. 1.]\n",
      "\n",
      "Image 31:\n",
      "Classes vérité terrain: [1]\n"
     ]
    },
    {
     "name": "stderr",
     "output_type": "stream",
     "text": [
      "\r",
      " 13%|██████████▌                                                                      | 32/245 [04:36<30:16,  8.53s/it]"
     ]
    },
    {
     "name": "stdout",
     "output_type": "stream",
     "text": [
      "Classes prédites: [1 1 1 1 1 1 1 1 1 1 1 1]\n",
      "Scores: [1. 1. 1. 1. 1. 1. 1. 1. 1. 1. 1. 1.]\n",
      "\n",
      "Image 32:\n",
      "Classes vérité terrain: [1]\n"
     ]
    },
    {
     "name": "stderr",
     "output_type": "stream",
     "text": [
      "\r",
      " 13%|██████████▉                                                                      | 33/245 [04:44<29:40,  8.40s/it]"
     ]
    },
    {
     "name": "stdout",
     "output_type": "stream",
     "text": [
      "Classes prédites: [1 1 1 1 1 1 1 1 1 1 1 1]\n",
      "Scores: [1. 1. 1. 1. 1. 1. 1. 1. 1. 1. 1. 1.]\n",
      "\n",
      "Image 33:\n",
      "Classes vérité terrain: [1]\n"
     ]
    },
    {
     "name": "stderr",
     "output_type": "stream",
     "text": [
      "\r",
      " 14%|███████████▏                                                                     | 34/245 [04:52<29:26,  8.37s/it]"
     ]
    },
    {
     "name": "stdout",
     "output_type": "stream",
     "text": [
      "Classes prédites: [1 1 1 1 1 1 1 1 1 1 1 1]\n",
      "Scores: [1. 1. 1. 1. 1. 1. 1. 1. 1. 1. 1. 1.]\n",
      "\n",
      "Image 34:\n",
      "Classes vérité terrain: [1]\n"
     ]
    },
    {
     "name": "stderr",
     "output_type": "stream",
     "text": [
      "\r",
      " 14%|███████████▌                                                                     | 35/245 [05:00<29:15,  8.36s/it]"
     ]
    },
    {
     "name": "stdout",
     "output_type": "stream",
     "text": [
      "Classes prédites: [1 1 1 1 1 1 1 1 1 1 1 1]\n",
      "Scores: [1. 1. 1. 1. 1. 1. 1. 1. 1. 1. 1. 1.]\n",
      "\n",
      "Image 35:\n",
      "Classes vérité terrain: [1]\n"
     ]
    },
    {
     "name": "stderr",
     "output_type": "stream",
     "text": [
      "\r",
      " 15%|███████████▉                                                                     | 36/245 [05:10<30:10,  8.66s/it]"
     ]
    },
    {
     "name": "stdout",
     "output_type": "stream",
     "text": [
      "Classes prédites: [1 1 1 1 1 1 1 1 1 1 1 1]\n",
      "Scores: [1. 1. 1. 1. 1. 1. 1. 1. 1. 1. 1. 1.]\n",
      "\n",
      "Image 36:\n",
      "Classes vérité terrain: [1]\n"
     ]
    },
    {
     "name": "stderr",
     "output_type": "stream",
     "text": [
      "\r",
      " 15%|████████████▏                                                                    | 37/245 [05:18<29:37,  8.55s/it]"
     ]
    },
    {
     "name": "stdout",
     "output_type": "stream",
     "text": [
      "Classes prédites: [1 1 1 1 1 1 1 1 1 1 1 1]\n",
      "Scores: [1. 1. 1. 1. 1. 1. 1. 1. 1. 1. 1. 1.]\n",
      "\n",
      "Image 37:\n",
      "Classes vérité terrain: [1]\n"
     ]
    },
    {
     "name": "stderr",
     "output_type": "stream",
     "text": [
      "\r",
      " 16%|████████████▌                                                                    | 38/245 [05:26<29:18,  8.50s/it]"
     ]
    },
    {
     "name": "stdout",
     "output_type": "stream",
     "text": [
      "Classes prédites: [1 1 1 1 1 1 1 1 1 1 1 1]\n",
      "Scores: [1. 1. 1. 1. 1. 1. 1. 1. 1. 1. 1. 1.]\n",
      "\n",
      "Image 38:\n",
      "Classes vérité terrain: [1]\n"
     ]
    },
    {
     "name": "stderr",
     "output_type": "stream",
     "text": [
      "\r",
      " 16%|████████████▉                                                                    | 39/245 [05:36<30:03,  8.75s/it]"
     ]
    },
    {
     "name": "stdout",
     "output_type": "stream",
     "text": [
      "Classes prédites: [1 1 1 1 1 1 1 1 1 1 1 1]\n",
      "Scores: [1. 1. 1. 1. 1. 1. 1. 1. 1. 1. 1. 1.]\n",
      "\n",
      "Image 39:\n",
      "Classes vérité terrain: [1]\n"
     ]
    },
    {
     "name": "stderr",
     "output_type": "stream",
     "text": [
      "\r",
      " 16%|█████████████▏                                                                   | 40/245 [05:47<32:01,  9.38s/it]"
     ]
    },
    {
     "name": "stdout",
     "output_type": "stream",
     "text": [
      "Classes prédites: [1 1 1 1 1 1 1 1 1 1 1 1]\n",
      "Scores: [1. 1. 1. 1. 1. 1. 1. 1. 1. 1. 1. 1.]\n",
      "\n",
      "Image 40:\n",
      "Classes vérité terrain: [1]\n"
     ]
    },
    {
     "name": "stderr",
     "output_type": "stream",
     "text": [
      "\r",
      " 17%|█████████████▌                                                                   | 41/245 [05:58<33:42,  9.91s/it]"
     ]
    },
    {
     "name": "stdout",
     "output_type": "stream",
     "text": [
      "Classes prédites: [1 1 1 1 1 1 1 1 1 1 1 1]\n",
      "Scores: [1. 1. 1. 1. 1. 1. 1. 1. 1. 1. 1. 1.]\n",
      "\n",
      "Image 41:\n",
      "Classes vérité terrain: [1]\n"
     ]
    },
    {
     "name": "stderr",
     "output_type": "stream",
     "text": [
      "\r",
      " 17%|█████████████▉                                                                   | 42/245 [06:06<32:19,  9.55s/it]"
     ]
    },
    {
     "name": "stdout",
     "output_type": "stream",
     "text": [
      "Classes prédites: [1 1 1 1 1 1 1 1 1 1 1 1]\n",
      "Scores: [1. 1. 1. 1. 1. 1. 1. 1. 1. 1. 1. 1.]\n",
      "\n",
      "Image 42:\n",
      "Classes vérité terrain: [1]\n"
     ]
    },
    {
     "name": "stderr",
     "output_type": "stream",
     "text": [
      "\r",
      " 18%|██████████████▏                                                                  | 43/245 [06:15<31:07,  9.25s/it]"
     ]
    },
    {
     "name": "stdout",
     "output_type": "stream",
     "text": [
      "Classes prédites: [1 1 1 1 1 1 1 1 1 1 1 1]\n",
      "Scores: [1. 1. 1. 1. 1. 1. 1. 1. 1. 1. 1. 1.]\n",
      "\n",
      "Image 43:\n",
      "Classes vérité terrain: [1]\n"
     ]
    },
    {
     "name": "stderr",
     "output_type": "stream",
     "text": [
      "\r",
      " 18%|██████████████▌                                                                  | 44/245 [06:25<31:46,  9.49s/it]"
     ]
    },
    {
     "name": "stdout",
     "output_type": "stream",
     "text": [
      "Classes prédites: [1 1 1 1 1 1 1 1 1 1 1 1]\n",
      "Scores: [1. 1. 1. 1. 1. 1. 1. 1. 1. 1. 1. 1.]\n",
      "\n",
      "Image 44:\n",
      "Classes vérité terrain: [1]\n"
     ]
    },
    {
     "name": "stderr",
     "output_type": "stream",
     "text": [
      "\r",
      " 18%|██████████████▉                                                                  | 45/245 [06:34<31:00,  9.30s/it]"
     ]
    },
    {
     "name": "stdout",
     "output_type": "stream",
     "text": [
      "Classes prédites: [1 1 1 1 1 1 1 1 1 1 1 1]\n",
      "Scores: [1. 1. 1. 1. 1. 1. 1. 1. 1. 1. 1. 1.]\n",
      "\n",
      "Image 45:\n",
      "Classes vérité terrain: [1]\n"
     ]
    },
    {
     "name": "stderr",
     "output_type": "stream",
     "text": [
      "\r",
      " 19%|███████████████▏                                                                 | 46/245 [06:42<29:55,  9.02s/it]"
     ]
    },
    {
     "name": "stdout",
     "output_type": "stream",
     "text": [
      "Classes prédites: [1 1 1 1 1 1 1 1 1 1 1 1]\n",
      "Scores: [1. 1. 1. 1. 1. 1. 1. 1. 1. 1. 1. 1.]\n",
      "\n",
      "Image 46:\n",
      "Classes vérité terrain: [1]\n"
     ]
    },
    {
     "name": "stderr",
     "output_type": "stream",
     "text": [
      "\r",
      " 19%|███████████████▌                                                                 | 47/245 [06:50<28:58,  8.78s/it]"
     ]
    },
    {
     "name": "stdout",
     "output_type": "stream",
     "text": [
      "Classes prédites: [1 1 1 1 1 1 1 1 1 1 1 1]\n",
      "Scores: [1. 1. 1. 1. 1. 1. 1. 1. 1. 1. 1. 1.]\n",
      "\n",
      "Image 47:\n",
      "Classes vérité terrain: [1]\n"
     ]
    },
    {
     "name": "stderr",
     "output_type": "stream",
     "text": [
      "\r",
      " 20%|███████████████▊                                                                 | 48/245 [06:59<28:25,  8.66s/it]"
     ]
    },
    {
     "name": "stdout",
     "output_type": "stream",
     "text": [
      "Classes prédites: [1 1 1 1 1 1 1 1 1 1 1 1]\n",
      "Scores: [1. 1. 1. 1. 1. 1. 1. 1. 1. 1. 1. 1.]\n",
      "\n",
      "Image 48:\n",
      "Classes vérité terrain: [1]\n"
     ]
    },
    {
     "name": "stderr",
     "output_type": "stream",
     "text": [
      "\r",
      " 20%|████████████████▏                                                                | 49/245 [07:09<29:31,  9.04s/it]"
     ]
    },
    {
     "name": "stdout",
     "output_type": "stream",
     "text": [
      "Classes prédites: [1 1 1 1 1 1 1 1 1 1 1 1]\n",
      "Scores: [1. 1. 1. 1. 1. 1. 1. 1. 1. 1. 1. 1.]\n",
      "\n",
      "Image 49:\n",
      "Classes vérité terrain: [1]\n"
     ]
    },
    {
     "name": "stderr",
     "output_type": "stream",
     "text": [
      "\r",
      " 20%|████████████████▌                                                                | 50/245 [07:20<31:23,  9.66s/it]"
     ]
    },
    {
     "name": "stdout",
     "output_type": "stream",
     "text": [
      "Classes prédites: [1 1 1 1 1 1 1 1 1 1 1 1]\n",
      "Scores: [1. 1. 1. 1. 1. 1. 1. 1. 1. 1. 1. 1.]\n",
      "\n",
      "Image 50:\n",
      "Classes vérité terrain: [1]\n"
     ]
    },
    {
     "name": "stderr",
     "output_type": "stream",
     "text": [
      "\r",
      " 21%|████████████████▊                                                                | 51/245 [07:30<32:04,  9.92s/it]"
     ]
    },
    {
     "name": "stdout",
     "output_type": "stream",
     "text": [
      "Classes prédites: [1 1 1 1 1 1 1 1 1 1 1 1]\n",
      "Scores: [1. 1. 1. 1. 1. 1. 1. 1. 1. 1. 1. 1.]\n",
      "\n",
      "Image 51:\n",
      "Classes vérité terrain: [1]\n"
     ]
    },
    {
     "name": "stderr",
     "output_type": "stream",
     "text": [
      "\r",
      " 21%|█████████████████▏                                                               | 52/245 [07:40<31:14,  9.71s/it]"
     ]
    },
    {
     "name": "stdout",
     "output_type": "stream",
     "text": [
      "Classes prédites: [1 1]\n",
      "Scores: [1. 1.]\n",
      "\n",
      "Image 52:\n",
      "Classes vérité terrain: [1]\n"
     ]
    },
    {
     "name": "stderr",
     "output_type": "stream",
     "text": [
      "\r",
      " 22%|█████████████████▌                                                               | 53/245 [07:48<29:42,  9.28s/it]"
     ]
    },
    {
     "name": "stdout",
     "output_type": "stream",
     "text": [
      "Classes prédites: [1 1 1 1 1 1 1 1 1 1 1 1]\n",
      "Scores: [1. 1. 1. 1. 1. 1. 1. 1. 1. 1. 1. 1.]\n",
      "\n",
      "Image 53:\n",
      "Classes vérité terrain: [1]\n"
     ]
    },
    {
     "name": "stderr",
     "output_type": "stream",
     "text": [
      "\r",
      " 22%|█████████████████▊                                                               | 54/245 [07:56<28:36,  8.99s/it]"
     ]
    },
    {
     "name": "stdout",
     "output_type": "stream",
     "text": [
      "Classes prédites: [1 1 1 1 1 1 1 1 1 1 1 1]\n",
      "Scores: [1. 1. 1. 1. 1. 1. 1. 1. 1. 1. 1. 1.]\n",
      "\n",
      "Image 54:\n",
      "Classes vérité terrain: [1]\n"
     ]
    },
    {
     "name": "stderr",
     "output_type": "stream",
     "text": [
      "\r",
      " 22%|██████████████████▏                                                              | 55/245 [08:04<27:48,  8.78s/it]"
     ]
    },
    {
     "name": "stdout",
     "output_type": "stream",
     "text": [
      "Classes prédites: [1 1 1 1 1 1 1 1 1 1 1 1]\n",
      "Scores: [1. 1. 1. 1. 1. 1. 1. 1. 1. 1. 1. 1.]\n",
      "\n",
      "Image 55:\n",
      "Classes vérité terrain: [1]\n"
     ]
    },
    {
     "name": "stderr",
     "output_type": "stream",
     "text": [
      "\r",
      " 23%|██████████████████▌                                                              | 56/245 [08:13<27:21,  8.68s/it]"
     ]
    },
    {
     "name": "stdout",
     "output_type": "stream",
     "text": [
      "Classes prédites: [1 1 1 1 1 1 1 1 1 1 1 1]\n",
      "Scores: [1. 1. 1. 1. 1. 1. 1. 1. 1. 1. 1. 1.]\n",
      "\n",
      "Image 56:\n",
      "Classes vérité terrain: [1]\n"
     ]
    },
    {
     "name": "stderr",
     "output_type": "stream",
     "text": [
      "\r",
      " 23%|██████████████████▊                                                              | 57/245 [08:22<27:22,  8.74s/it]"
     ]
    },
    {
     "name": "stdout",
     "output_type": "stream",
     "text": [
      "Classes prédites: [1 1 1 1 1 1 1 1 1 1 1 1]\n",
      "Scores: [1. 1. 1. 1. 1. 1. 1. 1. 1. 1. 1. 1.]\n",
      "\n",
      "Image 57:\n",
      "Classes vérité terrain: [1]\n"
     ]
    },
    {
     "name": "stderr",
     "output_type": "stream",
     "text": [
      "\r",
      " 24%|███████████████████▏                                                             | 58/245 [08:30<27:09,  8.72s/it]"
     ]
    },
    {
     "name": "stdout",
     "output_type": "stream",
     "text": [
      "Classes prédites: [1 1 1 1 1 1 1 1 1 1 1 1]\n",
      "Scores: [1. 1. 1. 1. 1. 1. 1. 1. 1. 1. 1. 1.]\n",
      "\n",
      "Image 58:\n",
      "Classes vérité terrain: [1]\n",
      "Classes prédites: [1 1 1 1 1 1 1 1 1 1 1 1]\n",
      "Scores: [1. 1. 1. 1. 1. 1. 1. 1. 1. 1. 1. 1.]\n"
     ]
    },
    {
     "name": "stderr",
     "output_type": "stream",
     "text": [
      "\r",
      " 24%|███████████████████▌                                                             | 59/245 [08:41<28:27,  9.18s/it]"
     ]
    },
    {
     "name": "stdout",
     "output_type": "stream",
     "text": [
      "\n",
      "Image 59:\n",
      "Classes vérité terrain: [1]\n"
     ]
    },
    {
     "name": "stderr",
     "output_type": "stream",
     "text": [
      "\r",
      " 24%|███████████████████▊                                                             | 60/245 [08:49<27:38,  8.97s/it]"
     ]
    },
    {
     "name": "stdout",
     "output_type": "stream",
     "text": [
      "Classes prédites: [1 1 1 1 1 1 1 1 1 1 1 1]\n",
      "Scores: [1. 1. 1. 1. 1. 1. 1. 1. 1. 1. 1. 1.]\n",
      "\n",
      "Image 60:\n",
      "Classes vérité terrain: [1]\n"
     ]
    },
    {
     "name": "stderr",
     "output_type": "stream",
     "text": [
      "\r",
      " 25%|████████████████████▏                                                            | 61/245 [08:58<27:02,  8.82s/it]"
     ]
    },
    {
     "name": "stdout",
     "output_type": "stream",
     "text": [
      "Classes prédites: [1 1 1 1 1 1 1 1 1 1 1 1]\n",
      "Scores: [1. 1. 1. 1. 1. 1. 1. 1. 1. 1. 1. 1.]\n",
      "\n",
      "Image 61:\n",
      "Classes vérité terrain: [1]\n",
      "Classes prédites: [1 1 1 1 1 1 1 1 1 1 1 1]\n",
      "Scores: [1. 1. 1. 1. 1. 1. 1. 1. 1. 1. 1. 1.]\n"
     ]
    },
    {
     "name": "stderr",
     "output_type": "stream",
     "text": [
      "\r",
      " 25%|████████████████████▍                                                            | 62/245 [09:07<27:20,  8.96s/it]"
     ]
    },
    {
     "name": "stdout",
     "output_type": "stream",
     "text": [
      "\n",
      "Image 62:\n",
      "Classes vérité terrain: [1]\n"
     ]
    },
    {
     "name": "stderr",
     "output_type": "stream",
     "text": [
      "\r",
      " 26%|████████████████████▊                                                            | 63/245 [09:16<26:54,  8.87s/it]"
     ]
    },
    {
     "name": "stdout",
     "output_type": "stream",
     "text": [
      "Classes prédites: [1 1 1 1 1 1 1 1 1 1 1 1]\n",
      "Scores: [1. 1. 1. 1. 1. 1. 1. 1. 1. 1. 1. 1.]\n",
      "\n",
      "Image 63:\n",
      "Classes vérité terrain: [1]\n"
     ]
    },
    {
     "name": "stderr",
     "output_type": "stream",
     "text": [
      "\r",
      " 26%|█████████████████████▏                                                           | 64/245 [09:24<26:25,  8.76s/it]"
     ]
    },
    {
     "name": "stdout",
     "output_type": "stream",
     "text": [
      "Classes prédites: [1 1 1 1 1 1 1 1 1 1 1 1]\n",
      "Scores: [1. 1. 1. 1. 1. 1. 1. 1. 1. 1. 1. 1.]\n",
      "\n",
      "Image 64:\n",
      "Classes vérité terrain: [1]\n"
     ]
    },
    {
     "name": "stderr",
     "output_type": "stream",
     "text": [
      "\r",
      " 27%|█████████████████████▍                                                           | 65/245 [09:32<25:43,  8.58s/it]"
     ]
    },
    {
     "name": "stdout",
     "output_type": "stream",
     "text": [
      "Classes prédites: [1 1 1 1 1 1 1 1 1 1 1 1]\n",
      "Scores: [1. 1. 1. 1. 1. 1. 1. 1. 1. 1. 1. 1.]\n",
      "\n",
      "Image 65:\n",
      "Classes vérité terrain: [1]\n"
     ]
    },
    {
     "name": "stderr",
     "output_type": "stream",
     "text": [
      "\r",
      " 27%|█████████████████████▊                                                           | 66/245 [09:40<25:13,  8.45s/it]"
     ]
    },
    {
     "name": "stdout",
     "output_type": "stream",
     "text": [
      "Classes prédites: [1 1 1 1 1 1 1 1 1 1 1 1]\n",
      "Scores: [1. 1. 1. 1. 1. 1. 1. 1. 1. 1. 1. 1.]\n",
      "\n",
      "Image 66:\n",
      "Classes vérité terrain: [1]\n"
     ]
    },
    {
     "name": "stderr",
     "output_type": "stream",
     "text": [
      "\r",
      " 27%|██████████████████████▏                                                          | 67/245 [09:49<24:46,  8.35s/it]"
     ]
    },
    {
     "name": "stdout",
     "output_type": "stream",
     "text": [
      "Classes prédites: [1 1 1 1 1 1 1 1 1 1 1 1]\n",
      "Scores: [1. 1. 1. 1. 1. 1. 1. 1. 1. 1. 1. 1.]\n",
      "\n",
      "Image 67:\n",
      "Classes vérité terrain: [1]\n"
     ]
    },
    {
     "name": "stderr",
     "output_type": "stream",
     "text": [
      "\r",
      " 28%|██████████████████████▍                                                          | 68/245 [09:57<24:36,  8.34s/it]"
     ]
    },
    {
     "name": "stdout",
     "output_type": "stream",
     "text": [
      "Classes prédites: [1 1 1 1 1 1 1 1 1 1 1 1]\n",
      "Scores: [1. 1. 1. 1. 1. 1. 1. 1. 1. 1. 1. 1.]\n",
      "\n",
      "Image 68:\n",
      "Classes vérité terrain: [1]\n"
     ]
    },
    {
     "name": "stderr",
     "output_type": "stream",
     "text": [
      "\r",
      " 28%|██████████████████████▊                                                          | 69/245 [10:05<24:19,  8.29s/it]"
     ]
    },
    {
     "name": "stdout",
     "output_type": "stream",
     "text": [
      "Classes prédites: [1 1 1 1 1 1 1 1 1 1 1 1]\n",
      "Scores: [1. 1. 1. 1. 1. 1. 1. 1. 1. 1. 1. 1.]\n",
      "\n",
      "Image 69:\n",
      "Classes vérité terrain: [1]\n"
     ]
    },
    {
     "name": "stderr",
     "output_type": "stream",
     "text": [
      "\r",
      " 29%|███████████████████████▏                                                         | 70/245 [10:14<24:27,  8.39s/it]"
     ]
    },
    {
     "name": "stdout",
     "output_type": "stream",
     "text": [
      "Classes prédites: [1 1 1 1 1 1 1 1 1 1 1 1]\n",
      "Scores: [1. 1. 1. 1. 1. 1. 1. 1. 1. 1. 1. 1.]\n",
      "\n",
      "Image 70:\n",
      "Classes vérité terrain: [1]\n"
     ]
    },
    {
     "name": "stderr",
     "output_type": "stream",
     "text": [
      "\r",
      " 29%|███████████████████████▍                                                         | 71/245 [10:22<24:18,  8.38s/it]"
     ]
    },
    {
     "name": "stdout",
     "output_type": "stream",
     "text": [
      "Classes prédites: [1 1 1 1 1 1 1 1 1 1 1 1]\n",
      "Scores: [1. 1. 1. 1. 1. 1. 1. 1. 1. 1. 1. 1.]\n",
      "\n",
      "Image 71:\n",
      "Classes vérité terrain: [1]\n",
      "Classes prédites: [1 1 1 1 1 1 1 1 1 1 1 1]\n",
      "Scores: [1. 1. 1. 1. 1. 1. 1. 1. 1. 1. 1. 1.]\n"
     ]
    },
    {
     "name": "stderr",
     "output_type": "stream",
     "text": [
      "\r",
      " 29%|███████████████████████▊                                                         | 72/245 [10:36<29:22, 10.19s/it]"
     ]
    },
    {
     "name": "stdout",
     "output_type": "stream",
     "text": [
      "\n",
      "Image 72:\n",
      "Classes vérité terrain: [1]\n"
     ]
    },
    {
     "name": "stderr",
     "output_type": "stream",
     "text": [
      "\r",
      " 30%|████████████████████████▏                                                        | 73/245 [10:45<27:43,  9.67s/it]"
     ]
    },
    {
     "name": "stdout",
     "output_type": "stream",
     "text": [
      "Classes prédites: [1 1 1 1 1 1 1 1 1 1 1 1]\n",
      "Scores: [1. 1. 1. 1. 1. 1. 1. 1. 1. 1. 1. 1.]\n",
      "\n",
      "Image 73:\n",
      "Classes vérité terrain: [1]\n",
      "Classes prédites: [1 1 1 1 1 1 1 1 1 1 1 1]\n",
      "Scores: [1. 1. 1. 1. 1. 1. 1. 1. 1. 1. 1. 1.]\n"
     ]
    },
    {
     "name": "stderr",
     "output_type": "stream",
     "text": [
      "\r",
      " 30%|████████████████████████▍                                                        | 74/245 [10:58<30:33, 10.72s/it]"
     ]
    },
    {
     "name": "stdout",
     "output_type": "stream",
     "text": [
      "\n",
      "Image 74:\n",
      "Classes vérité terrain: [1]\n"
     ]
    },
    {
     "name": "stderr",
     "output_type": "stream",
     "text": [
      "\r",
      " 31%|████████████████████████▊                                                        | 75/245 [11:08<29:38, 10.46s/it]"
     ]
    },
    {
     "name": "stdout",
     "output_type": "stream",
     "text": [
      "Classes prédites: [1 1 1 1 1 1 1 1 1 1 1 1]\n",
      "Scores: [1. 1. 1. 1. 1. 1. 1. 1. 1. 1. 1. 1.]\n",
      "\n",
      "Image 75:\n",
      "Classes vérité terrain: [1]\n"
     ]
    },
    {
     "name": "stderr",
     "output_type": "stream",
     "text": [
      "\r",
      " 31%|█████████████████████████▏                                                       | 76/245 [11:18<29:11, 10.36s/it]"
     ]
    },
    {
     "name": "stdout",
     "output_type": "stream",
     "text": [
      "Classes prédites: [1 1 1 1 1 1 1 1 1 1 1 1]\n",
      "Scores: [1. 1. 1. 1. 1. 1. 1. 1. 1. 1. 1. 1.]\n",
      "\n",
      "Image 76:\n",
      "Classes vérité terrain: [1]\n"
     ]
    },
    {
     "name": "stderr",
     "output_type": "stream",
     "text": [
      "\r",
      " 31%|█████████████████████████▍                                                       | 77/245 [11:27<27:43,  9.90s/it]"
     ]
    },
    {
     "name": "stdout",
     "output_type": "stream",
     "text": [
      "Classes prédites: [1 1 1 1 1 1 1 1 1 1 1 1]\n",
      "Scores: [1. 1. 1. 1. 1. 1. 1. 1. 1. 1. 1. 1.]\n",
      "\n",
      "Image 77:\n",
      "Classes vérité terrain: [1]\n"
     ]
    },
    {
     "name": "stderr",
     "output_type": "stream",
     "text": [
      "\r",
      " 32%|█████████████████████████▊                                                       | 78/245 [11:35<26:18,  9.45s/it]"
     ]
    },
    {
     "name": "stdout",
     "output_type": "stream",
     "text": [
      "Classes prédites: [1 1 1 1 1 1 1 1 1 1 1 1]\n",
      "Scores: [1. 1. 1. 1. 1. 1. 1. 1. 1. 1. 1. 1.]\n",
      "\n",
      "Image 78:\n",
      "Classes vérité terrain: [1]\n"
     ]
    },
    {
     "name": "stderr",
     "output_type": "stream",
     "text": [
      "\r",
      " 32%|██████████████████████████                                                       | 79/245 [11:43<25:02,  9.05s/it]"
     ]
    },
    {
     "name": "stdout",
     "output_type": "stream",
     "text": [
      "Classes prédites: [1 1 1 1 1 1 1 1 1 1 1 1]\n",
      "Scores: [1. 1. 1. 1. 1. 1. 1. 1. 1. 1. 1. 1.]\n",
      "\n",
      "Image 79:\n",
      "Classes vérité terrain: [1]\n"
     ]
    },
    {
     "name": "stderr",
     "output_type": "stream",
     "text": [
      "\r",
      " 33%|██████████████████████████▍                                                      | 80/245 [11:52<24:09,  8.79s/it]"
     ]
    },
    {
     "name": "stdout",
     "output_type": "stream",
     "text": [
      "Classes prédites: [1 1 1 1 1 1 1 1 1 1 1 1]\n",
      "Scores: [1. 1. 1. 1. 1. 1. 1. 1. 1. 1. 1. 1.]\n",
      "\n",
      "Image 80:\n",
      "Classes vérité terrain: [1]\n"
     ]
    },
    {
     "name": "stderr",
     "output_type": "stream",
     "text": [
      "\r",
      " 33%|██████████████████████████▊                                                      | 81/245 [12:00<23:36,  8.64s/it]"
     ]
    },
    {
     "name": "stdout",
     "output_type": "stream",
     "text": [
      "Classes prédites: [1 1 1 1 1 1 1 1 1 1 1 1]\n",
      "Scores: [1. 1. 1. 1. 1. 1. 1. 1. 1. 1. 1. 1.]\n",
      "\n",
      "Image 81:\n",
      "Classes vérité terrain: [1]\n"
     ]
    },
    {
     "name": "stderr",
     "output_type": "stream",
     "text": [
      "\r",
      " 33%|███████████████████████████                                                      | 82/245 [12:08<23:15,  8.56s/it]"
     ]
    },
    {
     "name": "stdout",
     "output_type": "stream",
     "text": [
      "Classes prédites: [1 1 1 1 1 1 1 1 1 1 1 1]\n",
      "Scores: [1. 1. 1. 1. 1. 1. 1. 1. 1. 1. 1. 1.]\n",
      "\n",
      "Image 82:\n",
      "Classes vérité terrain: [1]\n"
     ]
    },
    {
     "name": "stderr",
     "output_type": "stream",
     "text": [
      "\r",
      " 34%|███████████████████████████▍                                                     | 83/245 [12:17<23:02,  8.53s/it]"
     ]
    },
    {
     "name": "stdout",
     "output_type": "stream",
     "text": [
      "Classes prédites: [1 1 1 1 1 1 1 1 1 1 1 1]\n",
      "Scores: [1. 1. 1. 1. 1. 1. 1. 1. 1. 1. 1. 1.]\n",
      "\n",
      "Image 83:\n",
      "Classes vérité terrain: [1]\n"
     ]
    },
    {
     "name": "stderr",
     "output_type": "stream",
     "text": [
      "\r",
      " 34%|███████████████████████████▊                                                     | 84/245 [12:25<22:34,  8.41s/it]"
     ]
    },
    {
     "name": "stdout",
     "output_type": "stream",
     "text": [
      "Classes prédites: [1 1 1 1 1 1 1 1 1 1 1 1]\n",
      "Scores: [1. 1. 1. 1. 1. 1. 1. 1. 1. 1. 1. 1.]\n",
      "\n",
      "Image 84:\n",
      "Classes vérité terrain: [1]\n"
     ]
    },
    {
     "name": "stderr",
     "output_type": "stream",
     "text": [
      "\r",
      " 35%|████████████████████████████                                                     | 85/245 [12:33<22:20,  8.38s/it]"
     ]
    },
    {
     "name": "stdout",
     "output_type": "stream",
     "text": [
      "Classes prédites: [1 1 1 1 1 1 1 1 1 1 1 1]\n",
      "Scores: [1. 1. 1. 1. 1. 1. 1. 1. 1. 1. 1. 1.]\n",
      "\n",
      "Image 85:\n",
      "Classes vérité terrain: [1]\n"
     ]
    },
    {
     "name": "stderr",
     "output_type": "stream",
     "text": [
      "\r",
      " 35%|████████████████████████████▍                                                    | 86/245 [12:42<22:22,  8.45s/it]"
     ]
    },
    {
     "name": "stdout",
     "output_type": "stream",
     "text": [
      "Classes prédites: [1 1 1 1 1 1 1 1 1 1 1 1]\n",
      "Scores: [1. 1. 1. 1. 1. 1. 1. 1. 1. 1. 1. 1.]\n",
      "\n",
      "Image 86:\n",
      "Classes vérité terrain: [1]\n",
      "Classes prédites: [1 1 1 1 1 1 1 1 1 1 1 1]\n",
      "Scores: [1. 1. 1. 1. 1. 1. 1. 1. 1. 1. 1. 1.]\n"
     ]
    },
    {
     "name": "stderr",
     "output_type": "stream",
     "text": [
      "\r",
      " 36%|████████████████████████████▊                                                    | 87/245 [12:52<23:40,  8.99s/it]"
     ]
    },
    {
     "name": "stdout",
     "output_type": "stream",
     "text": [
      "\n",
      "Image 87:\n",
      "Classes vérité terrain: [1]\n"
     ]
    },
    {
     "name": "stderr",
     "output_type": "stream",
     "text": [
      "\r",
      " 36%|█████████████████████████████                                                    | 88/245 [13:00<22:49,  8.72s/it]"
     ]
    },
    {
     "name": "stdout",
     "output_type": "stream",
     "text": [
      "Classes prédites: [1 1 1 1 1 1 1 1 1 1 1 1]\n",
      "Scores: [1. 1. 1. 1. 1. 1. 1. 1. 1. 1. 1. 1.]\n",
      "\n",
      "Image 88:\n",
      "Classes vérité terrain: [1]\n"
     ]
    },
    {
     "name": "stderr",
     "output_type": "stream",
     "text": [
      "\r",
      " 36%|█████████████████████████████▍                                                   | 89/245 [13:08<22:14,  8.56s/it]"
     ]
    },
    {
     "name": "stdout",
     "output_type": "stream",
     "text": [
      "Classes prédites: [1 1 1 1 1 1 1 1 1 1 1 1]\n",
      "Scores: [1. 1. 1. 1. 1. 1. 1. 1. 1. 1. 1. 1.]\n",
      "\n",
      "Image 89:\n",
      "Classes vérité terrain: [1]\n",
      "Classes prédites: [1 1 1 1 1 1 1 1 1 1 1 1]\n",
      "Scores: [1. 1. 1. 1. 1. 1. 1. 1. 1. 1. 1. 1.]\n"
     ]
    },
    {
     "name": "stderr",
     "output_type": "stream",
     "text": [
      "\r",
      " 37%|█████████████████████████████▊                                                   | 90/245 [13:25<28:45, 11.14s/it]"
     ]
    },
    {
     "name": "stdout",
     "output_type": "stream",
     "text": [
      "\n",
      "Image 90:\n",
      "Classes vérité terrain: [1]\n"
     ]
    },
    {
     "name": "stderr",
     "output_type": "stream",
     "text": [
      "\r",
      " 37%|██████████████████████████████                                                   | 91/245 [13:35<27:19, 10.65s/it]"
     ]
    },
    {
     "name": "stdout",
     "output_type": "stream",
     "text": [
      "Classes prédites: [1 1 1 1 1 1 1 1 1 1 1 1]\n",
      "Scores: [1. 1. 1. 1. 1. 1. 1. 1. 1. 1. 1. 1.]\n",
      "\n",
      "Image 91:\n",
      "Classes vérité terrain: [1]\n",
      "Classes prédites: [1 1 1 1 1 1 1 1 1 1 1 1]\n",
      "Scores: [1. 1. 1. 1. 1. 1. 1. 1. 1. 1. 1. 1.]\n"
     ]
    },
    {
     "name": "stderr",
     "output_type": "stream",
     "text": [
      "\r",
      " 38%|██████████████████████████████▍                                                  | 92/245 [13:51<31:20, 12.29s/it]"
     ]
    },
    {
     "name": "stdout",
     "output_type": "stream",
     "text": [
      "\n",
      "Image 92:\n",
      "Classes vérité terrain: [1]\n"
     ]
    },
    {
     "name": "stderr",
     "output_type": "stream",
     "text": [
      "\r",
      " 38%|██████████████████████████████▋                                                  | 93/245 [14:00<28:37, 11.30s/it]"
     ]
    },
    {
     "name": "stdout",
     "output_type": "stream",
     "text": [
      "Classes prédites: [1 1 1 1 1 1 1 1 1 1 1 1]\n",
      "Scores: [1. 1. 1. 1. 1. 1. 1. 1. 1. 1. 1. 1.]\n",
      "\n",
      "Image 93:\n",
      "Classes vérité terrain: [1]\n"
     ]
    },
    {
     "name": "stderr",
     "output_type": "stream",
     "text": [
      "\r",
      " 38%|███████████████████████████████                                                  | 94/245 [14:09<26:22, 10.48s/it]"
     ]
    },
    {
     "name": "stdout",
     "output_type": "stream",
     "text": [
      "Classes prédites: [1 1 1 1 1 1 1 1 1 1 1 1]\n",
      "Scores: [1. 1. 1. 1. 1. 1. 1. 1. 1. 1. 1. 1.]\n",
      "\n",
      "Image 94:\n",
      "Classes vérité terrain: [1]\n"
     ]
    },
    {
     "name": "stderr",
     "output_type": "stream",
     "text": [
      "\r",
      " 39%|███████████████████████████████▍                                                 | 95/245 [14:17<24:56,  9.98s/it]"
     ]
    },
    {
     "name": "stdout",
     "output_type": "stream",
     "text": [
      "Classes prédites: [1 1 1 1 1 1 1 1 1 1 1 1]\n",
      "Scores: [1. 1. 1. 1. 1. 1. 1. 1. 1. 1. 1. 1.]\n",
      "\n",
      "Image 95:\n",
      "Classes vérité terrain: [1]\n"
     ]
    },
    {
     "name": "stderr",
     "output_type": "stream",
     "text": [
      "\r",
      " 39%|███████████████████████████████▋                                                 | 96/245 [14:26<23:37,  9.51s/it]"
     ]
    },
    {
     "name": "stdout",
     "output_type": "stream",
     "text": [
      "Classes prédites: [1 1 1 1 1 1 1 1 1 1 1 1]\n",
      "Scores: [1. 1. 1. 1. 1. 1. 1. 1. 1. 1. 1. 1.]\n",
      "\n",
      "Image 96:\n",
      "Classes vérité terrain: [1]\n"
     ]
    },
    {
     "name": "stderr",
     "output_type": "stream",
     "text": [
      "\r",
      " 40%|████████████████████████████████                                                 | 97/245 [14:34<22:47,  9.24s/it]"
     ]
    },
    {
     "name": "stdout",
     "output_type": "stream",
     "text": [
      "Classes prédites: [1 1 1 1 1 1 1 1 1 1 1 1]\n",
      "Scores: [1. 1. 1. 1. 1. 1. 1. 1. 1. 1. 1. 1.]\n",
      "\n",
      "Image 97:\n",
      "Classes vérité terrain: [1]\n"
     ]
    },
    {
     "name": "stderr",
     "output_type": "stream",
     "text": [
      "\r",
      " 40%|████████████████████████████████▍                                                | 98/245 [14:43<22:16,  9.09s/it]"
     ]
    },
    {
     "name": "stdout",
     "output_type": "stream",
     "text": [
      "Classes prédites: [1 1 1 1 1 1 1 1 1 1 1 1]\n",
      "Scores: [1. 1. 1. 1. 1. 1. 1. 1. 1. 1. 1. 1.]\n",
      "\n",
      "Image 98:\n",
      "Classes vérité terrain: [1]\n"
     ]
    },
    {
     "name": "stderr",
     "output_type": "stream",
     "text": [
      "\r",
      " 40%|████████████████████████████████▋                                                | 99/245 [14:52<22:10,  9.12s/it]"
     ]
    },
    {
     "name": "stdout",
     "output_type": "stream",
     "text": [
      "Classes prédites: [1 1 1]\n",
      "Scores: [1. 1. 1.]\n",
      "\n",
      "Image 99:\n",
      "Classes vérité terrain: [1]\n"
     ]
    },
    {
     "name": "stderr",
     "output_type": "stream",
     "text": [
      "\r",
      " 41%|████████████████████████████████▋                                               | 100/245 [15:01<21:26,  8.87s/it]"
     ]
    },
    {
     "name": "stdout",
     "output_type": "stream",
     "text": [
      "Classes prédites: [1 1 1 1 1 1 1 1 1 1 1 1]\n",
      "Scores: [1. 1. 1. 1. 1. 1. 1. 1. 1. 1. 1. 1.]\n",
      "\n",
      "Image 100:\n",
      "Classes vérité terrain: [1]\n"
     ]
    },
    {
     "name": "stderr",
     "output_type": "stream",
     "text": [
      "\r",
      " 41%|████████████████████████████████▉                                               | 101/245 [15:09<20:55,  8.72s/it]"
     ]
    },
    {
     "name": "stdout",
     "output_type": "stream",
     "text": [
      "Classes prédites: [1 1 1 1 1 1 1 1 1 1 1 1]\n",
      "Scores: [1. 1. 1. 1. 1. 1. 1. 1. 1. 1. 1. 1.]\n",
      "\n",
      "Image 101:\n",
      "Classes vérité terrain: [1]\n"
     ]
    },
    {
     "name": "stderr",
     "output_type": "stream",
     "text": [
      "\r",
      " 42%|█████████████████████████████████▎                                              | 102/245 [15:17<20:36,  8.64s/it]"
     ]
    },
    {
     "name": "stdout",
     "output_type": "stream",
     "text": [
      "Classes prédites: [1 1 1 1 1 1 1 1 1 1 1 1]\n",
      "Scores: [1. 1. 1. 1. 1. 1. 1. 1. 1. 1. 1. 1.]\n",
      "\n",
      "Image 102:\n",
      "Classes vérité terrain: [1]\n"
     ]
    },
    {
     "name": "stderr",
     "output_type": "stream",
     "text": [
      "\r",
      " 42%|█████████████████████████████████▋                                              | 103/245 [15:26<20:15,  8.56s/it]"
     ]
    },
    {
     "name": "stdout",
     "output_type": "stream",
     "text": [
      "Classes prédites: [1 1 1 1 1 1 1 1 1 1 1 1]\n",
      "Scores: [1. 1. 1. 1. 1. 1. 1. 1. 1. 1. 1. 1.]\n",
      "\n",
      "Image 103:\n",
      "Classes vérité terrain: [1]\n"
     ]
    },
    {
     "name": "stderr",
     "output_type": "stream",
     "text": [
      "\r",
      " 42%|█████████████████████████████████▉                                              | 104/245 [15:35<20:20,  8.66s/it]"
     ]
    },
    {
     "name": "stdout",
     "output_type": "stream",
     "text": [
      "Classes prédites: [1 1 1 1 1 1 1 1 1 1 1 1]\n",
      "Scores: [1. 1. 1. 1. 1. 1. 1. 1. 1. 1. 1. 1.]\n",
      "\n",
      "Image 104:\n",
      "Classes vérité terrain: [1]\n"
     ]
    },
    {
     "name": "stderr",
     "output_type": "stream",
     "text": [
      "\r",
      " 43%|██████████████████████████████████▎                                             | 105/245 [15:43<20:01,  8.59s/it]"
     ]
    },
    {
     "name": "stdout",
     "output_type": "stream",
     "text": [
      "Classes prédites: [1 1 1 1 1 1 1 1 1 1 1 1]\n",
      "Scores: [1. 1. 1. 1. 1. 1. 1. 1. 1. 1. 1. 1.]\n",
      "\n",
      "Image 105:\n",
      "Classes vérité terrain: [1]\n"
     ]
    },
    {
     "name": "stderr",
     "output_type": "stream",
     "text": [
      "\r",
      " 43%|██████████████████████████████████▌                                             | 106/245 [15:52<19:51,  8.57s/it]"
     ]
    },
    {
     "name": "stdout",
     "output_type": "stream",
     "text": [
      "Classes prédites: [1 1 1 1 1 1 1 1 1 1 1 1]\n",
      "Scores: [1. 1. 1. 1. 1. 1. 1. 1. 1. 1. 1. 1.]\n",
      "\n",
      "Image 106:\n",
      "Classes vérité terrain: [1]\n"
     ]
    },
    {
     "name": "stderr",
     "output_type": "stream",
     "text": [
      "\r",
      " 44%|██████████████████████████████████▉                                             | 107/245 [16:00<19:33,  8.50s/it]"
     ]
    },
    {
     "name": "stdout",
     "output_type": "stream",
     "text": [
      "Classes prédites: [1 1 1 1 1 1 1 1 1 1 1 1]\n",
      "Scores: [1. 1. 1. 1. 1. 1. 1. 1. 1. 1. 1. 1.]\n",
      "Attention: Pas de masques trouvés pour l'image 107\n",
      "Attention: Pas de masques trouvés pour l'image 108\n",
      "\n",
      "Image 109:\n",
      "Classes vérité terrain: [1]\n"
     ]
    },
    {
     "name": "stderr",
     "output_type": "stream",
     "text": [
      "\r",
      " 45%|███████████████████████████████████▉                                            | 110/245 [16:09<11:57,  5.31s/it]"
     ]
    },
    {
     "name": "stdout",
     "output_type": "stream",
     "text": [
      "Classes prédites: [1 1 1 1 1 1 1 1 1 1 1 1]\n",
      "Scores: [1. 1. 1. 1. 1. 1. 1. 1. 1. 1. 1. 1.]\n",
      "\n",
      "Image 110:\n",
      "Classes vérité terrain: [1]\n"
     ]
    },
    {
     "name": "stderr",
     "output_type": "stream",
     "text": [
      "\r",
      " 45%|████████████████████████████████████▏                                           | 111/245 [16:17<13:25,  6.01s/it]"
     ]
    },
    {
     "name": "stdout",
     "output_type": "stream",
     "text": [
      "Classes prédites: [1 1 1 1 1 1 1 1 1 1 1 1]\n",
      "Scores: [1. 1. 1. 1. 1. 1. 1. 1. 1. 1. 1. 1.]\n",
      "\n",
      "Image 111:\n",
      "Classes vérité terrain: [1]\n"
     ]
    },
    {
     "name": "stderr",
     "output_type": "stream",
     "text": [
      "\r",
      " 46%|████████████████████████████████████▌                                           | 112/245 [16:25<14:29,  6.53s/it]"
     ]
    },
    {
     "name": "stdout",
     "output_type": "stream",
     "text": [
      "Classes prédites: [1 1 1 1 1 1 1 1 1 1 1 1]\n",
      "Scores: [1. 1. 1. 1. 1. 1. 1. 1. 1. 1. 1. 1.]\n",
      "\n",
      "Image 112:\n",
      "Classes vérité terrain: [1]\n"
     ]
    },
    {
     "name": "stderr",
     "output_type": "stream",
     "text": [
      "\r",
      " 46%|████████████████████████████████████▉                                           | 113/245 [16:34<15:20,  6.98s/it]"
     ]
    },
    {
     "name": "stdout",
     "output_type": "stream",
     "text": [
      "Classes prédites: [1 1 1 1 1 1 1 1 1 1 1 1]\n",
      "Scores: [1. 1. 1. 1. 1. 1. 1. 1. 1. 1. 1. 1.]\n",
      "\n",
      "Image 113:\n",
      "Classes vérité terrain: [1]\n"
     ]
    },
    {
     "name": "stderr",
     "output_type": "stream",
     "text": [
      "\r",
      " 47%|█████████████████████████████████████▏                                          | 114/245 [16:42<16:01,  7.34s/it]"
     ]
    },
    {
     "name": "stdout",
     "output_type": "stream",
     "text": [
      "Classes prédites: [1 1 1 1 1 1 1 1 1 1 1 1]\n",
      "Scores: [1. 1. 1. 1. 1. 1. 1. 1. 1. 1. 1. 1.]\n",
      "\n",
      "Image 114:\n",
      "Classes vérité terrain: [1]\n"
     ]
    },
    {
     "name": "stderr",
     "output_type": "stream",
     "text": [
      "\r",
      " 47%|█████████████████████████████████████▌                                          | 115/245 [16:50<16:27,  7.60s/it]"
     ]
    },
    {
     "name": "stdout",
     "output_type": "stream",
     "text": [
      "Classes prédites: [1 1 1 1 1 1 1 1 1 1 1 1]\n",
      "Scores: [1. 1. 1. 1. 1. 1. 1. 1. 1. 1. 1. 1.]\n",
      "\n",
      "Image 115:\n",
      "Classes vérité terrain: [1]\n"
     ]
    },
    {
     "name": "stderr",
     "output_type": "stream",
     "text": [
      "\r",
      " 47%|█████████████████████████████████████▉                                          | 116/245 [16:59<16:44,  7.79s/it]"
     ]
    },
    {
     "name": "stdout",
     "output_type": "stream",
     "text": [
      "Classes prédites: [1 1 1 1 1 1 1 1 1 1 1 1]\n",
      "Scores: [1. 1. 1. 1. 1. 1. 1. 1. 1. 1. 1. 1.]\n",
      "\n",
      "Image 116:\n",
      "Classes vérité terrain: [1]\n"
     ]
    },
    {
     "name": "stderr",
     "output_type": "stream",
     "text": [
      "\r",
      " 48%|██████████████████████████████████████▏                                         | 117/245 [17:07<16:56,  7.94s/it]"
     ]
    },
    {
     "name": "stdout",
     "output_type": "stream",
     "text": [
      "Classes prédites: [1 1 1 1 1 1 1 1 1 1 1 1]\n",
      "Scores: [1. 1. 1. 1. 1. 1. 1. 1. 1. 1. 1. 1.]\n",
      "\n",
      "Image 117:\n",
      "Classes vérité terrain: [1]\n"
     ]
    },
    {
     "name": "stderr",
     "output_type": "stream",
     "text": [
      "\r",
      " 48%|██████████████████████████████████████▌                                         | 118/245 [17:15<17:04,  8.07s/it]"
     ]
    },
    {
     "name": "stdout",
     "output_type": "stream",
     "text": [
      "Classes prédites: [1 1 1 1 1 1 1 1 1 1 1 1]\n",
      "Scores: [1. 1. 1. 1. 1. 1. 1. 1. 1. 1. 1. 1.]\n",
      "\n",
      "Image 118:\n",
      "Classes vérité terrain: [1]\n"
     ]
    },
    {
     "name": "stderr",
     "output_type": "stream",
     "text": [
      "\r",
      " 49%|██████████████████████████████████████▊                                         | 119/245 [17:24<17:15,  8.22s/it]"
     ]
    },
    {
     "name": "stdout",
     "output_type": "stream",
     "text": [
      "Classes prédites: [1 1 1 1 1 1 1 1 1 1 1 1]\n",
      "Scores: [1. 1. 1. 1. 1. 1. 1. 1. 1. 1. 1. 1.]\n",
      "\n",
      "Image 119:\n",
      "Classes vérité terrain: [1]\n"
     ]
    },
    {
     "name": "stderr",
     "output_type": "stream",
     "text": [
      "\r",
      " 49%|███████████████████████████████████████▏                                        | 120/245 [17:33<17:27,  8.38s/it]"
     ]
    },
    {
     "name": "stdout",
     "output_type": "stream",
     "text": [
      "Classes prédites: [1 1 1 1 1 1 1 1 1 1 1 1]\n",
      "Scores: [1. 1. 1. 1. 1. 1. 1. 1. 1. 1. 1. 1.]\n",
      "\n",
      "Image 120:\n",
      "Classes vérité terrain: [1]\n"
     ]
    },
    {
     "name": "stderr",
     "output_type": "stream",
     "text": [
      "\r",
      " 49%|███████████████████████████████████████▌                                        | 121/245 [17:41<17:19,  8.38s/it]"
     ]
    },
    {
     "name": "stdout",
     "output_type": "stream",
     "text": [
      "Classes prédites: [1 1 1 1 1 1 1 1 1 1 1 1]\n",
      "Scores: [1. 1. 1. 1. 1. 1. 1. 1. 1. 1. 1. 1.]\n",
      "\n",
      "Image 121:\n",
      "Classes vérité terrain: [1]\n"
     ]
    },
    {
     "name": "stderr",
     "output_type": "stream",
     "text": [
      "\r",
      " 50%|███████████████████████████████████████▊                                        | 122/245 [17:50<17:12,  8.40s/it]"
     ]
    },
    {
     "name": "stdout",
     "output_type": "stream",
     "text": [
      "Classes prédites: [1 1 1 1 1 1 1 1 1 1 1 1]\n",
      "Scores: [1. 1. 1. 1. 1. 1. 1. 1. 1. 1. 1. 1.]\n",
      "\n",
      "Image 122:\n",
      "Classes vérité terrain: [1]\n"
     ]
    },
    {
     "name": "stderr",
     "output_type": "stream",
     "text": [
      "\r",
      " 50%|████████████████████████████████████████▏                                       | 123/245 [17:58<17:02,  8.38s/it]"
     ]
    },
    {
     "name": "stdout",
     "output_type": "stream",
     "text": [
      "Classes prédites: [1 1 1 1 1 1 1 1 1 1 1 1]\n",
      "Scores: [1. 1. 1. 1. 1. 1. 1. 1. 1. 1. 1. 1.]\n",
      "\n",
      "Image 123:\n",
      "Classes vérité terrain: [1]\n"
     ]
    },
    {
     "name": "stderr",
     "output_type": "stream",
     "text": [
      "\r",
      " 51%|████████████████████████████████████████▍                                       | 124/245 [18:06<16:52,  8.37s/it]"
     ]
    },
    {
     "name": "stdout",
     "output_type": "stream",
     "text": [
      "Classes prédites: [1 1 1 1 1 1 1 1 1 1 1 1]\n",
      "Scores: [1. 1. 1. 1. 1. 1. 1. 1. 1. 1. 1. 1.]\n",
      "\n",
      "Image 124:\n",
      "Classes vérité terrain: [1]\n"
     ]
    },
    {
     "name": "stderr",
     "output_type": "stream",
     "text": [
      "\r",
      " 51%|████████████████████████████████████████▊                                       | 125/245 [18:15<16:45,  8.38s/it]"
     ]
    },
    {
     "name": "stdout",
     "output_type": "stream",
     "text": [
      "Classes prédites: [1 1 1 1 1 1 1 1 1 1 1 1]\n",
      "Scores: [1. 1. 1. 1. 1. 1. 1. 1. 1. 1. 1. 1.]\n",
      "\n",
      "Image 125:\n",
      "Classes vérité terrain: [1]\n"
     ]
    },
    {
     "name": "stderr",
     "output_type": "stream",
     "text": [
      "\r",
      " 51%|█████████████████████████████████████████▏                                      | 126/245 [18:23<16:52,  8.51s/it]"
     ]
    },
    {
     "name": "stdout",
     "output_type": "stream",
     "text": [
      "Classes prédites: [1 1 1 1 1 1 1 1 1 1 1 1]\n",
      "Scores: [1. 1. 1. 1. 1. 1. 1. 1. 1. 1. 1. 1.]\n",
      "\n",
      "Image 126:\n",
      "Classes vérité terrain: [1]\n"
     ]
    },
    {
     "name": "stderr",
     "output_type": "stream",
     "text": [
      "\r",
      " 52%|█████████████████████████████████████████▍                                      | 127/245 [18:32<16:36,  8.45s/it]"
     ]
    },
    {
     "name": "stdout",
     "output_type": "stream",
     "text": [
      "Classes prédites: [1 1 1 1 1 1 1 1 1 1 1 1]\n",
      "Scores: [1. 1. 1. 1. 1. 1. 1. 1. 1. 1. 1. 1.]\n",
      "\n",
      "Image 127:\n",
      "Classes vérité terrain: [1]\n"
     ]
    },
    {
     "name": "stderr",
     "output_type": "stream",
     "text": [
      "\r",
      " 52%|█████████████████████████████████████████▊                                      | 128/245 [18:40<16:24,  8.41s/it]"
     ]
    },
    {
     "name": "stdout",
     "output_type": "stream",
     "text": [
      "Classes prédites: [1 1 1 1 1 1 1 1 1 1 1 1]\n",
      "Scores: [1. 1. 1. 1. 1. 1. 1. 1. 1. 1. 1. 1.]\n",
      "\n",
      "Image 128:\n",
      "Classes vérité terrain: [1]\n"
     ]
    },
    {
     "name": "stderr",
     "output_type": "stream",
     "text": [
      "\r",
      " 53%|██████████████████████████████████████████                                      | 129/245 [18:48<16:16,  8.42s/it]"
     ]
    },
    {
     "name": "stdout",
     "output_type": "stream",
     "text": [
      "Classes prédites: [1 1 1 1 1 1 1 1 1 1 1 1]\n",
      "Scores: [1. 1. 1. 1. 1. 1. 1. 1. 1. 1. 1. 1.]\n",
      "\n",
      "Image 129:\n",
      "Classes vérité terrain: [1]\n"
     ]
    },
    {
     "name": "stderr",
     "output_type": "stream",
     "text": [
      "\r",
      " 53%|██████████████████████████████████████████▍                                     | 130/245 [18:57<16:05,  8.40s/it]"
     ]
    },
    {
     "name": "stdout",
     "output_type": "stream",
     "text": [
      "Classes prédites: [1 1 1 1 1 1 1 1 1 1 1 1]\n",
      "Scores: [1. 1. 1. 1. 1. 1. 1. 1. 1. 1. 1. 1.]\n",
      "\n",
      "Image 130:\n",
      "Classes vérité terrain: [1]\n"
     ]
    },
    {
     "name": "stderr",
     "output_type": "stream",
     "text": [
      "\r",
      " 53%|██████████████████████████████████████████▊                                     | 131/245 [19:05<15:56,  8.39s/it]"
     ]
    },
    {
     "name": "stdout",
     "output_type": "stream",
     "text": [
      "Classes prédites: [1 1 1 1 1 1 1 1 1 1 1 1]\n",
      "Scores: [1. 1. 1. 1. 1. 1. 1. 1. 1. 1. 1. 1.]\n",
      "\n",
      "Image 131:\n",
      "Classes vérité terrain: [1]\n"
     ]
    },
    {
     "name": "stderr",
     "output_type": "stream",
     "text": [
      "\r",
      " 54%|███████████████████████████████████████████                                     | 132/245 [19:14<15:59,  8.49s/it]"
     ]
    },
    {
     "name": "stdout",
     "output_type": "stream",
     "text": [
      "Classes prédites: [1 1 1 1 1 1 1 1 1 1 1 1]\n",
      "Scores: [1. 1. 1. 1. 1. 1. 1. 1. 1. 1. 1. 1.]\n",
      "\n",
      "Image 132:\n",
      "Classes vérité terrain: [1]\n"
     ]
    },
    {
     "name": "stderr",
     "output_type": "stream",
     "text": [
      "\r",
      " 54%|███████████████████████████████████████████▍                                    | 133/245 [19:22<15:43,  8.42s/it]"
     ]
    },
    {
     "name": "stdout",
     "output_type": "stream",
     "text": [
      "Classes prédites: [1 1 1 1 1 1 1 1 1 1 1 1]\n",
      "Scores: [1. 1. 1. 1. 1. 1. 1. 1. 1. 1. 1. 1.]\n",
      "\n",
      "Image 133:\n",
      "Classes vérité terrain: [1]\n"
     ]
    },
    {
     "name": "stderr",
     "output_type": "stream",
     "text": [
      "\r",
      " 55%|███████████████████████████████████████████▊                                    | 134/245 [19:31<15:38,  8.45s/it]"
     ]
    },
    {
     "name": "stdout",
     "output_type": "stream",
     "text": [
      "Classes prédites: [1 1 1 1 1 1 1 1 1 1 1 1]\n",
      "Scores: [1. 1. 1. 1. 1. 1. 1. 1. 1. 1. 1. 1.]\n",
      "\n",
      "Image 134:\n",
      "Classes vérité terrain: [1]\n"
     ]
    },
    {
     "name": "stderr",
     "output_type": "stream",
     "text": [
      "\r",
      " 55%|████████████████████████████████████████████                                    | 135/245 [19:39<15:29,  8.45s/it]"
     ]
    },
    {
     "name": "stdout",
     "output_type": "stream",
     "text": [
      "Classes prédites: [1 1 1 1 1 1 1 1 1 1 1 1]\n",
      "Scores: [1. 1. 1. 1. 1. 1. 1. 1. 1. 1. 1. 1.]\n",
      "\n",
      "Image 135:\n",
      "Classes vérité terrain: [1]\n"
     ]
    },
    {
     "name": "stderr",
     "output_type": "stream",
     "text": [
      "\r",
      " 56%|████████████████████████████████████████████▍                                   | 136/245 [19:48<15:22,  8.46s/it]"
     ]
    },
    {
     "name": "stdout",
     "output_type": "stream",
     "text": [
      "Classes prédites: [1 1 1 1 1 1 1 1 1 1 1 1]\n",
      "Scores: [1. 1. 1. 1. 1. 1. 1. 1. 1. 1. 1. 1.]\n",
      "\n",
      "Image 136:\n",
      "Classes vérité terrain: [1]\n"
     ]
    },
    {
     "name": "stderr",
     "output_type": "stream",
     "text": [
      "\r",
      " 56%|████████████████████████████████████████████▋                                   | 137/245 [19:56<15:21,  8.53s/it]"
     ]
    },
    {
     "name": "stdout",
     "output_type": "stream",
     "text": [
      "Classes prédites: [1 1 1 1 1 1 1 1 1 1 1 1]\n",
      "Scores: [1. 1. 1. 1. 1. 1. 1. 1. 1. 1. 1. 1.]\n",
      "\n",
      "Image 137:\n",
      "Classes vérité terrain: [1]\n"
     ]
    },
    {
     "name": "stderr",
     "output_type": "stream",
     "text": [
      "\r",
      " 56%|█████████████████████████████████████████████                                   | 138/245 [20:05<15:12,  8.53s/it]"
     ]
    },
    {
     "name": "stdout",
     "output_type": "stream",
     "text": [
      "Classes prédites: [1 1 1 1 1 1 1 1 1 1 1 1]\n",
      "Scores: [1. 1. 1. 1. 1. 1. 1. 1. 1. 1. 1. 1.]\n",
      "\n",
      "Image 138:\n",
      "Classes vérité terrain: [1]\n"
     ]
    },
    {
     "name": "stderr",
     "output_type": "stream",
     "text": [
      "\r",
      " 57%|█████████████████████████████████████████████▍                                  | 139/245 [20:15<15:56,  9.02s/it]"
     ]
    },
    {
     "name": "stdout",
     "output_type": "stream",
     "text": [
      "Classes prédites: [1 1 1 1 1 1 1 1 1 1 1 1]\n",
      "Scores: [1. 1. 1. 1. 1. 1. 1. 1. 1. 1. 1. 1.]\n",
      "\n",
      "Image 139:\n",
      "Classes vérité terrain: [1]\n"
     ]
    },
    {
     "name": "stderr",
     "output_type": "stream",
     "text": [
      "\r",
      " 57%|█████████████████████████████████████████████▋                                  | 140/245 [20:25<16:24,  9.37s/it]"
     ]
    },
    {
     "name": "stdout",
     "output_type": "stream",
     "text": [
      "Classes prédites: [1 1 1 1 1 1 1 1 1 1 1 1]\n",
      "Scores: [1. 1. 1. 1. 1. 1. 1. 1. 1. 1. 1. 1.]\n",
      "\n",
      "Image 140:\n",
      "Classes vérité terrain: [1]\n"
     ]
    },
    {
     "name": "stderr",
     "output_type": "stream",
     "text": [
      "\r",
      " 58%|██████████████████████████████████████████████                                  | 141/245 [20:35<16:23,  9.46s/it]"
     ]
    },
    {
     "name": "stdout",
     "output_type": "stream",
     "text": [
      "Classes prédites: [1 1 1 1 1 1 1 1 1 1 1 1]\n",
      "Scores: [1. 1. 1. 1. 1. 1. 1. 1. 1. 1. 1. 1.]\n",
      "\n",
      "Image 141:\n",
      "Classes vérité terrain: [1]\n"
     ]
    },
    {
     "name": "stderr",
     "output_type": "stream",
     "text": [
      "\r",
      " 58%|██████████████████████████████████████████████▎                                 | 142/245 [20:43<15:39,  9.12s/it]"
     ]
    },
    {
     "name": "stdout",
     "output_type": "stream",
     "text": [
      "Classes prédites: [1 1 1 1 1 1 1 1 1 1 1 1]\n",
      "Scores: [1. 1. 1. 1. 1. 1. 1. 1. 1. 1. 1. 1.]\n",
      "\n",
      "Image 142:\n",
      "Classes vérité terrain: [1]\n"
     ]
    },
    {
     "name": "stderr",
     "output_type": "stream",
     "text": [
      "\r",
      " 58%|██████████████████████████████████████████████▋                                 | 143/245 [20:52<15:12,  8.95s/it]"
     ]
    },
    {
     "name": "stdout",
     "output_type": "stream",
     "text": [
      "Classes prédites: [1 1 1 1 1 1 1 1 1 1 1 1]\n",
      "Scores: [1. 1. 1. 1. 1. 1. 1. 1. 1. 1. 1. 1.]\n",
      "\n",
      "Image 143:\n",
      "Classes vérité terrain: [1]\n"
     ]
    },
    {
     "name": "stderr",
     "output_type": "stream",
     "text": [
      "\r",
      " 59%|███████████████████████████████████████████████                                 | 144/245 [21:00<14:50,  8.82s/it]"
     ]
    },
    {
     "name": "stdout",
     "output_type": "stream",
     "text": [
      "Classes prédites: [1 1 1 1 1 1 1 1 1 1 1 1]\n",
      "Scores: [1. 1. 1. 1. 1. 1. 1. 1. 1. 1. 1. 1.]\n",
      "\n",
      "Image 144:\n",
      "Classes vérité terrain: [1]\n"
     ]
    },
    {
     "name": "stderr",
     "output_type": "stream",
     "text": [
      "\r",
      " 59%|███████████████████████████████████████████████▎                                | 145/245 [21:09<14:28,  8.69s/it]"
     ]
    },
    {
     "name": "stdout",
     "output_type": "stream",
     "text": [
      "Classes prédites: [1 1 1 1 1 1 1 1 1 1 1 1]\n",
      "Scores: [1. 1. 1. 1. 1. 1. 1. 1. 1. 1. 1. 1.]\n",
      "\n",
      "Image 145:\n",
      "Classes vérité terrain: [1]\n"
     ]
    },
    {
     "name": "stderr",
     "output_type": "stream",
     "text": [
      "\r",
      " 60%|███████████████████████████████████████████████▋                                | 146/245 [21:17<14:10,  8.59s/it]"
     ]
    },
    {
     "name": "stdout",
     "output_type": "stream",
     "text": [
      "Classes prédites: [1 1 1 1 1 1 1 1 1 1 1 1]\n",
      "Scores: [1. 1. 1. 1. 1. 1. 1. 1. 1. 1. 1. 1.]\n",
      "\n",
      "Image 146:\n",
      "Classes vérité terrain: [1]\n"
     ]
    },
    {
     "name": "stderr",
     "output_type": "stream",
     "text": [
      "\r",
      " 60%|████████████████████████████████████████████████                                | 147/245 [21:25<13:56,  8.54s/it]"
     ]
    },
    {
     "name": "stdout",
     "output_type": "stream",
     "text": [
      "Classes prédites: [1 1 1 1 1 1 1 1 1 1 1 1]\n",
      "Scores: [1. 1. 1. 1. 1. 1. 1. 1. 1. 1. 1. 1.]\n",
      "\n",
      "Image 147:\n",
      "Classes vérité terrain: [1]\n"
     ]
    },
    {
     "name": "stderr",
     "output_type": "stream",
     "text": [
      "\r",
      " 60%|████████████████████████████████████████████████▎                               | 148/245 [21:34<13:46,  8.52s/it]"
     ]
    },
    {
     "name": "stdout",
     "output_type": "stream",
     "text": [
      "Classes prédites: [1 1 1 1 1 1 1 1 1 1 1 1]\n",
      "Scores: [1. 1. 1. 1. 1. 1. 1. 1. 1. 1. 1. 1.]\n",
      "\n",
      "Image 148:\n",
      "Classes vérité terrain: [1]\n"
     ]
    },
    {
     "name": "stderr",
     "output_type": "stream",
     "text": [
      "\r",
      " 61%|████████████████████████████████████████████████▋                               | 149/245 [21:42<13:36,  8.50s/it]"
     ]
    },
    {
     "name": "stdout",
     "output_type": "stream",
     "text": [
      "Classes prédites: [1 1 1 1 1 1 1 1 1 1 1 1]\n",
      "Scores: [1. 1. 1. 1. 1. 1. 1. 1. 1. 1. 1. 1.]\n",
      "\n",
      "Image 149:\n",
      "Classes vérité terrain: [1]\n"
     ]
    },
    {
     "name": "stderr",
     "output_type": "stream",
     "text": [
      "\r",
      " 61%|████████████████████████████████████████████████▉                               | 150/245 [21:51<13:25,  8.47s/it]"
     ]
    },
    {
     "name": "stdout",
     "output_type": "stream",
     "text": [
      "Classes prédites: [1 1 1 1 1 1 1 1 1 1 1 1]\n",
      "Scores: [1. 1. 1. 1. 1. 1. 1. 1. 1. 1. 1. 1.]\n",
      "\n",
      "Image 150:\n",
      "Classes vérité terrain: [1]\n"
     ]
    },
    {
     "name": "stderr",
     "output_type": "stream",
     "text": [
      "\r",
      " 62%|█████████████████████████████████████████████████▎                              | 151/245 [21:59<13:14,  8.46s/it]"
     ]
    },
    {
     "name": "stdout",
     "output_type": "stream",
     "text": [
      "Classes prédites: [1 1 1 1 1 1 1 1 1 1 1 1]\n",
      "Scores: [1. 1. 1. 1. 1. 1. 1. 1. 1. 1. 1. 1.]\n",
      "\n",
      "Image 151:\n",
      "Classes vérité terrain: [1]\n"
     ]
    },
    {
     "name": "stderr",
     "output_type": "stream",
     "text": [
      "\r",
      " 62%|█████████████████████████████████████████████████▋                              | 152/245 [22:08<13:04,  8.43s/it]"
     ]
    },
    {
     "name": "stdout",
     "output_type": "stream",
     "text": [
      "Classes prédites: [1 1 1 1 1 1 1 1 1 1 1 1]\n",
      "Scores: [1. 1. 1. 1. 1. 1. 1. 1. 1. 1. 1. 1.]\n",
      "\n",
      "Image 152:\n",
      "Classes vérité terrain: [1]\n"
     ]
    },
    {
     "name": "stderr",
     "output_type": "stream",
     "text": [
      "\r",
      " 62%|█████████████████████████████████████████████████▉                              | 153/245 [22:16<13:01,  8.49s/it]"
     ]
    },
    {
     "name": "stdout",
     "output_type": "stream",
     "text": [
      "Classes prédites: [1 1 1 1 1 1 1 1 1 1 1 1]\n",
      "Scores: [1. 1. 1. 1. 1. 1. 1. 1. 1. 1. 1. 1.]\n",
      "\n",
      "Image 153:\n",
      "Classes vérité terrain: [1]\n"
     ]
    },
    {
     "name": "stderr",
     "output_type": "stream",
     "text": [
      "\r",
      " 63%|██████████████████████████████████████████████████▎                             | 154/245 [22:25<12:56,  8.53s/it]"
     ]
    },
    {
     "name": "stdout",
     "output_type": "stream",
     "text": [
      "Classes prédites: [1 1 1 1 1 1 1 1 1 1 1 1]\n",
      "Scores: [1. 1. 1. 1. 1. 1. 1. 1. 1. 1. 1. 1.]\n",
      "\n",
      "Image 154:\n",
      "Classes vérité terrain: [1]\n"
     ]
    },
    {
     "name": "stderr",
     "output_type": "stream",
     "text": [
      "\r",
      " 63%|██████████████████████████████████████████████████▌                             | 155/245 [22:34<12:55,  8.61s/it]"
     ]
    },
    {
     "name": "stdout",
     "output_type": "stream",
     "text": [
      "Classes prédites: [1 1 1 1 1 1 1 1 1 1 1 1]\n",
      "Scores: [1. 1. 1. 1. 1. 1. 1. 1. 1. 1. 1. 1.]\n",
      "\n",
      "Image 155:\n",
      "Classes vérité terrain: [1]\n"
     ]
    },
    {
     "name": "stderr",
     "output_type": "stream",
     "text": [
      "\r",
      " 64%|██████████████████████████████████████████████████▉                             | 156/245 [22:42<12:47,  8.63s/it]"
     ]
    },
    {
     "name": "stdout",
     "output_type": "stream",
     "text": [
      "Classes prédites: [1 1 1 1 1 1 1 1 1 1 1 1]\n",
      "Scores: [1. 1. 1. 1. 1. 1. 1. 1. 1. 1. 1. 1.]\n",
      "\n",
      "Image 156:\n",
      "Classes vérité terrain: [1]\n"
     ]
    },
    {
     "name": "stderr",
     "output_type": "stream",
     "text": [
      "\r",
      " 64%|███████████████████████████████████████████████████▎                            | 157/245 [22:51<12:40,  8.64s/it]"
     ]
    },
    {
     "name": "stdout",
     "output_type": "stream",
     "text": [
      "Classes prédites: [1 1 1 1 1 1 1 1 1 1 1 1]\n",
      "Scores: [1. 1. 1. 1. 1. 1. 1. 1. 1. 1. 1. 1.]\n",
      "\n",
      "Image 157:\n",
      "Classes vérité terrain: [1]\n"
     ]
    },
    {
     "name": "stderr",
     "output_type": "stream",
     "text": [
      "\r",
      " 64%|███████████████████████████████████████████████████▌                            | 158/245 [22:59<12:23,  8.55s/it]"
     ]
    },
    {
     "name": "stdout",
     "output_type": "stream",
     "text": [
      "Classes prédites: [1 1 1 1 1 1 1 1 1 1 1 1]\n",
      "Scores: [1. 1. 1. 1. 1. 1. 1. 1. 1. 1. 1. 1.]\n",
      "\n",
      "Image 158:\n",
      "Classes vérité terrain: [1]\n"
     ]
    },
    {
     "name": "stderr",
     "output_type": "stream",
     "text": [
      "\r",
      " 65%|███████████████████████████████████████████████████▉                            | 159/245 [23:08<12:10,  8.50s/it]"
     ]
    },
    {
     "name": "stdout",
     "output_type": "stream",
     "text": [
      "Classes prédites: [1 1 1 1 1 1 1 1 1 1 1 1]\n",
      "Scores: [1. 1. 1. 1. 1. 1. 1. 1. 1. 1. 1. 1.]\n",
      "\n",
      "Image 159:\n",
      "Classes vérité terrain: [1]\n"
     ]
    },
    {
     "name": "stderr",
     "output_type": "stream",
     "text": [
      "\r",
      " 65%|████████████████████████████████████████████████████▏                           | 160/245 [23:16<11:59,  8.47s/it]"
     ]
    },
    {
     "name": "stdout",
     "output_type": "stream",
     "text": [
      "Classes prédites: [1 1 1 1 1 1 1 1 1 1 1 1]\n",
      "Scores: [1. 1. 1. 1. 1. 1. 1. 1. 1. 1. 1. 1.]\n",
      "\n",
      "Image 160:\n",
      "Classes vérité terrain: [1]\n"
     ]
    },
    {
     "name": "stderr",
     "output_type": "stream",
     "text": [
      "\r",
      " 66%|████████████████████████████████████████████████████▌                           | 161/245 [23:25<11:51,  8.47s/it]"
     ]
    },
    {
     "name": "stdout",
     "output_type": "stream",
     "text": [
      "Classes prédites: [1 1 1 1 1 1 1 1 1 1 1 1]\n",
      "Scores: [1. 1. 1. 1. 1. 1. 1. 1. 1. 1. 1. 1.]\n",
      "\n",
      "Image 161:\n",
      "Classes vérité terrain: [1]\n"
     ]
    },
    {
     "name": "stderr",
     "output_type": "stream",
     "text": [
      "\r",
      " 66%|████████████████████████████████████████████████████▉                           | 162/245 [23:33<11:40,  8.44s/it]"
     ]
    },
    {
     "name": "stdout",
     "output_type": "stream",
     "text": [
      "Classes prédites: [1 1 1 1 1 1 1 1 1 1 1 1]\n",
      "Scores: [1. 1. 1. 1. 1. 1. 1. 1. 1. 1. 1. 1.]\n",
      "\n",
      "Image 162:\n",
      "Classes vérité terrain: [1]\n"
     ]
    },
    {
     "name": "stderr",
     "output_type": "stream",
     "text": [
      "\r",
      " 67%|█████████████████████████████████████████████████████▏                          | 163/245 [23:41<11:28,  8.39s/it]"
     ]
    },
    {
     "name": "stdout",
     "output_type": "stream",
     "text": [
      "Classes prédites: [1 1 1 1 1 1 1 1 1 1 1 1]\n",
      "Scores: [1. 1. 1. 1. 1. 1. 1. 1. 1. 1. 1. 1.]\n",
      "\n",
      "Image 163:\n",
      "Classes vérité terrain: [1]\n"
     ]
    },
    {
     "name": "stderr",
     "output_type": "stream",
     "text": [
      "\r",
      " 67%|█████████████████████████████████████████████████████▌                          | 164/245 [23:50<11:22,  8.42s/it]"
     ]
    },
    {
     "name": "stdout",
     "output_type": "stream",
     "text": [
      "Classes prédites: [1 1 1 1 1 1 1 1 1 1 1 1]\n",
      "Scores: [1. 1. 1. 1. 1. 1. 1. 1. 1. 1. 1. 1.]\n",
      "\n",
      "Image 164:\n",
      "Classes vérité terrain: [1]\n"
     ]
    },
    {
     "name": "stderr",
     "output_type": "stream",
     "text": [
      "\r",
      " 67%|█████████████████████████████████████████████████████▉                          | 165/245 [23:58<11:12,  8.41s/it]"
     ]
    },
    {
     "name": "stdout",
     "output_type": "stream",
     "text": [
      "Classes prédites: [1 1 1 1 1 1 1 1 1 1 1 1]\n",
      "Scores: [1. 1. 1. 1. 1. 1. 1. 1. 1. 1. 1. 1.]\n",
      "\n",
      "Image 165:\n",
      "Classes vérité terrain: [1]\n"
     ]
    },
    {
     "name": "stderr",
     "output_type": "stream",
     "text": [
      "\r",
      " 68%|██████████████████████████████████████████████████████▏                         | 166/245 [24:06<11:01,  8.37s/it]"
     ]
    },
    {
     "name": "stdout",
     "output_type": "stream",
     "text": [
      "Classes prédites: [1 1 1 1 1 1 1 1 1 1 1 1]\n",
      "Scores: [1. 1. 1. 1. 1. 1. 1. 1. 1. 1. 1. 1.]\n",
      "\n",
      "Image 166:\n",
      "Classes vérité terrain: [1]\n"
     ]
    },
    {
     "name": "stderr",
     "output_type": "stream",
     "text": [
      "\r",
      " 68%|██████████████████████████████████████████████████████▌                         | 167/245 [24:15<10:52,  8.36s/it]"
     ]
    },
    {
     "name": "stdout",
     "output_type": "stream",
     "text": [
      "Classes prédites: [1 1 1 1 1 1 1 1 1 1 1 1]\n",
      "Scores: [1. 1. 1. 1. 1. 1. 1. 1. 1. 1. 1. 1.]\n",
      "\n",
      "Image 167:\n",
      "Classes vérité terrain: [1]\n"
     ]
    },
    {
     "name": "stderr",
     "output_type": "stream",
     "text": [
      "\r",
      " 69%|██████████████████████████████████████████████████████▊                         | 168/245 [24:23<10:45,  8.38s/it]"
     ]
    },
    {
     "name": "stdout",
     "output_type": "stream",
     "text": [
      "Classes prédites: [1 1 1 1 1 1 1 1 1 1 1 1]\n",
      "Scores: [1. 1. 1. 1. 1. 1. 1. 1. 1. 1. 1. 1.]\n",
      "\n",
      "Image 168:\n",
      "Classes vérité terrain: [1]\n"
     ]
    },
    {
     "name": "stderr",
     "output_type": "stream",
     "text": [
      "\r",
      " 69%|███████████████████████████████████████████████████████▏                        | 169/245 [24:32<10:38,  8.40s/it]"
     ]
    },
    {
     "name": "stdout",
     "output_type": "stream",
     "text": [
      "Classes prédites: [1 1 1 1 1 1 1 1 1 1 1 1]\n",
      "Scores: [1. 1. 1. 1. 1. 1. 1. 1. 1. 1. 1. 1.]\n",
      "\n",
      "Image 169:\n",
      "Classes vérité terrain: [1]\n"
     ]
    },
    {
     "name": "stderr",
     "output_type": "stream",
     "text": [
      "\r",
      " 69%|███████████████████████████████████████████████████████▌                        | 170/245 [24:40<10:27,  8.36s/it]"
     ]
    },
    {
     "name": "stdout",
     "output_type": "stream",
     "text": [
      "Classes prédites: [1 1 1 1 1 1 1 1 1 1 1 1]\n",
      "Scores: [1. 1. 1. 1. 1. 1. 1. 1. 1. 1. 1. 1.]\n",
      "\n",
      "Image 170:\n",
      "Classes vérité terrain: [1]\n"
     ]
    },
    {
     "name": "stderr",
     "output_type": "stream",
     "text": [
      "\r",
      " 70%|███████████████████████████████████████████████████████▊                        | 171/245 [24:48<10:17,  8.34s/it]"
     ]
    },
    {
     "name": "stdout",
     "output_type": "stream",
     "text": [
      "Classes prédites: [1 1 1 1 1 1 1 1 1 1 1 1]\n",
      "Scores: [1. 1. 1. 1. 1. 1. 1. 1. 1. 1. 1. 1.]\n",
      "\n",
      "Image 171:\n",
      "Classes vérité terrain: [1]\n"
     ]
    },
    {
     "name": "stderr",
     "output_type": "stream",
     "text": [
      "\r",
      " 70%|████████████████████████████████████████████████████████▏                       | 172/245 [24:56<10:07,  8.32s/it]"
     ]
    },
    {
     "name": "stdout",
     "output_type": "stream",
     "text": [
      "Classes prédites: [1 1 1 1 1 1 1 1 1 1 1 1]\n",
      "Scores: [1. 1. 1. 1. 1. 1. 1. 1. 1. 1. 1. 1.]\n",
      "\n",
      "Image 172:\n",
      "Classes vérité terrain: [1]\n"
     ]
    },
    {
     "name": "stderr",
     "output_type": "stream",
     "text": [
      "\r",
      " 71%|████████████████████████████████████████████████████████▍                       | 173/245 [25:05<09:58,  8.32s/it]"
     ]
    },
    {
     "name": "stdout",
     "output_type": "stream",
     "text": [
      "Classes prédites: [1 1 1 1 1 1 1 1 1 1 1 1]\n",
      "Scores: [1. 1. 1. 1. 1. 1. 1. 1. 1. 1. 1. 1.]\n",
      "\n",
      "Image 173:\n",
      "Classes vérité terrain: [1]\n"
     ]
    },
    {
     "name": "stderr",
     "output_type": "stream",
     "text": [
      "\r",
      " 71%|████████████████████████████████████████████████████████▊                       | 174/245 [25:13<09:49,  8.31s/it]"
     ]
    },
    {
     "name": "stdout",
     "output_type": "stream",
     "text": [
      "Classes prédites: [1 1 1 1 1 1 1 1 1 1 1 1]\n",
      "Scores: [1. 1. 1. 1. 1. 1. 1. 1. 1. 1. 1. 1.]\n",
      "\n",
      "Image 174:\n",
      "Classes vérité terrain: [1]\n"
     ]
    },
    {
     "name": "stderr",
     "output_type": "stream",
     "text": [
      "\r",
      " 71%|█████████████████████████████████████████████████████████▏                      | 175/245 [25:22<09:46,  8.38s/it]"
     ]
    },
    {
     "name": "stdout",
     "output_type": "stream",
     "text": [
      "Classes prédites: [1 1 1 1 1 1 1 1 1 1 1 1]\n",
      "Scores: [1. 1. 1. 1. 1. 1. 1. 1. 1. 1. 1. 1.]\n",
      "\n",
      "Image 175:\n",
      "Classes vérité terrain: [1]\n"
     ]
    },
    {
     "name": "stderr",
     "output_type": "stream",
     "text": [
      "\r",
      " 72%|█████████████████████████████████████████████████████████▍                      | 176/245 [25:30<09:40,  8.41s/it]"
     ]
    },
    {
     "name": "stdout",
     "output_type": "stream",
     "text": [
      "Classes prédites: [1 1 1 1 1 1 1 1 1 1 1 1]\n",
      "Scores: [1. 1. 1. 1. 1. 1. 1. 1. 1. 1. 1. 1.]\n",
      "\n",
      "Image 176:\n",
      "Classes vérité terrain: [1]\n"
     ]
    },
    {
     "name": "stderr",
     "output_type": "stream",
     "text": [
      "\r",
      " 72%|█████████████████████████████████████████████████████████▊                      | 177/245 [25:38<09:28,  8.37s/it]"
     ]
    },
    {
     "name": "stdout",
     "output_type": "stream",
     "text": [
      "Classes prédites: [1 1 1 1 1 1 1 1 1 1 1 1]\n",
      "Scores: [1. 1. 1. 1. 1. 1. 1. 1. 1. 1. 1. 1.]\n",
      "\n",
      "Image 177:\n",
      "Classes vérité terrain: [1]\n"
     ]
    },
    {
     "name": "stderr",
     "output_type": "stream",
     "text": [
      "\r",
      " 73%|██████████████████████████████████████████████████████████                      | 178/245 [25:47<09:18,  8.33s/it]"
     ]
    },
    {
     "name": "stdout",
     "output_type": "stream",
     "text": [
      "Classes prédites: [1 1 1 1 1 1 1 1 1 1 1 1]\n",
      "Scores: [1. 1. 1. 1. 1. 1. 1. 1. 1. 1. 1. 1.]\n",
      "\n",
      "Image 178:\n",
      "Classes vérité terrain: [1]\n"
     ]
    },
    {
     "name": "stderr",
     "output_type": "stream",
     "text": [
      "\r",
      " 73%|██████████████████████████████████████████████████████████▍                     | 179/245 [25:55<09:07,  8.29s/it]"
     ]
    },
    {
     "name": "stdout",
     "output_type": "stream",
     "text": [
      "Classes prédites: [1 1 1 1 1 1 1 1 1 1 1 1]\n",
      "Scores: [1. 1. 1. 1. 1. 1. 1. 1. 1. 1. 1. 1.]\n",
      "\n",
      "Image 179:\n",
      "Classes vérité terrain: [1]\n"
     ]
    },
    {
     "name": "stderr",
     "output_type": "stream",
     "text": [
      "\r",
      " 73%|██████████████████████████████████████████████████████████▊                     | 180/245 [26:03<08:59,  8.31s/it]"
     ]
    },
    {
     "name": "stdout",
     "output_type": "stream",
     "text": [
      "Classes prédites: [1 1 1 1 1 1 1 1 1 1 1 1]\n",
      "Scores: [1. 1. 1. 1. 1. 1. 1. 1. 1. 1. 1. 1.]\n",
      "\n",
      "Image 180:\n",
      "Classes vérité terrain: [1]\n"
     ]
    },
    {
     "name": "stderr",
     "output_type": "stream",
     "text": [
      "\r",
      " 74%|███████████████████████████████████████████████████████████                     | 181/245 [26:11<08:50,  8.29s/it]"
     ]
    },
    {
     "name": "stdout",
     "output_type": "stream",
     "text": [
      "Classes prédites: [1 1 1 1 1 1 1 1 1 1 1 1]\n",
      "Scores: [1. 1. 1. 1. 1. 1. 1. 1. 1. 1. 1. 1.]\n",
      "\n",
      "Image 181:\n",
      "Classes vérité terrain: [1]\n"
     ]
    },
    {
     "name": "stderr",
     "output_type": "stream",
     "text": [
      "\r",
      " 74%|███████████████████████████████████████████████████████████▍                    | 182/245 [26:20<08:52,  8.45s/it]"
     ]
    },
    {
     "name": "stdout",
     "output_type": "stream",
     "text": [
      "Classes prédites: [1 1 1 1 1 1 1 1 1 1 1 1]\n",
      "Scores: [1. 1. 1. 1. 1. 1. 1. 1. 1. 1. 1. 1.]\n",
      "\n",
      "Image 182:\n",
      "Classes vérité terrain: [1]\n"
     ]
    },
    {
     "name": "stderr",
     "output_type": "stream",
     "text": [
      " 77%|█████████████████████████████████████████████████████████████▋                  | 189/245 [26:29<02:12,  2.36s/it]"
     ]
    },
    {
     "name": "stdout",
     "output_type": "stream",
     "text": [
      "Classes prédites: [1 1 1 1 1 1 1 1 1 1 1 1]\n",
      "Scores: [1. 1. 1. 1. 1. 1. 1. 1. 1. 1. 1. 1.]\n",
      "Attention: Pas de masques trouvés pour l'image 183\n",
      "Attention: Pas de masques trouvés pour l'image 184\n",
      "Attention: Pas de masques trouvés pour l'image 185\n",
      "Attention: Pas de masques trouvés pour l'image 186\n",
      "Attention: Pas de masques trouvés pour l'image 187\n",
      "Attention: Pas de masques trouvés pour l'image 188\n",
      "Attention: Pas de masques trouvés pour l'image 189\n",
      "Attention: Pas de masques trouvés pour l'image 190\n",
      "\n",
      "Image 191:\n",
      "Classes vérité terrain: [1]\n"
     ]
    },
    {
     "name": "stderr",
     "output_type": "stream",
     "text": [
      "\r",
      " 78%|██████████████████████████████████████████████████████████████▋                 | 192/245 [26:37<02:12,  2.50s/it]"
     ]
    },
    {
     "name": "stdout",
     "output_type": "stream",
     "text": [
      "Classes prédites: [1 1 1 1 1 1 1 1 1 1 1 1]\n",
      "Scores: [1. 1. 1. 1. 1. 1. 1. 1. 1. 1. 1. 1.]\n",
      "\n",
      "Image 192:\n",
      "Classes vérité terrain: [1]\n",
      "Classes prédites: [1 1 1 1 1 1 1 1 1 1 1 1]\n",
      "Scores: [1. 1. 1. 1. 1. 1. 1. 1. 1. 1. 1. 1.]\n",
      "\n",
      "Image 193:\n",
      "Classes vérité terrain: [1]\n"
     ]
    },
    {
     "name": "stderr",
     "output_type": "stream",
     "text": [
      "\r",
      " 78%|██████████████████████████████████████████████████████████████▋                 | 192/245 [26:48<02:12,  2.50s/it]"
     ]
    },
    {
     "name": "stdout",
     "output_type": "stream",
     "text": [
      "Classes prédites: [1 1 1 1 1 1 1 1 1 1 1 1]\n",
      "Scores: [1. 1. 1. 1. 1. 1. 1. 1. 1. 1. 1. 1.]\n"
     ]
    },
    {
     "name": "stderr",
     "output_type": "stream",
     "text": [
      "\r",
      " 79%|███████████████████████████████████████████████████████████████▎                | 194/245 [26:54<03:25,  4.03s/it]"
     ]
    },
    {
     "name": "stdout",
     "output_type": "stream",
     "text": [
      "\n",
      "Image 194:\n",
      "Classes vérité terrain: [1]\n"
     ]
    },
    {
     "name": "stderr",
     "output_type": "stream",
     "text": [
      "\r",
      " 80%|███████████████████████████████████████████████████████████████▋                | 195/245 [27:03<03:53,  4.66s/it]"
     ]
    },
    {
     "name": "stdout",
     "output_type": "stream",
     "text": [
      "Classes prédites: [1 1 1 1 1 1 1 1 1 1 1 1]\n",
      "Scores: [1. 1. 1. 1. 1. 1. 1. 1. 1. 1. 1. 1.]\n",
      "\n",
      "Image 195:\n",
      "Classes vérité terrain: [1]\n"
     ]
    },
    {
     "name": "stderr",
     "output_type": "stream",
     "text": [
      "\r",
      " 80%|████████████████████████████████████████████████████████████████                | 196/245 [27:11<04:20,  5.33s/it]"
     ]
    },
    {
     "name": "stdout",
     "output_type": "stream",
     "text": [
      "Classes prédites: [1 1 1]\n",
      "Scores: [1. 1. 1.]\n",
      "\n",
      "Image 196:\n",
      "Classes vérité terrain: [1]\n"
     ]
    },
    {
     "name": "stderr",
     "output_type": "stream",
     "text": [
      "\r",
      " 80%|████████████████████████████████████████████████████████████████▎               | 197/245 [27:20<04:51,  6.08s/it]"
     ]
    },
    {
     "name": "stdout",
     "output_type": "stream",
     "text": [
      "Classes prédites: [1 1 1]\n",
      "Scores: [1. 1. 1.]\n",
      "\n",
      "Image 197:\n",
      "Classes vérité terrain: [1]\n"
     ]
    },
    {
     "name": "stderr",
     "output_type": "stream",
     "text": [
      "\r",
      " 81%|████████████████████████████████████████████████████████████████▋               | 198/245 [27:30<05:29,  7.00s/it]"
     ]
    },
    {
     "name": "stdout",
     "output_type": "stream",
     "text": [
      "Classes prédites: [1 1 1]\n",
      "Scores: [1. 1. 1.]\n",
      "\n",
      "Image 198:\n",
      "Classes vérité terrain: [1]\n"
     ]
    },
    {
     "name": "stderr",
     "output_type": "stream",
     "text": [
      "\r",
      " 81%|████████████████████████████████████████████████████████████████▉               | 199/245 [27:39<05:36,  7.32s/it]"
     ]
    },
    {
     "name": "stdout",
     "output_type": "stream",
     "text": [
      "Classes prédites: [1 1 1 1 1 1 1 1 1 1 1 1]\n",
      "Scores: [1. 1. 1. 1. 1. 1. 1. 1. 1. 1. 1. 1.]\n",
      "\n",
      "Image 199:\n",
      "Classes vérité terrain: [1 1]\n",
      "Classes prédites: [1 1 1 1 1 1 1 1 1 1 1 1]\n",
      "Scores: [1. 1. 1. 1. 1. 1. 1. 1. 1. 1. 1. 1.]\n"
     ]
    },
    {
     "name": "stderr",
     "output_type": "stream",
     "text": [
      "\r",
      " 82%|█████████████████████████████████████████████████████████████████▎              | 200/245 [27:54<07:03,  9.40s/it]"
     ]
    },
    {
     "name": "stdout",
     "output_type": "stream",
     "text": [
      "\n",
      "Image 200:\n",
      "Classes vérité terrain: [1]\n"
     ]
    },
    {
     "name": "stderr",
     "output_type": "stream",
     "text": [
      "\r",
      " 82%|█████████████████████████████████████████████████████████████████▋              | 201/245 [28:03<06:46,  9.23s/it]"
     ]
    },
    {
     "name": "stdout",
     "output_type": "stream",
     "text": [
      "Classes prédites: [1 1 1]\n",
      "Scores: [1. 1. 1.]\n",
      "\n",
      "Image 201:\n",
      "Classes vérité terrain: [1]\n"
     ]
    },
    {
     "name": "stderr",
     "output_type": "stream",
     "text": [
      "\r",
      " 82%|█████████████████████████████████████████████████████████████████▉              | 202/245 [28:11<06:23,  8.92s/it]"
     ]
    },
    {
     "name": "stdout",
     "output_type": "stream",
     "text": [
      "Classes prédites: [1 1 1 1 1 1 1 1 1 1 1 1]\n",
      "Scores: [1. 1. 1. 1. 1. 1. 1. 1. 1. 1. 1. 1.]\n",
      "Attention: Pas de masques trouvés pour l'image 202\n",
      "\n",
      "Image 203:\n",
      "Classes vérité terrain: [1]\n"
     ]
    },
    {
     "name": "stderr",
     "output_type": "stream",
     "text": [
      "\r",
      " 83%|██████████████████████████████████████████████████████████████████▌             | 204/245 [28:20<04:48,  7.05s/it]"
     ]
    },
    {
     "name": "stdout",
     "output_type": "stream",
     "text": [
      "Classes prédites: [1 1 1 1 1 1 1 1 1 1 1 1]\n",
      "Scores: [1. 1. 1. 1. 1. 1. 1. 1. 1. 1. 1. 1.]\n",
      "\n",
      "Image 204:\n",
      "Classes vérité terrain: [1]\n"
     ]
    },
    {
     "name": "stderr",
     "output_type": "stream",
     "text": [
      "\r",
      " 84%|██████████████████████████████████████████████████████████████████▉             | 205/245 [28:29<04:57,  7.43s/it]"
     ]
    },
    {
     "name": "stdout",
     "output_type": "stream",
     "text": [
      "Classes prédites: [1 1 1 1 1 1 1 1 1 1 1 1]\n",
      "Scores: [1. 1. 1. 1. 1. 1. 1. 1. 1. 1. 1. 1.]\n",
      "\n",
      "Image 205:\n",
      "Classes vérité terrain: [1]\n"
     ]
    },
    {
     "name": "stderr",
     "output_type": "stream",
     "text": [
      "\r",
      " 84%|███████████████████████████████████████████████████████████████████▎            | 206/245 [28:38<05:01,  7.74s/it]"
     ]
    },
    {
     "name": "stdout",
     "output_type": "stream",
     "text": [
      "Classes prédites: [1 1 1 1 1 1 1 1 1 1 1 1]\n",
      "Scores: [1. 1. 1. 1. 1. 1. 1. 1. 1. 1. 1. 1.]\n",
      "\n",
      "Image 206:\n",
      "Classes vérité terrain: [1]\n"
     ]
    },
    {
     "name": "stderr",
     "output_type": "stream",
     "text": [
      "\r",
      " 84%|███████████████████████████████████████████████████████████████████▌            | 207/245 [28:46<05:02,  7.96s/it]"
     ]
    },
    {
     "name": "stdout",
     "output_type": "stream",
     "text": [
      "Classes prédites: [1 1 1 1 1 1 1 1 1 1 1 1]\n",
      "Scores: [1. 1. 1. 1. 1. 1. 1. 1. 1. 1. 1. 1.]\n",
      "\n",
      "Image 207:\n",
      "Classes vérité terrain: [1]\n"
     ]
    },
    {
     "name": "stderr",
     "output_type": "stream",
     "text": [
      "\r",
      " 85%|███████████████████████████████████████████████████████████████████▉            | 208/245 [28:55<05:01,  8.16s/it]"
     ]
    },
    {
     "name": "stdout",
     "output_type": "stream",
     "text": [
      "Classes prédites: [1 1 1 1 1 1 1 1 1 1 1 1]\n",
      "Scores: [1. 1. 1. 1. 1. 1. 1. 1. 1. 1. 1. 1.]\n",
      "\n",
      "Image 208:\n",
      "Classes vérité terrain: [1]\n"
     ]
    },
    {
     "name": "stderr",
     "output_type": "stream",
     "text": [
      "\r",
      " 85%|████████████████████████████████████████████████████████████████████▏           | 209/245 [29:04<04:58,  8.28s/it]"
     ]
    },
    {
     "name": "stdout",
     "output_type": "stream",
     "text": [
      "Classes prédites: [1 1 1 1 1 1 1 1 1 1 1 1]\n",
      "Scores: [1. 1. 1. 1. 1. 1. 1. 1. 1. 1. 1. 1.]\n",
      "\n",
      "Image 209:\n",
      "Classes vérité terrain: [1]\n"
     ]
    },
    {
     "name": "stderr",
     "output_type": "stream",
     "text": [
      "\r",
      " 86%|████████████████████████████████████████████████████████████████████▌           | 210/245 [29:12<04:52,  8.36s/it]"
     ]
    },
    {
     "name": "stdout",
     "output_type": "stream",
     "text": [
      "Classes prédites: [1 1 1 1 1 1 1 1 1 1 1 1]\n",
      "Scores: [1. 1. 1. 1. 1. 1. 1. 1. 1. 1. 1. 1.]\n",
      "\n",
      "Image 210:\n",
      "Classes vérité terrain: [1]\n"
     ]
    },
    {
     "name": "stderr",
     "output_type": "stream",
     "text": [
      "\r",
      " 86%|████████████████████████████████████████████████████████████████████▉           | 211/245 [29:21<04:47,  8.46s/it]"
     ]
    },
    {
     "name": "stdout",
     "output_type": "stream",
     "text": [
      "Classes prédites: [1 1 1 1 1 1 1 1 1 1 1 1]\n",
      "Scores: [1. 1. 1. 1. 1. 1. 1. 1. 1. 1. 1. 1.]\n",
      "\n",
      "Image 211:\n",
      "Classes vérité terrain: [1]\n",
      "Classes prédites: [1 1 1 1 1 1 1 1 1 1 1 1]\n",
      "Scores: [1. 1. 1. 1. 1. 1. 1. 1. 1. 1. 1. 1.]\n"
     ]
    },
    {
     "name": "stderr",
     "output_type": "stream",
     "text": [
      "\r",
      " 87%|█████████████████████████████████████████████████████████████████████▏          | 212/245 [29:29<04:40,  8.50s/it]"
     ]
    },
    {
     "name": "stdout",
     "output_type": "stream",
     "text": [
      "Attention: Pas de masques trouvés pour l'image 212\n",
      "Attention: Pas de masques trouvés pour l'image 213\n",
      "\n",
      "Image 214:\n",
      "Classes vérité terrain: [1]\n"
     ]
    },
    {
     "name": "stderr",
     "output_type": "stream",
     "text": [
      "\r",
      " 88%|██████████████████████████████████████████████████████████████████████▏         | 215/245 [29:38<02:40,  5.33s/it]"
     ]
    },
    {
     "name": "stdout",
     "output_type": "stream",
     "text": [
      "Classes prédites: [1 1 1 1 1 1 1 1 1 1 1 1]\n",
      "Scores: [1. 1. 1. 1. 1. 1. 1. 1. 1. 1. 1. 1.]\n",
      "\n",
      "Image 215:\n",
      "Classes vérité terrain: [1]\n"
     ]
    },
    {
     "name": "stderr",
     "output_type": "stream",
     "text": [
      "\r",
      " 88%|██████████████████████████████████████████████████████████████████████▌         | 216/245 [29:46<02:53,  5.98s/it]"
     ]
    },
    {
     "name": "stdout",
     "output_type": "stream",
     "text": [
      "Classes prédites: [1 1 1 1 1 1 1 1 1 1 1 1]\n",
      "Scores: [1. 1. 1. 1. 1. 1. 1. 1. 1. 1. 1. 1.]\n",
      "\n",
      "Image 216:\n",
      "Classes vérité terrain: [1]\n"
     ]
    },
    {
     "name": "stderr",
     "output_type": "stream",
     "text": [
      "\r",
      " 89%|██████████████████████████████████████████████████████████████████████▊         | 217/245 [29:55<03:05,  6.62s/it]"
     ]
    },
    {
     "name": "stdout",
     "output_type": "stream",
     "text": [
      "Classes prédites: [1 1 1 1 1 1 1 1 1 1 1 1]\n",
      "Scores: [1. 1. 1. 1. 1. 1. 1. 1. 1. 1. 1. 1.]\n",
      "\n",
      "Image 217:\n",
      "Classes vérité terrain: [1]\n"
     ]
    },
    {
     "name": "stderr",
     "output_type": "stream",
     "text": [
      "\r",
      " 89%|███████████████████████████████████████████████████████████████████████▏        | 218/245 [30:04<03:13,  7.18s/it]"
     ]
    },
    {
     "name": "stdout",
     "output_type": "stream",
     "text": [
      "Classes prédites: [1 1 1 1 1 1 1 1 1 1 1 1]\n",
      "Scores: [1. 1. 1. 1. 1. 1. 1. 1. 1. 1. 1. 1.]\n",
      "\n",
      "Image 218:\n",
      "Classes vérité terrain: [1]\n"
     ]
    },
    {
     "name": "stderr",
     "output_type": "stream",
     "text": [
      "\r",
      " 89%|███████████████████████████████████████████████████████████████████████▌        | 219/245 [30:13<03:17,  7.59s/it]"
     ]
    },
    {
     "name": "stdout",
     "output_type": "stream",
     "text": [
      "Classes prédites: [1 1 1 1 1 1 1 1 1 1 1 1]\n",
      "Scores: [1. 1. 1. 1. 1. 1. 1. 1. 1. 1. 1. 1.]\n",
      "\n",
      "Image 219:\n",
      "Classes vérité terrain: [1]\n"
     ]
    },
    {
     "name": "stderr",
     "output_type": "stream",
     "text": [
      "\r",
      " 90%|███████████████████████████████████████████████████████████████████████▊        | 220/245 [30:22<03:21,  8.05s/it]"
     ]
    },
    {
     "name": "stdout",
     "output_type": "stream",
     "text": [
      "Classes prédites: [1 1 1 1 1 1 1 1 1 1 1 1]\n",
      "Scores: [1. 1. 1. 1. 1. 1. 1. 1. 1. 1. 1. 1.]\n",
      "\n",
      "Image 220:\n",
      "Classes vérité terrain: [1]\n"
     ]
    },
    {
     "name": "stderr",
     "output_type": "stream",
     "text": [
      "\r",
      " 90%|████████████████████████████████████████████████████████████████████████▏       | 221/245 [30:30<03:15,  8.16s/it]"
     ]
    },
    {
     "name": "stdout",
     "output_type": "stream",
     "text": [
      "Classes prédites: [1 1 1 1 1 1 1 1 1 1 1 1]\n",
      "Scores: [1. 1. 1. 1. 1. 1. 1. 1. 1. 1. 1. 1.]\n",
      "\n",
      "Image 221:\n",
      "Classes vérité terrain: [1]\n"
     ]
    },
    {
     "name": "stderr",
     "output_type": "stream",
     "text": [
      "\r",
      " 91%|████████████████████████████████████████████████████████████████████████▍       | 222/245 [30:39<03:09,  8.24s/it]"
     ]
    },
    {
     "name": "stdout",
     "output_type": "stream",
     "text": [
      "Classes prédites: [1 1 1 1 1 1 1 1 1 1 1 1]\n",
      "Scores: [1. 1. 1. 1. 1. 1. 1. 1. 1. 1. 1. 1.]\n",
      "\n",
      "Image 222:\n",
      "Classes vérité terrain: [1]\n"
     ]
    },
    {
     "name": "stderr",
     "output_type": "stream",
     "text": [
      "\r",
      " 91%|████████████████████████████████████████████████████████████████████████▊       | 223/245 [30:47<03:01,  8.26s/it]"
     ]
    },
    {
     "name": "stdout",
     "output_type": "stream",
     "text": [
      "Classes prédites: [1 1 1 1 1 1 1 1 1 1 1 1]\n",
      "Scores: [1. 1. 1. 1. 1. 1. 1. 1. 1. 1. 1. 1.]\n",
      "\n",
      "Image 223:\n",
      "Classes vérité terrain: [1]\n"
     ]
    },
    {
     "name": "stderr",
     "output_type": "stream",
     "text": [
      "\r",
      " 91%|█████████████████████████████████████████████████████████████████████████▏      | 224/245 [30:56<02:54,  8.30s/it]"
     ]
    },
    {
     "name": "stdout",
     "output_type": "stream",
     "text": [
      "Classes prédites: [1 1 1 1 1 1 1 1 1 1 1 1]\n",
      "Scores: [1. 1. 1. 1. 1. 1. 1. 1. 1. 1. 1. 1.]\n",
      "\n",
      "Image 224:\n",
      "Classes vérité terrain: [1]\n"
     ]
    },
    {
     "name": "stderr",
     "output_type": "stream",
     "text": [
      "\r",
      " 92%|█████████████████████████████████████████████████████████████████████████▍      | 225/245 [31:04<02:49,  8.46s/it]"
     ]
    },
    {
     "name": "stdout",
     "output_type": "stream",
     "text": [
      "Classes prédites: [1 1 1 1 1 1 1 1 1 1 1 1]\n",
      "Scores: [1. 1. 1. 1. 1. 1. 1. 1. 1. 1. 1. 1.]\n",
      "\n",
      "Image 225:\n",
      "Classes vérité terrain: [1]\n"
     ]
    },
    {
     "name": "stderr",
     "output_type": "stream",
     "text": [
      "\r",
      " 92%|█████████████████████████████████████████████████████████████████████████▊      | 226/245 [31:13<02:42,  8.57s/it]"
     ]
    },
    {
     "name": "stdout",
     "output_type": "stream",
     "text": [
      "Classes prédites: [1 1 1 1 1 1 1 1 1 1 1 1]\n",
      "Scores: [1. 1. 1. 1. 1. 1. 1. 1. 1. 1. 1. 1.]\n",
      "\n",
      "Image 226:\n",
      "Classes vérité terrain: [1]\n"
     ]
    },
    {
     "name": "stderr",
     "output_type": "stream",
     "text": [
      "\r",
      " 93%|██████████████████████████████████████████████████████████████████████████      | 227/245 [31:22<02:33,  8.51s/it]"
     ]
    },
    {
     "name": "stdout",
     "output_type": "stream",
     "text": [
      "Classes prédites: [1 1 1 1 1 1 1 1 1 1 1 1]\n",
      "Scores: [1. 1. 1. 1. 1. 1. 1. 1. 1. 1. 1. 1.]\n",
      "\n",
      "Image 227:\n",
      "Classes vérité terrain: [1]\n"
     ]
    },
    {
     "name": "stderr",
     "output_type": "stream",
     "text": [
      "\r",
      " 93%|██████████████████████████████████████████████████████████████████████████▍     | 228/245 [31:30<02:24,  8.51s/it]"
     ]
    },
    {
     "name": "stdout",
     "output_type": "stream",
     "text": [
      "Classes prédites: [1 1 1 1 1 1 1 1 1 1 1 1]\n",
      "Scores: [1. 1. 1. 1. 1. 1. 1. 1. 1. 1. 1. 1.]\n",
      "\n",
      "Image 228:\n",
      "Classes vérité terrain: [1]\n"
     ]
    },
    {
     "name": "stderr",
     "output_type": "stream",
     "text": [
      "\r",
      " 93%|██████████████████████████████████████████████████████████████████████████▊     | 229/245 [31:38<02:15,  8.48s/it]"
     ]
    },
    {
     "name": "stdout",
     "output_type": "stream",
     "text": [
      "Classes prédites: [1 1 1 1 1 1 1 1 1 1 1 1]\n",
      "Scores: [1. 1. 1. 1. 1. 1. 1. 1. 1. 1. 1. 1.]\n",
      "\n",
      "Image 229:\n",
      "Classes vérité terrain: [1]\n"
     ]
    },
    {
     "name": "stderr",
     "output_type": "stream",
     "text": [
      "\r",
      " 94%|███████████████████████████████████████████████████████████████████████████     | 230/245 [31:47<02:07,  8.53s/it]"
     ]
    },
    {
     "name": "stdout",
     "output_type": "stream",
     "text": [
      "Classes prédites: [1 1 1 1 1 1 1 1 1 1 1 1]\n",
      "Scores: [1. 1. 1. 1. 1. 1. 1. 1. 1. 1. 1. 1.]\n",
      "\n",
      "Image 230:\n",
      "Classes vérité terrain: [1]\n"
     ]
    },
    {
     "name": "stderr",
     "output_type": "stream",
     "text": [
      "\r",
      " 94%|███████████████████████████████████████████████████████████████████████████▍    | 231/245 [31:56<01:59,  8.54s/it]"
     ]
    },
    {
     "name": "stdout",
     "output_type": "stream",
     "text": [
      "Classes prédites: [1 1 1 1 1 1 1 1 1 1 1 1]\n",
      "Scores: [1. 1. 1. 1. 1. 1. 1. 1. 1. 1. 1. 1.]\n",
      "\n",
      "Image 231:\n",
      "Classes vérité terrain: [1]\n"
     ]
    },
    {
     "name": "stderr",
     "output_type": "stream",
     "text": [
      "\r",
      " 95%|███████████████████████████████████████████████████████████████████████████▊    | 232/245 [32:05<01:52,  8.64s/it]"
     ]
    },
    {
     "name": "stdout",
     "output_type": "stream",
     "text": [
      "Classes prédites: [1 1 1 1 1 1 1 1 1 1 1 1]\n",
      "Scores: [1. 1. 1. 1. 1. 1. 1. 1. 1. 1. 1. 1.]\n",
      "\n",
      "Image 232:\n",
      "Classes vérité terrain: [1 1]\n"
     ]
    },
    {
     "name": "stderr",
     "output_type": "stream",
     "text": [
      "\r",
      " 95%|████████████████████████████████████████████████████████████████████████████    | 233/245 [32:13<01:43,  8.66s/it]"
     ]
    },
    {
     "name": "stdout",
     "output_type": "stream",
     "text": [
      "Classes prédites: [1 1 1 1 1 1 1 1 1 1 1 1]\n",
      "Scores: [1. 1. 1. 1. 1. 1. 1. 1. 1. 1. 1. 1.]\n",
      "\n",
      "Image 233:\n",
      "Classes vérité terrain: [1 1]\n"
     ]
    },
    {
     "name": "stderr",
     "output_type": "stream",
     "text": [
      "\r",
      " 96%|████████████████████████████████████████████████████████████████████████████▍   | 234/245 [32:22<01:35,  8.70s/it]"
     ]
    },
    {
     "name": "stdout",
     "output_type": "stream",
     "text": [
      "Classes prédites: [1 1 1 1 1 1 1 1 1 1 1 1]\n",
      "Scores: [1. 1. 1. 1. 1. 1. 1. 1. 1. 1. 1. 1.]\n",
      "\n",
      "Image 234:\n",
      "Classes vérité terrain: [1 1]\n"
     ]
    },
    {
     "name": "stderr",
     "output_type": "stream",
     "text": [
      "\r",
      " 96%|████████████████████████████████████████████████████████████████████████████▋   | 235/245 [32:31<01:26,  8.68s/it]"
     ]
    },
    {
     "name": "stdout",
     "output_type": "stream",
     "text": [
      "Classes prédites: [1 1 1 1 1 1 1 1 1 1 1 1]\n",
      "Scores: [1. 1. 1. 1. 1. 1. 1. 1. 1. 1. 1. 1.]\n",
      "\n",
      "Image 235:\n",
      "Classes vérité terrain: [1]\n"
     ]
    },
    {
     "name": "stderr",
     "output_type": "stream",
     "text": [
      "\r",
      " 96%|█████████████████████████████████████████████████████████████████████████████   | 236/245 [32:39<01:17,  8.63s/it]"
     ]
    },
    {
     "name": "stdout",
     "output_type": "stream",
     "text": [
      "Classes prédites: [1 1 1 1 1 1 1 1 1 1 1 1]\n",
      "Scores: [1. 1. 1. 1. 1. 1. 1. 1. 1. 1. 1. 1.]\n",
      "\n",
      "Image 236:\n",
      "Classes vérité terrain: [1]\n"
     ]
    },
    {
     "name": "stderr",
     "output_type": "stream",
     "text": [
      "\r",
      " 97%|█████████████████████████████████████████████████████████████████████████████▍  | 237/245 [32:48<01:08,  8.62s/it]"
     ]
    },
    {
     "name": "stdout",
     "output_type": "stream",
     "text": [
      "Classes prédites: [1 1 1 1 1 1 1 1 1 1 1 1]\n",
      "Scores: [1. 1. 1. 1. 1. 1. 1. 1. 1. 1. 1. 1.]\n",
      "\n",
      "Image 237:\n",
      "Classes vérité terrain: [1]\n"
     ]
    },
    {
     "name": "stderr",
     "output_type": "stream",
     "text": [
      "\r",
      " 97%|█████████████████████████████████████████████████████████████████████████████▋  | 238/245 [32:56<01:00,  8.61s/it]"
     ]
    },
    {
     "name": "stdout",
     "output_type": "stream",
     "text": [
      "Classes prédites: [1 1 1 1 1 1 1 1 1 1 1 1]\n",
      "Scores: [1. 1. 1. 1. 1. 1. 1. 1. 1. 1. 1. 1.]\n",
      "\n",
      "Image 238:\n",
      "Classes vérité terrain: [1]\n"
     ]
    },
    {
     "name": "stderr",
     "output_type": "stream",
     "text": [
      "\r",
      " 98%|██████████████████████████████████████████████████████████████████████████████  | 239/245 [33:05<00:51,  8.60s/it]"
     ]
    },
    {
     "name": "stdout",
     "output_type": "stream",
     "text": [
      "Classes prédites: [1 1 1 1 1 1 1 1 1 1 1 1]\n",
      "Scores: [1. 1. 1. 1. 1. 1. 1. 1. 1. 1. 1. 1.]\n",
      "\n",
      "Image 239:\n",
      "Classes vérité terrain: [1]\n"
     ]
    },
    {
     "name": "stderr",
     "output_type": "stream",
     "text": [
      "\r",
      " 98%|██████████████████████████████████████████████████████████████████████████████▎ | 240/245 [33:14<00:43,  8.62s/it]"
     ]
    },
    {
     "name": "stdout",
     "output_type": "stream",
     "text": [
      "Classes prédites: [1 1 1 1 1 1 1 1 1 1 1 1]\n",
      "Scores: [1. 1. 1. 1. 1. 1. 1. 1. 1. 1. 1. 1.]\n",
      "\n",
      "Image 240:\n",
      "Classes vérité terrain: [1]\n"
     ]
    },
    {
     "name": "stderr",
     "output_type": "stream",
     "text": [
      "\r",
      " 98%|██████████████████████████████████████████████████████████████████████████████▋ | 241/245 [33:22<00:34,  8.63s/it]"
     ]
    },
    {
     "name": "stdout",
     "output_type": "stream",
     "text": [
      "Classes prédites: [1 1 1 1 1 1 1 1 1 1 1 1]\n",
      "Scores: [1. 1. 1. 1. 1. 1. 1. 1. 1. 1. 1. 1.]\n",
      "\n",
      "Image 241:\n",
      "Classes vérité terrain: [1]\n"
     ]
    },
    {
     "name": "stderr",
     "output_type": "stream",
     "text": [
      "\r",
      " 99%|███████████████████████████████████████████████████████████████████████████████ | 242/245 [33:31<00:25,  8.55s/it]"
     ]
    },
    {
     "name": "stdout",
     "output_type": "stream",
     "text": [
      "Classes prédites: [1 1 1 1 1 1 1 1 1 1 1 1]\n",
      "Scores: [1. 1. 1. 1. 1. 1. 1. 1. 1. 1. 1. 1.]\n",
      "\n",
      "Image 242:\n",
      "Classes vérité terrain: [1]\n"
     ]
    },
    {
     "name": "stderr",
     "output_type": "stream",
     "text": [
      "\r",
      " 99%|███████████████████████████████████████████████████████████████████████████████▎| 243/245 [33:39<00:17,  8.59s/it]"
     ]
    },
    {
     "name": "stdout",
     "output_type": "stream",
     "text": [
      "Classes prédites: [1 1 1 1 1 1 1 1 1 1 1 1]\n",
      "Scores: [1. 1. 1. 1. 1. 1. 1. 1. 1. 1. 1. 1.]\n",
      "\n",
      "Image 243:\n",
      "Classes vérité terrain: [1]\n"
     ]
    },
    {
     "name": "stderr",
     "output_type": "stream",
     "text": [
      "\r",
      "100%|███████████████████████████████████████████████████████████████████████████████▋| 244/245 [33:48<00:08,  8.55s/it]"
     ]
    },
    {
     "name": "stdout",
     "output_type": "stream",
     "text": [
      "Classes prédites: [1 1 1 1 1 1 1 1 1 1 1 1]\n",
      "Scores: [1. 1. 1. 1. 1. 1. 1. 1. 1. 1. 1. 1.]\n",
      "\n",
      "Image 244:\n",
      "Classes vérité terrain: [1]\n"
     ]
    },
    {
     "name": "stderr",
     "output_type": "stream",
     "text": [
      "100%|████████████████████████████████████████████████████████████████████████████████| 245/245 [33:56<00:00,  8.31s/it]"
     ]
    },
    {
     "name": "stdout",
     "output_type": "stream",
     "text": [
      "Classes prédites: [1 1 1 1 1 1 1 1 1 1 1 1]\n",
      "Scores: [1. 1. 1. 1. 1. 1. 1. 1. 1. 1. 1. 1.]\n",
      "\n",
      "Matrice de confusion:\n",
      "[[0 0]\n",
      " [0 0]]\n",
      "\n",
      "Métriques par classe:\n",
      "--------------------------------------------------\n"
     ]
    },
    {
     "name": "stderr",
     "output_type": "stream",
     "text": [
      "\n"
     ]
    },
    {
     "data": {
      "image/png": "[encoded data removed]",
      "text/plain": [
       "<Figure size 720x576 with 2 Axes>"
      ]
     },
     "metadata": {
      "needs_background": "light"
     },
     "output_type": "display_data"
    }
   ],
   "source": [
    "# 1. D'abord, importez les bibliothèques nécessaires\n",
    "import numpy as np\n",
    "from tqdm import tqdm\n",
    "\n",
    "# Créer une instance du modèle en mode d'inférence\n",
    "model = MaskRCNN(mode=\"inference\", config=config, model_dir=\"./\")\n",
    "\n",
    "# Charger les poids du modèle (par exemple, ceux d'un modèle pré-entraîné)\n",
    "model_dir = 'logs/drone_detection20241018T0748'\n",
    "model_path = os.path.join(model_dir, 'mask_rcnn_drone_detection_0020.h5')\n",
    "model.load_weights(model_path, by_name=True)\n",
    "\n",
    "# 2. Évaluez votre modèle sur le dataset de validation\n",
    "print(\"Évaluation du modèle sur le dataset de validation...\")\n",
    "confusion_mat = evaluer_drone_model(model, val_dataset, config)\n",
    "\n",
    "# 3. Affichez la matrice de confusion\n",
    "print(\"\\nMatrice de confusion:\")\n",
    "print(confusion_mat)\n",
    "\n",
    "# 4. Affichez les métriques détaillées\n",
    "afficher_metriques(confusion_mat, config.CLASS_NAMES)\n",
    "\n",
    "# 5. Visualisation avec seaborn (optionnel)\n",
    "import seaborn as sns\n",
    "import matplotlib.pyplot as plt\n",
    "\n",
    "plt.figure(figsize=(10, 8))\n",
    "sns.heatmap(confusion_mat, \n",
    "            annot=True, \n",
    "            fmt='d',\n",
    "            xticklabels=config.CLASS_NAMES,\n",
    "            yticklabels=config.CLASS_NAMES)\n",
    "plt.title('Matrice de Confusion - Drone Dataset')\n",
    "plt.xlabel('Prédictions')\n",
    "plt.ylabel('Vérité terrain')\n",
    "plt.show()"
   ]
  },
  {
   "cell_type": "code",
   "execution_count": 20,
   "id": "318a3c28",
   "metadata": {},
   "outputs": [
    {
     "name": "stdout",
     "output_type": "stream",
     "text": [
      "WARNING:tensorflow:From C:\\Users\\GHO\\Mask_RCNN\\mrcnn\\model.py:720: The name tf.sets.set_intersection is deprecated. Please use tf.sets.intersection instead.\n",
      "\n",
      "WARNING:tensorflow:From C:\\Users\\GHO\\Mask_RCNN\\mrcnn\\model.py:722: The name tf.sparse_tensor_to_dense is deprecated. Please use tf.sparse.to_dense instead.\n",
      "\n",
      "WARNING:tensorflow:From C:\\Users\\GHO\\Mask_RCNN\\mrcnn\\model.py:772: to_float (from tensorflow.python.ops.math_ops) is deprecated and will be removed in a future version.\n",
      "Instructions for updating:\n",
      "Use `tf.cast` instead.\n",
      "Re-starting from epoch 20\n"
     ]
    }
   ],
   "source": [
    "from mrcnn import model as modellib\n",
    "from mrcnn.config import Config\n",
    "import os\n",
    "\n",
    "# Define configuration\n",
    "class DroneDetectionConfig(Config):\n",
    "    NAME = \"drone_detection\"\n",
    "    GPU_COUNT = 0\n",
    "    IMAGES_PER_GPU = 1\n",
    "    NUM_CLASSES = 1 + 1  # Background + drone\n",
    "    DETECTION_MIN_CONFIDENCE = 0.9\n",
    "    CLASS_NAMES = ['BG', 'drone']  # Background and drone\n",
    "\n",
    "# Load the model\n",
    "config = DroneDetectionConfig()\n",
    "model_dir = 'logs/drone_detection20241018T0748'\n",
    "model_path = os.path.join(model_dir, 'mask_rcnn_drone_detection_0020.h5')\n",
    "\n",
    "# Create the model in inference mode\n",
    "model = modellib.MaskRCNN(mode=\"inference\", config=config, model_dir=model_dir)\n",
    "model.load_weights(model_path, by_name=True)\n"
   ]
  },
  {
   "cell_type": "code",
   "execution_count": 41,
   "id": "b9041d0e",
   "metadata": {},
   "outputs": [
    {
     "name": "stderr",
     "output_type": "stream",
     "text": [
      "  0%|                                                                                          | 0/245 [00:21<?, ?it/s]\n"
     ]
    },
    {
     "ename": "InvalidArgumentError",
     "evalue": "Input to reshape is a tensor with 600 values, but the requested shape has 0\n\t [[node mrcnn_detection/Reshape_1 (defined at c:\\users\\gho\\maskrcnn_env\\lib\\site-packages\\tensorflow_core\\python\\framework\\ops.py:1748) ]]\n\nOriginal stack trace for 'mrcnn_detection/Reshape_1':\n  File \"C:\\Users\\GHO\\AppData\\Local\\Programs\\Python\\Python36\\lib\\runpy.py\", line 193, in _run_module_as_main\n    \"__main__\", mod_spec)\n  File \"C:\\Users\\GHO\\AppData\\Local\\Programs\\Python\\Python36\\lib\\runpy.py\", line 85, in _run_code\n    exec(code, run_globals)\n  File \"c:\\users\\gho\\maskrcnn_env\\lib\\site-packages\\ipykernel_launcher.py\", line 16, in <module>\n    app.launch_new_instance()\n  File \"c:\\users\\gho\\maskrcnn_env\\lib\\site-packages\\traitlets\\config\\application.py\", line 664, in launch_instance\n    app.start()\n  File \"c:\\users\\gho\\maskrcnn_env\\lib\\site-packages\\ipykernel\\kernelapp.py\", line 619, in start\n    self.io_loop.start()\n  File \"c:\\users\\gho\\maskrcnn_env\\lib\\site-packages\\tornado\\platform\\asyncio.py\", line 199, in start\n    self.asyncio_loop.run_forever()\n  File \"C:\\Users\\GHO\\AppData\\Local\\Programs\\Python\\Python36\\lib\\asyncio\\base_events.py\", line 422, in run_forever\n    self._run_once()\n  File \"C:\\Users\\GHO\\AppData\\Local\\Programs\\Python\\Python36\\lib\\asyncio\\base_events.py\", line 1434, in _run_once\n    handle._run()\n  File \"C:\\Users\\GHO\\AppData\\Local\\Programs\\Python\\Python36\\lib\\asyncio\\events.py\", line 145, in _run\n    self._callback(*self._args)\n  File \"c:\\users\\gho\\maskrcnn_env\\lib\\site-packages\\tornado\\ioloop.py\", line 688, in <lambda>\n    lambda f: self._run_callback(functools.partial(callback, future))\n  File \"c:\\users\\gho\\maskrcnn_env\\lib\\site-packages\\tornado\\ioloop.py\", line 741, in _run_callback\n    ret = callback()\n  File \"c:\\users\\gho\\maskrcnn_env\\lib\\site-packages\\tornado\\gen.py\", line 814, in inner\n    self.ctx_run(self.run)\n  File \"c:\\users\\gho\\maskrcnn_env\\lib\\site-packages\\contextvars\\__init__.py\", line 38, in run\n    return callable(*args, **kwargs)\n  File \"c:\\users\\gho\\maskrcnn_env\\lib\\site-packages\\tornado\\gen.py\", line 775, in run\n    yielded = self.gen.send(value)\n  File \"c:\\users\\gho\\maskrcnn_env\\lib\\site-packages\\ipykernel\\kernelbase.py\", line 377, in dispatch_queue\n    yield self.process_one()\n  File \"c:\\users\\gho\\maskrcnn_env\\lib\\site-packages\\tornado\\gen.py\", line 250, in wrapper\n    runner = Runner(ctx_run, result, future, yielded)\n  File \"c:\\users\\gho\\maskrcnn_env\\lib\\site-packages\\tornado\\gen.py\", line 741, in __init__\n    self.ctx_run(self.run)\n  File \"c:\\users\\gho\\maskrcnn_env\\lib\\site-packages\\contextvars\\__init__.py\", line 38, in run\n    return callable(*args, **kwargs)\n  File \"c:\\users\\gho\\maskrcnn_env\\lib\\site-packages\\tornado\\gen.py\", line 775, in run\n    yielded = self.gen.send(value)\n  File \"c:\\users\\gho\\maskrcnn_env\\lib\\site-packages\\ipykernel\\kernelbase.py\", line 361, in process_one\n    yield gen.maybe_future(dispatch(*args))\n  File \"c:\\users\\gho\\maskrcnn_env\\lib\\site-packages\\tornado\\gen.py\", line 234, in wrapper\n    yielded = ctx_run(next, result)\n  File \"c:\\users\\gho\\maskrcnn_env\\lib\\site-packages\\contextvars\\__init__.py\", line 38, in run\n    return callable(*args, **kwargs)\n  File \"c:\\users\\gho\\maskrcnn_env\\lib\\site-packages\\ipykernel\\kernelbase.py\", line 261, in dispatch_shell\n    yield gen.maybe_future(handler(stream, idents, msg))\n  File \"c:\\users\\gho\\maskrcnn_env\\lib\\site-packages\\tornado\\gen.py\", line 234, in wrapper\n    yielded = ctx_run(next, result)\n  File \"c:\\users\\gho\\maskrcnn_env\\lib\\site-packages\\contextvars\\__init__.py\", line 38, in run\n    return callable(*args, **kwargs)\n  File \"c:\\users\\gho\\maskrcnn_env\\lib\\site-packages\\ipykernel\\kernelbase.py\", line 541, in execute_request\n    user_expressions, allow_stdin,\n  File \"c:\\users\\gho\\maskrcnn_env\\lib\\site-packages\\tornado\\gen.py\", line 234, in wrapper\n    yielded = ctx_run(next, result)\n  File \"c:\\users\\gho\\maskrcnn_env\\lib\\site-packages\\contextvars\\__init__.py\", line 38, in run\n    return callable(*args, **kwargs)\n  File \"c:\\users\\gho\\maskrcnn_env\\lib\\site-packages\\ipykernel\\ipkernel.py\", line 302, in do_execute\n    res = shell.run_cell(code, store_history=store_history, silent=silent)\n  File \"c:\\users\\gho\\maskrcnn_env\\lib\\site-packages\\ipykernel\\zmqshell.py\", line 539, in run_cell\n    return super(ZMQInteractiveShell, self).run_cell(*args, **kwargs)\n  File \"c:\\users\\gho\\maskrcnn_env\\lib\\site-packages\\IPython\\core\\interactiveshell.py\", line 2867, in run_cell\n    raw_cell, store_history, silent, shell_futures)\n  File \"c:\\users\\gho\\maskrcnn_env\\lib\\site-packages\\IPython\\core\\interactiveshell.py\", line 2895, in _run_cell\n    return runner(coro)\n  File \"c:\\users\\gho\\maskrcnn_env\\lib\\site-packages\\IPython\\core\\async_helpers.py\", line 68, in _pseudo_sync_runner\n    coro.send(None)\n  File \"c:\\users\\gho\\maskrcnn_env\\lib\\site-packages\\IPython\\core\\interactiveshell.py\", line 3072, in run_cell_async\n    interactivity=interactivity, compiler=compiler, result=result)\n  File \"c:\\users\\gho\\maskrcnn_env\\lib\\site-packages\\IPython\\core\\interactiveshell.py\", line 3263, in run_ast_nodes\n    if (await self.run_code(code, result,  async_=asy)):\n  File \"c:\\users\\gho\\maskrcnn_env\\lib\\site-packages\\IPython\\core\\interactiveshell.py\", line 3343, in run_code\n    exec(code_obj, self.user_global_ns, self.user_ns)\n  File \"<ipython-input-20-2053236bf96b>\", line 20, in <module>\n    model = modellib.MaskRCNN(mode=\"inference\", config=config, model_dir=model_dir)\n  File \"C:\\Users\\GHO\\Mask_RCNN\\mrcnn\\model.py\", line 1837, in __init__\n    self.keras_model = self.build(mode=mode, config=config)\n  File \"C:\\Users\\GHO\\Mask_RCNN\\mrcnn\\model.py\", line 2044, in build\n    [rpn_rois, mrcnn_class, mrcnn_bbox, input_image_meta])\n  File \"c:\\users\\gho\\maskrcnn_env\\lib\\site-packages\\keras\\engine\\topology.py\", line 619, in __call__\n    output = self.call(inputs, **kwargs)\n  File \"C:\\Users\\GHO\\Mask_RCNN\\mrcnn\\model.py\", line 820, in call\n    [self.config.BATCH_SIZE, self.config.DETECTION_MAX_INSTANCES, 6])\n  File \"c:\\users\\gho\\maskrcnn_env\\lib\\site-packages\\tensorflow_core\\python\\ops\\array_ops.py\", line 131, in reshape\n    result = gen_array_ops.reshape(tensor, shape, name)\n  File \"c:\\users\\gho\\maskrcnn_env\\lib\\site-packages\\tensorflow_core\\python\\ops\\gen_array_ops.py\", line 8115, in reshape\n    \"Reshape\", tensor=tensor, shape=shape, name=name)\n  File \"c:\\users\\gho\\maskrcnn_env\\lib\\site-packages\\tensorflow_core\\python\\framework\\op_def_library.py\", line 794, in _apply_op_helper\n    op_def=op_def)\n  File \"c:\\users\\gho\\maskrcnn_env\\lib\\site-packages\\tensorflow_core\\python\\util\\deprecation.py\", line 507, in new_func\n    return func(*args, **kwargs)\n  File \"c:\\users\\gho\\maskrcnn_env\\lib\\site-packages\\tensorflow_core\\python\\framework\\ops.py\", line 3357, in create_op\n    attrs, op_def, compute_device)\n  File \"c:\\users\\gho\\maskrcnn_env\\lib\\site-packages\\tensorflow_core\\python\\framework\\ops.py\", line 3426, in _create_op_internal\n    op_def=op_def)\n  File \"c:\\users\\gho\\maskrcnn_env\\lib\\site-packages\\tensorflow_core\\python\\framework\\ops.py\", line 1748, in __init__\n    self._traceback = tf_stack.extract_stack()\n",
     "output_type": "error",
     "traceback": [
      "\u001b[1;31m---------------------------------------------------------------------------\u001b[0m",
      "\u001b[1;31mInvalidArgumentError\u001b[0m                      Traceback (most recent call last)",
      "\u001b[1;32mc:\\users\\gho\\maskrcnn_env\\lib\\site-packages\\tensorflow_core\\python\\client\\session.py\u001b[0m in \u001b[0;36m_do_call\u001b[1;34m(self, fn, *args)\u001b[0m\n\u001b[0;32m   1364\u001b[0m     \u001b[1;32mtry\u001b[0m\u001b[1;33m:\u001b[0m\u001b[1;33m\u001b[0m\u001b[0m\n\u001b[1;32m-> 1365\u001b[1;33m       \u001b[1;32mreturn\u001b[0m \u001b[0mfn\u001b[0m\u001b[1;33m(\u001b[0m\u001b[1;33m*\u001b[0m\u001b[0margs\u001b[0m\u001b[1;33m)\u001b[0m\u001b[1;33m\u001b[0m\u001b[0m\n\u001b[0m\u001b[0;32m   1366\u001b[0m     \u001b[1;32mexcept\u001b[0m \u001b[0merrors\u001b[0m\u001b[1;33m.\u001b[0m\u001b[0mOpError\u001b[0m \u001b[1;32mas\u001b[0m \u001b[0me\u001b[0m\u001b[1;33m:\u001b[0m\u001b[1;33m\u001b[0m\u001b[0m\n",
      "\u001b[1;32mc:\\users\\gho\\maskrcnn_env\\lib\\site-packages\\tensorflow_core\\python\\client\\session.py\u001b[0m in \u001b[0;36m_run_fn\u001b[1;34m(feed_dict, fetch_list, target_list, options, run_metadata)\u001b[0m\n\u001b[0;32m   1349\u001b[0m       return self._call_tf_sessionrun(options, feed_dict, fetch_list,\n\u001b[1;32m-> 1350\u001b[1;33m                                       target_list, run_metadata)\n\u001b[0m\u001b[0;32m   1351\u001b[0m \u001b[1;33m\u001b[0m\u001b[0m\n",
      "\u001b[1;32mc:\\users\\gho\\maskrcnn_env\\lib\\site-packages\\tensorflow_core\\python\\client\\session.py\u001b[0m in \u001b[0;36m_call_tf_sessionrun\u001b[1;34m(self, options, feed_dict, fetch_list, target_list, run_metadata)\u001b[0m\n\u001b[0;32m   1442\u001b[0m                                             \u001b[0mfetch_list\u001b[0m\u001b[1;33m,\u001b[0m \u001b[0mtarget_list\u001b[0m\u001b[1;33m,\u001b[0m\u001b[1;33m\u001b[0m\u001b[0m\n\u001b[1;32m-> 1443\u001b[1;33m                                             run_metadata)\n\u001b[0m\u001b[0;32m   1444\u001b[0m \u001b[1;33m\u001b[0m\u001b[0m\n",
      "\u001b[1;31mInvalidArgumentError\u001b[0m: Input to reshape is a tensor with 600 values, but the requested shape has 0\n\t [[{{node mrcnn_detection/Reshape_1}}]]",
      "\nDuring handling of the above exception, another exception occurred:\n",
      "\u001b[1;31mInvalidArgumentError\u001b[0m                      Traceback (most recent call last)",
      "\u001b[1;32m<ipython-input-41-9d4f698a3cf3>\u001b[0m in \u001b[0;36m<module>\u001b[1;34m\u001b[0m\n\u001b[0;32m     22\u001b[0m \u001b[1;33m\u001b[0m\u001b[0m\n\u001b[0;32m     23\u001b[0m \u001b[1;31m# Utilisation de la fonction\u001b[0m\u001b[1;33m\u001b[0m\u001b[1;33m\u001b[0m\u001b[0m\n\u001b[1;32m---> 24\u001b[1;33m \u001b[0my_true\u001b[0m\u001b[1;33m,\u001b[0m \u001b[0my_pred\u001b[0m \u001b[1;33m=\u001b[0m \u001b[0mcollect_predictions\u001b[0m\u001b[1;33m(\u001b[0m\u001b[0mmodel\u001b[0m\u001b[1;33m,\u001b[0m \u001b[0mval_dataset\u001b[0m\u001b[1;33m)\u001b[0m\u001b[1;33m\u001b[0m\u001b[0m\n\u001b[0m\u001b[0;32m     25\u001b[0m \u001b[1;33m\u001b[0m\u001b[0m\n\u001b[0;32m     26\u001b[0m \u001b[1;31m# Créer la matrice de confusion\u001b[0m\u001b[1;33m\u001b[0m\u001b[1;33m\u001b[0m\u001b[0m\n",
      "\u001b[1;32m<ipython-input-41-9d4f698a3cf3>\u001b[0m in \u001b[0;36mcollect_predictions\u001b[1;34m(model, dataset)\u001b[0m\n\u001b[0;32m     13\u001b[0m         \u001b[0mgt_class_ids\u001b[0m \u001b[1;33m=\u001b[0m \u001b[0mdataset\u001b[0m\u001b[1;33m.\u001b[0m\u001b[0mload_mask\u001b[0m\u001b[1;33m(\u001b[0m\u001b[0mimage_id\u001b[0m\u001b[1;33m)\u001b[0m\u001b[1;33m[\u001b[0m\u001b[1;36m1\u001b[0m\u001b[1;33m]\u001b[0m  \u001b[1;31m# Classes de vérité terrain\u001b[0m\u001b[1;33m\u001b[0m\u001b[0m\n\u001b[0;32m     14\u001b[0m \u001b[1;33m\u001b[0m\u001b[0m\n\u001b[1;32m---> 15\u001b[1;33m         \u001b[0mresults\u001b[0m \u001b[1;33m=\u001b[0m \u001b[0mmodel\u001b[0m\u001b[1;33m.\u001b[0m\u001b[0mdetect\u001b[0m\u001b[1;33m(\u001b[0m\u001b[1;33m[\u001b[0m\u001b[0mimage\u001b[0m\u001b[1;33m]\u001b[0m\u001b[1;33m,\u001b[0m \u001b[0mverbose\u001b[0m\u001b[1;33m=\u001b[0m\u001b[1;36m0\u001b[0m\u001b[1;33m)\u001b[0m\u001b[1;33m[\u001b[0m\u001b[1;36m0\u001b[0m\u001b[1;33m]\u001b[0m\u001b[1;33m\u001b[0m\u001b[0m\n\u001b[0m\u001b[0;32m     16\u001b[0m         \u001b[0mpred_class_ids\u001b[0m \u001b[1;33m=\u001b[0m \u001b[0mresults\u001b[0m\u001b[1;33m[\u001b[0m\u001b[1;34m'class_ids'\u001b[0m\u001b[1;33m]\u001b[0m  \u001b[1;31m# Classes prédites\u001b[0m\u001b[1;33m\u001b[0m\u001b[0m\n\u001b[0;32m     17\u001b[0m \u001b[1;33m\u001b[0m\u001b[0m\n",
      "\u001b[1;32m~\\Mask_RCNN\\mrcnn\\model.py\u001b[0m in \u001b[0;36mdetect\u001b[1;34m(self, images, verbose)\u001b[0m\n\u001b[0;32m   2522\u001b[0m         \u001b[1;31m# Run object detection\u001b[0m\u001b[1;33m\u001b[0m\u001b[1;33m\u001b[0m\u001b[0m\n\u001b[0;32m   2523\u001b[0m         \u001b[0mdetections\u001b[0m\u001b[1;33m,\u001b[0m \u001b[0m_\u001b[0m\u001b[1;33m,\u001b[0m \u001b[0m_\u001b[0m\u001b[1;33m,\u001b[0m \u001b[0mmrcnn_mask\u001b[0m\u001b[1;33m,\u001b[0m \u001b[0m_\u001b[0m\u001b[1;33m,\u001b[0m \u001b[0m_\u001b[0m\u001b[1;33m,\u001b[0m \u001b[0m_\u001b[0m \u001b[1;33m=\u001b[0m\u001b[0;31m\\\u001b[0m\u001b[1;33m\u001b[0m\u001b[0m\n\u001b[1;32m-> 2524\u001b[1;33m             \u001b[0mself\u001b[0m\u001b[1;33m.\u001b[0m\u001b[0mkeras_model\u001b[0m\u001b[1;33m.\u001b[0m\u001b[0mpredict\u001b[0m\u001b[1;33m(\u001b[0m\u001b[1;33m[\u001b[0m\u001b[0mmolded_images\u001b[0m\u001b[1;33m,\u001b[0m \u001b[0mimage_metas\u001b[0m\u001b[1;33m,\u001b[0m \u001b[0manchors\u001b[0m\u001b[1;33m]\u001b[0m\u001b[1;33m,\u001b[0m \u001b[0mverbose\u001b[0m\u001b[1;33m=\u001b[0m\u001b[1;36m0\u001b[0m\u001b[1;33m)\u001b[0m\u001b[1;33m\u001b[0m\u001b[0m\n\u001b[0m\u001b[0;32m   2525\u001b[0m         \u001b[1;31m# Process detections\u001b[0m\u001b[1;33m\u001b[0m\u001b[1;33m\u001b[0m\u001b[0m\n\u001b[0;32m   2526\u001b[0m         \u001b[0mresults\u001b[0m \u001b[1;33m=\u001b[0m \u001b[1;33m[\u001b[0m\u001b[1;33m]\u001b[0m\u001b[1;33m\u001b[0m\u001b[0m\n",
      "\u001b[1;32mc:\\users\\gho\\maskrcnn_env\\lib\\site-packages\\keras\\engine\\training.py\u001b[0m in \u001b[0;36mpredict\u001b[1;34m(self, x, batch_size, verbose, steps)\u001b[0m\n\u001b[0;32m   1833\u001b[0m         \u001b[0mf\u001b[0m \u001b[1;33m=\u001b[0m \u001b[0mself\u001b[0m\u001b[1;33m.\u001b[0m\u001b[0mpredict_function\u001b[0m\u001b[1;33m\u001b[0m\u001b[0m\n\u001b[0;32m   1834\u001b[0m         return self._predict_loop(f, ins, batch_size=batch_size,\n\u001b[1;32m-> 1835\u001b[1;33m                                   verbose=verbose, steps=steps)\n\u001b[0m\u001b[0;32m   1836\u001b[0m \u001b[1;33m\u001b[0m\u001b[0m\n\u001b[0;32m   1837\u001b[0m     def train_on_batch(self, x, y,\n",
      "\u001b[1;32mc:\\users\\gho\\maskrcnn_env\\lib\\site-packages\\keras\\engine\\training.py\u001b[0m in \u001b[0;36m_predict_loop\u001b[1;34m(self, f, ins, batch_size, verbose, steps)\u001b[0m\n\u001b[0;32m   1329\u001b[0m                     \u001b[0mins_batch\u001b[0m\u001b[1;33m[\u001b[0m\u001b[0mi\u001b[0m\u001b[1;33m]\u001b[0m \u001b[1;33m=\u001b[0m \u001b[0mins_batch\u001b[0m\u001b[1;33m[\u001b[0m\u001b[0mi\u001b[0m\u001b[1;33m]\u001b[0m\u001b[1;33m.\u001b[0m\u001b[0mtoarray\u001b[0m\u001b[1;33m(\u001b[0m\u001b[1;33m)\u001b[0m\u001b[1;33m\u001b[0m\u001b[0m\n\u001b[0;32m   1330\u001b[0m \u001b[1;33m\u001b[0m\u001b[0m\n\u001b[1;32m-> 1331\u001b[1;33m                 \u001b[0mbatch_outs\u001b[0m \u001b[1;33m=\u001b[0m \u001b[0mf\u001b[0m\u001b[1;33m(\u001b[0m\u001b[0mins_batch\u001b[0m\u001b[1;33m)\u001b[0m\u001b[1;33m\u001b[0m\u001b[0m\n\u001b[0m\u001b[0;32m   1332\u001b[0m                 \u001b[1;32mif\u001b[0m \u001b[1;32mnot\u001b[0m \u001b[0misinstance\u001b[0m\u001b[1;33m(\u001b[0m\u001b[0mbatch_outs\u001b[0m\u001b[1;33m,\u001b[0m \u001b[0mlist\u001b[0m\u001b[1;33m)\u001b[0m\u001b[1;33m:\u001b[0m\u001b[1;33m\u001b[0m\u001b[0m\n\u001b[0;32m   1333\u001b[0m                     \u001b[0mbatch_outs\u001b[0m \u001b[1;33m=\u001b[0m \u001b[1;33m[\u001b[0m\u001b[0mbatch_outs\u001b[0m\u001b[1;33m]\u001b[0m\u001b[1;33m\u001b[0m\u001b[0m\n",
      "\u001b[1;32mc:\\users\\gho\\maskrcnn_env\\lib\\site-packages\\keras\\backend\\tensorflow_backend.py\u001b[0m in \u001b[0;36m__call__\u001b[1;34m(self, inputs)\u001b[0m\n\u001b[0;32m   2480\u001b[0m         \u001b[0msession\u001b[0m \u001b[1;33m=\u001b[0m \u001b[0mget_session\u001b[0m\u001b[1;33m(\u001b[0m\u001b[1;33m)\u001b[0m\u001b[1;33m\u001b[0m\u001b[0m\n\u001b[0;32m   2481\u001b[0m         updated = session.run(fetches=fetches, feed_dict=feed_dict,\n\u001b[1;32m-> 2482\u001b[1;33m                               **self.session_kwargs)\n\u001b[0m\u001b[0;32m   2483\u001b[0m         \u001b[1;32mreturn\u001b[0m \u001b[0mupdated\u001b[0m\u001b[1;33m[\u001b[0m\u001b[1;33m:\u001b[0m\u001b[0mlen\u001b[0m\u001b[1;33m(\u001b[0m\u001b[0mself\u001b[0m\u001b[1;33m.\u001b[0m\u001b[0moutputs\u001b[0m\u001b[1;33m)\u001b[0m\u001b[1;33m]\u001b[0m\u001b[1;33m\u001b[0m\u001b[0m\n\u001b[0;32m   2484\u001b[0m \u001b[1;33m\u001b[0m\u001b[0m\n",
      "\u001b[1;32mc:\\users\\gho\\maskrcnn_env\\lib\\site-packages\\tensorflow_core\\python\\client\\session.py\u001b[0m in \u001b[0;36mrun\u001b[1;34m(self, fetches, feed_dict, options, run_metadata)\u001b[0m\n\u001b[0;32m    954\u001b[0m     \u001b[1;32mtry\u001b[0m\u001b[1;33m:\u001b[0m\u001b[1;33m\u001b[0m\u001b[0m\n\u001b[0;32m    955\u001b[0m       result = self._run(None, fetches, feed_dict, options_ptr,\n\u001b[1;32m--> 956\u001b[1;33m                          run_metadata_ptr)\n\u001b[0m\u001b[0;32m    957\u001b[0m       \u001b[1;32mif\u001b[0m \u001b[0mrun_metadata\u001b[0m\u001b[1;33m:\u001b[0m\u001b[1;33m\u001b[0m\u001b[0m\n\u001b[0;32m    958\u001b[0m         \u001b[0mproto_data\u001b[0m \u001b[1;33m=\u001b[0m \u001b[0mtf_session\u001b[0m\u001b[1;33m.\u001b[0m\u001b[0mTF_GetBuffer\u001b[0m\u001b[1;33m(\u001b[0m\u001b[0mrun_metadata_ptr\u001b[0m\u001b[1;33m)\u001b[0m\u001b[1;33m\u001b[0m\u001b[0m\n",
      "\u001b[1;32mc:\\users\\gho\\maskrcnn_env\\lib\\site-packages\\tensorflow_core\\python\\client\\session.py\u001b[0m in \u001b[0;36m_run\u001b[1;34m(self, handle, fetches, feed_dict, options, run_metadata)\u001b[0m\n\u001b[0;32m   1178\u001b[0m     \u001b[1;32mif\u001b[0m \u001b[0mfinal_fetches\u001b[0m \u001b[1;32mor\u001b[0m \u001b[0mfinal_targets\u001b[0m \u001b[1;32mor\u001b[0m \u001b[1;33m(\u001b[0m\u001b[0mhandle\u001b[0m \u001b[1;32mand\u001b[0m \u001b[0mfeed_dict_tensor\u001b[0m\u001b[1;33m)\u001b[0m\u001b[1;33m:\u001b[0m\u001b[1;33m\u001b[0m\u001b[0m\n\u001b[0;32m   1179\u001b[0m       results = self._do_run(handle, final_targets, final_fetches,\n\u001b[1;32m-> 1180\u001b[1;33m                              feed_dict_tensor, options, run_metadata)\n\u001b[0m\u001b[0;32m   1181\u001b[0m     \u001b[1;32melse\u001b[0m\u001b[1;33m:\u001b[0m\u001b[1;33m\u001b[0m\u001b[0m\n\u001b[0;32m   1182\u001b[0m       \u001b[0mresults\u001b[0m \u001b[1;33m=\u001b[0m \u001b[1;33m[\u001b[0m\u001b[1;33m]\u001b[0m\u001b[1;33m\u001b[0m\u001b[0m\n",
      "\u001b[1;32mc:\\users\\gho\\maskrcnn_env\\lib\\site-packages\\tensorflow_core\\python\\client\\session.py\u001b[0m in \u001b[0;36m_do_run\u001b[1;34m(self, handle, target_list, fetch_list, feed_dict, options, run_metadata)\u001b[0m\n\u001b[0;32m   1357\u001b[0m     \u001b[1;32mif\u001b[0m \u001b[0mhandle\u001b[0m \u001b[1;32mis\u001b[0m \u001b[1;32mNone\u001b[0m\u001b[1;33m:\u001b[0m\u001b[1;33m\u001b[0m\u001b[0m\n\u001b[0;32m   1358\u001b[0m       return self._do_call(_run_fn, feeds, fetches, targets, options,\n\u001b[1;32m-> 1359\u001b[1;33m                            run_metadata)\n\u001b[0m\u001b[0;32m   1360\u001b[0m     \u001b[1;32melse\u001b[0m\u001b[1;33m:\u001b[0m\u001b[1;33m\u001b[0m\u001b[0m\n\u001b[0;32m   1361\u001b[0m       \u001b[1;32mreturn\u001b[0m \u001b[0mself\u001b[0m\u001b[1;33m.\u001b[0m\u001b[0m_do_call\u001b[0m\u001b[1;33m(\u001b[0m\u001b[0m_prun_fn\u001b[0m\u001b[1;33m,\u001b[0m \u001b[0mhandle\u001b[0m\u001b[1;33m,\u001b[0m \u001b[0mfeeds\u001b[0m\u001b[1;33m,\u001b[0m \u001b[0mfetches\u001b[0m\u001b[1;33m)\u001b[0m\u001b[1;33m\u001b[0m\u001b[0m\n",
      "\u001b[1;32mc:\\users\\gho\\maskrcnn_env\\lib\\site-packages\\tensorflow_core\\python\\client\\session.py\u001b[0m in \u001b[0;36m_do_call\u001b[1;34m(self, fn, *args)\u001b[0m\n\u001b[0;32m   1382\u001b[0m                     \u001b[1;34m'\\nsession_config.graph_options.rewrite_options.'\u001b[0m\u001b[1;33m\u001b[0m\u001b[0m\n\u001b[0;32m   1383\u001b[0m                     'disable_meta_optimizer = True')\n\u001b[1;32m-> 1384\u001b[1;33m       \u001b[1;32mraise\u001b[0m \u001b[0mtype\u001b[0m\u001b[1;33m(\u001b[0m\u001b[0me\u001b[0m\u001b[1;33m)\u001b[0m\u001b[1;33m(\u001b[0m\u001b[0mnode_def\u001b[0m\u001b[1;33m,\u001b[0m \u001b[0mop\u001b[0m\u001b[1;33m,\u001b[0m \u001b[0mmessage\u001b[0m\u001b[1;33m)\u001b[0m\u001b[1;33m\u001b[0m\u001b[0m\n\u001b[0m\u001b[0;32m   1385\u001b[0m \u001b[1;33m\u001b[0m\u001b[0m\n\u001b[0;32m   1386\u001b[0m   \u001b[1;32mdef\u001b[0m \u001b[0m_extend_graph\u001b[0m\u001b[1;33m(\u001b[0m\u001b[0mself\u001b[0m\u001b[1;33m)\u001b[0m\u001b[1;33m:\u001b[0m\u001b[1;33m\u001b[0m\u001b[0m\n",
      "\u001b[1;31mInvalidArgumentError\u001b[0m: Input to reshape is a tensor with 600 values, but the requested shape has 0\n\t [[node mrcnn_detection/Reshape_1 (defined at c:\\users\\gho\\maskrcnn_env\\lib\\site-packages\\tensorflow_core\\python\\framework\\ops.py:1748) ]]\n\nOriginal stack trace for 'mrcnn_detection/Reshape_1':\n  File \"C:\\Users\\GHO\\AppData\\Local\\Programs\\Python\\Python36\\lib\\runpy.py\", line 193, in _run_module_as_main\n    \"__main__\", mod_spec)\n  File \"C:\\Users\\GHO\\AppData\\Local\\Programs\\Python\\Python36\\lib\\runpy.py\", line 85, in _run_code\n    exec(code, run_globals)\n  File \"c:\\users\\gho\\maskrcnn_env\\lib\\site-packages\\ipykernel_launcher.py\", line 16, in <module>\n    app.launch_new_instance()\n  File \"c:\\users\\gho\\maskrcnn_env\\lib\\site-packages\\traitlets\\config\\application.py\", line 664, in launch_instance\n    app.start()\n  File \"c:\\users\\gho\\maskrcnn_env\\lib\\site-packages\\ipykernel\\kernelapp.py\", line 619, in start\n    self.io_loop.start()\n  File \"c:\\users\\gho\\maskrcnn_env\\lib\\site-packages\\tornado\\platform\\asyncio.py\", line 199, in start\n    self.asyncio_loop.run_forever()\n  File \"C:\\Users\\GHO\\AppData\\Local\\Programs\\Python\\Python36\\lib\\asyncio\\base_events.py\", line 422, in run_forever\n    self._run_once()\n  File \"C:\\Users\\GHO\\AppData\\Local\\Programs\\Python\\Python36\\lib\\asyncio\\base_events.py\", line 1434, in _run_once\n    handle._run()\n  File \"C:\\Users\\GHO\\AppData\\Local\\Programs\\Python\\Python36\\lib\\asyncio\\events.py\", line 145, in _run\n    self._callback(*self._args)\n  File \"c:\\users\\gho\\maskrcnn_env\\lib\\site-packages\\tornado\\ioloop.py\", line 688, in <lambda>\n    lambda f: self._run_callback(functools.partial(callback, future))\n  File \"c:\\users\\gho\\maskrcnn_env\\lib\\site-packages\\tornado\\ioloop.py\", line 741, in _run_callback\n    ret = callback()\n  File \"c:\\users\\gho\\maskrcnn_env\\lib\\site-packages\\tornado\\gen.py\", line 814, in inner\n    self.ctx_run(self.run)\n  File \"c:\\users\\gho\\maskrcnn_env\\lib\\site-packages\\contextvars\\__init__.py\", line 38, in run\n    return callable(*args, **kwargs)\n  File \"c:\\users\\gho\\maskrcnn_env\\lib\\site-packages\\tornado\\gen.py\", line 775, in run\n    yielded = self.gen.send(value)\n  File \"c:\\users\\gho\\maskrcnn_env\\lib\\site-packages\\ipykernel\\kernelbase.py\", line 377, in dispatch_queue\n    yield self.process_one()\n  File \"c:\\users\\gho\\maskrcnn_env\\lib\\site-packages\\tornado\\gen.py\", line 250, in wrapper\n    runner = Runner(ctx_run, result, future, yielded)\n  File \"c:\\users\\gho\\maskrcnn_env\\lib\\site-packages\\tornado\\gen.py\", line 741, in __init__\n    self.ctx_run(self.run)\n  File \"c:\\users\\gho\\maskrcnn_env\\lib\\site-packages\\contextvars\\__init__.py\", line 38, in run\n    return callable(*args, **kwargs)\n  File \"c:\\users\\gho\\maskrcnn_env\\lib\\site-packages\\tornado\\gen.py\", line 775, in run\n    yielded = self.gen.send(value)\n  File \"c:\\users\\gho\\maskrcnn_env\\lib\\site-packages\\ipykernel\\kernelbase.py\", line 361, in process_one\n    yield gen.maybe_future(dispatch(*args))\n  File \"c:\\users\\gho\\maskrcnn_env\\lib\\site-packages\\tornado\\gen.py\", line 234, in wrapper\n    yielded = ctx_run(next, result)\n  File \"c:\\users\\gho\\maskrcnn_env\\lib\\site-packages\\contextvars\\__init__.py\", line 38, in run\n    return callable(*args, **kwargs)\n  File \"c:\\users\\gho\\maskrcnn_env\\lib\\site-packages\\ipykernel\\kernelbase.py\", line 261, in dispatch_shell\n    yield gen.maybe_future(handler(stream, idents, msg))\n  File \"c:\\users\\gho\\maskrcnn_env\\lib\\site-packages\\tornado\\gen.py\", line 234, in wrapper\n    yielded = ctx_run(next, result)\n  File \"c:\\users\\gho\\maskrcnn_env\\lib\\site-packages\\contextvars\\__init__.py\", line 38, in run\n    return callable(*args, **kwargs)\n  File \"c:\\users\\gho\\maskrcnn_env\\lib\\site-packages\\ipykernel\\kernelbase.py\", line 541, in execute_request\n    user_expressions, allow_stdin,\n  File \"c:\\users\\gho\\maskrcnn_env\\lib\\site-packages\\tornado\\gen.py\", line 234, in wrapper\n    yielded = ctx_run(next, result)\n  File \"c:\\users\\gho\\maskrcnn_env\\lib\\site-packages\\contextvars\\__init__.py\", line 38, in run\n    return callable(*args, **kwargs)\n  File \"c:\\users\\gho\\maskrcnn_env\\lib\\site-packages\\ipykernel\\ipkernel.py\", line 302, in do_execute\n    res = shell.run_cell(code, store_history=store_history, silent=silent)\n  File \"c:\\users\\gho\\maskrcnn_env\\lib\\site-packages\\ipykernel\\zmqshell.py\", line 539, in run_cell\n    return super(ZMQInteractiveShell, self).run_cell(*args, **kwargs)\n  File \"c:\\users\\gho\\maskrcnn_env\\lib\\site-packages\\IPython\\core\\interactiveshell.py\", line 2867, in run_cell\n    raw_cell, store_history, silent, shell_futures)\n  File \"c:\\users\\gho\\maskrcnn_env\\lib\\site-packages\\IPython\\core\\interactiveshell.py\", line 2895, in _run_cell\n    return runner(coro)\n  File \"c:\\users\\gho\\maskrcnn_env\\lib\\site-packages\\IPython\\core\\async_helpers.py\", line 68, in _pseudo_sync_runner\n    coro.send(None)\n  File \"c:\\users\\gho\\maskrcnn_env\\lib\\site-packages\\IPython\\core\\interactiveshell.py\", line 3072, in run_cell_async\n    interactivity=interactivity, compiler=compiler, result=result)\n  File \"c:\\users\\gho\\maskrcnn_env\\lib\\site-packages\\IPython\\core\\interactiveshell.py\", line 3263, in run_ast_nodes\n    if (await self.run_code(code, result,  async_=asy)):\n  File \"c:\\users\\gho\\maskrcnn_env\\lib\\site-packages\\IPython\\core\\interactiveshell.py\", line 3343, in run_code\n    exec(code_obj, self.user_global_ns, self.user_ns)\n  File \"<ipython-input-20-2053236bf96b>\", line 20, in <module>\n    model = modellib.MaskRCNN(mode=\"inference\", config=config, model_dir=model_dir)\n  File \"C:\\Users\\GHO\\Mask_RCNN\\mrcnn\\model.py\", line 1837, in __init__\n    self.keras_model = self.build(mode=mode, config=config)\n  File \"C:\\Users\\GHO\\Mask_RCNN\\mrcnn\\model.py\", line 2044, in build\n    [rpn_rois, mrcnn_class, mrcnn_bbox, input_image_meta])\n  File \"c:\\users\\gho\\maskrcnn_env\\lib\\site-packages\\keras\\engine\\topology.py\", line 619, in __call__\n    output = self.call(inputs, **kwargs)\n  File \"C:\\Users\\GHO\\Mask_RCNN\\mrcnn\\model.py\", line 820, in call\n    [self.config.BATCH_SIZE, self.config.DETECTION_MAX_INSTANCES, 6])\n  File \"c:\\users\\gho\\maskrcnn_env\\lib\\site-packages\\tensorflow_core\\python\\ops\\array_ops.py\", line 131, in reshape\n    result = gen_array_ops.reshape(tensor, shape, name)\n  File \"c:\\users\\gho\\maskrcnn_env\\lib\\site-packages\\tensorflow_core\\python\\ops\\gen_array_ops.py\", line 8115, in reshape\n    \"Reshape\", tensor=tensor, shape=shape, name=name)\n  File \"c:\\users\\gho\\maskrcnn_env\\lib\\site-packages\\tensorflow_core\\python\\framework\\op_def_library.py\", line 794, in _apply_op_helper\n    op_def=op_def)\n  File \"c:\\users\\gho\\maskrcnn_env\\lib\\site-packages\\tensorflow_core\\python\\util\\deprecation.py\", line 507, in new_func\n    return func(*args, **kwargs)\n  File \"c:\\users\\gho\\maskrcnn_env\\lib\\site-packages\\tensorflow_core\\python\\framework\\ops.py\", line 3357, in create_op\n    attrs, op_def, compute_device)\n  File \"c:\\users\\gho\\maskrcnn_env\\lib\\site-packages\\tensorflow_core\\python\\framework\\ops.py\", line 3426, in _create_op_internal\n    op_def=op_def)\n  File \"c:\\users\\gho\\maskrcnn_env\\lib\\site-packages\\tensorflow_core\\python\\framework\\ops.py\", line 1748, in __init__\n    self._traceback = tf_stack.extract_stack()\n"
     ]
    }
   ],
   "source": [
    "import numpy as np\n",
    "from tqdm import tqdm\n",
    "from sklearn.metrics import confusion_matrix\n",
    "import matplotlib.pyplot as plt\n",
    "import seaborn as sns\n",
    "\n",
    "def collect_predictions(model, dataset):\n",
    "    y_true = []\n",
    "    y_pred = []\n",
    "\n",
    "    for image_id in tqdm(dataset.image_ids):\n",
    "        image = dataset.load_image(image_id)\n",
    "        gt_class_ids = dataset.load_mask(image_id)[1]  # Classes de vérité terrain\n",
    "\n",
    "        results = model.detect([image], verbose=0)[0]\n",
    "        pred_class_ids = results['class_ids']  # Classes prédites\n",
    "\n",
    "        y_true.extend(gt_class_ids)\n",
    "        y_pred.extend(pred_class_ids)\n",
    "\n",
    "    return y_true, y_pred\n",
    "\n",
    "# Utilisation de la fonction\n",
    "y_true, y_pred = collect_predictions(model, val_dataset)\n",
    "\n",
    "# Créer la matrice de confusion\n",
    "cm = confusion_matrix(y_true, y_pred, labels=range(len(config.CLASS_NAMES)))\n",
    "\n",
    "# Afficher la matrice de confusion\n",
    "plt.figure(figsize=(10, 7))\n",
    "sns.heatmap(cm, annot=True, fmt='d', cmap='Blues', xticklabels=config.CLASS_NAMES, yticklabels=config.CLASS_NAMES)\n",
    "plt.title('Matrice de Confusion')\n",
    "plt.xlabel('Prédictions')\n",
    "plt.ylabel('Vérité terrain')\n",
    "plt.savefig('images/confusion_matrix.png')\n",
    "plt.show()\n"
   ]
  },
  {
   "cell_type": "code",
   "execution_count": 42,
   "id": "30a11e0a",
   "metadata": {
    "scrolled": true
   },
   "outputs": [
    {
     "name": "stdout",
     "output_type": "stream",
     "text": [
      "Resizing image 0 for detection\n"
     ]
    },
    {
     "ename": "InvalidArgumentError",
     "evalue": "Input to reshape is a tensor with 600 values, but the requested shape has 0\n\t [[node mrcnn_detection/Reshape_1 (defined at c:\\users\\gho\\maskrcnn_env\\lib\\site-packages\\tensorflow_core\\python\\framework\\ops.py:1748) ]]\n\nOriginal stack trace for 'mrcnn_detection/Reshape_1':\n  File \"C:\\Users\\GHO\\AppData\\Local\\Programs\\Python\\Python36\\lib\\runpy.py\", line 193, in _run_module_as_main\n    \"__main__\", mod_spec)\n  File \"C:\\Users\\GHO\\AppData\\Local\\Programs\\Python\\Python36\\lib\\runpy.py\", line 85, in _run_code\n    exec(code, run_globals)\n  File \"c:\\users\\gho\\maskrcnn_env\\lib\\site-packages\\ipykernel_launcher.py\", line 16, in <module>\n    app.launch_new_instance()\n  File \"c:\\users\\gho\\maskrcnn_env\\lib\\site-packages\\traitlets\\config\\application.py\", line 664, in launch_instance\n    app.start()\n  File \"c:\\users\\gho\\maskrcnn_env\\lib\\site-packages\\ipykernel\\kernelapp.py\", line 619, in start\n    self.io_loop.start()\n  File \"c:\\users\\gho\\maskrcnn_env\\lib\\site-packages\\tornado\\platform\\asyncio.py\", line 199, in start\n    self.asyncio_loop.run_forever()\n  File \"C:\\Users\\GHO\\AppData\\Local\\Programs\\Python\\Python36\\lib\\asyncio\\base_events.py\", line 422, in run_forever\n    self._run_once()\n  File \"C:\\Users\\GHO\\AppData\\Local\\Programs\\Python\\Python36\\lib\\asyncio\\base_events.py\", line 1434, in _run_once\n    handle._run()\n  File \"C:\\Users\\GHO\\AppData\\Local\\Programs\\Python\\Python36\\lib\\asyncio\\events.py\", line 145, in _run\n    self._callback(*self._args)\n  File \"c:\\users\\gho\\maskrcnn_env\\lib\\site-packages\\tornado\\ioloop.py\", line 688, in <lambda>\n    lambda f: self._run_callback(functools.partial(callback, future))\n  File \"c:\\users\\gho\\maskrcnn_env\\lib\\site-packages\\tornado\\ioloop.py\", line 741, in _run_callback\n    ret = callback()\n  File \"c:\\users\\gho\\maskrcnn_env\\lib\\site-packages\\tornado\\gen.py\", line 814, in inner\n    self.ctx_run(self.run)\n  File \"c:\\users\\gho\\maskrcnn_env\\lib\\site-packages\\contextvars\\__init__.py\", line 38, in run\n    return callable(*args, **kwargs)\n  File \"c:\\users\\gho\\maskrcnn_env\\lib\\site-packages\\tornado\\gen.py\", line 775, in run\n    yielded = self.gen.send(value)\n  File \"c:\\users\\gho\\maskrcnn_env\\lib\\site-packages\\ipykernel\\kernelbase.py\", line 377, in dispatch_queue\n    yield self.process_one()\n  File \"c:\\users\\gho\\maskrcnn_env\\lib\\site-packages\\tornado\\gen.py\", line 250, in wrapper\n    runner = Runner(ctx_run, result, future, yielded)\n  File \"c:\\users\\gho\\maskrcnn_env\\lib\\site-packages\\tornado\\gen.py\", line 741, in __init__\n    self.ctx_run(self.run)\n  File \"c:\\users\\gho\\maskrcnn_env\\lib\\site-packages\\contextvars\\__init__.py\", line 38, in run\n    return callable(*args, **kwargs)\n  File \"c:\\users\\gho\\maskrcnn_env\\lib\\site-packages\\tornado\\gen.py\", line 775, in run\n    yielded = self.gen.send(value)\n  File \"c:\\users\\gho\\maskrcnn_env\\lib\\site-packages\\ipykernel\\kernelbase.py\", line 361, in process_one\n    yield gen.maybe_future(dispatch(*args))\n  File \"c:\\users\\gho\\maskrcnn_env\\lib\\site-packages\\tornado\\gen.py\", line 234, in wrapper\n    yielded = ctx_run(next, result)\n  File \"c:\\users\\gho\\maskrcnn_env\\lib\\site-packages\\contextvars\\__init__.py\", line 38, in run\n    return callable(*args, **kwargs)\n  File \"c:\\users\\gho\\maskrcnn_env\\lib\\site-packages\\ipykernel\\kernelbase.py\", line 261, in dispatch_shell\n    yield gen.maybe_future(handler(stream, idents, msg))\n  File \"c:\\users\\gho\\maskrcnn_env\\lib\\site-packages\\tornado\\gen.py\", line 234, in wrapper\n    yielded = ctx_run(next, result)\n  File \"c:\\users\\gho\\maskrcnn_env\\lib\\site-packages\\contextvars\\__init__.py\", line 38, in run\n    return callable(*args, **kwargs)\n  File \"c:\\users\\gho\\maskrcnn_env\\lib\\site-packages\\ipykernel\\kernelbase.py\", line 541, in execute_request\n    user_expressions, allow_stdin,\n  File \"c:\\users\\gho\\maskrcnn_env\\lib\\site-packages\\tornado\\gen.py\", line 234, in wrapper\n    yielded = ctx_run(next, result)\n  File \"c:\\users\\gho\\maskrcnn_env\\lib\\site-packages\\contextvars\\__init__.py\", line 38, in run\n    return callable(*args, **kwargs)\n  File \"c:\\users\\gho\\maskrcnn_env\\lib\\site-packages\\ipykernel\\ipkernel.py\", line 302, in do_execute\n    res = shell.run_cell(code, store_history=store_history, silent=silent)\n  File \"c:\\users\\gho\\maskrcnn_env\\lib\\site-packages\\ipykernel\\zmqshell.py\", line 539, in run_cell\n    return super(ZMQInteractiveShell, self).run_cell(*args, **kwargs)\n  File \"c:\\users\\gho\\maskrcnn_env\\lib\\site-packages\\IPython\\core\\interactiveshell.py\", line 2867, in run_cell\n    raw_cell, store_history, silent, shell_futures)\n  File \"c:\\users\\gho\\maskrcnn_env\\lib\\site-packages\\IPython\\core\\interactiveshell.py\", line 2895, in _run_cell\n    return runner(coro)\n  File \"c:\\users\\gho\\maskrcnn_env\\lib\\site-packages\\IPython\\core\\async_helpers.py\", line 68, in _pseudo_sync_runner\n    coro.send(None)\n  File \"c:\\users\\gho\\maskrcnn_env\\lib\\site-packages\\IPython\\core\\interactiveshell.py\", line 3072, in run_cell_async\n    interactivity=interactivity, compiler=compiler, result=result)\n  File \"c:\\users\\gho\\maskrcnn_env\\lib\\site-packages\\IPython\\core\\interactiveshell.py\", line 3263, in run_ast_nodes\n    if (await self.run_code(code, result,  async_=asy)):\n  File \"c:\\users\\gho\\maskrcnn_env\\lib\\site-packages\\IPython\\core\\interactiveshell.py\", line 3343, in run_code\n    exec(code_obj, self.user_global_ns, self.user_ns)\n  File \"<ipython-input-20-2053236bf96b>\", line 20, in <module>\n    model = modellib.MaskRCNN(mode=\"inference\", config=config, model_dir=model_dir)\n  File \"C:\\Users\\GHO\\Mask_RCNN\\mrcnn\\model.py\", line 1837, in __init__\n    self.keras_model = self.build(mode=mode, config=config)\n  File \"C:\\Users\\GHO\\Mask_RCNN\\mrcnn\\model.py\", line 2044, in build\n    [rpn_rois, mrcnn_class, mrcnn_bbox, input_image_meta])\n  File \"c:\\users\\gho\\maskrcnn_env\\lib\\site-packages\\keras\\engine\\topology.py\", line 619, in __call__\n    output = self.call(inputs, **kwargs)\n  File \"C:\\Users\\GHO\\Mask_RCNN\\mrcnn\\model.py\", line 820, in call\n    [self.config.BATCH_SIZE, self.config.DETECTION_MAX_INSTANCES, 6])\n  File \"c:\\users\\gho\\maskrcnn_env\\lib\\site-packages\\tensorflow_core\\python\\ops\\array_ops.py\", line 131, in reshape\n    result = gen_array_ops.reshape(tensor, shape, name)\n  File \"c:\\users\\gho\\maskrcnn_env\\lib\\site-packages\\tensorflow_core\\python\\ops\\gen_array_ops.py\", line 8115, in reshape\n    \"Reshape\", tensor=tensor, shape=shape, name=name)\n  File \"c:\\users\\gho\\maskrcnn_env\\lib\\site-packages\\tensorflow_core\\python\\framework\\op_def_library.py\", line 794, in _apply_op_helper\n    op_def=op_def)\n  File \"c:\\users\\gho\\maskrcnn_env\\lib\\site-packages\\tensorflow_core\\python\\util\\deprecation.py\", line 507, in new_func\n    return func(*args, **kwargs)\n  File \"c:\\users\\gho\\maskrcnn_env\\lib\\site-packages\\tensorflow_core\\python\\framework\\ops.py\", line 3357, in create_op\n    attrs, op_def, compute_device)\n  File \"c:\\users\\gho\\maskrcnn_env\\lib\\site-packages\\tensorflow_core\\python\\framework\\ops.py\", line 3426, in _create_op_internal\n    op_def=op_def)\n  File \"c:\\users\\gho\\maskrcnn_env\\lib\\site-packages\\tensorflow_core\\python\\framework\\ops.py\", line 1748, in __init__\n    self._traceback = tf_stack.extract_stack()\n",
     "output_type": "error",
     "traceback": [
      "\u001b[1;31m---------------------------------------------------------------------------\u001b[0m",
      "\u001b[1;31mInvalidArgumentError\u001b[0m                      Traceback (most recent call last)",
      "\u001b[1;32mc:\\users\\gho\\maskrcnn_env\\lib\\site-packages\\tensorflow_core\\python\\client\\session.py\u001b[0m in \u001b[0;36m_do_call\u001b[1;34m(self, fn, *args)\u001b[0m\n\u001b[0;32m   1364\u001b[0m     \u001b[1;32mtry\u001b[0m\u001b[1;33m:\u001b[0m\u001b[1;33m\u001b[0m\u001b[0m\n\u001b[1;32m-> 1365\u001b[1;33m       \u001b[1;32mreturn\u001b[0m \u001b[0mfn\u001b[0m\u001b[1;33m(\u001b[0m\u001b[1;33m*\u001b[0m\u001b[0margs\u001b[0m\u001b[1;33m)\u001b[0m\u001b[1;33m\u001b[0m\u001b[0m\n\u001b[0m\u001b[0;32m   1366\u001b[0m     \u001b[1;32mexcept\u001b[0m \u001b[0merrors\u001b[0m\u001b[1;33m.\u001b[0m\u001b[0mOpError\u001b[0m \u001b[1;32mas\u001b[0m \u001b[0me\u001b[0m\u001b[1;33m:\u001b[0m\u001b[1;33m\u001b[0m\u001b[0m\n",
      "\u001b[1;32mc:\\users\\gho\\maskrcnn_env\\lib\\site-packages\\tensorflow_core\\python\\client\\session.py\u001b[0m in \u001b[0;36m_run_fn\u001b[1;34m(feed_dict, fetch_list, target_list, options, run_metadata)\u001b[0m\n\u001b[0;32m   1349\u001b[0m       return self._call_tf_sessionrun(options, feed_dict, fetch_list,\n\u001b[1;32m-> 1350\u001b[1;33m                                       target_list, run_metadata)\n\u001b[0m\u001b[0;32m   1351\u001b[0m \u001b[1;33m\u001b[0m\u001b[0m\n",
      "\u001b[1;32mc:\\users\\gho\\maskrcnn_env\\lib\\site-packages\\tensorflow_core\\python\\client\\session.py\u001b[0m in \u001b[0;36m_call_tf_sessionrun\u001b[1;34m(self, options, feed_dict, fetch_list, target_list, run_metadata)\u001b[0m\n\u001b[0;32m   1442\u001b[0m                                             \u001b[0mfetch_list\u001b[0m\u001b[1;33m,\u001b[0m \u001b[0mtarget_list\u001b[0m\u001b[1;33m,\u001b[0m\u001b[1;33m\u001b[0m\u001b[0m\n\u001b[1;32m-> 1443\u001b[1;33m                                             run_metadata)\n\u001b[0m\u001b[0;32m   1444\u001b[0m \u001b[1;33m\u001b[0m\u001b[0m\n",
      "\u001b[1;31mInvalidArgumentError\u001b[0m: Input to reshape is a tensor with 600 values, but the requested shape has 0\n\t [[{{node mrcnn_detection/Reshape_1}}]]",
      "\nDuring handling of the above exception, another exception occurred:\n",
      "\u001b[1;31mInvalidArgumentError\u001b[0m                      Traceback (most recent call last)",
      "\u001b[1;32m<ipython-input-42-4af818faed1a>\u001b[0m in \u001b[0;36m<module>\u001b[1;34m\u001b[0m\n\u001b[0;32m     48\u001b[0m \u001b[1;33m\u001b[0m\u001b[0m\n\u001b[0;32m     49\u001b[0m \u001b[1;31m# Test the function on the validation dataset\u001b[0m\u001b[1;33m\u001b[0m\u001b[1;33m\u001b[0m\u001b[0m\n\u001b[1;32m---> 50\u001b[1;33m \u001b[0mvisualize_detections\u001b[0m\u001b[1;33m(\u001b[0m\u001b[0mmodel\u001b[0m\u001b[1;33m,\u001b[0m \u001b[0mval_dataset\u001b[0m\u001b[1;33m)\u001b[0m\u001b[1;33m\u001b[0m\u001b[0m\n\u001b[0m\u001b[0;32m     51\u001b[0m \u001b[1;33m\u001b[0m\u001b[0m\n\u001b[0;32m     52\u001b[0m \u001b[1;33m\u001b[0m\u001b[0m\n",
      "\u001b[1;32m<ipython-input-42-4af818faed1a>\u001b[0m in \u001b[0;36mvisualize_detections\u001b[1;34m(model, dataset)\u001b[0m\n\u001b[0;32m     27\u001b[0m             \u001b[0mimage\u001b[0m \u001b[1;33m=\u001b[0m \u001b[0mcv2\u001b[0m\u001b[1;33m.\u001b[0m\u001b[0mresize\u001b[0m\u001b[1;33m(\u001b[0m\u001b[0mimage\u001b[0m\u001b[1;33m,\u001b[0m \u001b[1;33m(\u001b[0m\u001b[1;36m1024\u001b[0m\u001b[1;33m,\u001b[0m \u001b[1;36m1024\u001b[0m\u001b[1;33m)\u001b[0m\u001b[1;33m)\u001b[0m\u001b[1;33m\u001b[0m\u001b[0m\n\u001b[0;32m     28\u001b[0m \u001b[1;33m\u001b[0m\u001b[0m\n\u001b[1;32m---> 29\u001b[1;33m         \u001b[0mresult\u001b[0m \u001b[1;33m=\u001b[0m \u001b[0mmodel\u001b[0m\u001b[1;33m.\u001b[0m\u001b[0mdetect\u001b[0m\u001b[1;33m(\u001b[0m\u001b[1;33m[\u001b[0m\u001b[0mimage\u001b[0m\u001b[1;33m]\u001b[0m\u001b[1;33m,\u001b[0m \u001b[0mverbose\u001b[0m\u001b[1;33m=\u001b[0m\u001b[1;36m0\u001b[0m\u001b[1;33m)\u001b[0m\u001b[1;33m[\u001b[0m\u001b[1;36m0\u001b[0m\u001b[1;33m]\u001b[0m\u001b[1;33m\u001b[0m\u001b[0m\n\u001b[0m\u001b[0;32m     30\u001b[0m         \u001b[0mpred_class_ids\u001b[0m \u001b[1;33m=\u001b[0m \u001b[0mresult\u001b[0m\u001b[1;33m[\u001b[0m\u001b[1;34m'class_ids'\u001b[0m\u001b[1;33m]\u001b[0m\u001b[1;33m\u001b[0m\u001b[0m\n\u001b[0;32m     31\u001b[0m         \u001b[0mpred_scores\u001b[0m \u001b[1;33m=\u001b[0m \u001b[0mresult\u001b[0m\u001b[1;33m[\u001b[0m\u001b[1;34m'scores'\u001b[0m\u001b[1;33m]\u001b[0m\u001b[1;33m\u001b[0m\u001b[0m\n",
      "\u001b[1;32m~\\Mask_RCNN\\mrcnn\\model.py\u001b[0m in \u001b[0;36mdetect\u001b[1;34m(self, images, verbose)\u001b[0m\n\u001b[0;32m   2522\u001b[0m         \u001b[1;31m# Run object detection\u001b[0m\u001b[1;33m\u001b[0m\u001b[1;33m\u001b[0m\u001b[0m\n\u001b[0;32m   2523\u001b[0m         \u001b[0mdetections\u001b[0m\u001b[1;33m,\u001b[0m \u001b[0m_\u001b[0m\u001b[1;33m,\u001b[0m \u001b[0m_\u001b[0m\u001b[1;33m,\u001b[0m \u001b[0mmrcnn_mask\u001b[0m\u001b[1;33m,\u001b[0m \u001b[0m_\u001b[0m\u001b[1;33m,\u001b[0m \u001b[0m_\u001b[0m\u001b[1;33m,\u001b[0m \u001b[0m_\u001b[0m \u001b[1;33m=\u001b[0m\u001b[0;31m\\\u001b[0m\u001b[1;33m\u001b[0m\u001b[0m\n\u001b[1;32m-> 2524\u001b[1;33m             \u001b[0mself\u001b[0m\u001b[1;33m.\u001b[0m\u001b[0mkeras_model\u001b[0m\u001b[1;33m.\u001b[0m\u001b[0mpredict\u001b[0m\u001b[1;33m(\u001b[0m\u001b[1;33m[\u001b[0m\u001b[0mmolded_images\u001b[0m\u001b[1;33m,\u001b[0m \u001b[0mimage_metas\u001b[0m\u001b[1;33m,\u001b[0m \u001b[0manchors\u001b[0m\u001b[1;33m]\u001b[0m\u001b[1;33m,\u001b[0m \u001b[0mverbose\u001b[0m\u001b[1;33m=\u001b[0m\u001b[1;36m0\u001b[0m\u001b[1;33m)\u001b[0m\u001b[1;33m\u001b[0m\u001b[0m\n\u001b[0m\u001b[0;32m   2525\u001b[0m         \u001b[1;31m# Process detections\u001b[0m\u001b[1;33m\u001b[0m\u001b[1;33m\u001b[0m\u001b[0m\n\u001b[0;32m   2526\u001b[0m         \u001b[0mresults\u001b[0m \u001b[1;33m=\u001b[0m \u001b[1;33m[\u001b[0m\u001b[1;33m]\u001b[0m\u001b[1;33m\u001b[0m\u001b[0m\n",
      "\u001b[1;32mc:\\users\\gho\\maskrcnn_env\\lib\\site-packages\\keras\\engine\\training.py\u001b[0m in \u001b[0;36mpredict\u001b[1;34m(self, x, batch_size, verbose, steps)\u001b[0m\n\u001b[0;32m   1833\u001b[0m         \u001b[0mf\u001b[0m \u001b[1;33m=\u001b[0m \u001b[0mself\u001b[0m\u001b[1;33m.\u001b[0m\u001b[0mpredict_function\u001b[0m\u001b[1;33m\u001b[0m\u001b[0m\n\u001b[0;32m   1834\u001b[0m         return self._predict_loop(f, ins, batch_size=batch_size,\n\u001b[1;32m-> 1835\u001b[1;33m                                   verbose=verbose, steps=steps)\n\u001b[0m\u001b[0;32m   1836\u001b[0m \u001b[1;33m\u001b[0m\u001b[0m\n\u001b[0;32m   1837\u001b[0m     def train_on_batch(self, x, y,\n",
      "\u001b[1;32mc:\\users\\gho\\maskrcnn_env\\lib\\site-packages\\keras\\engine\\training.py\u001b[0m in \u001b[0;36m_predict_loop\u001b[1;34m(self, f, ins, batch_size, verbose, steps)\u001b[0m\n\u001b[0;32m   1329\u001b[0m                     \u001b[0mins_batch\u001b[0m\u001b[1;33m[\u001b[0m\u001b[0mi\u001b[0m\u001b[1;33m]\u001b[0m \u001b[1;33m=\u001b[0m \u001b[0mins_batch\u001b[0m\u001b[1;33m[\u001b[0m\u001b[0mi\u001b[0m\u001b[1;33m]\u001b[0m\u001b[1;33m.\u001b[0m\u001b[0mtoarray\u001b[0m\u001b[1;33m(\u001b[0m\u001b[1;33m)\u001b[0m\u001b[1;33m\u001b[0m\u001b[0m\n\u001b[0;32m   1330\u001b[0m \u001b[1;33m\u001b[0m\u001b[0m\n\u001b[1;32m-> 1331\u001b[1;33m                 \u001b[0mbatch_outs\u001b[0m \u001b[1;33m=\u001b[0m \u001b[0mf\u001b[0m\u001b[1;33m(\u001b[0m\u001b[0mins_batch\u001b[0m\u001b[1;33m)\u001b[0m\u001b[1;33m\u001b[0m\u001b[0m\n\u001b[0m\u001b[0;32m   1332\u001b[0m                 \u001b[1;32mif\u001b[0m \u001b[1;32mnot\u001b[0m \u001b[0misinstance\u001b[0m\u001b[1;33m(\u001b[0m\u001b[0mbatch_outs\u001b[0m\u001b[1;33m,\u001b[0m \u001b[0mlist\u001b[0m\u001b[1;33m)\u001b[0m\u001b[1;33m:\u001b[0m\u001b[1;33m\u001b[0m\u001b[0m\n\u001b[0;32m   1333\u001b[0m                     \u001b[0mbatch_outs\u001b[0m \u001b[1;33m=\u001b[0m \u001b[1;33m[\u001b[0m\u001b[0mbatch_outs\u001b[0m\u001b[1;33m]\u001b[0m\u001b[1;33m\u001b[0m\u001b[0m\n",
      "\u001b[1;32mc:\\users\\gho\\maskrcnn_env\\lib\\site-packages\\keras\\backend\\tensorflow_backend.py\u001b[0m in \u001b[0;36m__call__\u001b[1;34m(self, inputs)\u001b[0m\n\u001b[0;32m   2480\u001b[0m         \u001b[0msession\u001b[0m \u001b[1;33m=\u001b[0m \u001b[0mget_session\u001b[0m\u001b[1;33m(\u001b[0m\u001b[1;33m)\u001b[0m\u001b[1;33m\u001b[0m\u001b[0m\n\u001b[0;32m   2481\u001b[0m         updated = session.run(fetches=fetches, feed_dict=feed_dict,\n\u001b[1;32m-> 2482\u001b[1;33m                               **self.session_kwargs)\n\u001b[0m\u001b[0;32m   2483\u001b[0m         \u001b[1;32mreturn\u001b[0m \u001b[0mupdated\u001b[0m\u001b[1;33m[\u001b[0m\u001b[1;33m:\u001b[0m\u001b[0mlen\u001b[0m\u001b[1;33m(\u001b[0m\u001b[0mself\u001b[0m\u001b[1;33m.\u001b[0m\u001b[0moutputs\u001b[0m\u001b[1;33m)\u001b[0m\u001b[1;33m]\u001b[0m\u001b[1;33m\u001b[0m\u001b[0m\n\u001b[0;32m   2484\u001b[0m \u001b[1;33m\u001b[0m\u001b[0m\n",
      "\u001b[1;32mc:\\users\\gho\\maskrcnn_env\\lib\\site-packages\\tensorflow_core\\python\\client\\session.py\u001b[0m in \u001b[0;36mrun\u001b[1;34m(self, fetches, feed_dict, options, run_metadata)\u001b[0m\n\u001b[0;32m    954\u001b[0m     \u001b[1;32mtry\u001b[0m\u001b[1;33m:\u001b[0m\u001b[1;33m\u001b[0m\u001b[0m\n\u001b[0;32m    955\u001b[0m       result = self._run(None, fetches, feed_dict, options_ptr,\n\u001b[1;32m--> 956\u001b[1;33m                          run_metadata_ptr)\n\u001b[0m\u001b[0;32m    957\u001b[0m       \u001b[1;32mif\u001b[0m \u001b[0mrun_metadata\u001b[0m\u001b[1;33m:\u001b[0m\u001b[1;33m\u001b[0m\u001b[0m\n\u001b[0;32m    958\u001b[0m         \u001b[0mproto_data\u001b[0m \u001b[1;33m=\u001b[0m \u001b[0mtf_session\u001b[0m\u001b[1;33m.\u001b[0m\u001b[0mTF_GetBuffer\u001b[0m\u001b[1;33m(\u001b[0m\u001b[0mrun_metadata_ptr\u001b[0m\u001b[1;33m)\u001b[0m\u001b[1;33m\u001b[0m\u001b[0m\n",
      "\u001b[1;32mc:\\users\\gho\\maskrcnn_env\\lib\\site-packages\\tensorflow_core\\python\\client\\session.py\u001b[0m in \u001b[0;36m_run\u001b[1;34m(self, handle, fetches, feed_dict, options, run_metadata)\u001b[0m\n\u001b[0;32m   1178\u001b[0m     \u001b[1;32mif\u001b[0m \u001b[0mfinal_fetches\u001b[0m \u001b[1;32mor\u001b[0m \u001b[0mfinal_targets\u001b[0m \u001b[1;32mor\u001b[0m \u001b[1;33m(\u001b[0m\u001b[0mhandle\u001b[0m \u001b[1;32mand\u001b[0m \u001b[0mfeed_dict_tensor\u001b[0m\u001b[1;33m)\u001b[0m\u001b[1;33m:\u001b[0m\u001b[1;33m\u001b[0m\u001b[0m\n\u001b[0;32m   1179\u001b[0m       results = self._do_run(handle, final_targets, final_fetches,\n\u001b[1;32m-> 1180\u001b[1;33m                              feed_dict_tensor, options, run_metadata)\n\u001b[0m\u001b[0;32m   1181\u001b[0m     \u001b[1;32melse\u001b[0m\u001b[1;33m:\u001b[0m\u001b[1;33m\u001b[0m\u001b[0m\n\u001b[0;32m   1182\u001b[0m       \u001b[0mresults\u001b[0m \u001b[1;33m=\u001b[0m \u001b[1;33m[\u001b[0m\u001b[1;33m]\u001b[0m\u001b[1;33m\u001b[0m\u001b[0m\n",
      "\u001b[1;32mc:\\users\\gho\\maskrcnn_env\\lib\\site-packages\\tensorflow_core\\python\\client\\session.py\u001b[0m in \u001b[0;36m_do_run\u001b[1;34m(self, handle, target_list, fetch_list, feed_dict, options, run_metadata)\u001b[0m\n\u001b[0;32m   1357\u001b[0m     \u001b[1;32mif\u001b[0m \u001b[0mhandle\u001b[0m \u001b[1;32mis\u001b[0m \u001b[1;32mNone\u001b[0m\u001b[1;33m:\u001b[0m\u001b[1;33m\u001b[0m\u001b[0m\n\u001b[0;32m   1358\u001b[0m       return self._do_call(_run_fn, feeds, fetches, targets, options,\n\u001b[1;32m-> 1359\u001b[1;33m                            run_metadata)\n\u001b[0m\u001b[0;32m   1360\u001b[0m     \u001b[1;32melse\u001b[0m\u001b[1;33m:\u001b[0m\u001b[1;33m\u001b[0m\u001b[0m\n\u001b[0;32m   1361\u001b[0m       \u001b[1;32mreturn\u001b[0m \u001b[0mself\u001b[0m\u001b[1;33m.\u001b[0m\u001b[0m_do_call\u001b[0m\u001b[1;33m(\u001b[0m\u001b[0m_prun_fn\u001b[0m\u001b[1;33m,\u001b[0m \u001b[0mhandle\u001b[0m\u001b[1;33m,\u001b[0m \u001b[0mfeeds\u001b[0m\u001b[1;33m,\u001b[0m \u001b[0mfetches\u001b[0m\u001b[1;33m)\u001b[0m\u001b[1;33m\u001b[0m\u001b[0m\n",
      "\u001b[1;32mc:\\users\\gho\\maskrcnn_env\\lib\\site-packages\\tensorflow_core\\python\\client\\session.py\u001b[0m in \u001b[0;36m_do_call\u001b[1;34m(self, fn, *args)\u001b[0m\n\u001b[0;32m   1382\u001b[0m                     \u001b[1;34m'\\nsession_config.graph_options.rewrite_options.'\u001b[0m\u001b[1;33m\u001b[0m\u001b[0m\n\u001b[0;32m   1383\u001b[0m                     'disable_meta_optimizer = True')\n\u001b[1;32m-> 1384\u001b[1;33m       \u001b[1;32mraise\u001b[0m \u001b[0mtype\u001b[0m\u001b[1;33m(\u001b[0m\u001b[0me\u001b[0m\u001b[1;33m)\u001b[0m\u001b[1;33m(\u001b[0m\u001b[0mnode_def\u001b[0m\u001b[1;33m,\u001b[0m \u001b[0mop\u001b[0m\u001b[1;33m,\u001b[0m \u001b[0mmessage\u001b[0m\u001b[1;33m)\u001b[0m\u001b[1;33m\u001b[0m\u001b[0m\n\u001b[0m\u001b[0;32m   1385\u001b[0m \u001b[1;33m\u001b[0m\u001b[0m\n\u001b[0;32m   1386\u001b[0m   \u001b[1;32mdef\u001b[0m \u001b[0m_extend_graph\u001b[0m\u001b[1;33m(\u001b[0m\u001b[0mself\u001b[0m\u001b[1;33m)\u001b[0m\u001b[1;33m:\u001b[0m\u001b[1;33m\u001b[0m\u001b[0m\n",
      "\u001b[1;31mInvalidArgumentError\u001b[0m: Input to reshape is a tensor with 600 values, but the requested shape has 0\n\t [[node mrcnn_detection/Reshape_1 (defined at c:\\users\\gho\\maskrcnn_env\\lib\\site-packages\\tensorflow_core\\python\\framework\\ops.py:1748) ]]\n\nOriginal stack trace for 'mrcnn_detection/Reshape_1':\n  File \"C:\\Users\\GHO\\AppData\\Local\\Programs\\Python\\Python36\\lib\\runpy.py\", line 193, in _run_module_as_main\n    \"__main__\", mod_spec)\n  File \"C:\\Users\\GHO\\AppData\\Local\\Programs\\Python\\Python36\\lib\\runpy.py\", line 85, in _run_code\n    exec(code, run_globals)\n  File \"c:\\users\\gho\\maskrcnn_env\\lib\\site-packages\\ipykernel_launcher.py\", line 16, in <module>\n    app.launch_new_instance()\n  File \"c:\\users\\gho\\maskrcnn_env\\lib\\site-packages\\traitlets\\config\\application.py\", line 664, in launch_instance\n    app.start()\n  File \"c:\\users\\gho\\maskrcnn_env\\lib\\site-packages\\ipykernel\\kernelapp.py\", line 619, in start\n    self.io_loop.start()\n  File \"c:\\users\\gho\\maskrcnn_env\\lib\\site-packages\\tornado\\platform\\asyncio.py\", line 199, in start\n    self.asyncio_loop.run_forever()\n  File \"C:\\Users\\GHO\\AppData\\Local\\Programs\\Python\\Python36\\lib\\asyncio\\base_events.py\", line 422, in run_forever\n    self._run_once()\n  File \"C:\\Users\\GHO\\AppData\\Local\\Programs\\Python\\Python36\\lib\\asyncio\\base_events.py\", line 1434, in _run_once\n    handle._run()\n  File \"C:\\Users\\GHO\\AppData\\Local\\Programs\\Python\\Python36\\lib\\asyncio\\events.py\", line 145, in _run\n    self._callback(*self._args)\n  File \"c:\\users\\gho\\maskrcnn_env\\lib\\site-packages\\tornado\\ioloop.py\", line 688, in <lambda>\n    lambda f: self._run_callback(functools.partial(callback, future))\n  File \"c:\\users\\gho\\maskrcnn_env\\lib\\site-packages\\tornado\\ioloop.py\", line 741, in _run_callback\n    ret = callback()\n  File \"c:\\users\\gho\\maskrcnn_env\\lib\\site-packages\\tornado\\gen.py\", line 814, in inner\n    self.ctx_run(self.run)\n  File \"c:\\users\\gho\\maskrcnn_env\\lib\\site-packages\\contextvars\\__init__.py\", line 38, in run\n    return callable(*args, **kwargs)\n  File \"c:\\users\\gho\\maskrcnn_env\\lib\\site-packages\\tornado\\gen.py\", line 775, in run\n    yielded = self.gen.send(value)\n  File \"c:\\users\\gho\\maskrcnn_env\\lib\\site-packages\\ipykernel\\kernelbase.py\", line 377, in dispatch_queue\n    yield self.process_one()\n  File \"c:\\users\\gho\\maskrcnn_env\\lib\\site-packages\\tornado\\gen.py\", line 250, in wrapper\n    runner = Runner(ctx_run, result, future, yielded)\n  File \"c:\\users\\gho\\maskrcnn_env\\lib\\site-packages\\tornado\\gen.py\", line 741, in __init__\n    self.ctx_run(self.run)\n  File \"c:\\users\\gho\\maskrcnn_env\\lib\\site-packages\\contextvars\\__init__.py\", line 38, in run\n    return callable(*args, **kwargs)\n  File \"c:\\users\\gho\\maskrcnn_env\\lib\\site-packages\\tornado\\gen.py\", line 775, in run\n    yielded = self.gen.send(value)\n  File \"c:\\users\\gho\\maskrcnn_env\\lib\\site-packages\\ipykernel\\kernelbase.py\", line 361, in process_one\n    yield gen.maybe_future(dispatch(*args))\n  File \"c:\\users\\gho\\maskrcnn_env\\lib\\site-packages\\tornado\\gen.py\", line 234, in wrapper\n    yielded = ctx_run(next, result)\n  File \"c:\\users\\gho\\maskrcnn_env\\lib\\site-packages\\contextvars\\__init__.py\", line 38, in run\n    return callable(*args, **kwargs)\n  File \"c:\\users\\gho\\maskrcnn_env\\lib\\site-packages\\ipykernel\\kernelbase.py\", line 261, in dispatch_shell\n    yield gen.maybe_future(handler(stream, idents, msg))\n  File \"c:\\users\\gho\\maskrcnn_env\\lib\\site-packages\\tornado\\gen.py\", line 234, in wrapper\n    yielded = ctx_run(next, result)\n  File \"c:\\users\\gho\\maskrcnn_env\\lib\\site-packages\\contextvars\\__init__.py\", line 38, in run\n    return callable(*args, **kwargs)\n  File \"c:\\users\\gho\\maskrcnn_env\\lib\\site-packages\\ipykernel\\kernelbase.py\", line 541, in execute_request\n    user_expressions, allow_stdin,\n  File \"c:\\users\\gho\\maskrcnn_env\\lib\\site-packages\\tornado\\gen.py\", line 234, in wrapper\n    yielded = ctx_run(next, result)\n  File \"c:\\users\\gho\\maskrcnn_env\\lib\\site-packages\\contextvars\\__init__.py\", line 38, in run\n    return callable(*args, **kwargs)\n  File \"c:\\users\\gho\\maskrcnn_env\\lib\\site-packages\\ipykernel\\ipkernel.py\", line 302, in do_execute\n    res = shell.run_cell(code, store_history=store_history, silent=silent)\n  File \"c:\\users\\gho\\maskrcnn_env\\lib\\site-packages\\ipykernel\\zmqshell.py\", line 539, in run_cell\n    return super(ZMQInteractiveShell, self).run_cell(*args, **kwargs)\n  File \"c:\\users\\gho\\maskrcnn_env\\lib\\site-packages\\IPython\\core\\interactiveshell.py\", line 2867, in run_cell\n    raw_cell, store_history, silent, shell_futures)\n  File \"c:\\users\\gho\\maskrcnn_env\\lib\\site-packages\\IPython\\core\\interactiveshell.py\", line 2895, in _run_cell\n    return runner(coro)\n  File \"c:\\users\\gho\\maskrcnn_env\\lib\\site-packages\\IPython\\core\\async_helpers.py\", line 68, in _pseudo_sync_runner\n    coro.send(None)\n  File \"c:\\users\\gho\\maskrcnn_env\\lib\\site-packages\\IPython\\core\\interactiveshell.py\", line 3072, in run_cell_async\n    interactivity=interactivity, compiler=compiler, result=result)\n  File \"c:\\users\\gho\\maskrcnn_env\\lib\\site-packages\\IPython\\core\\interactiveshell.py\", line 3263, in run_ast_nodes\n    if (await self.run_code(code, result,  async_=asy)):\n  File \"c:\\users\\gho\\maskrcnn_env\\lib\\site-packages\\IPython\\core\\interactiveshell.py\", line 3343, in run_code\n    exec(code_obj, self.user_global_ns, self.user_ns)\n  File \"<ipython-input-20-2053236bf96b>\", line 20, in <module>\n    model = modellib.MaskRCNN(mode=\"inference\", config=config, model_dir=model_dir)\n  File \"C:\\Users\\GHO\\Mask_RCNN\\mrcnn\\model.py\", line 1837, in __init__\n    self.keras_model = self.build(mode=mode, config=config)\n  File \"C:\\Users\\GHO\\Mask_RCNN\\mrcnn\\model.py\", line 2044, in build\n    [rpn_rois, mrcnn_class, mrcnn_bbox, input_image_meta])\n  File \"c:\\users\\gho\\maskrcnn_env\\lib\\site-packages\\keras\\engine\\topology.py\", line 619, in __call__\n    output = self.call(inputs, **kwargs)\n  File \"C:\\Users\\GHO\\Mask_RCNN\\mrcnn\\model.py\", line 820, in call\n    [self.config.BATCH_SIZE, self.config.DETECTION_MAX_INSTANCES, 6])\n  File \"c:\\users\\gho\\maskrcnn_env\\lib\\site-packages\\tensorflow_core\\python\\ops\\array_ops.py\", line 131, in reshape\n    result = gen_array_ops.reshape(tensor, shape, name)\n  File \"c:\\users\\gho\\maskrcnn_env\\lib\\site-packages\\tensorflow_core\\python\\ops\\gen_array_ops.py\", line 8115, in reshape\n    \"Reshape\", tensor=tensor, shape=shape, name=name)\n  File \"c:\\users\\gho\\maskrcnn_env\\lib\\site-packages\\tensorflow_core\\python\\framework\\op_def_library.py\", line 794, in _apply_op_helper\n    op_def=op_def)\n  File \"c:\\users\\gho\\maskrcnn_env\\lib\\site-packages\\tensorflow_core\\python\\util\\deprecation.py\", line 507, in new_func\n    return func(*args, **kwargs)\n  File \"c:\\users\\gho\\maskrcnn_env\\lib\\site-packages\\tensorflow_core\\python\\framework\\ops.py\", line 3357, in create_op\n    attrs, op_def, compute_device)\n  File \"c:\\users\\gho\\maskrcnn_env\\lib\\site-packages\\tensorflow_core\\python\\framework\\ops.py\", line 3426, in _create_op_internal\n    op_def=op_def)\n  File \"c:\\users\\gho\\maskrcnn_env\\lib\\site-packages\\tensorflow_core\\python\\framework\\ops.py\", line 1748, in __init__\n    self._traceback = tf_stack.extract_stack()\n"
     ]
    }
   ],
   "source": [
    "import numpy as np\n",
    "import matplotlib.pyplot as plt\n",
    "from mrcnn.visualize import display_instances\n",
    "from skimage.draw import polygon as draw_polygon\n",
    "\n",
    "# Define the missing polygon_to_mask function\n",
    "def polygon_to_mask(polygon, height, width):\n",
    "    \"\"\"Convert polygon points to binary mask.\"\"\"\n",
    "    poly_x = [p[0] for p in polygon]\n",
    "    poly_y = [p[1] for p in polygon]\n",
    "    rr, cc = draw_polygon(poly_y, poly_x, shape=(height, width))\n",
    "    return rr, cc\n",
    "\n",
    "def visualize_detections(model, dataset):\n",
    "    # Loop through the images in the dataset\n",
    "    for image_id in dataset.image_ids:\n",
    "        # Load the image\n",
    "        image = dataset.load_image(image_id)\n",
    "        \n",
    "        # Get the ground truth (optional, just to know if it has a drone or not)\n",
    "        gt_mask, gt_class_id = dataset.load_mask(image_id)\n",
    "        true_label = \"Drone\" if len(gt_class_id) > 0 else \"No Drone\"\n",
    "        \n",
    "        # Predict using the model\n",
    "        if image.shape[0] != 1024 or image.shape[1] != 1024:\n",
    "            print(f\"Resizing image {image_id} for detection\")\n",
    "            image = cv2.resize(image, (1024, 1024))\n",
    "        \n",
    "        result = model.detect([image], verbose=0)[0]\n",
    "        pred_class_ids = result['class_ids']\n",
    "        pred_scores = result['scores']\n",
    "        pred_masks = result['masks']\n",
    "        pred_bboxes = result['rois']\n",
    "        \n",
    "        # Determine if a drone is detected\n",
    "        predicted_label = \"Drone\" if len(pred_class_ids) > 0 else \"No Drone\"\n",
    "        \n",
    "        # Print out the detection result\n",
    "        print(f\"Image {image_id}: True Label: {true_label}, Predicted Label: {predicted_label}\")\n",
    "        \n",
    "        # If a drone is detected, display the image with segmentation and bounding box\n",
    "        if predicted_label == \"Drone\":\n",
    "            print(f\"Drone detected with score: {pred_scores[0]:.2f}\")\n",
    "            # Visualize the image with the predicted mask, bounding box, and class name\n",
    "            display_instances(image, pred_bboxes, pred_masks, pred_class_ids,\n",
    "                              dataset.class_names, pred_scores)\n",
    "            plt.show()\n",
    "\n",
    "# Test the function on the validation dataset\n",
    "visualize_detections(model, val_dataset)\n",
    "\n",
    "    \n"
   ]
  },
  {
   "cell_type": "code",
   "execution_count": 39,
   "id": "8c3dac12",
   "metadata": {},
   "outputs": [
    {
     "ename": "SyntaxError",
     "evalue": "positional argument follows keyword argument (<ipython-input-39-890ad0820569>, line 16)",
     "output_type": "error",
     "traceback": [
      "\u001b[1;36m  File \u001b[1;32m\"<ipython-input-39-890ad0820569>\"\u001b[1;36m, line \u001b[1;32m16\u001b[0m\n\u001b[1;33m    model_path = os.path.join(model = _dir, 'mask_rcnn_drone_detection_0020.h5')\u001b[0m\n\u001b[1;37m                                           ^\u001b[0m\n\u001b[1;31mSyntaxError\u001b[0m\u001b[1;31m:\u001b[0m positional argument follows keyword argument\n"
     ]
    }
   ],
   "source": [
    "from mrcnn import model as modellib\n",
    "from mrcnn.config import Config\n",
    "import os\n",
    "\n",
    "# Define configuration\n",
    "class DroneDetectionConfig(Config):\n",
    "    NAME = \"drone_detection\"\n",
    "    GPU_COUNT = 1  # Ensure you use the correct GPU count\n",
    "    IMAGES_PER_GPU = 1\n",
    "    NUM_CLASSES = 1 + 1  # Background + drone\n",
    "    DETECTION_MIN_CONFIDENCE = 0.9\n",
    "\n",
    "# Load the model\n",
    "config = DroneDetectionConfig()\n",
    "model_dir = 'logs/drone_detection20241018T0748'\n",
    "model_path = os.path.join(model = _dir, 'mask_rcnn_drone_detection_0020.h5')\n",
    "\n",
    "\n",
    "# Assuming you have DroneDataset class defined as before\n",
    "\n",
    "# Define the paths to your dataset directories\n",
    "dataset_dir = 'dataset'\n",
    "\n",
    "# Initialize the training dataset\n",
    "dataset_train = DroneDataset()\n",
    "dataset_train.load_drone(dataset_dir, 'train')\n",
    "dataset_train.prepare()\n",
    "\n",
    "# Initialize the validation dataset\n",
    "dataset_val = DroneDataset()\n",
    "dataset_val.load_drone(dataset_dir, 'val')\n",
    "dataset_val.prepare()\n",
    "\n",
    "\n",
    "# Create the model in training mode\n",
    "model = modellib.MaskRCNN(mode=\"training\", config=config, model_dir=\"mask_rcnn_drone_detection_0020.h5\")\n",
    "print(\"Loading model weights...\")\n",
    "model.load_weights(model_path, by_name=True)\n",
    "print(\"Model weights loaded.\")\n",
    "\n",
    "\n",
    "# Fine-tune the model with a lower learning rate\n",
    "print(\"Starting fine-tuning...\")\n",
    "model.train(dataset_train, dataset_val,\n",
    "            learning_rate=config.LEARNING_RATE / 10,\n",
    "            epochs=10,\n",
    "            layers='all')\n",
    "print(\"Fine-tuning finished.\")\n",
    "\n",
    "# Save the fine-tuned model weights\n",
    "print(\"Saving fine-tuned weights...\")\n",
    "model.keras_model.save_weights(\"fine_tuned_model.h5\")\n",
    "print(\"Weights saved.\")\n",
    "\n"
   ]
  },
  {
   "cell_type": "code",
   "execution_count": null,
   "id": "58047b9b",
   "metadata": {},
   "outputs": [],
   "source": [
    "from mrcnn import model as modellib\n",
    "from mrcnn.config import Config\n",
    "import os\n",
    "\n",
    "# Define configuration\n",
    "class DroneDetectionConfig(Config):\n",
    "    NAME = \"drone_detection\"\n",
    "    GPU_COUNT = 1  # Utiliser le GPU pour l'entraînement\n",
    "    IMAGES_PER_GPU = 1\n",
    "    NUM_CLASSES = 1 + 1  # Background + drone\n",
    "    DETECTION_MIN_CONFIDENCE = 0.9\n",
    "    CLASS_NAMES = ['BG', 'drone']  # Background and drone\n",
    "    STEPS_PER_EPOCH = 100\n",
    "\n",
    "# Load the model\n",
    "config = DroneDetectionConfig()\n",
    "model_dir = 'logs/drone_detection20241018T0748'\n",
    "model_path = os.path.join(model_dir, 'mask_rcnn_drone_detection_0020.h5')\n",
    "\n",
    "# Create the model in training mode\n",
    "model = modellib.MaskRCNN(mode=\"training\", config=config, model_dir=model_dir)\n",
    "model.load_weights(model_path, by_name=True)\n",
    "\n",
    "# Load the dataset\n",
    "dataset_train = DroneDataset()\n",
    "dataset_train.load_drone(dataset_dir=\"dataset\", subset=\"train\")\n",
    "dataset_train.prepare()\n",
    "\n",
    "dataset_val = DroneDataset()\n",
    "dataset_val.load_drone(dataset_dir=\"dataset\", subset=\"val\")\n",
    "dataset_val.prepare()\n",
    "\n",
    "total_epochs = 30\n",
    "model.train(dataset_train, dataset_val,\n",
    "            learning_rate=config.LEARNING_RATE / 10,\n",
    "            epochs=total_epochs,\n",
    "            layers='heads')"
   ]
  },
  {
   "cell_type": "code",
   "execution_count": 17,
   "id": "13386dcc",
   "metadata": {},
   "outputs": [
    {
     "ename": "KeyboardInterrupt",
     "evalue": "",
     "output_type": "error",
     "traceback": [
      "\u001b[1;31m---------------------------------------------------------------------------\u001b[0m",
      "\u001b[1;31mKeyboardInterrupt\u001b[0m                         Traceback (most recent call last)",
      "\u001b[1;32m<ipython-input-17-e98a9c68f8ba>\u001b[0m in \u001b[0;36m<module>\u001b[1;34m\u001b[0m\n\u001b[0;32m     28\u001b[0m \u001b[1;33m\u001b[0m\u001b[0m\n\u001b[0;32m     29\u001b[0m \u001b[1;31m# Create the model in training mode\u001b[0m\u001b[1;33m\u001b[0m\u001b[1;33m\u001b[0m\u001b[0m\n\u001b[1;32m---> 30\u001b[1;33m \u001b[0mmodel\u001b[0m \u001b[1;33m=\u001b[0m \u001b[0mmodellib\u001b[0m\u001b[1;33m.\u001b[0m\u001b[0mMaskRCNN\u001b[0m\u001b[1;33m(\u001b[0m\u001b[0mmode\u001b[0m\u001b[1;33m=\u001b[0m\u001b[1;34m\"training\"\u001b[0m\u001b[1;33m,\u001b[0m \u001b[0mconfig\u001b[0m\u001b[1;33m=\u001b[0m\u001b[0mconfig\u001b[0m\u001b[1;33m,\u001b[0m \u001b[0mmodel_dir\u001b[0m\u001b[1;33m=\u001b[0m\u001b[0mmodel_dir\u001b[0m\u001b[1;33m)\u001b[0m\u001b[1;33m\u001b[0m\u001b[0m\n\u001b[0m\u001b[0;32m     31\u001b[0m \u001b[0mmodel\u001b[0m\u001b[1;33m.\u001b[0m\u001b[0mload_weights\u001b[0m\u001b[1;33m(\u001b[0m\u001b[0mmodel_path\u001b[0m\u001b[1;33m,\u001b[0m \u001b[0mby_name\u001b[0m\u001b[1;33m=\u001b[0m\u001b[1;32mTrue\u001b[0m\u001b[1;33m)\u001b[0m\u001b[1;33m\u001b[0m\u001b[0m\n\u001b[0;32m     32\u001b[0m \u001b[1;33m\u001b[0m\u001b[0m\n",
      "\u001b[1;32m~\\Mask_RCNN\\mrcnn\\model.py\u001b[0m in \u001b[0;36m__init__\u001b[1;34m(self, mode, config, model_dir)\u001b[0m\n\u001b[0;32m   1835\u001b[0m         \u001b[0mself\u001b[0m\u001b[1;33m.\u001b[0m\u001b[0mmodel_dir\u001b[0m \u001b[1;33m=\u001b[0m \u001b[0mmodel_dir\u001b[0m\u001b[1;33m\u001b[0m\u001b[0m\n\u001b[0;32m   1836\u001b[0m         \u001b[0mself\u001b[0m\u001b[1;33m.\u001b[0m\u001b[0mset_log_dir\u001b[0m\u001b[1;33m(\u001b[0m\u001b[1;33m)\u001b[0m\u001b[1;33m\u001b[0m\u001b[0m\n\u001b[1;32m-> 1837\u001b[1;33m         \u001b[0mself\u001b[0m\u001b[1;33m.\u001b[0m\u001b[0mkeras_model\u001b[0m \u001b[1;33m=\u001b[0m \u001b[0mself\u001b[0m\u001b[1;33m.\u001b[0m\u001b[0mbuild\u001b[0m\u001b[1;33m(\u001b[0m\u001b[0mmode\u001b[0m\u001b[1;33m=\u001b[0m\u001b[0mmode\u001b[0m\u001b[1;33m,\u001b[0m \u001b[0mconfig\u001b[0m\u001b[1;33m=\u001b[0m\u001b[0mconfig\u001b[0m\u001b[1;33m)\u001b[0m\u001b[1;33m\u001b[0m\u001b[0m\n\u001b[0m\u001b[0;32m   1838\u001b[0m \u001b[1;33m\u001b[0m\u001b[0m\n\u001b[0;32m   1839\u001b[0m     \u001b[1;32mdef\u001b[0m \u001b[0mbuild\u001b[0m\u001b[1;33m(\u001b[0m\u001b[0mself\u001b[0m\u001b[1;33m,\u001b[0m \u001b[0mmode\u001b[0m\u001b[1;33m,\u001b[0m \u001b[0mconfig\u001b[0m\u001b[1;33m)\u001b[0m\u001b[1;33m:\u001b[0m\u001b[1;33m\u001b[0m\u001b[0m\n",
      "\u001b[1;32m~\\Mask_RCNN\\mrcnn\\model.py\u001b[0m in \u001b[0;36mbuild\u001b[1;34m(self, mode, config)\u001b[0m\n\u001b[0;32m   1996\u001b[0m                                      \u001b[0mconfig\u001b[0m\u001b[1;33m.\u001b[0m\u001b[0mPOOL_SIZE\u001b[0m\u001b[1;33m,\u001b[0m \u001b[0mconfig\u001b[0m\u001b[1;33m.\u001b[0m\u001b[0mNUM_CLASSES\u001b[0m\u001b[1;33m,\u001b[0m\u001b[1;33m\u001b[0m\u001b[0m\n\u001b[0;32m   1997\u001b[0m                                      \u001b[0mtrain_bn\u001b[0m\u001b[1;33m=\u001b[0m\u001b[0mconfig\u001b[0m\u001b[1;33m.\u001b[0m\u001b[0mTRAIN_BN\u001b[0m\u001b[1;33m,\u001b[0m\u001b[1;33m\u001b[0m\u001b[0m\n\u001b[1;32m-> 1998\u001b[1;33m                                      fc_layers_size=config.FPN_CLASSIF_FC_LAYERS_SIZE)\n\u001b[0m\u001b[0;32m   1999\u001b[0m \u001b[1;33m\u001b[0m\u001b[0m\n\u001b[0;32m   2000\u001b[0m             mrcnn_mask = build_fpn_mask_graph(rois, mrcnn_feature_maps,\n",
      "\u001b[1;32m~\\Mask_RCNN\\mrcnn\\model.py\u001b[0m in \u001b[0;36mfpn_classifier_graph\u001b[1;34m(rois, feature_maps, image_meta, pool_size, num_classes, train_bn, fc_layers_size)\u001b[0m\n\u001b[0;32m    923\u001b[0m     \u001b[1;31m# Shape: [batch, num_rois, POOL_SIZE, POOL_SIZE, channels]\u001b[0m\u001b[1;33m\u001b[0m\u001b[1;33m\u001b[0m\u001b[0m\n\u001b[0;32m    924\u001b[0m     x = PyramidROIAlign([pool_size, pool_size],\n\u001b[1;32m--> 925\u001b[1;33m                         name=\"roi_align_classifier\")([rois, image_meta] + feature_maps)\n\u001b[0m\u001b[0;32m    926\u001b[0m     \u001b[1;31m# Two 1024 FC layers (implemented with Conv2D for consistency)\u001b[0m\u001b[1;33m\u001b[0m\u001b[1;33m\u001b[0m\u001b[0m\n\u001b[0;32m    927\u001b[0m     x = KL.TimeDistributed(KL.Conv2D(fc_layers_size, (pool_size, pool_size), padding=\"valid\"),\n",
      "\u001b[1;32mc:\\users\\gho\\maskrcnn_env\\lib\\site-packages\\keras\\engine\\topology.py\u001b[0m in \u001b[0;36m__call__\u001b[1;34m(self, inputs, **kwargs)\u001b[0m\n\u001b[0;32m    617\u001b[0m \u001b[1;33m\u001b[0m\u001b[0m\n\u001b[0;32m    618\u001b[0m             \u001b[1;31m# Actually call the layer, collecting output(s), mask(s), and shape(s).\u001b[0m\u001b[1;33m\u001b[0m\u001b[1;33m\u001b[0m\u001b[0m\n\u001b[1;32m--> 619\u001b[1;33m             \u001b[0moutput\u001b[0m \u001b[1;33m=\u001b[0m \u001b[0mself\u001b[0m\u001b[1;33m.\u001b[0m\u001b[0mcall\u001b[0m\u001b[1;33m(\u001b[0m\u001b[0minputs\u001b[0m\u001b[1;33m,\u001b[0m \u001b[1;33m**\u001b[0m\u001b[0mkwargs\u001b[0m\u001b[1;33m)\u001b[0m\u001b[1;33m\u001b[0m\u001b[0m\n\u001b[0m\u001b[0;32m    620\u001b[0m             \u001b[0moutput_mask\u001b[0m \u001b[1;33m=\u001b[0m \u001b[0mself\u001b[0m\u001b[1;33m.\u001b[0m\u001b[0mcompute_mask\u001b[0m\u001b[1;33m(\u001b[0m\u001b[0minputs\u001b[0m\u001b[1;33m,\u001b[0m \u001b[0mprevious_mask\u001b[0m\u001b[1;33m)\u001b[0m\u001b[1;33m\u001b[0m\u001b[0m\n\u001b[0;32m    621\u001b[0m \u001b[1;33m\u001b[0m\u001b[0m\n",
      "\u001b[1;32m~\\Mask_RCNN\\mrcnn\\model.py\u001b[0m in \u001b[0;36mcall\u001b[1;34m(self, inputs)\u001b[0m\n\u001b[0;32m    390\u001b[0m         \u001b[0mroi_level\u001b[0m \u001b[1;33m=\u001b[0m \u001b[0mlog2_graph\u001b[0m\u001b[1;33m(\u001b[0m\u001b[0mtf\u001b[0m\u001b[1;33m.\u001b[0m\u001b[0msqrt\u001b[0m\u001b[1;33m(\u001b[0m\u001b[0mh\u001b[0m \u001b[1;33m*\u001b[0m \u001b[0mw\u001b[0m\u001b[1;33m)\u001b[0m \u001b[1;33m/\u001b[0m \u001b[1;33m(\u001b[0m\u001b[1;36m224.0\u001b[0m \u001b[1;33m/\u001b[0m \u001b[0mtf\u001b[0m\u001b[1;33m.\u001b[0m\u001b[0msqrt\u001b[0m\u001b[1;33m(\u001b[0m\u001b[0mimage_area\u001b[0m\u001b[1;33m)\u001b[0m\u001b[1;33m)\u001b[0m\u001b[1;33m)\u001b[0m\u001b[1;33m\u001b[0m\u001b[0m\n\u001b[0;32m    391\u001b[0m         roi_level = tf.minimum(5, tf.maximum(\n\u001b[1;32m--> 392\u001b[1;33m             2, 4 + tf.cast(tf.round(roi_level), tf.int32)))\n\u001b[0m\u001b[0;32m    393\u001b[0m         \u001b[0mroi_level\u001b[0m \u001b[1;33m=\u001b[0m \u001b[0mtf\u001b[0m\u001b[1;33m.\u001b[0m\u001b[0msqueeze\u001b[0m\u001b[1;33m(\u001b[0m\u001b[0mroi_level\u001b[0m\u001b[1;33m,\u001b[0m \u001b[1;36m2\u001b[0m\u001b[1;33m)\u001b[0m\u001b[1;33m\u001b[0m\u001b[0m\n\u001b[0;32m    394\u001b[0m \u001b[1;33m\u001b[0m\u001b[0m\n",
      "\u001b[1;32mc:\\users\\gho\\maskrcnn_env\\lib\\site-packages\\tensorflow_core\\python\\ops\\gen_math_ops.py\u001b[0m in \u001b[0;36mmaximum\u001b[1;34m(x, y, name)\u001b[0m\n\u001b[0;32m   6303\u001b[0m   \u001b[1;32mtry\u001b[0m\u001b[1;33m:\u001b[0m\u001b[1;33m\u001b[0m\u001b[0m\n\u001b[0;32m   6304\u001b[0m     _, _, _op = _op_def_lib._apply_op_helper(\n\u001b[1;32m-> 6305\u001b[1;33m         \"Maximum\", x=x, y=y, name=name)\n\u001b[0m\u001b[0;32m   6306\u001b[0m   \u001b[1;32mexcept\u001b[0m \u001b[1;33m(\u001b[0m\u001b[0mTypeError\u001b[0m\u001b[1;33m,\u001b[0m \u001b[0mValueError\u001b[0m\u001b[1;33m)\u001b[0m\u001b[1;33m:\u001b[0m\u001b[1;33m\u001b[0m\u001b[0m\n\u001b[0;32m   6307\u001b[0m     result = _dispatch.dispatch(\n",
      "\u001b[1;32mc:\\users\\gho\\maskrcnn_env\\lib\\site-packages\\tensorflow_core\\python\\framework\\op_def_library.py\u001b[0m in \u001b[0;36m_apply_op_helper\u001b[1;34m(self, op_type_name, name, **keywords)\u001b[0m\n\u001b[0;32m    526\u001b[0m                 \u001b[0mdtype\u001b[0m\u001b[1;33m=\u001b[0m\u001b[0mdtype\u001b[0m\u001b[1;33m,\u001b[0m\u001b[1;33m\u001b[0m\u001b[0m\n\u001b[0;32m    527\u001b[0m                 \u001b[0mas_ref\u001b[0m\u001b[1;33m=\u001b[0m\u001b[0minput_arg\u001b[0m\u001b[1;33m.\u001b[0m\u001b[0mis_ref\u001b[0m\u001b[1;33m,\u001b[0m\u001b[1;33m\u001b[0m\u001b[0m\n\u001b[1;32m--> 528\u001b[1;33m                 preferred_dtype=default_dtype)\n\u001b[0m\u001b[0;32m    529\u001b[0m           \u001b[1;32mexcept\u001b[0m \u001b[0mTypeError\u001b[0m \u001b[1;32mas\u001b[0m \u001b[0merr\u001b[0m\u001b[1;33m:\u001b[0m\u001b[1;33m\u001b[0m\u001b[0m\n\u001b[0;32m    530\u001b[0m             \u001b[1;32mif\u001b[0m \u001b[0mdtype\u001b[0m \u001b[1;32mis\u001b[0m \u001b[1;32mNone\u001b[0m\u001b[1;33m:\u001b[0m\u001b[1;33m\u001b[0m\u001b[0m\n",
      "\u001b[1;32mc:\\users\\gho\\maskrcnn_env\\lib\\site-packages\\tensorflow_core\\python\\framework\\ops.py\u001b[0m in \u001b[0;36minternal_convert_to_tensor\u001b[1;34m(value, dtype, name, as_ref, preferred_dtype, ctx, accepted_result_types)\u001b[0m\n\u001b[0;32m   1295\u001b[0m \u001b[1;33m\u001b[0m\u001b[0m\n\u001b[0;32m   1296\u001b[0m     \u001b[1;32mif\u001b[0m \u001b[0mret\u001b[0m \u001b[1;32mis\u001b[0m \u001b[1;32mNone\u001b[0m\u001b[1;33m:\u001b[0m\u001b[1;33m\u001b[0m\u001b[0m\n\u001b[1;32m-> 1297\u001b[1;33m       \u001b[0mret\u001b[0m \u001b[1;33m=\u001b[0m \u001b[0mconversion_func\u001b[0m\u001b[1;33m(\u001b[0m\u001b[0mvalue\u001b[0m\u001b[1;33m,\u001b[0m \u001b[0mdtype\u001b[0m\u001b[1;33m=\u001b[0m\u001b[0mdtype\u001b[0m\u001b[1;33m,\u001b[0m \u001b[0mname\u001b[0m\u001b[1;33m=\u001b[0m\u001b[0mname\u001b[0m\u001b[1;33m,\u001b[0m \u001b[0mas_ref\u001b[0m\u001b[1;33m=\u001b[0m\u001b[0mas_ref\u001b[0m\u001b[1;33m)\u001b[0m\u001b[1;33m\u001b[0m\u001b[0m\n\u001b[0m\u001b[0;32m   1298\u001b[0m \u001b[1;33m\u001b[0m\u001b[0m\n\u001b[0;32m   1299\u001b[0m     \u001b[1;32mif\u001b[0m \u001b[0mret\u001b[0m \u001b[1;32mis\u001b[0m \u001b[0mNotImplemented\u001b[0m\u001b[1;33m:\u001b[0m\u001b[1;33m\u001b[0m\u001b[0m\n",
      "\u001b[1;32mc:\\users\\gho\\maskrcnn_env\\lib\\site-packages\\tensorflow_core\\python\\framework\\tensor_conversion_registry.py\u001b[0m in \u001b[0;36m_default_conversion_function\u001b[1;34m(***failed resolving arguments***)\u001b[0m\n\u001b[0;32m     50\u001b[0m \u001b[1;32mdef\u001b[0m \u001b[0m_default_conversion_function\u001b[0m\u001b[1;33m(\u001b[0m\u001b[0mvalue\u001b[0m\u001b[1;33m,\u001b[0m \u001b[0mdtype\u001b[0m\u001b[1;33m,\u001b[0m \u001b[0mname\u001b[0m\u001b[1;33m,\u001b[0m \u001b[0mas_ref\u001b[0m\u001b[1;33m)\u001b[0m\u001b[1;33m:\u001b[0m\u001b[1;33m\u001b[0m\u001b[0m\n\u001b[0;32m     51\u001b[0m   \u001b[1;32mdel\u001b[0m \u001b[0mas_ref\u001b[0m  \u001b[1;31m# Unused.\u001b[0m\u001b[1;33m\u001b[0m\u001b[0m\n\u001b[1;32m---> 52\u001b[1;33m   \u001b[1;32mreturn\u001b[0m \u001b[0mconstant_op\u001b[0m\u001b[1;33m.\u001b[0m\u001b[0mconstant\u001b[0m\u001b[1;33m(\u001b[0m\u001b[0mvalue\u001b[0m\u001b[1;33m,\u001b[0m \u001b[0mdtype\u001b[0m\u001b[1;33m,\u001b[0m \u001b[0mname\u001b[0m\u001b[1;33m=\u001b[0m\u001b[0mname\u001b[0m\u001b[1;33m)\u001b[0m\u001b[1;33m\u001b[0m\u001b[0m\n\u001b[0m\u001b[0;32m     53\u001b[0m \u001b[1;33m\u001b[0m\u001b[0m\n\u001b[0;32m     54\u001b[0m \u001b[1;33m\u001b[0m\u001b[0m\n",
      "\u001b[1;32mc:\\users\\gho\\maskrcnn_env\\lib\\site-packages\\tensorflow_core\\python\\framework\\constant_op.py\u001b[0m in \u001b[0;36mconstant\u001b[1;34m(value, dtype, shape, name)\u001b[0m\n\u001b[0;32m    225\u001b[0m   \"\"\"\n\u001b[0;32m    226\u001b[0m   return _constant_impl(value, dtype, shape, name, verify_shape=False,\n\u001b[1;32m--> 227\u001b[1;33m                         allow_broadcast=True)\n\u001b[0m\u001b[0;32m    228\u001b[0m \u001b[1;33m\u001b[0m\u001b[0m\n\u001b[0;32m    229\u001b[0m \u001b[1;33m\u001b[0m\u001b[0m\n",
      "\u001b[1;32mc:\\users\\gho\\maskrcnn_env\\lib\\site-packages\\tensorflow_core\\python\\framework\\constant_op.py\u001b[0m in \u001b[0;36m_constant_impl\u001b[1;34m(value, dtype, shape, name, verify_shape, allow_broadcast)\u001b[0m\n\u001b[0;32m    269\u001b[0m       attrs={\"value\": tensor_value,\n\u001b[0;32m    270\u001b[0m              \"dtype\": dtype_value},\n\u001b[1;32m--> 271\u001b[1;33m       name=name).outputs[0]\n\u001b[0m\u001b[0;32m    272\u001b[0m   \u001b[1;32mreturn\u001b[0m \u001b[0mconst_tensor\u001b[0m\u001b[1;33m\u001b[0m\u001b[0m\n\u001b[0;32m    273\u001b[0m \u001b[1;33m\u001b[0m\u001b[0m\n",
      "\u001b[1;32mc:\\users\\gho\\maskrcnn_env\\lib\\site-packages\\tensorflow_core\\python\\util\\deprecation.py\u001b[0m in \u001b[0;36mnew_func\u001b[1;34m(*args, **kwargs)\u001b[0m\n\u001b[0;32m    505\u001b[0m                 \u001b[1;34m'in a future version'\u001b[0m \u001b[1;32mif\u001b[0m \u001b[0mdate\u001b[0m \u001b[1;32mis\u001b[0m \u001b[1;32mNone\u001b[0m \u001b[1;32melse\u001b[0m \u001b[1;33m(\u001b[0m\u001b[1;34m'after %s'\u001b[0m \u001b[1;33m%\u001b[0m \u001b[0mdate\u001b[0m\u001b[1;33m)\u001b[0m\u001b[1;33m,\u001b[0m\u001b[1;33m\u001b[0m\u001b[0m\n\u001b[0;32m    506\u001b[0m                 instructions)\n\u001b[1;32m--> 507\u001b[1;33m       \u001b[1;32mreturn\u001b[0m \u001b[0mfunc\u001b[0m\u001b[1;33m(\u001b[0m\u001b[1;33m*\u001b[0m\u001b[0margs\u001b[0m\u001b[1;33m,\u001b[0m \u001b[1;33m**\u001b[0m\u001b[0mkwargs\u001b[0m\u001b[1;33m)\u001b[0m\u001b[1;33m\u001b[0m\u001b[0m\n\u001b[0m\u001b[0;32m    508\u001b[0m \u001b[1;33m\u001b[0m\u001b[0m\n\u001b[0;32m    509\u001b[0m     doc = _add_deprecated_arg_notice_to_docstring(\n",
      "\u001b[1;32mc:\\users\\gho\\maskrcnn_env\\lib\\site-packages\\tensorflow_core\\python\\framework\\ops.py\u001b[0m in \u001b[0;36mcreate_op\u001b[1;34m(***failed resolving arguments***)\u001b[0m\n\u001b[0;32m   3355\u001b[0m         \u001b[1;32mraise\u001b[0m \u001b[0mTypeError\u001b[0m\u001b[1;33m(\u001b[0m\u001b[1;34m\"Input #%d is not a tensor: %s\"\u001b[0m \u001b[1;33m%\u001b[0m \u001b[1;33m(\u001b[0m\u001b[0midx\u001b[0m\u001b[1;33m,\u001b[0m \u001b[0ma\u001b[0m\u001b[1;33m)\u001b[0m\u001b[1;33m)\u001b[0m\u001b[1;33m\u001b[0m\u001b[0m\n\u001b[0;32m   3356\u001b[0m     return self._create_op_internal(op_type, inputs, dtypes, input_types, name,\n\u001b[1;32m-> 3357\u001b[1;33m                                     attrs, op_def, compute_device)\n\u001b[0m\u001b[0;32m   3358\u001b[0m \u001b[1;33m\u001b[0m\u001b[0m\n\u001b[0;32m   3359\u001b[0m   def _create_op_internal(\n",
      "\u001b[1;32mc:\\users\\gho\\maskrcnn_env\\lib\\site-packages\\tensorflow_core\\python\\framework\\ops.py\u001b[0m in \u001b[0;36m_create_op_internal\u001b[1;34m(self, op_type, inputs, dtypes, input_types, name, attrs, op_def, compute_device)\u001b[0m\n\u001b[0;32m   3424\u001b[0m           \u001b[0minput_types\u001b[0m\u001b[1;33m=\u001b[0m\u001b[0minput_types\u001b[0m\u001b[1;33m,\u001b[0m\u001b[1;33m\u001b[0m\u001b[0m\n\u001b[0;32m   3425\u001b[0m           \u001b[0moriginal_op\u001b[0m\u001b[1;33m=\u001b[0m\u001b[0mself\u001b[0m\u001b[1;33m.\u001b[0m\u001b[0m_default_original_op\u001b[0m\u001b[1;33m,\u001b[0m\u001b[1;33m\u001b[0m\u001b[0m\n\u001b[1;32m-> 3426\u001b[1;33m           op_def=op_def)\n\u001b[0m\u001b[0;32m   3427\u001b[0m       \u001b[0mself\u001b[0m\u001b[1;33m.\u001b[0m\u001b[0m_create_op_helper\u001b[0m\u001b[1;33m(\u001b[0m\u001b[0mret\u001b[0m\u001b[1;33m,\u001b[0m \u001b[0mcompute_device\u001b[0m\u001b[1;33m=\u001b[0m\u001b[0mcompute_device\u001b[0m\u001b[1;33m)\u001b[0m\u001b[1;33m\u001b[0m\u001b[0m\n\u001b[0;32m   3428\u001b[0m     \u001b[1;32mreturn\u001b[0m \u001b[0mret\u001b[0m\u001b[1;33m\u001b[0m\u001b[0m\n",
      "\u001b[1;32mc:\\users\\gho\\maskrcnn_env\\lib\\site-packages\\tensorflow_core\\python\\framework\\ops.py\u001b[0m in \u001b[0;36m__init__\u001b[1;34m(self, node_def, g, inputs, output_types, control_inputs, input_types, original_op, op_def)\u001b[0m\n\u001b[0;32m   1768\u001b[0m           op_def, inputs, node_def.attr)\n\u001b[0;32m   1769\u001b[0m       self._c_op = _create_c_op(self._graph, node_def, grouped_inputs,\n\u001b[1;32m-> 1770\u001b[1;33m                                 control_input_ops)\n\u001b[0m\u001b[0;32m   1771\u001b[0m     \u001b[1;31m# pylint: enable=protected-access\u001b[0m\u001b[1;33m\u001b[0m\u001b[1;33m\u001b[0m\u001b[0m\n\u001b[0;32m   1772\u001b[0m \u001b[1;33m\u001b[0m\u001b[0m\n",
      "\u001b[1;32mc:\\users\\gho\\maskrcnn_env\\lib\\site-packages\\tensorflow_core\\python\\framework\\ops.py\u001b[0m in \u001b[0;36m_create_c_op\u001b[1;34m(graph, node_def, inputs, control_inputs)\u001b[0m\n\u001b[0;32m   1582\u001b[0m   \u001b[1;31m# pylint: disable=protected-access\u001b[0m\u001b[1;33m\u001b[0m\u001b[1;33m\u001b[0m\u001b[0m\n\u001b[0;32m   1583\u001b[0m   op_desc = c_api.TF_NewOperation(graph._c_graph, compat.as_str(node_def.op),\n\u001b[1;32m-> 1584\u001b[1;33m                                   compat.as_str(node_def.name))\n\u001b[0m\u001b[0;32m   1585\u001b[0m   \u001b[1;32mif\u001b[0m \u001b[0mnode_def\u001b[0m\u001b[1;33m.\u001b[0m\u001b[0mdevice\u001b[0m\u001b[1;33m:\u001b[0m\u001b[1;33m\u001b[0m\u001b[0m\n\u001b[0;32m   1586\u001b[0m     \u001b[0mc_api\u001b[0m\u001b[1;33m.\u001b[0m\u001b[0mTF_SetDevice\u001b[0m\u001b[1;33m(\u001b[0m\u001b[0mop_desc\u001b[0m\u001b[1;33m,\u001b[0m \u001b[0mcompat\u001b[0m\u001b[1;33m.\u001b[0m\u001b[0mas_str\u001b[0m\u001b[1;33m(\u001b[0m\u001b[0mnode_def\u001b[0m\u001b[1;33m.\u001b[0m\u001b[0mdevice\u001b[0m\u001b[1;33m)\u001b[0m\u001b[1;33m)\u001b[0m\u001b[1;33m\u001b[0m\u001b[0m\n",
      "\u001b[1;31mKeyboardInterrupt\u001b[0m: "
     ]
    }
   ],
   "source": [
    "#fine tuning code\n",
    "from mrcnn import model as modellib\n",
    "from mrcnn.config import Config\n",
    "import os\n",
    "\n",
    "# Define configuration\n",
    "class DroneDetectionConfig(Config):\n",
    "    NAME = \"drone_detection\"\n",
    "    GPU_COUNT = 1  # Utiliser le GPU pour l'entraînement\n",
    "    IMAGES_PER_GPU = 1\n",
    "    NUM_CLASSES = 1 + 1  # Background + drone\n",
    "    DETECTION_MIN_CONFIDENCE = 0.5\n",
    "    DETECTION_NMS_THRESHOLD = 0.4\n",
    "    CLASS_NAMES = ['BG', 'drone']  # Background and drone\n",
    "    STEPS_PER_EPOCH = 150\n",
    "    VALIDATION_STEPS = 25\n",
    "\n",
    "\n",
    "# Load the model\n",
    "config = DroneDetectionConfig()\n",
    "model_dir = 'logs/drone_detection20241018T0748'\n",
    "model_path = os.path.join(model_dir, 'mask_rcnn_drone_detection_0020.h5')\n",
    "\n",
    "# Create the model in training mode\n",
    "model = modellib.MaskRCNN(mode=\"training\", config=config, model_dir=model_dir)\n",
    "model.load_weights(model_path, by_name=True)\n",
    "\n",
    "# Load the dataset\n",
    "dataset_train = DroneDataset()\n",
    "dataset_train.load_drone(dataset_dir=\"dataset\", subset=\"train\")\n",
    "dataset_train.prepare()\n",
    "\n",
    "dataset_val = DroneDataset()\n",
    "dataset_val.load_drone(dataset_dir=\"dataset\", subset=\"val\")\n",
    "dataset_val.prepare()\n",
    "\n",
    "total_epochs = 30\n",
    "model.train(dataset_train, dataset_val,\n",
    "            learning_rate=config.LEARNING_RATE / 100,\n",
    "            epochs=total_epochs,\n",
    "            layers='heads')"
   ]
  },
  {
   "cell_type": "code",
   "execution_count": 22,
   "id": "68385f25",
   "metadata": {},
   "outputs": [
    {
     "data": {
      "image/png": "[encoded data removed]",
      "text/plain": [
       "<Figure size 720x432 with 1 Axes>"
      ]
     },
     "metadata": {
      "needs_background": "light"
     },
     "output_type": "display_data"
    }
   ],
   "source": [
    "import matplotlib.pyplot as plt\n",
    "\n",
    "# Données des époques\n",
    "epochs = range(1, 11)\n",
    "\n",
    "# Pertes d'entraînement et de validation\n",
    "loss = [18.0295, 5.3188, 5.7917, 4.4059, 4.2870, 4.7180, 4.0324, 4.0793, 3.6217, 3.1154]\n",
    "val_loss = [7.0165, 4.7544, 3.8562, 3.5684, 4.6263, 4.3181, 3.2419, 2.5117, 3.1529, 2.5203]\n",
    "\n",
    "# Tracer les courbes de pertes\n",
    "plt.figure(figsize=(10, 6))  \n",
    "plt.plot(epochs, loss, label='Refinement Loss')\n",
    "plt.plot(epochs, val_loss, label='Validation Loss')\n",
    "plt.xlabel('Epochs')\n",
    "plt.ylabel('Loss')\n",
    "plt.title('Refinement and Validation Loss')\n",
    "plt.legend()\n",
    "plt.show()\n",
    "\n"
   ]
  },
  {
   "cell_type": "code",
   "execution_count": null,
   "id": "d205589b",
   "metadata": {},
   "outputs": [],
   "source": []
  }
 ],
 "metadata": {
  "kernelspec": {
   "display_name": "Python 3",
   "language": "python",
   "name": "python3"
  },
  "language_info": {
   "codemirror_mode": {
    "name": "ipython",
    "version": 3
   },
   "file_extension": ".py",
   "mimetype": "text/x-python",
   "name": "python",
   "nbconvert_exporter": "python",
   "pygments_lexer": "ipython3",
   "version": "3.6.6"
  }
 },
 "nbformat": 4,
 "nbformat_minor": 5
}
